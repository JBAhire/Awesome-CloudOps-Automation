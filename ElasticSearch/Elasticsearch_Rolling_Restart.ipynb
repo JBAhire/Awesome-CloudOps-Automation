{
    "cells": [
        {
            "cell_type": "markdown",
            "id": "e9678f47-8963-4304-b5a4-aef1de9aaeab",
            "metadata": {
                "jupyter": {
                    "source_hidden": false
                },
                "name": "Elasticsearch Rolling Restart",
                "orderProperties": [],
                "tags": [],
                "title": "Elasticsearch Rolling Restart"
            },
            "source": [
                "\n",
                "<img src=\"https://unskript.com/assets/favicon.png\" alt=\"unSkript.com\" width=\"100\" height=\"100\"/> \n",
                "<h1> unSkript Runbooks </h1>\n",
                "<div class=\"alert alert-block alert-success\">\n",
                "    <b> This runbook demonstrates how to perform rolling restart in Elasticsearch using unSkript legos.</b>\n",
                "</div>\n",
                "\n",
                "<br>\n",
                "\n",
                "<center><h2>Elasticsearch Rolling Restart</h2></center>\n",
                "\n",
                "# Steps Overview\n",
                "    1) Disable shard allocation for the node\n",
                "    2) Shut down the node that needs maintenance\n",
                "    3) Perform your custom configuration changes/ maintenance\n",
                "    4) Start the node and allow it to join the cluster\n",
                "    5) Check cluster status\n",
                "    6) Re-enable shard allocation\n"
            ]
        },
        {
            "cell_type": "markdown",
            "id": "696df79e-d970-4f28-ad3e-7502b40c77a6",
            "metadata": {
                "jupyter": {
                    "source_hidden": false
                },
                "name": "Elasticsearch Disable Shard Allocation",
                "orderProperties": [],
                "tags": [],
                "title": "Elasticsearch Disable Shard Allocation"
            },
            "source": [
                "Disabling shard allocation is simply disabling the next step in the process so that no unwanted shard allocation will occur during the shut down process of node."
            ]
        },
        {
            "cell_type": "code",
            "execution_count": null,
            "id": "2c98b6ff-cb78-445e-bafe-a3f43a671b92",
            "metadata": {
                "accessType": "ACCESS_TYPE_UNSPECIFIED",
                "actionBashCommand": false,
                "actionNeedsCredential": true,
                "actionRequiredLinesInCode": [],
                "actionSupportsIteration": true,
                "actionSupportsPoll": true,
                "action_uuid": "23abf6572cb81c61e965514d011c6636363d10be6ed1ac6b178127fd090ed462",
                "continueOnError": false,
                "createTime": "1970-01-01T00:00:00Z",
                "credentialsJson": {
                    "credential_id": "4d5b3053-55fc-4b17-9c7b-27b86c35503f",
                    "credential_name": "DevESCred",
                    "credential_type": "CONNECTOR_TYPE_ELASTICSEARCH"
                },
                "currentVersion": "0.1.0",
                "description": "Elasticsearch Disable Shard Allocation for any indices",
                "id": 67,
                "index": 67,
                "inputData": [
                    {
                        "api_key": {
                            "constant": false,
                            "value": "api_key"
                        },
                        "host": {
                            "constant": false,
                            "value": "elasticsearch_host"
                        },
                        "port": {
                            "constant": false,
                            "value": "port"
                        }
                    }
                ],
                "inputschema": [
                    {
                        "properties": {
                            "api_key": {
                                "description": "API Key for Authentication",
                                "title": "API Key",
                                "type": "string"
                            },
                            "host": {
                                "description": "URL of Elasticsearch server",
                                "title": "Host",
                                "type": "string"
                            },
                            "port": {
                                "default": 9200,
                                "description": "Port used by Elasticsearch.",
                                "title": "Port",
                                "type": "integer"
                            }
                        },
                        "required": [
                            "host",
                            "api_key"
                        ],
                        "title": "elasticsearch_disable_shard_allocation",
                        "type": "object"
                    }
                ],
                "jupyter": {
                    "source_hidden": true
                },
                "legotype": "LEGO_TYPE_ELASTICSEARCH",
                "name": "Elasticsearch Disable Shard Allocation",
                "nouns": [
                    "elasticsearch"
                ],
                "orderProperties": [
                    "host",
                    "port",
                    "api_key"
                ],
                "output": {
                    "type": ""
                },
                "tags": [
                    "elasticsearch_disable_shard_allocation"
                ],
                "title": "Elasticsearch Disable Shard Allocation",
                "verbs": [
                    "disable",
                    "shard"
                ]
            },
            "outputs": [],
            "source": [
                "##\n",
                "# Copyright (c) 2021 unSkript, Inc\n",
                "# All rights reserved.\n",
                "##\n",
                "import subprocess\n",
                "import pprint\n",
                "from pydantic import BaseModel, Field\n",
                "from typing import List, Dict\n",
                "from subprocess import PIPE, run\n",
                "import json\n",
                "\n",
                "\n",
                "from beartype import beartype\n",
                "@beartype\n",
                "def elasticsearch_disable_shard_allocation_printer(output):\n",
                "    if output is None:\n",
                "        return\n",
                "    print(\"Shard allocations disabled for any kind shards\")\n",
                "    print(output)\n",
                "\n",
                "\n",
                "@beartype\n",
                "def elasticsearch_disable_shard_allocation(handle,\n",
                "                                           host: str,\n",
                "                                           api_key: str,\n",
                "                                           port: int) -> Dict:\n",
                "    \"\"\"elasticsearch_disable_shard_allocation disallows shard allocations for any indices.\n",
                "\n",
                "            :type handle: object\n",
                "            :param handle: Object returned from Task Validate\n",
                "\n",
                "            :type host: str\n",
                "            :param host: URL of your Elasticsearch server\n",
                "\n",
                "            :type port: int\n",
                "            :param host: Port used by your Elasticsearch server\n",
                "\n",
                "            :type api_key: str\n",
                "            :param api_key: API Key for authentication of the request\n",
                "\n",
                "            :rtype: Result Dict of result\n",
                "    \"\"\"\n",
                "    es_path = host + \":\" + str(port) + \"/_cluster/settings?pretty\"\n",
                "    es_header = \"Authorization: ApiKey\" + \" \" + api_key\n",
                "    es_dict = {\"transient\": {\"cluster.routing.allocation.enable\": \"none\"}}\n",
                "    es_json = json.dumps(es_dict)\n",
                "    cmd = [\"curl\", \"-k\", \"-XPUT\", \"-H\", \"Content-Type: application/json\", \"-H\",\n",
                "           es_header,\n",
                "           es_path,\n",
                "           \"-d\",\n",
                "           str(es_json)]\n",
                "    try:\n",
                "        raw_result = subprocess.check_output(cmd, stderr=PIPE, universal_newlines=True, shell=False)\n",
                "        return raw_result\n",
                "    except subprocess.CalledProcessError as e:\n",
                "        return e.output\n",
                "\n",
                "\n",
                "task = Task(Workflow())\n",
                "task.configure(inputParamsJson='''{\n",
                "    \"api_key\": \"api_key\",\n",
                "    \"host\": \"elasticsearch_host\",\n",
                "    \"port\": \"port\"\n",
                "    }''')\n",
                "\n",
                "(err, hdl, args) = task.validate(vars=vars())\n",
                "if err is None:\n",
                "    task.execute(elasticsearch_disable_shard_allocation, lego_printer=elasticsearch_disable_shard_allocation_printer, hdl=hdl, args=args)"
            ]
        },
        {
            "cell_type": "markdown",
            "id": "8a0d9d6e-2aef-4f23-81a2-feb6be5c4c0a",
            "metadata": {
                "jupyter": {
                    "source_hidden": false
                },
                "name": "SSH: Shut down the node",
                "orderProperties": [],
                "tags": [],
                "title": "SSH: Shut down the node"
            },
            "source": [
                "This action shuts down a single node for rolling restart.\n",
                "\n",
                "\n",
                "   If you are running Elasticsearch with systemd:\n",
                "\n",
                "    sudo systemctl stop elasticsearch.service\n",
                "\n",
                "   If you are running Elasticsearch with SysV init:\n",
                "\n",
                "    sudo -i service elasticsearch stop\n"
            ]
        },
        {
            "cell_type": "code",
            "execution_count": 37,
            "id": "75d3d4ae-7689-4f5f-8f56-4e48cbbd192a",
            "metadata": {
                "accessType": "ACCESS_TYPE_UNSPECIFIED",
                "actionBashCommand": false,
                "actionNeedsCredential": true,
                "actionRequiredLinesInCode": [],
                "actionSupportsIteration": true,
                "actionSupportsPoll": true,
                "action_uuid": "5279b2046bb2eb4a691ba748086f4af9e580a849faae557694bb12a8c2b7b379",
                "continueOnError": false,
                "createTime": "1970-01-01T00:00:00Z",
                "credentialsJson": {
                    "credential_id": "b466c967-8efc-499b-acd8-39206072b811",
                    "credential_name": "ec2-ssh",
                    "credential_type": "CONNECTOR_TYPE_SSH"
                },
                "currentVersion": "0.1.0",
                "description": "SSH Execute Remote Command",
                "execution_data": {
                    "last_date_success_run_cell": "2022-11-08T11:22:25.404Z"
                },
                "id": 85,
                "index": 85,
                "inputData": [
                    {
                        "command": {
                            "constant": false,
                            "value": "cmd_stop_elasticsearch"
                        },
                        "hosts": {
                            "constant": false,
                            "value": "host_for_ssh"
                        },
                        "sudo": {
                            "constant": true,
                            "value": "run_with_sudo"
                        }
                    }
                ],
                "inputschema": [
                    {
                        "properties": {
                            "command": {
                                "description": "Command to be executed on the remote server.",
                                "title": "Command",
                                "type": "string"
                            },
                            "hosts": {
                                "description": "List of hosts to connect to. For eg. [\"host1\", \"host2\"].",
                                "items": {
                                    "type": "string"
                                },
                                "title": "Hosts",
                                "type": "array"
                            },
                            "sudo": {
                                "default": false,
                                "description": "Run the command with sudo.",
                                "title": "Run with sudo",
                                "type": "boolean"
                            }
                        },
                        "required": [
                            "hosts",
                            "command"
                        ],
                        "title": "ssh_execute_remote_command",
                        "type": "object"
                    }
                ],
                "jupyter": {
                    "source_hidden": true
                },
                "legotype": "LEGO_TYPE_SSH",
                "name": "SSH Execute Remote Command",
                "nouns": [
                    "ssh",
                    "command"
                ],
                "orderProperties": [
                    "hosts",
                    "command",
                    "sudo"
                ],
                "output": {
                    "type": ""
                },
                "tags": [
                    "ssh_execute_remote_command"
                ],
                "verbs": [
                    "execute"
                ]
            },
            "outputs": [],
            "source": [
                "##\n",
                "# Copyright (c) 2021 unSkript, Inc\n",
                "# All rights reserved.\n",
                "##\n",
                "from pydantic import BaseModel, Field\n",
                "from typing import List, Optional, Dict\n",
                "import pprint\n",
                "\n",
                "\n",
                "from beartype import beartype\n",
                "@beartype\n",
                "def ssh_execute_remote_command_printer(output):\n",
                "    if output is None:\n",
                "        return\n",
                "    print(\"Elasticsearch Service successfully STOPPED\")\n",
                "    print(\"\\n\")\n",
                "    pprint.pprint(output)\n",
                "\n",
                "\n",
                "@beartype\n",
                "def ssh_execute_remote_command(sshClient, hosts: List[str], command: str, sudo: bool = False) -> Dict:\n",
                "\n",
                "    client = sshClient(hosts)\n",
                "    runCommandOutput = client.run_command(command=command, sudo=sudo)\n",
                "    client.join()\n",
                "    res = {}\n",
                "\n",
                "    for host_output in runCommandOutput:\n",
                "        hostname = host_output.host\n",
                "        output = []\n",
                "        for line in host_output.stdout:\n",
                "            output.append(line)\n",
                "\n",
                "        o = \"\\n\".join(output)\n",
                "        res[hostname] = o\n",
                "\n",
                "    return res\n",
                "\n",
                "\n",
                "task = Task(Workflow())\n",
                "task.configure(inputParamsJson='''{\n",
                "    \"command\": \"cmd_stop_elasticsearch\",\n",
                "    \"hosts\": \"host_for_ssh\",\n",
                "    \"sudo\": \"run_with_sudo\"\n",
                "    }''')\n",
                "\n",
                "(err, hdl, args) = task.validate(vars=vars())\n",
                "if err is None:\n",
                "    task.execute(ssh_execute_remote_command, lego_printer=ssh_execute_remote_command_printer, hdl=hdl, args=args)"
            ]
        },
        {
            "cell_type": "markdown",
            "id": "2bf6f444-f0bb-4554-8771-581a3c81e372",
            "metadata": {
                "jupyter": {
                    "source_hidden": false
                },
                "name": "Perform config/maintenance changes",
                "orderProperties": [],
                "tags": [],
                "title": "Perform config/maintenance changes"
            },
            "source": [
                "In this step you can change any config that you need in the elasticsearch.yml or perform any required maintenance job. \n",
                "\n",
                "    Note- Please make sure that the configuration changes don't cause the failure of a node restart in the next step"
            ]
        },
        {
            "cell_type": "markdown",
            "id": "80b61c80-85bb-48e9-9501-92151a9156c8",
            "metadata": {
                "jupyter": {
                    "source_hidden": false
                },
                "name": "SSH: Start the node",
                "orderProperties": [],
                "tags": [],
                "title": "SSH: Start the node"
            },
            "source": [
                "This action starts the node.\n",
                "\n",
                "\n",
                "   If you are running Elasticsearch with systemd:\n",
                "\n",
                "    sudo systemctl start elasticsearch.service\n",
                "\n",
                "   If you are running Elasticsearch with SysV init:\n",
                "\n",
                "    sudo -i service elasticsearch start\n"
            ]
        },
        {
            "cell_type": "code",
            "execution_count": 32,
            "id": "b4b4e51b-bd21-4ba0-b9a3-ee94c9c00161",
            "metadata": {
                "accessType": "ACCESS_TYPE_UNSPECIFIED",
                "actionBashCommand": false,
                "actionNeedsCredential": true,
                "actionRequiredLinesInCode": [],
                "actionSupportsIteration": true,
                "actionSupportsPoll": true,
                "action_uuid": "5279b2046bb2eb4a691ba748086f4af9e580a849faae557694bb12a8c2b7b379",
                "continueOnError": false,
                "createTime": "1970-01-01T00:00:00Z",
                "credentialsJson": {
                    "credential_id": "b466c967-8efc-499b-acd8-39206072b811",
                    "credential_name": "ec2-ssh",
                    "credential_type": "CONNECTOR_TYPE_SSH"
                },
                "currentVersion": "0.1.0",
                "description": "SSH Execute Remote Command",
                "execution_data": {
                    "last_date_success_run_cell": "2022-11-08T11:21:04.025Z"
                },
                "id": 85,
                "index": 85,
                "inputData": [
                    {
                        "command": {
                            "constant": false,
                            "value": "cmd_start_elasticsearch"
                        },
                        "hosts": {
                            "constant": false,
                            "value": "host_for_ssh"
                        },
                        "sudo": {
                            "constant": true,
                            "value": "run_with_sudo"
                        }
                    }
                ],
                "inputschema": [
                    {
                        "properties": {
                            "command": {
                                "description": "Command to be executed on the remote server.",
                                "title": "Command",
                                "type": "string"
                            },
                            "hosts": {
                                "description": "List of hosts to connect to. For eg. [\"host1\", \"host2\"].",
                                "items": {
                                    "type": "string"
                                },
                                "title": "Hosts",
                                "type": "array"
                            },
                            "sudo": {
                                "default": false,
                                "description": "Run the command with sudo.",
                                "title": "Run with sudo",
                                "type": "boolean"
                            }
                        },
                        "required": [
                            "hosts",
                            "command"
                        ],
                        "title": "ssh_execute_remote_command",
                        "type": "object"
                    }
                ],
                "jupyter": {
                    "source_hidden": true
                },
                "legotype": "LEGO_TYPE_SSH",
                "name": "SSH Execute Remote Command",
                "nouns": [
                    "ssh",
                    "command"
                ],
                "orderProperties": [
                    "hosts",
                    "command",
                    "sudo"
                ],
                "output": {
                    "type": ""
                },
                "tags": [
                    "ssh_execute_remote_command"
                ],
                "verbs": [
                    "execute"
                ]
            },
            "outputs": [],
            "source": [
                "##\n",
                "# Copyright (c) 2021 unSkript, Inc\n",
                "# All rights reserved.\n",
                "##\n",
                "from pydantic import BaseModel, Field\n",
                "from typing import List, Optional, Dict\n",
                "import pprint\n",
                "\n",
                "\n",
                "from beartype import beartype\n",
                "@beartype\n",
                "def ssh_execute_remote_command_printer(output):\n",
                "    if output is None:\n",
                "        return\n",
                "    print(\"Elasticsearch Service successfully STARTED\")\n",
                "    print(\"\\n\")\n",
                "    pprint.pprint(output)\n",
                "\n",
                "\n",
                "@beartype\n",
                "def ssh_execute_remote_command(sshClient, hosts: List[str], command: str, sudo: bool = False) -> Dict:\n",
                "\n",
                "    client = sshClient(hosts)\n",
                "    runCommandOutput = client.run_command(command=command, sudo=sudo)\n",
                "    client.join()\n",
                "    res = {}\n",
                "\n",
                "    for host_output in runCommandOutput:\n",
                "        hostname = host_output.host\n",
                "        output = []\n",
                "        for line in host_output.stdout:\n",
                "            output.append(line)\n",
                "\n",
                "        o = \"\\n\".join(output)\n",
                "        res[hostname] = o\n",
                "\n",
                "    return res\n",
                "\n",
                "\n",
                "task = Task(Workflow())\n",
                "task.configure(inputParamsJson='''{\n",
                "    \"command\": \"cmd_start_elasticsearch\",\n",
                "    \"hosts\": \"host_for_ssh\",\n",
                "    \"sudo\": \"run_with_sudo\"\n",
                "    }''')\n",
                "\n",
                "(err, hdl, args) = task.validate(vars=vars())\n",
                "if err is None:\n",
                "    task.execute(ssh_execute_remote_command, lego_printer=ssh_execute_remote_command_printer, hdl=hdl, args=args)"
            ]
        },
        {
            "cell_type": "markdown",
            "id": "25e25d2a-4841-4ac3-811e-7c75c0029245",
            "metadata": {
                "jupyter": {
                    "source_hidden": false
                },
                "name": "Elasticsearch Check Cluster Health",
                "orderProperties": [],
                "tags": [],
                "title": "Elasticsearch Check Cluster Health"
            },
            "source": [
                "This action checks the status of the cluster. These are the cluster statuses that you may encounter-\n",
                "1. Unassigned primary shards = <span style=\"color:red\">Red</span> Status\n",
                "2. Unassigned replica shards = <span style=\"color:#FFBF00\">Yellow</span> Status\n",
                "3. All shards assigned = <span style=\"color:green\">Green</span> Status"
            ]
        },
        {
            "cell_type": "code",
            "execution_count": 6,
            "id": "679f0bfd-4cbd-4c89-bfe5-e8916c164ea1",
            "metadata": {
                "accessType": "ACCESS_TYPE_UNSPECIFIED",
                "actionBashCommand": false,
                "actionNeedsCredential": true,
                "actionRequiredLinesInCode": [],
                "actionSupportsIteration": true,
                "actionSupportsPoll": true,
                "action_uuid": "85e40f4fbed1df45b80cdf78eef44ac8a77605316ee1df76820dbd7e518c629b",
                "continueOnError": false,
                "createTime": "1970-01-01T00:00:00Z",
                "credentialsJson": {
                    "credential_id": "4d5b3053-55fc-4b17-9c7b-27b86c35503f",
                    "credential_name": "DevESCred",
                    "credential_type": "CONNECTOR_TYPE_ELASTICSEARCH"
                },
                "currentVersion": "0.1.0",
                "description": "Elasticsearch Check Health Status",
                "execution_data": {
                    "last_date_success_run_cell": "2022-11-09T10:45:01.465Z"
                },
                "id": 68,
                "index": 68,
                "inputData": [
                    {
                        "api_key": {
                            "constant": false,
                            "value": "api_key"
                        },
                        "host": {
                            "constant": false,
                            "value": "elasticsearch_host"
                        },
                        "port": {
                            "constant": false,
                            "value": "port"
                        }
                    }
                ],
                "inputschema": [
                    {
                        "properties": {
                            "api_key": {
                                "description": "API Key for Authentication",
                                "title": "API Key",
                                "type": "string"
                            },
                            "host": {
                                "description": "URL of Elasticsearch server",
                                "title": "Host",
                                "type": "string"
                            },
                            "port": {
                                "default": 9200,
                                "description": "Port used by Elasticsearch.",
                                "title": "Port",
                                "type": "integer"
                            }
                        },
                        "required": [
                            "host",
                            "api_key"
                        ],
                        "title": "elasticsearch_check_health_status",
                        "type": "object"
                    }
                ],
                "jupyter": {
                    "source_hidden": true
                },
                "legotype": "LEGO_TYPE_ELASTICSEARCH",
                "name": "Elasticsearch Cluster Health",
                "nouns": [
                    "elasticsearch"
                ],
                "orderProperties": [
                    "host",
                    "port",
                    "api_key"
                ],
                "output": {
                    "type": ""
                },
                "tags": [
                    "elasticsearch_check_health_status"
                ],
                "verbs": [
                    "check",
                    "health",
                    "status"
                ]
            },
            "outputs": [],
            "source": [
                "##\n",
                "# Copyright (c) 2021 unSkript, Inc\n",
                "# All rights reserved.\n",
                "##\n",
                "import subprocess\n",
                "import pprint\n",
                "from pydantic import BaseModel, Field\n",
                "from typing import Dict\n",
                "from subprocess import PIPE\n",
                "import json\n",
                "\n",
                "\n",
                "from beartype import beartype\n",
                "@beartype\n",
                "def elasticsearch_check_health_status_printer(output):\n",
                "    if output is None:\n",
                "        return\n",
                "    pprint.pprint(output)\n",
                "\n",
                "\n",
                "@beartype\n",
                "def elasticsearch_check_health_status(handle,\n",
                "                                      host: str,\n",
                "                                      port: int,\n",
                "                                      api_key: str) -> Dict:\n",
                "    \"\"\"elasticsearch_check_health_status checks the status of an Elasticsearch cluster .\n",
                "\n",
                "            :type handle: object\n",
                "            :param handle: Object returned from Task Validate\n",
                "\n",
                "            :type host: str\n",
                "            :param host: URL of your Elasticsearch server\n",
                "\n",
                "            :type port: int\n",
                "            :param host: Port used by your Elasticsearch server\n",
                "\n",
                "            :type api_key: str\n",
                "            :param api_key: API Key for authentication of the request\n",
                "\n",
                "            :rtype: Result String of result\n",
                "    \"\"\"\n",
                "    es_path = host + \":\"+str(port) + \"/_cluster/health?pretty\"\n",
                "    es_header = \"Authorization: ApiKey\" + \" \" + api_key\n",
                "    cmd = [\"curl\", \"-k\", \"-XGET\", \"-H\", es_header, es_path]\n",
                "    try:\n",
                "        raw_result = subprocess.check_output(cmd, stderr=PIPE, universal_newlines=True, shell=False)\n",
                "        new_result = raw_result.replace(\"\\n\", \"\")\n",
                "        result_dict = json.loads(new_result)\n",
                "        d = {}\n",
                "        for key in result_dict:\n",
                "            d[key] = result_dict[key]\n",
                "        print(\"The status for \" + d[\"cluster_name\"] + \" is \" + d[\"status\"])\n",
                "        print(\"\\n Details -\")\n",
                "        return d\n",
                "    except subprocess.CalledProcessError as e:\n",
                "        return e.output\n",
                "\n",
                "\n",
                "task = Task(Workflow())\n",
                "task.configure(inputParamsJson='''{\n",
                "    \"api_key\": \"api_key\",\n",
                "    \"host\": \"elasticsearch_host\",\n",
                "    \"port\": \"port\"\n",
                "    }''')\n",
                "\n",
                "(err, hdl, args) = task.validate(vars=vars())\n",
                "if err is None:\n",
                "    task.execute(elasticsearch_check_health_status, lego_printer=elasticsearch_check_health_status_printer, hdl=hdl, args=args)"
            ]
        },
        {
            "cell_type": "markdown",
            "id": "571a08b1-e8d6-419f-a3be-ca825c00bba7",
            "metadata": {
                "jupyter": {
                    "source_hidden": false
                },
                "name": "Elasticsearch Enable Shard Allocation",
                "orderProperties": [],
                "tags": [],
                "title": "Elasticsearch Enable Shard Allocation"
            },
            "source": [
                "This action to enables shard allocation and makes the node ready to use."
            ]
        },
        {
            "cell_type": "code",
            "execution_count": null,
            "id": "ccdc97cd-72f0-484b-ba0a-ab32e6e63aaa",
            "metadata": {
                "accessType": "ACCESS_TYPE_UNSPECIFIED",
                "actionBashCommand": false,
                "actionNeedsCredential": true,
                "actionRequiredLinesInCode": [],
                "actionSupportsIteration": true,
                "actionSupportsPoll": true,
                "action_uuid": "67e3c5bfd82c5e34634734f7f09df5a795fa16bceb3552870c55673bb3148b74",
                "continueOnError": false,
                "createTime": "1970-01-01T00:00:00Z",
                "credentialsJson": {
                    "credential_id": "4d5b3053-55fc-4b17-9c7b-27b86c35503f",
                    "credential_name": "DevESCred",
                    "credential_type": "CONNECTOR_TYPE_ELASTICSEARCH"
                },
                "currentVersion": "0.1.0",
                "description": "Elasticsearch Enable Shard Allocation for any shards for any indices",
                "id": 60,
                "index": 60,
                "inputData": [
                    {
                        "api_key": {
                            "constant": false,
                            "value": "api_key"
                        },
                        "host": {
                            "constant": false,
                            "value": "elasticsearch_host"
                        },
                        "port": {
                            "constant": false,
                            "value": "port"
                        }
                    }
                ],
                "inputschema": [
                    {
                        "properties": {
                            "api_key": {
                                "description": "API Key for Authentication",
                                "title": "API Key",
                                "type": "string"
                            },
                            "host": {
                                "description": "URL of Elasticsearch server",
                                "title": "Host",
                                "type": "string"
                            },
                            "port": {
                                "default": 9200,
                                "description": "Port used by Elasticsearch.",
                                "title": "Port",
                                "type": "integer"
                            }
                        },
                        "required": [
                            "host",
                            "api_key"
                        ],
                        "title": "elasticsearch_enable_shard_allocation",
                        "type": "object"
                    }
                ],
                "jupyter": {
                    "source_hidden": true
                },
                "legotype": "LEGO_TYPE_ELASTICSEARCH",
                "name": "Elasticsearch Enable Shard Allocation",
                "nouns": [
                    "elasticsearch"
                ],
                "orderProperties": [
                    "host",
                    "port",
                    "api_key"
                ],
                "output": {
                    "type": ""
                },
                "tags": [
                    "elasticsearch_enable_shard_allocation"
                ],
                "verbs": [
                    "enable",
                    "shard"
                ]
            },
            "outputs": [],
            "source": [
                "##\n",
                "# Copyright (c) 2021 unSkript, Inc\n",
                "# All rights reserved.\n",
                "##\n",
                "import subprocess\n",
                "import pprint\n",
                "from pydantic import BaseModel, Field\n",
                "from typing import List, Dict\n",
                "from subprocess import PIPE, run\n",
                "import json\n",
                "\n",
                "\n",
                "from beartype import beartype\n",
                "@beartype\n",
                "def elasticsearch_enable_shard_allocation_printer(output):\n",
                "    if output is None:\n",
                "        return\n",
                "    print(\"Shard allocations enabled for all kinds of shards\")\n",
                "    print(output)\n",
                "\n",
                "\n",
                "@beartype\n",
                "def elasticsearch_enable_shard_allocation(handle,\n",
                "                                           host: str,\n",
                "                                           api_key: str,\n",
                "                                           port: int) -> Dict:\n",
                "    \"\"\"elasticsearch_enable_shard_allocation enables shard allocations for any shards for any indices.\n",
                "\n",
                "            :type handle: object\n",
                "            :param handle: Object returned from Task Validate\n",
                "\n",
                "            :type host: str\n",
                "            :param host: URL of your Elasticsearch server\n",
                "\n",
                "            :type port: int\n",
                "            :param host: Port used by your Elasticsearch server\n",
                "\n",
                "            :type api_key: str\n",
                "            :param api_key: API Key for authentication of the request\n",
                "\n",
                "            :rtype: Result Dict of result\n",
                "    \"\"\"\n",
                "    es_path = host + \":\" + str(port) + \"/_cluster/settings?pretty\"\n",
                "    es_header = \"Authorization: ApiKey\" + \" \" + api_key\n",
                "    es_dict = {\"transient\": {\"cluster.routing.allocation.enable\": \"all\"}}\n",
                "    es_json = json.dumps(es_dict)\n",
                "    cmd = [\"curl\", \"-k\", \"-XPUT\", \"-H\", \"Content-Type: application/json\", \"-H\",\n",
                "           es_header,\n",
                "           es_path,\n",
                "           \"-d\",\n",
                "           str(es_json)]\n",
                "    try:\n",
                "        raw_result = subprocess.check_output(cmd, stderr=PIPE, universal_newlines=True, shell=False)\n",
                "        return raw_result\n",
                "    except subprocess.CalledProcessError as e:\n",
                "        return e.output\n",
                "\n",
                "\n",
                "task = Task(Workflow())\n",
                "task.configure(inputParamsJson='''{\n",
                "    \"api_key\": \"api_key\",\n",
                "    \"host\": \"elasticsearch_host\",\n",
                "    \"port\": \"port\"\n",
                "    }''')\n",
                "\n",
                "(err, hdl, args) = task.validate(vars=vars())\n",
                "if err is None:\n",
                "    task.execute(elasticsearch_enable_shard_allocation, lego_printer=elasticsearch_enable_shard_allocation_printer, hdl=hdl, args=args)"
            ]
        },
        {
            "cell_type": "markdown",
            "id": "b20dd1a3-fb5f-4bb1-b5cd-2494d752b930",
            "metadata": {
                "jupyter": {
                    "source_hidden": false
                },
                "name": "Conclusion",
                "orderProperties": [],
                "tags": [],
                "title": "Conclusion"
            },
            "source": [
                "In this Runbook, we demonstrated the use of unSkript's Elasticsearch and SSH legos to perform rolling restart on a node in an elasticsearch cluster. To view the full platform capabilities of unSkript please visit https://unskript.com"
            ]
        }
    ],
    "metadata": {
        "execution_data": {
            "environment_id": "1499f27c-6406-4fbd-bd1b-c6f92800018f",
            "environment_name": "Staging",
            "execution_id": "",
            "inputs_for_searched_lego": "",
            "notebook_id": "b1cbb49b-26d1-4497-888f-1cbbc86fff71.ipynb",
            "parameters": [
                "api_key",
                "cmd_start_elasticsearch",
                "cmd_stop_elasticsearch",
                "host",
                "host_for_ssh",
                "port",
                "run_with_sudo"
            ],
            "runbook_name": "Elasticsearch_Rolling_Restart",
            "search_string": "",
            "show_tool_tip": false,
            "tenant_id": "982dba5f-d9df-48ae-a5bf-ec1fc94d4882",
            "tenant_url": "https://tenant-staging.alpha.unskript.io",
            "user_email_id": "shloka@unskript.com",
            "workflow_id": "711b6f4f-0125-4f1f-a6c1-362690257b9e"
        },
        "kernelspec": {
            "display_name": "Python 3.10.6 64-bit",
            "language": "python",
            "name": "python3"
        },
        "language_info": {
            "file_extension": ".py",
            "mimetype": "text/x-python",
            "name": "python",
            "pygments_lexer": "ipython3",
            "version": "3.10.6"
        },
        "parameterSchema": {
            "properties": {
                "api_key": {
                    "description": "API Key for verification",
                    "title": "api_key",
                    "type": "string"
                },
                "cmd_start_elasticsearch": {
                    "default": "systemctl start elasticsearch.service",
                    "description": "Command to start Elasticsearch service",
                    "title": "cmd_start_elasticsearch",
                    "type": "string"
                },
                "cmd_stop_elasticsearch": {
                    "default": "systemctl stop elasticsearch.service",
                    "description": "Command to stop the Elasticsearch service",
                    "title": "cmd_stop_elasticsearch",
                    "type": "string"
                },
                "elasticsearch_host": {
                    "description": "Host at which elasticsearch is running",
                    "title": "elasticsearch_host",
                    "type": "string"
                },
                "host_for_ssh": {
                    "description": "Host IP of elasticsearch server for SSH",
                    "title": "host_for_ssh",
                    "type": "array"
                },
                "port": {
                    "default": 9200,
                    "description": "Port at which Elasticsearch is running",
                    "title": "port",
                    "type": "number"
                },
                "run_with_sudo": {
                    "default": true,
                    "description": "Run commands to start/stop elasticsearch with sudo",
                    "title": "run_with_sudo",
                    "type": "boolean"
                }
            },
            "required": [],
            "title": "Schema",
            "type": "object"
        },
        "parameterValues": {
            "cmd_start_elasticsearch": "systemctl start elasticsearch.service",
            "port": 9200
        },
        "vscode": {
            "interpreter": {
                "hash": "b0fa6594d8f4cbf19f97940f81e996739fb7646882a419484c72d19e05852a7e"
            }
        }
    },
    "nbformat": 4,
    "nbformat_minor": 5
}
