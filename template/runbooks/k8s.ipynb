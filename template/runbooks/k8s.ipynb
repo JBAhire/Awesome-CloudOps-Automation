{
    "cells": [
        {
            "cell_type": "markdown",
            "id": "6e397c81",
            "metadata": {},
            "source": [
                "Use the below lego to start building your functionality."
            ]
        },
        {
            "cell_type": "code",
            "execution_count": null,
            "id": "9cb27a11-95cb-4b20-8d41-59903faa0e52",
            "metadata": {
                "accessType": "ACCESS_TYPE_UNSPECIFIED",
                "actionBashCommand": false,
                "actionNeedsCredential": true,
                "actionRequiredLinesInCode": [],
                "actionSupportsIteration": true,
                "actionSupportsPoll": true,
                "action_uuid": "ae0b25757f0c6c0ca4b3aaf6feea636e3f193dc354f74823a7becd7d675becdc",
                "collapsed": true,
                "createTime": "1970-01-01T00:00:00Z",
                "currentVersion": "0.1.0",
                "description": "Kubectl command in python syntax.",
                "id": 26,
                "index": 26,
                "inputschema": [
                    {
                        "properties": {
                            "kubectl_command": {
                                "description": "kubectl command eg \"kubectl get pods --all-namespaces\"",
                                "title": "Kubectl Command",
                                "type": "string"
                            }
                        },
                        "required": [
                            "kubectl_command"
                        ],
                        "title": "k8s_kubectl_command",
                        "type": "object"
                    }
                ],
                "jupyter": {
                    "outputs_hidden": true,
                    "source_hidden": true
                },
                "legotype": "LEGO_TYPE_K8S",
                "name": "Kubectl in python syntax",
                "nouns": [
                    "command"
                ],
                "orderProperties": [
                    "kubectl_command"
                ],
                "output": {
                    "type": ""
                },
                "tags": [
                    "k8s_kubectl_command"
                ],
                "verbs": [
                    "execute"
                ]
            },
            "outputs": [],
            "source": [
                "#\n",
                "# Copyright (c) 2021 unSkript.com\n",
                "# All rights reserved.\n",
                "#\n",
                "\n",
                "from pydantic import BaseModel, Field\n",
                "\n",
                "\n",
                "from beartype import beartype\n",
                "@beartype\n",
                "def k8s_kubectl_command_printer(output):\n",
                "    if output is None:\n",
                "        return\n",
                "    print(output)\n",
                "\n",
                "\n",
                "@beartype\n",
                "def k8s_kubectl_command(handle, kubectl_command: str) -> str:\n",
                "\n",
                "    result = handle.run_native_cmd(kubectl_command)\n",
                "    if result is None or hasattr(result, \"stderr\") is False or result.stderr is None:\n",
                "        print(\n",
                "            f\"Error while executing command ({kubectl_command}): {result.stderr}\")\n",
                "        return str()\n",
                "\n",
                "    return result.stdout\n",
                "\n",
                "\n",
                "task = Task(Workflow())\n",
                "(err, hdl, args) = task.validate(vars=vars())\n",
                "if err is None:\n",
                "    task.execute(k8s_kubectl_command, lego_printer=k8s_kubectl_command_printer, hdl=hdl, args=args)"
            ]
        }
    ],
    "metadata": {
        "execution_data": {
            "environment_id": "1499f27c-6406-4fbd-bd1b-c6f92800018f",
            "environment_name": "Staging",
            "execution_id": "",
            "inputs_for_searched_lego": "",
            "notebook_id": "3413c470-a729-4b66-aeac-a9b362e0da42.ipynb",
            "parameters": null,
            "runbook_name": "k8s",
            "search_string": "",
            "show_tool_tip": false,
            "tenant_id": "982dba5f-d9df-48ae-a5bf-ec1fc94d4882",
            "tenant_url": "https://tenant-staging.alpha.unskript.io",
            "user_email_id": "support+staging@unskript.com",
            "workflow_id": "87d520c9-1582-43c6-8c56-f90788ef6de6"
        },
        "kernelspec": {
            "display_name": "Python 3.9.6 ('jupyter-elyra')",
            "language": "python",
            "name": "python3"
        },
        "language_info": {
            "file_extension": ".py",
            "mimetype": "text/x-python",
            "name": "python",
            "pygments_lexer": "ipython3",
            "version": "3.9.6"
        },
        "parameterSchema": {
            "properties": {},
            "required": [],
            "title": "Schema",
            "type": "object"
        },
        "parameterValues": null,
        "vscode": {
            "interpreter": {
                "hash": "abbf80fbfe9c242090d0fbc1079a9f03583a8e7a3457324ed37aa21600e94bd8"
            }
        }
    },
    "nbformat": 4,
    "nbformat_minor": 5
}
