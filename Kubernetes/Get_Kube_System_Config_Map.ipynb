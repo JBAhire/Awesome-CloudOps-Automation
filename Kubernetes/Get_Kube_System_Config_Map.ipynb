{
    "cells": [
        {
            "cell_type": "markdown",
            "id": "128675e6",
            "metadata": {},
            "source": [
                "\n",
                "<img src=\"https://unskript.com/assets/favicon.png\" alt=\"unSkript.com\" width=\"100\" height=\"100\"/> \n",
                "<h1> unSkript Runbooks </h1>\n",
                "<div class=\"alert alert-block alert-success\">\n",
                "    <b> This Runbook demonstrates k8s: Get kube system config map using unSkript legos.</b>\n",
                "</div>\n",
                "\n",
                "<br>\n",
                "\n",
                "<center><h2>k8s: Get kube system config map</h2></center>\n",
                "\n",
                "# Steps Overview\n",
                "    1) Get k8s kube system config map.\n",
                "    2) Post the all k8s kube system config maps to slack channel."
            ]
        },
        {
            "cell_type": "markdown",
            "id": "b4ff292f",
            "metadata": {},
            "source": [
                "Here we will use unSkript Get k8s kube system config map Lego. This lego takes config_map_name and namespace as input. These inputs are used to Get k8s kube system config map."
            ]
        },
        {
            "cell_type": "code",
            "execution_count": null,
            "id": "050f5b97-4591-48fd-9c41-6b8e2ee3679d",
            "metadata": {
                "accessType": "ACCESS_TYPE_UNSPECIFIED",
                "actionBashCommand": false,
                "actionNeedsCredential": true,
                "actionSupportsIteration": true,
                "actionSupportsPoll": true,
                "action_uuid": "0c59f81ba7694bc31e1a0e856340ce9545d4d4a3562d2c61659500950751b16a",
                "collapsed": true,
                "createTime": "1970-01-01T00:00:00Z",
                "currentVersion": "0.1.0",
                "description": "Get k8s kube system config map",
                "id": 35,
                "index": 35,
                "inputData": [
                    {
                        "config_map_name": {
                            "constant": false,
                            "value": ""
                        },
                        "namespace": {
                            "constant": false,
                            "value": "namespace"
                        }
                    }
                ],
                "inputschema": [
                    {
                        "properties": {
                            "config_map_name": {
                                "default": "",
                                "description": "Kubernetes Config Map Name",
                                "title": "Config Map",
                                "type": "string"
                            },
                            "namespace": {
                                "default": "all",
                                "description": "Kubernetes namespace",
                                "title": "Namespace",
                                "type": "string"
                            }
                        },
                        "title": "k8s_get_config_map_kube_system",
                        "type": "object"
                    }
                ],
                "jupyter": {
                    "outputs_hidden": true,
                    "source_hidden": true
                },
                "legotype": "LEGO_TYPE_K8S",
                "name": "Get config map",
                "nouns": [
                    "config",
                    "map"
                ],
                "orderProperties": [
                    "namespace",
                    "config_map_name"
                ],
                "output": {
                    "type": ""
                },
                "tags": [
                    "k8s_get_config_map_kube_system"
                ],
                "title": "Get config map",
                "verbs": [
                    "get"
                ]
            },
            "outputs": [],
            "source": [
                "##\n",
                "# Copyright (c) 2021 unSkript, Inc\n",
                "# All rights reserved.\n",
                "##\n",
                "from typing import List\n",
                "\n",
                "from kubernetes import client\n",
                "from pydantic import BaseModel, Field\n",
                "from tabulate import tabulate\n",
                "\n",
                "\n",
                "from beartype import beartype\n",
                "@beartype\n",
                "def k8s_get_config_map_kube_system(handle, config_map_name: str = '', namespace: str = 'all') -> List:\n",
                "\n",
                "    coreApiClient = client.CoreV1Api(api_client=handle)\n",
                "\n",
                "    res = coreApiClient.list_namespaced_config_map(\n",
                "        namespace=namespace, pretty=True)\n",
                "    if len(res.items) > 0:\n",
                "        if config_map_name:\n",
                "            config_maps = list(\n",
                "                filter(lambda x: (x.metadata.name == config_map_name), res.items))\n",
                "        else:\n",
                "            config_maps = res.items\n",
                "        for config in config_maps:\n",
                "            data_set_1 = []\n",
                "            data_set_1.append(\"Name:\")\n",
                "            data_set_1.append(config.metadata.name)\n",
                "\n",
                "            data_set_2 = []\n",
                "            data_set_2.append(\"Namespace:\")\n",
                "            data_set_2.append(config.metadata.namespace)\n",
                "\n",
                "            data_set_3 = []\n",
                "            data_set_3.append(\"Labels:\")\n",
                "            data_set_3.append(config.metadata.labels)\n",
                "\n",
                "            data_set_4 = []\n",
                "            data_set_4.append(\"Annotations:\")\n",
                "            data_set_4.append(config.metadata.annotations)\n",
                "\n",
                "            data_set_5 = []\n",
                "            data_set_5.append(\"Data:\")\n",
                "            data_set_5.append(config.data)\n",
                "\n",
                "            tabular_config_map = []\n",
                "            tabular_config_map.append(data_set_1)\n",
                "            tabular_config_map.append(data_set_2)\n",
                "            tabular_config_map.append(data_set_3)\n",
                "            tabular_config_map.append(data_set_4)\n",
                "            tabular_config_map.append(data_set_5)\n",
                "\n",
                "            print(tabulate(tabular_config_map, tablefmt=\"github\"))\n",
                "\n",
                "        return config_maps\n",
                "    return None\n",
                "\n",
                "\n",
                "task = Task(Workflow())\n",
                "task.configure(inputParamsJson='''{\n",
                "    \"namespace\": \"namespace\"\n",
                "    }''')\n",
                "\n",
                "(err, hdl, args) = task.validate(vars=vars())\n",
                "if err is None:\n",
                "    task.output = task.execute(k8s_get_config_map_kube_system, hdl=hdl, args=args)\n",
                "    if task.output_name != None:\n",
                "        globals().update({task.output_name: task.output[0]})\n",
                "\n",
                "if hasattr(task, 'output'):\n",
                "    if isinstance(task.output, (list, tuple)):\n",
                "        for item in task.output:\n",
                "            print(f'item: {item}')\n",
                "    elif isinstance(task.output, dict):\n",
                "        for item in task.output.items():\n",
                "            print(f'item: {item}')\n",
                "    else:\n",
                "        print(f'Output for {task.name}')\n",
                "        print(task.output)\n",
                "    w.tasks[task.name]= task.output"
            ]
        },
        {
            "cell_type": "markdown",
            "id": "ad391b9e",
            "metadata": {},
            "source": [
                "Here we will use unSkript Post Slack Message Lego. This lego takes channel: str and message: str as input. These inputs are used to post the message to the specified Slack channel."
            ]
        },
        {
            "cell_type": "code",
            "execution_count": null,
            "id": "a9ea6966-f2ae-47a3-a721-4d8ab6ae85f4",
            "metadata": {
                "accessType": "ACCESS_TYPE_UNSPECIFIED",
                "actionBashCommand": false,
                "actionNeedsCredential": true,
                "actionSupportsIteration": true,
                "actionSupportsPoll": true,
                "action_uuid": "6a87f83ab0ecfeecb9c98d084e2b1066c26fa64be5b4928d5573a5d60299802d",
                "collapsed": true,
                "createTime": "1970-01-01T00:00:00Z",
                "currentVersion": "0.1.0",
                "description": "Post Slack Message",
                "id": 44,
                "index": 44,
                "inputData": [
                    {
                        "channel": {
                            "constant": false,
                            "value": "channel"
                        },
                        "message": {
                            "constant": false,
                            "value": "f\"Config map for namespace:{namespace}: {cfg_map}\""
                        }
                    }
                ],
                "inputschema": [
                    {
                        "properties": {
                            "channel": {
                                "description": "Name of the slack channel where the message to be posted",
                                "title": "Channel",
                                "type": "string"
                            },
                            "message": {
                                "description": "Message to be sent",
                                "title": "Message",
                                "type": "string"
                            }
                        },
                        "required": [
                            "channel",
                            "message"
                        ],
                        "title": "slack_post_message",
                        "type": "object"
                    }
                ],
                "jupyter": {
                    "outputs_hidden": true,
                    "source_hidden": true
                },
                "legotype": "LEGO_TYPE_SLACK",
                "name": "Post Slack Message",
                "nouns": [
                    "slack",
                    "message"
                ],
                "orderProperties": [
                    "channel",
                    "message"
                ],
                "output": {
                    "type": ""
                },
                "tags": [
                    "slack_post_message"
                ],
                "verbs": [
                    "post"
                ]
            },
            "outputs": [],
            "source": [
                "##\n",
                "# Copyright (c) 2021 unSkript, Inc\n",
                "# All rights reserved.\n",
                "##\n",
                "\n",
                "import pprint\n",
                "\n",
                "from pydantic import BaseModel, Field\n",
                "from slack_sdk import WebClient\n",
                "from slack_sdk.errors import SlackApiError\n",
                "\n",
                "pp = pprint.PrettyPrinter(indent=2)\n",
                "\n",
                "\n",
                "from beartype import beartype\n",
                "def legoPrinter(func):\n",
                "    def Printer(*args, **kwargs):\n",
                "        output = func(*args, **kwargs)\n",
                "        if output:\n",
                "            channel = kwargs[\"channel\"]\n",
                "            pp.pprint(print(f\"Message sent to Slack channel {channel}\"))\n",
                "        return output\n",
                "    return Printer\n",
                "\n",
                "\n",
                "@legoPrinter\n",
                "@beartype\n",
                "def slack_post_message(\n",
                "        handle: WebClient,\n",
                "        channel: str,\n",
                "        message: str) -> bool:\n",
                "\n",
                "    try:\n",
                "        response = handle.chat_postMessage(\n",
                "            channel=channel,\n",
                "            text=message)\n",
                "        return True\n",
                "    except SlackApiError as e:\n",
                "        print(\"\\n\\n\")\n",
                "        pp.pprint(\n",
                "            f\"Failed sending message to slack channel {channel}, Error: {e.response['error']}\")\n",
                "        return False\n",
                "    except Exception as e:\n",
                "        print(\"\\n\\n\")\n",
                "        pp.pprint(\n",
                "            f\"Failed sending message to slack channel {channel}, Error: {e.__str__()}\")\n",
                "        return False\n",
                "\n",
                "\n",
                "task = Task(Workflow())\n",
                "task.configure(inputParamsJson='''{\n",
                "    \"channel\": \"channel\",\n",
                "    \"message\": \"f\\\\\"Config map for namespace:{namespace}: {cfg_map}\\\\\"\"\n",
                "    }''')\n",
                "\n",
                "(err, hdl, args) = task.validate(vars=vars())\n",
                "if err is None:\n",
                "    task.output = task.execute(slack_post_message, hdl=hdl, args=args)\n",
                "    if task.output_name != None:\n",
                "        globals().update({task.output_name: task.output[0]})"
            ]
        },
        {
            "cell_type": "markdown",
            "id": "2ec1757f",
            "metadata": {},
            "source": [
                "### Conclusion\n",
                "In this Runbook, we demonstrated the use of unSkript's k8s legos to run k8s action and fetches the kube system config map for a k8s cluster and posts to a slack channel. To view the full platform capabilities of unSkript please visit https://unskript.com"
            ]
        }
    ],
    "metadata": {
        "execution_data": {
            "environment_id": "dba3932f-3118-4ab0-b92c-70fa56402037",
            "environment_name": "SingleAMI",
            "execution_id": "",
            "inputs_for_searched_lego": "",
            "notebook_id": "workflow.ipynb",
            "parameters": [
                "channel",
                "config_map_name",
                "namespace"
            ],
            "runbook_name": "JRRunbook",
            "search_string": "",
            "show_tool_tip": false,
            "tenant_id": "8b3c7148-2d57-4b89-84d3-d59f6c792b0c",
            "tenant_url": "https://tenant-amit.dev.unskript.io",
            "user_email_id": "amit@unskript.com",
            "workflow_id": "755dbe40-22d7-4b70-a04d-31d34bb04e4a"
        },
        "kernelspec": {
            "display_name": "Python 3.9.6 64-bit",
            "language": "python",
            "name": "python3"
        },
        "language_info": {
            "file_extension": ".py",
            "mimetype": "text/x-python",
            "name": "python",
            "pygments_lexer": "ipython3",
            "version": "3.9.6"
        },
        "parameterSchema": {
            "properties": {
                "channel": {
                    "default": "",
                    "description": "Slack channel to post to",
                    "title": "channel",
                    "type": "string"
                },
                "config_map_name": {
                    "default": "",
                    "description": "Name of the k8s config map",
                    "title": "config_map_name",
                    "type": "string"
                },
                "namespace": {
                    "default": "all",
                    "description": "k8s namespace to fetch config map for",
                    "title": "namespace",
                    "type": "string"
                }
            },
            "required": [],
            "title": "Schema",
            "type": "object"
        },
        "parameterValues": {
            "channel": null,
            "config_map_name": null,
            "namespace": "all"
        },
        "vscode": {
            "interpreter": {
                "hash": "31f2aee4e71d21fbe5cf8b01ff0e069b9275f58929596ceb00d14d90e3e16cd6"
            }
        }
    },
    "nbformat": 4,
    "nbformat_minor": 5
}
