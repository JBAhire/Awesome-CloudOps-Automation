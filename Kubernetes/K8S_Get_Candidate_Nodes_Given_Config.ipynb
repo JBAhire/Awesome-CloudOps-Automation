{
    "cells": [
        {
            "cell_type": "markdown",
            "id": "5f2fac7e",
            "metadata": {},
            "source": [
                "\n",
                "<img src=\"https://unskript.com/assets/favicon.png\" alt=\"unSkript.com\" width=\"100\" height=\"100\"/> \n",
                "<h1> unSkript Runbooks </h1>\n",
                "<div class=\"alert alert-block alert-success\">\n",
                "    <b> This Runbook demonstrates How to Get candidate k8s nodes for given configuration using unSkript legos.</b>\n",
                "</div>\n",
                "\n",
                "<br>\n",
                "\n",
                "<center><h2>Get Candidate k8s Nodes For Given Configuration</h2></center>\n",
                "\n",
                "# Steps Overview\n",
                "    Get the matching nodes for a given configuration."
            ]
        },
        {
            "cell_type": "markdown",
            "id": "d84b6f44",
            "metadata": {},
            "source": [
                "Here we will use unSkript `Get candidate k8s nodes for given configuration` Lego. This lego takes `attachable_volumes_aws_ebs`, `cpu_limit`, `memory_limit` and `coreApiClient` as input. These inputs are used to find out matching nodes for a given configuration."
            ]
        },
        {
            "cell_type": "code",
            "execution_count": null,
            "id": "faff16f3-a562-4d4e-804c-c509efee3cec",
            "metadata": {
                "accessType": "ACCESS_TYPE_UNSPECIFIED",
                "actionBashCommand": false,
                "actionNeedsCredential": true,
                "actionSupportsIteration": true,
                "actionSupportsPoll": true,
                "action_uuid": "5326cf5d52f4d62391e32a4290dcca4ac6f023218b01aefcc5be2765391e7ea2",
                "createTime": "1970-01-01T00:00:00Z",
                "currentVersion": "0.1.0",
                "description": "Get candidate k8s nodes for given configuration",
                "id": 34,
                "index": 34,
                "inputData": [
                    {
                        "attachable_volumes_aws_ebs": {
                            "constant": false,
                            "value": "ebs_limit"
                        },
                        "cpu_limit": {
                            "constant": false,
                            "value": "cpu_limit"
                        },
                        "memory_limit": {
                            "constant": false,
                            "value": "memory_limit"
                        },
                        "pod_limit": {
                            "constant": false,
                            "value": "pod_limit"
                        }
                    }
                ],
                "inputschema": [
                    {
                        "properties": {
                            "attachable_volumes_aws_ebs": {
                                "default": 0,
                                "description": "EBS Volume limit in Gb. Eg 25",
                                "title": "EBS Volume Limit (Gb)",
                                "type": "integer"
                            },
                            "cpu_limit": {
                                "default": 0,
                                "description": "CPU Limit. Eg 2",
                                "title": "CPU Limit",
                                "type": "integer"
                            },
                            "memory_limit": {
                                "default": "",
                                "description": "Limits and requests for memory are measured in bytes. Accept the store in Mi. Eg 123Mi",
                                "title": "Memory Limit (Mi)",
                                "type": "string"
                            },
                            "pod_limit": {
                                "default": 0,
                                "description": "Pod Limit. Eg 2",
                                "title": "Number of Pods to attach",
                                "type": "integer"
                            }
                        },
                        "title": "k8s_get_candidate_nodes_for_pods",
                        "type": "object"
                    }
                ],
                "jupyter": {
                    "source_hidden": true
                },
                "legotype": "LEGO_TYPE_K8S",
                "name": "Get candidate k8s nodes for given configuration",
                "nouns": [
                    "candidate",
                    "nodes",
                    "configuration"
                ],
                "orderProperties": [
                    "attachable_volumes_aws_ebs",
                    "cpu_limit",
                    "memory_limit",
                    "pod_limit"
                ],
                "output": {
                    "type": ""
                },
                "tags": [
                    "k8s_get_candidate_nodes_for_pods"
                ],
                "verbs": [
                    "get"
                ]
            },
            "outputs": [],
            "source": [
                "##\n",
                "# Copyright (c) 2021 unSkript, Inc\n",
                "# All rights reserved.\n",
                "##\n",
                "\n",
                "import pprint\n",
                "from typing import Optional\n",
                "\n",
                "from kubernetes import client\n",
                "from pydantic import BaseModel, Field\n",
                "from tabulate import tabulate\n",
                "\n",
                "pp = pprint.PrettyPrinter(indent=2)\n",
                "\n",
                "\n",
                "from beartype import beartype\n",
                "@beartype\n",
                "def k8s_get_candidate_nodes_for_pods(handle, attachable_volumes_aws_ebs: int = 0, cpu_limit: int = 0, memory_limit: str = \"\", pod_limit: int = 0):\n",
                "\n",
                "    coreApiClient = client.CoreV1Api(api_client=handle)\n",
                "\n",
                "    nodes = coreApiClient.list_node()\n",
                "    match_nodes = [node for node in nodes.items if\n",
                "                   (attachable_volumes_aws_ebs < int(node.status.capacity.get(\"attachable-volumes-aws-ebs\", 0))) and\n",
                "                   (cpu_limit < int(node.status.capacity.get(\"cpu\", 0))) and\n",
                "                   (pod_limit < int(node.status.capacity.get(\"pods\", 0))) and\n",
                "                   int(memory_limit.split(\"Mi\")[0]) < (int(node.status.capacity.get(\"memory\").split(\"Ki\")[0]) / 1024)]\n",
                "\n",
                "    if len(match_nodes) > 0:\n",
                "        data = []\n",
                "\n",
                "        for node in match_nodes:\n",
                "            node_capacity = []\n",
                "            node_capacity.append(node.metadata.name)\n",
                "            for capacity in node.status.capacity.values():\n",
                "                node_capacity.append(capacity)\n",
                "            data.append(node_capacity)\n",
                "\n",
                "        print(\"\\n\")\n",
                "        print(tabulate(data, tablefmt=\"grid\", headers=[\"Name\", \"attachable-volumes-aws-ebs\", \"cpu\", \"ephemeral-storage\",\n",
                "                                                       \"hugepages-1Gi\", \"hugepages-2Mi\", \"memory\", \"pods\"]))\n",
                "        return match_nodes\n",
                "\n",
                "    pp.pprint(\"No Matching Nodes Found for this spec\")\n",
                "    return None\n",
                "\n",
                "\n",
                "task = Task(Workflow())\n",
                "task.configure(inputParamsJson='''{\n",
                "    \"attachable_volumes_aws_ebs\": \"ebs_limit\",\n",
                "    \"cpu_limit\": \"cpu_limit\",\n",
                "    \"memory_limit\": \"memory_limit\",\n",
                "    \"pod_limit\": \"pod_limit\"\n",
                "    }''')\n",
                "\n",
                "(err, hdl, args) = task.validate(vars=vars())\n",
                "if err is None:\n",
                "    task.output = task.execute(k8s_get_candidate_nodes_for_pods, hdl=hdl, args=args)\n",
                "    if task.output_name != None:\n",
                "        globals().update({task.output_name: task.output[0]})\n",
                "\n",
                "if hasattr(task, 'output'):\n",
                "    if isinstance(task.output, (list, tuple)):\n",
                "        for item in task.output:\n",
                "            print(f'item: {item}')\n",
                "    elif isinstance(task.output, dict):\n",
                "        for item in task.output.items():\n",
                "            print(f'item: {item}')\n",
                "    else:\n",
                "        print(f'Output for {task.name}')\n",
                "        print(task.output)\n",
                "    w.tasks[task.name]= task.output"
            ]
        },
        {
            "cell_type": "markdown",
            "id": "2a154136",
            "metadata": {},
            "source": [
                "### Conclusion\n",
                "In this Runbook, we demonstrated the use of unSkript's k8s legos to run k8s configuration and get the matching nodes for a given configuration (storage, cpu, memory, pod_limit). To view the full platform capabilities of unSkript please visit https://unskript.com"
            ]
        }
    ],
    "metadata": {
        "execution_data": {
            "environment_id": "dba3932f-3118-4ab0-b92c-70fa56402037",
            "environment_name": "SingleAMI",
            "execution_id": "",
            "inputs_for_searched_lego": "",
            "notebook_id": "workflow.ipynb",
            "parameters": [
                "ebs_limit",
                "memory_limit",
                "pod_limit",
                "cpu_limit"
            ],
            "runbook_name": "JRRunbook",
            "search_string": "",
            "show_tool_tip": false,
            "tenant_id": "8b3c7148-2d57-4b89-84d3-d59f6c792b0c",
            "tenant_url": "https://tenant-amit.dev.unskript.io",
            "user_email_id": "amit@unskript.com",
            "workflow_id": "755dbe40-22d7-4b70-a04d-31d34bb04e4a"
        },
        "kernelspec": {
            "display_name": "Python 3.9.6 64-bit",
            "language": "python",
            "name": "python3"
        },
        "language_info": {
            "file_extension": ".py",
            "mimetype": "text/x-python",
            "name": "python",
            "pygments_lexer": "ipython3",
            "version": "3.9.6"
        },
        "parameterSchema": {
            "properties": {
                "cpu_limit": {
                    "default": 0,
                    "description": "CPU Limit. Eg 2",
                    "title": "cpu_limit",
                    "type": "integer"
                },
                "ebs_limit": {
                    "default": 0,
                    "description": "EBS Volume Limit in Gb. Eg 25",
                    "title": "ebs_limit",
                    "type": "integer"
                },
                "memory_limit": {
                    "default": 0,
                    "description": "Memory limits and requests are measured in bytes. Eg 64Mi",
                    "title": "memory_limit",
                    "type": "integer"
                },
                "pod_limit": {
                    "default": 0,
                    "description": "Limit on pods",
                    "title": "pod_limit",
                    "type": "integer"
                }
            },
            "required": [],
            "title": "Schema",
            "type": "object"
        },
        "parameterValues": {
            "cpu_limit": null,
            "ebs_limit": null,
            "memory_limit": null,
            "pod_limit": null
        },
        "vscode": {
            "interpreter": {
                "hash": "31f2aee4e71d21fbe5cf8b01ff0e069b9275f58929596ceb00d14d90e3e16cd6"
            }
        }
    },
    "nbformat": 4,
    "nbformat_minor": 5
}
