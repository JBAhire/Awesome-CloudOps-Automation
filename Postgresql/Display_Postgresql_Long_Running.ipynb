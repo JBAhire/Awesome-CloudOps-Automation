{
    "nbformat": 4,
    "nbformat_minor": 5,
    "metadata": {
        "kernelspec": {
            "name": "python_kubernetes",
            "display_name": "unSkript (Build: 926)"
        },
        "language_info": {
            "name": "python",
            "file_extension": ".py",
            "mimetype": "text/x-python",
            "pygments_lexer": "ipython3"
        },
        "execution_data": {
            "workflow_id": "64a55c34-1fc6-4883-9183-0a842f5610b3",
            "execution_id": "",
            "notebook_id": "47eaa72d-7cdc-4307-91c8-c4eebb9fcffe.ipynb",
            "tenant_id": "982dba5f-d9df-48ae-a5bf-ec1fc94d4882",
            "tenant_url": "https://tenant-staging.alpha.unskript.io",
            "environment_id": "dba3932f-3118-4ab0-b92c-70fa56402037",
            "proxy_id": "1499f27c-6406-4fbd-bd1b-c6f92800018f",
            "parameters": [
                "interval",
                "channel"
            ],
            "runbook_name": "SQL Long Running",
            "environment_name": "Staging",
            "show_tool_tip": false,
            "search_string": "",
            "inputs_for_searched_lego": "",
            "user_email_id": "support+staging@unskript.com",
            "environment_type": "ENVIRONMENT_TYPE_AWS_EC2"
        },
        "parameterSchema": {
            "properties": {
                "channel": {
                    "default": "",
                    "description": "Slack channel to post to",
                    "title": "channel",
                    "type": "string"
                },
                "interval": {
                    "default": "5",
                    "description": "Time interval to check for long queries",
                    "title": "interval",
                    "type": "string"
                }
            },
            "required": [],
            "title": "Schema",
            "type": "object"
        },
        "parameterValues": null
    },
    "cells": [
        {
            "id": "c4278aca-16f2-4f4f-b6f9-6089ddf8b0fd",
            "cell_type": "code",
            "metadata": {
                "actionNeedsCredential": false,
                "actionSupportsIteration": false,
                "actionSupportsPoll": false,
                "deletable": false,
                "editable": false,
                "jupyter": {
                    "source_hidden": true
                },
                "name": "unSkript Internal",
                "orderProperties": [],
                "tags": [
                    "unSkript:nbParam"
                ],
                "title": [
                    "unSkript Internal"
                ],
                "trusted": true
            },
            "source": "import json\nimport os\nfrom unskript import nbparams\nfrom unskript.secrets import ENV_MODE, ENV_MODE_AWS\nfrom unskript.fwk.workflow import Task, Workflow\n\nenv = {\"ENV_MODE\":\"ENV_MODE_AWS\",\"TENANT_ID\":\"982dba5f-d9df-48ae-a5bf-ec1fc94d4882\",\"PROXY_ID\":\"1499f27c-6406-4fbd-bd1b-c6f92800018f\",\"TENANT_URL\":\"https://tenant-staging.alpha.unskript.io\",\"AWS_REGION\":\"us-west-2\"}\nsecret_store_cfg = {\"SECRET_STORE_TYPE\":\"SECRET_STORE_TYPE_AWS\",\"AWS_SECRET_PREFIX\":\"staging\",\"AWS_REGION\":\"us-west-2\"}\nos.environ[\"UNSKRIPT_REDIS_HOST\"] = \"redis-master.redis.svc.cluster.local\"\nos.environ[\"UNSKRIPT_TOKEN\"] = \"5c4a5754-0600-11ec-9a03-0242ac130003\"\nos.environ[\"TENANT_URL\"] = env[\"TENANT_URL\"]\nparamDict = {\"channel\": None, \"interval\": \"5\"}\nparamDict.update(env)\nparamDict.update(secret_store_cfg)\nparamsJson = json.dumps(paramDict)\nnbParamsObj = nbparams.NBParams(paramsJson)\nchannel = nbParamsObj.get('channel')\ninterval = nbParamsObj.get('interval')\n\nw = Workflow(env, secret_store_cfg, None, global_vars=globals(), check_uuids=None)",
            "execution_count": 3,
            "outputs": []
        },
        {
            "id": "133bee4c",
            "cell_type": "markdown",
            "metadata": {
                "name": "RunBook Summary",
                "orderProperties": [],
                "tags": [],
                "title": "RunBook Summary"
            },
            "source": "\n<img src=\"https://unskript.com/assets/favicon.png\" alt=\"unSkript.com\" width=\"100\" height=\"100\"/> \n<h1> unSkript Runbooks </h1>\n<div class=\"alert alert-block alert-success\">\n    <b> This runbook demonstrates How to get PostgreSQL long running queries using unSkript legos.</b>\n</div>\n\n<br>\n\n<center><h2>Display PostgreSQL Long Running Queries</h2></center>\n\n# Steps Overview\n    1) Get postgres long running queries by passing the interval as input\n    2) Collecting PostgreSQL queries and post that to the slack channel",
            "execution_count": null,
            "outputs": []
        },
        {
            "id": "086ace3b",
            "cell_type": "markdown",
            "metadata": {
                "name": "Step 1. Detect Long Running Queries",
                "orderProperties": [],
                "tags": [],
                "title": "Step 1. Detect Long Running Queries"
            },
            "source": "<p>Here we will use unSkript Long Running PostgreSQL Queries Action.</p>\n<p>This action takes&nbsp;<strong>interval</strong>: <strong>int</strong> as input. This input is used to find out all the Long running queries available on the PostgreSQL database.</p>\n<p>It returns the list of PIDs that exceed given interval.</p>",
            "execution_count": null,
            "outputs": []
        },
        {
            "id": "d3781717-70fc-40d2-9eed-183ff55a1726",
            "cell_type": "code",
            "metadata": {
                "accessType": "ACCESS_TYPE_UNSPECIFIED",
                "actionBashCommand": false,
                "actionNeedsCredential": true,
                "actionSupportsIteration": true,
                "actionSupportsPoll": true,
                "action_uuid": "ef9f0f3dd00ef0972895ea006375f1a4496dca1b7266bc60fdfbd8ab4feee6c3",
                "createTime": "1970-01-01T00:00:00Z",
                "credentialsJson": {
                    "credential_id": "05050797-8929-47de-aaed-93d9fc63b244",
                    "credential_name": "segment",
                    "credential_type": "CONNECTOR_TYPE_POSTGRESQL"
                },
                "currentVersion": "0.1.0",
                "description": "Long Running PostgreSQL Queries",
                "execution_data": {
                    "last_date_success_run_cell": "2023-03-07T18:19:08.857Z"
                },
                "id": 193,
                "index": 193,
                "inputData": [
                    {
                        "interval": {
                            "constant": false,
                            "value": "5"
                        }
                    }
                ],
                "inputschema": [
                    {
                        "properties": {
                            "interval": {
                                "default": 5,
                                "description": "Return queries running longer than interval",
                                "title": "Interval(in seconds)",
                                "type": "integer"
                            }
                        },
                        "title": "postgresql_long_running_queries",
                        "type": "object"
                    }
                ],
                "jupyter": {
                    "source_hidden": true
                },
                "legotype": "LEGO_TYPE_POSTGRESQL",
                "name": "Long Running PostgreSQL Queries",
                "nouns": [
                    "postgresql",
                    "queries"
                ],
                "orderProperties": [
                    "interval"
                ],
                "output": {
                    "type": ""
                },
                "outputParams": {
                    "output_name": "sql_queries",
                    "output_name_enabled": true
                },
                "printOutput": true,
                "tags": [
                    "postgresql_long_running_queries"
                ],
                "trusted": true,
                "verbs": []
            },
            "source": "##\n# Copyright (c) 2021 unSkript, Inc\n# All rights reserved.\n##\nfrom typing import List, Any, Union\n\nfrom tabulate import tabulate\nfrom pydantic import BaseModel, Field\n\n\nfrom beartype import beartype\ndef legoPrinter(func):\n    def Printer(*args, **kwargs):\n        output = func(*args, **kwargs)\n        if len(output) == 0:\n            print(\"No queries found\")\n            return\n\n        print(\"\\n\")\n        print(output)\n        return output\n\n    return Printer\n\n\n@legoPrinter\n@beartype\ndef postgresql_long_running_queries(handle, interval: int = 5) -> Union[List[Any], str]:\n    \"\"\"postgresql_long_running_queries Runs postgres query with the provided parameters.\n\n          :type credentialsDict: dict\n          :param credentialsDict: Dictionary of credentials info.\n\n          :type inputParamsJson: string\n          :param inputParamsJson: Json string of the input params\n\n          :rtype: All the results of the query.\n      \"\"\"\n    # Input param validation.\n\n    # Multi-line will create an issue when we package the Legos.\n    # Hence concatinating it into a single line.\n\n    query = \"SELECT pid, user, pg_stat_activity.query_start, now() - pg_stat_activity.query_start AS query_time, query, state \" \\\n        \" FROM pg_stat_activity WHERE state = 'active' AND (now() - pg_stat_activity.query_start) > interval '%d seconds';\" % interval\n\n    cur = handle.cursor()\n    cur.execute(query)\n    output = []\n    res = cur.fetchall()\n\n    data = []\n    for records in res:\n        result = {\n            \"pid\": records[0],\n            \"user\": records[1],\n            \"query_start\": records[2],\n            \"query_time\": records[3],\n            \"query\": records[4],\n            \"state\": records[5]\n        }\n        output.append(result)\n        data.append([records[0], records[4], records[5], records[3]])\n\n    if len(res) > 0:\n        headers = [\"pid\", \"query\", \"state\", \"duration\"]\n        print(\"\\n\")\n        output = tabulate(data, headers=headers, tablefmt=\"grid\")\n\n    handle.commit()\n    cur.close()\n    handle.close()\n    return output\n\n\ntask = Task(Workflow())\ntask.configure(credentialsJson='''{\n    \"credential_name\": \"segment\",\n    \"credential_type\": \"CONNECTOR_TYPE_POSTGRESQL\",\n    \"credential_id\": \"05050797-8929-47de-aaed-93d9fc63b244\"\n}''')\ntask.configure(printOutput=True)\ntask.configure(inputParamsJson='''{\n    \"interval\": \"5\"\n    }''')\ntask.configure(outputName=\"sql_queries\")\n\n(err, hdl, args) = task.validate(vars=vars())\nif err is None:\n    task.output = task.execute(postgresql_long_running_queries, hdl=hdl, args=args)\n    if task.output_name != None:\n        globals().update({task.output_name: task.output[0]})",
            "execution_count": 7,
            "outputs": []
        },
        {
            "id": "1256bbdf",
            "cell_type": "markdown",
            "metadata": {
                "name": "Step 2. Send message to slack",
                "orderProperties": [],
                "tags": [],
                "title": "Step 2. Send message to slack"
            },
            "source": "Here we will use unSkript Post Slack Message Lego. This lego takes channel: str and message: str as input. This inputs is used to post the message to the slack channel.",
            "execution_count": null,
            "outputs": []
        },
        {
            "id": "84b2379b-c11c-42a8-8575-8b75efe52574",
            "cell_type": "code",
            "metadata": {
                "accessType": "ACCESS_TYPE_UNSPECIFIED",
                "actionBashCommand": false,
                "actionNeedsCredential": true,
                "actionSupportsIteration": true,
                "actionSupportsPoll": true,
                "action_uuid": "6a87f83ab0ecfeecb9c98d084e2b1066c26fa64be5b4928d5573a5d60299802d",
                "condition_enabled": true,
                "createTime": "1970-01-01T00:00:00Z",
                "credentialsJson": {
                    "credential_id": "c81e186c-0a93-4b12-a0db-4eaa185efa6a",
                    "credential_name": "unskript_community",
                    "credential_type": "CONNECTOR_TYPE_SLACK"
                },
                "currentVersion": "0.1.0",
                "description": "Post Slack Message",
                "execution_data": {
                    "last_date_success_run_cell": "2023-03-07T18:20:01.250Z"
                },
                "id": 44,
                "index": 44,
                "inputData": [
                    {
                        "channel": {
                            "constant": false,
                            "value": "channel"
                        },
                        "message": {
                            "constant": false,
                            "value": "f\"Long Running Queries : {sql_queries}\""
                        }
                    }
                ],
                "inputschema": [
                    {
                        "properties": {
                            "channel": {
                                "description": "Name of the slack channel where the message to be posted",
                                "title": "Channel",
                                "type": "string"
                            },
                            "message": {
                                "description": "Message to be sent",
                                "title": "Message",
                                "type": "string"
                            }
                        },
                        "required": [
                            "channel",
                            "message"
                        ],
                        "title": "slack_post_message",
                        "type": "object"
                    }
                ],
                "jupyter": {
                    "source_hidden": true
                },
                "legotype": "LEGO_TYPE_SLACK",
                "name": "Post Slack Message",
                "nouns": [
                    "slack",
                    "message"
                ],
                "orderProperties": [
                    "channel",
                    "message"
                ],
                "output": {
                    "type": ""
                },
                "printOutput": true,
                "startcondition": "channel is not None and sql_queries is not None",
                "tags": [
                    "slack_post_message"
                ],
                "trusted": true,
                "verbs": [
                    "post"
                ]
            },
            "source": "##\n# Copyright (c) 2021 unSkript, Inc\n# All rights reserved.\n##\n\nimport pprint\n\nfrom pydantic import BaseModel, Field\nfrom slack_sdk import WebClient\nfrom slack_sdk.errors import SlackApiError\n\npp = pprint.PrettyPrinter(indent=2)\n\n\nfrom beartype import beartype\ndef legoPrinter(func):\n    def Printer(*args, **kwargs):\n        output = func(*args, **kwargs)\n        if output:\n            channel = kwargs[\"channel\"]\n            pp.pprint(print(f\"Message sent to Slack channel {channel}\"))\n        return output\n    return Printer\n\n\n@legoPrinter\n@beartype\ndef slack_post_message(\n        handle: WebClient,\n        channel: str,\n        message: str) -> bool:\n\n    try:\n        response = handle.chat_postMessage(\n            channel=channel,\n            text=message)\n        return True\n    except SlackApiError as e:\n        print(\"\\n\\n\")\n        pp.pprint(\n            f\"Failed sending message to slack channel {channel}, Error: {e.response['error']}\")\n        return False\n    except Exception as e:\n        print(\"\\n\\n\")\n        pp.pprint(\n            f\"Failed sending message to slack channel {channel}, Error: {e.__str__()}\")\n        return False\n\n\ntask = Task(Workflow())\ntask.configure(credentialsJson='''{\n    \"credential_name\": \"unskript_community\",\n    \"credential_type\": \"CONNECTOR_TYPE_SLACK\",\n    \"credential_id\": \"c81e186c-0a93-4b12-a0db-4eaa185efa6a\"\n}''')\ntask.configure(printOutput=True)\ntask.configure(inputParamsJson='''{\n    \"channel\": \"channel\",\n    \"message\": \"f\\\\\"Long Running Queries : {sql_queries}\\\\\"\"\n    }''')\ntask.configure(conditionsJson='''{\n    \"condition_enabled\": true,\n    \"condition_cfg\": \"channel is not None and sql_queries is not None\",\n    \"condition_result\": true\n    }''')\n\n(err, hdl, args) = task.validate(vars=vars())\nif err is None:\n    task.output = task.execute(slack_post_message, hdl=hdl, args=args)\n    if task.output_name != None:\n        globals().update({task.output_name: task.output[0]})",
            "execution_count": 9,
            "outputs": []
        },
        {
            "id": "f45b5e96",
            "cell_type": "markdown",
            "metadata": {
                "name": "Conclusion",
                "orderProperties": [],
                "tags": [],
                "title": "Conclusion"
            },
            "source": "<h3 id=\"Conclusion\">Conclusion<a class=\"jp-InternalAnchorLink\" href=\"#Conclusion\" target=\"_self\">&para;</a></h3>\n<p>In this Runbook, we demonstrated the use of unSkript's PostgreSQL action to run PostgreSQL Query, determines the long running queries from a database and (optionally) send a message to Slack. To view the full platform capabilities of unSkript please visit&nbsp;<a href=\"https://unskript.com\" target=\"_blank\" rel=\"noopener\">https://unskript.com</a></p>",
            "execution_count": null,
            "outputs": []
        }
    ]
}