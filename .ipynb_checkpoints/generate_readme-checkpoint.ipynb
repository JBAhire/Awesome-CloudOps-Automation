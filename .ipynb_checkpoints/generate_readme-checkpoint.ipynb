{
 "cells": [
  {
   "cell_type": "markdown",
   "id": "latter-teddy",
   "metadata": {},
   "source": [
    "\n",
    "# Generate Readme with up to date list of xRunBooks"
   ]
  },
  {
   "cell_type": "markdown",
   "id": "421e4c6e-d5ef-4d53-9d36-f352426c4d87",
   "metadata": {
    "execution": {
     "iopub.execute_input": "2021-10-06T11:02:41.091855Z",
     "iopub.status.busy": "2021-10-06T11:02:41.091514Z",
     "iopub.status.idle": "2021-10-06T11:02:41.099143Z",
     "shell.execute_reply": "2021-10-06T11:02:41.098565Z",
     "shell.execute_reply.started": "2021-10-06T11:02:41.091773Z"
    },
    "tags": []
   },
   "source": [
    "## Input"
   ]
  },
  {
   "cell_type": "markdown",
   "id": "e84f7e80-dda2-4569-96dd-5abaaed2c73a",
   "metadata": {},
   "source": [
    "### Import librairies"
   ]
  },
  {
   "cell_type": "code",
   "execution_count": 31,
   "id": "sitting-directory",
   "metadata": {
    "execution": {
     "iopub.execute_input": "2022-11-07T19:49:06.959312Z",
     "iopub.status.busy": "2022-11-07T19:49:06.958907Z",
     "iopub.status.idle": "2022-11-07T19:49:09.565308Z",
     "shell.execute_reply": "2022-11-07T19:49:09.564452Z"
    },
    "tags": []
   },
   "outputs": [],
   "source": [
    "import os\n",
    "import requests\n",
    "import urllib.parse\n",
    "import copy\n",
    "import markdown\n",
    "import nbformat\n",
    "from nbconvert import MarkdownExporter\n",
    "from papermill.iorw import (\n",
    "    load_notebook_node,\n",
    "    write_ipynb,\n",
    ")\n",
    "try:\n",
    "    from git import Repo\n",
    "except:\n",
    "    !pip install GitPython\n",
    "    from git import Repo"
   ]
  },
  {
   "cell_type": "markdown",
   "id": "agricultural-contest",
   "metadata": {},
   "source": [
    "### Variables"
   ]
  },
  {
   "cell_type": "code",
   "execution_count": 32,
   "id": "guided-edgar",
   "metadata": {
    "execution": {
     "iopub.execute_input": "2022-11-07T19:49:09.569549Z",
     "iopub.status.busy": "2022-11-07T19:49:09.568900Z",
     "iopub.status.idle": "2022-11-07T19:49:09.574634Z",
     "shell.execute_reply": "2022-11-07T19:49:09.574085Z"
    },
    "tags": []
   },
   "outputs": [],
   "source": [
    "# README variables\n",
    "readme_template = \"README_template.md\"\n",
    "readme = \"README.md\"\n",
    "replace_var = \"[[DYNAMIC_LIST]]\"\n",
    "\n",
    "# welcome variables\n",
    "#this is a TODO\n",
    "#welcome_template = \"Welcome_template.ipynb\"\n",
    "#welcome = \"Welcome.ipynb\"\n",
    "#replace_var_quote = f'\"[[DYNAMIC_LIST]]\",\\n'\n",
    "\n",
    "\n",
    "\n",
    "# Others\n",
    "current_file = '.'\n",
    "notebook_ext = '.ipynb'\n",
    "github_url = 'https://github.com/unskript/Awesome-CloudOps-Automation/tree/master'\n",
    "local_OSS_url = 'http://127.0.0.1:8888/lab/tree'\n",
    "#fix these!\n",
    "github_download_url = 'https://raw.githubusercontent.com/unskript/Awesome-CloudOps-Automation/master/'\n",
    "unSkript_logo ='https://unskript.com/assets/favicon.png'\n"
   ]
  },
  {
   "cell_type": "markdown",
   "id": "distinguished-declaration",
   "metadata": {},
   "source": [
    "### Get files list"
   ]
  },
  {
   "cell_type": "code",
   "execution_count": 60,
   "id": "36c9011e-5f51-4779-8062-a627503100e1",
   "metadata": {
    "execution": {
     "iopub.execute_input": "2022-11-07T19:49:09.577480Z",
     "iopub.status.busy": "2022-11-07T19:49:09.577103Z",
     "iopub.status.idle": "2022-11-07T19:49:09.710714Z",
     "shell.execute_reply": "2022-11-07T19:49:09.709949Z"
    },
    "tags": []
   },
   "outputs": [
    {
     "name": "stdout",
     "output_type": "stream",
     "text": [
      "[{'root': 'AWS', 'subdir': 'AWS_Access_Key_Rotation.ipynb'}, {'root': 'AWS', 'subdir': 'Add_new_IAM_user.ipynb'}, {'root': 'AWS', 'subdir': 'Configure_url_endpoint_on_a_cloudwatch_alarm.ipynb'}, {'root': 'AWS', 'subdir': 'Copy_ami_to_all_given_AWS_regions.ipynb'}, {'root': 'AWS', 'subdir': 'Delete_Unattached_EBS_Volume.ipynb'}, {'root': 'AWS', 'subdir': 'Detach_Instance_from_ASG_and_Load_Balancer.ipynb'}, {'root': 'AWS', 'subdir': 'Detect_ECS_failed_deployment.ipynb'}, {'root': 'AWS', 'subdir': 'EC2_Disk_Cleanup.ipynb'}, {'root': 'AWS', 'subdir': 'Enforce_HTTP_Redirection_across_AWS_ALB.ipynb'}, {'root': 'AWS', 'subdir': 'Enforce_Mandatory_Tags_Across_All_AWS_Resources.ipynb'}, {'root': 'AWS', 'subdir': 'Find_EC2_Instances_Scheduled_to_retire.ipynb'}, {'root': 'AWS', 'subdir': 'Get_Aws_Elb_Unhealthy_Instances.ipynb'}, {'root': 'AWS', 'subdir': 'Lowering_AWS_CloudTrail_Costs_by_Removing_Redundant_Trails.ipynb'}, {'root': 'AWS', 'subdir': 'Monitor_AWS_DynamoDB_provision_capacity.ipynb'}, {'root': 'AWS', 'subdir': 'Notify_about_unused_keypairs.ipynb'}, {'root': 'AWS', 'subdir': 'Publicly_Accessible_Amazon_RDS_Instances.ipynb'}, {'root': 'AWS', 'subdir': 'Remediate_unencrypted_S3_buckets.ipynb'}, {'root': 'AWS', 'subdir': 'Renew_SSL_Certificate.ipynb'}, {'root': 'AWS', 'subdir': 'Resize_EBS_Volume.ipynb'}, {'root': 'AWS', 'subdir': 'Resize_List_Of_Pvcs.ipynb'}, {'root': 'AWS', 'subdir': 'Resize_PVC.ipynb'}, {'root': 'AWS', 'subdir': 'Restart_AWS_EC2_Instances.ipynb'}, {'root': 'AWS', 'subdir': 'Restart_Aws_Instance_given_Tag.ipynb'}, {'root': 'AWS', 'subdir': 'Restart_Unhealthy_Services_Target_Group.ipynb'}, {'root': 'AWS', 'subdir': 'Restrict_S3_Buckets_with_READ_WRITE_Permissions.ipynb'}, {'root': 'AWS', 'subdir': 'Run_EC2_from_AMI.ipynb'}, {'root': 'AWS', 'subdir': 'Secure_Publicly_accessible_Amazon_RDS_Snapshot.ipynb'}, {'root': 'AWS', 'subdir': 'Stop_Untagged_EC2_Instances.ipynb'}, {'root': 'AWS', 'subdir': 'Terminate_EC2_Instances_Without_Valid_Lifetime_Tag.ipynb'}, {'root': 'AWS', 'subdir': 'Troubleshooting_Your_EC2_Configuration_in_Private_Subnet.ipynb'}, {'root': 'AWS', 'subdir': 'Update_and_Manage_AWS_User_Permission.ipynb'}, {'root': 'ElasticSearch', 'subdir': 'Elasticsearch_Rolling_Restart.ipynb'}, {'root': 'Jenkins', 'subdir': 'Fetch_Jenkins_Build_Logs.ipynb'}, {'root': 'Kubernetes', 'subdir': 'Get_Kube_System_Config_Map.ipynb'}, {'root': 'Kubernetes', 'subdir': 'K8S_Get_Candidate_Nodes_Given_Config.ipynb'}, {'root': 'Kubernetes', 'subdir': 'K8S_Pod_Stuck_In_CrashLoopBack_State.ipynb'}, {'root': 'Kubernetes', 'subdir': 'K8S_Pod_Stuck_In_ImagePullBackOff_State.ipynb'}, {'root': 'Kubernetes', 'subdir': 'K8S_Pod_Stuck_In_Terminating_State.ipynb'}, {'root': 'Kubernetes', 'subdir': 'Rollback_k8s_Deployment_and_Update_Jira.ipynb'}]\n",
      "[{'root': 'AWS', 'subdir': 'aws_apply_default_encryption_for_s3_bucket.py'}, {'root': 'AWS', 'subdir': 'aws_attach_ebs_to_instances.py'}, {'root': 'AWS', 'subdir': 'aws_attach_new_policy_to_user.py'}, {'root': 'AWS', 'subdir': 'aws_attach_tags_to_resources.py'}, {'root': 'AWS', 'subdir': 'aws_change_acl_permissions_of_bucket.py'}, {'root': 'AWS', 'subdir': 'aws_check_ssl_certificate_expiry.py'}, {'root': 'AWS', 'subdir': 'aws_cloudwatch_attach_webhook_notification_to_alarm.py'}, {'root': 'AWS', 'subdir': 'aws_create_access_key.py'}, {'root': 'AWS', 'subdir': 'aws_create_bucket.py'}, {'root': 'AWS', 'subdir': 'aws_create_iam_user.py'}, {'root': 'AWS', 'subdir': 'aws_create_login_profile.py'}, {'root': 'AWS', 'subdir': 'aws_delete_access_key.py'}, {'root': 'AWS', 'subdir': 'aws_delete_bucket.py'}, {'root': 'AWS', 'subdir': 'aws_delete_s3_bucket_encryption.py'}, {'root': 'AWS', 'subdir': 'aws_delete_volume_by_id.py'}, {'root': 'AWS', 'subdir': 'aws_deregister_instances.py'}, {'root': 'AWS', 'subdir': 'aws_detach_ebs_to_instances.py'}, {'root': 'AWS', 'subdir': 'aws_detach_instances_from_autoscaling_group.py'}, {'root': 'AWS', 'subdir': 'aws_ebs_modify_volume.py'}, {'root': 'AWS', 'subdir': 'aws_ecs_describe_task_definition.py'}, {'root': 'AWS', 'subdir': 'aws_ecs_detect_failed_deployment.py'}, {'root': 'AWS', 'subdir': 'aws_ecs_service_restart.py'}, {'root': 'AWS', 'subdir': 'aws_ecs_update_service.py'}, {'root': 'AWS', 'subdir': 'aws_eks_copy_pod_logs_to_bucket.py'}, {'root': 'AWS', 'subdir': 'aws_eks_delete_pod.py'}, {'root': 'AWS', 'subdir': 'aws_eks_get_all_dead_pods.py'}, {'root': 'AWS', 'subdir': 'aws_eks_get_all_namespaces.py'}, {'root': 'AWS', 'subdir': 'aws_eks_get_all_pods.py'}, {'root': 'AWS', 'subdir': 'aws_eks_get_deployments_name.py'}, {'root': 'AWS', 'subdir': 'aws_eks_get_node_cpu_memory.py'}, {'root': 'AWS', 'subdir': 'aws_eks_get_nodes.py'}, {'root': 'AWS', 'subdir': 'aws_eks_get_not_running_pods.py'}, {'root': 'AWS', 'subdir': 'aws_eks_get_pod_cpu_memory.py'}, {'root': 'AWS', 'subdir': 'aws_eks_get_pod_status.py'}, {'root': 'AWS', 'subdir': 'aws_eks_get_running_pods.py'}, {'root': 'AWS', 'subdir': 'aws_eks_run_kubectl_cmd.py'}, {'root': 'AWS', 'subdir': 'aws_emr_get_instances.py'}, {'root': 'AWS', 'subdir': 'aws_execute_cli_command.py'}, {'root': 'AWS', 'subdir': 'aws_execute_command_ssm.py'}, {'root': 'AWS', 'subdir': 'aws_filter_all_ec2_instances.py'}, {'root': 'AWS', 'subdir': 'aws_filter_ec2_by_tags.py'}, {'root': 'AWS', 'subdir': 'aws_filter_ec2_by_vpc.py'}, {'root': 'AWS', 'subdir': 'aws_filter_ec2_without_lifetime_tag.py'}, {'root': 'AWS', 'subdir': 'aws_filter_all_manual_database_snapshots.py'}, {'root': 'AWS', 'subdir': 'aws_filter_public_s3_buckets.py'}, {'root': 'AWS', 'subdir': 'aws_filter_target_groups_by_tags.py'}, {'root': 'AWS', 'subdir': 'aws_filter_unattached_ebs_volume.py'}, {'root': 'AWS', 'subdir': 'aws_filter_unencrypted_s3_buckets.py'}, {'root': 'AWS', 'subdir': 'aws_filter_untagged_ec2_instances.py'}, {'root': 'AWS', 'subdir': 'aws_filter_unused_keypairs.py'}, {'root': 'AWS', 'subdir': 'aws_get_alarms_list.py'}, {'root': 'AWS', 'subdir': 'aws_get_alb_listeners_without_http_redirect.py'}, {'root': 'AWS', 'subdir': 'aws_get_ec2_instances_all.py'}, {'root': 'AWS', 'subdir': 'aws_get_untagged_resources.py'}, {'root': 'AWS', 'subdir': 'aws_get_autoscaling_instances.py'}, {'root': 'AWS', 'subdir': 'aws_get_bucket_size.py'}, {'root': 'AWS', 'subdir': 'aws_get_cloudwatch_ebs.py'}, {'root': 'AWS', 'subdir': 'aws_get_cloudwatch_ec2.py'}, {'root': 'AWS', 'subdir': 'aws_get_cloudwatch_ec2_cpuutil.py'}, {'root': 'AWS', 'subdir': 'aws_get_cloudwatch_metrics_applicationelb.py'}, {'root': 'AWS', 'subdir': 'aws_get_cloudwatch_metrics_classic_elb.py'}, {'root': 'AWS', 'subdir': 'aws_get_cloudwatch_metrics_dynamodb.py'}, {'root': 'AWS', 'subdir': 'aws_get_cloudwatch_metrics_ec2autoscaling.py'}, {'root': 'AWS', 'subdir': 'aws_get_cloudwatch_metrics_gatewayelb.py'}, {'root': 'AWS', 'subdir': 'aws_get_cloudwatch_metrics_lambda.py'}, {'root': 'AWS', 'subdir': 'aws_get_cloudwatch_metrics_network_elb.py'}, {'root': 'AWS', 'subdir': 'aws_get_cloudwatch_metrics_rds.py'}, {'root': 'AWS', 'subdir': 'aws_get_cloudwatch_metrics_redshift.py'}, {'root': 'AWS', 'subdir': 'aws_get_cloudwatch_metrics_sqs.py'}, {'root': 'AWS', 'subdir': 'aws_get_cloudwatch_statistics.py'}, {'root': 'AWS', 'subdir': 'aws_get_ec2_instances_all.py'}, {'root': 'AWS', 'subdir': 'aws_get_ecs_services_status.py'}, {'root': 'AWS', 'subdir': 'aws_get_handle.py'}, {'root': 'AWS', 'subdir': 'aws_get_instance_detail_with_private_dns_name.py'}, {'root': 'AWS', 'subdir': 'aws_get_instance_details.py'}, {'root': 'AWS', 'subdir': 'aws_get_instances.py'}, {'root': 'AWS', 'subdir': 'aws_get_internet_gateway_by_vpc.py'}, {'root': 'AWS', 'subdir': 'aws_get_publicly_accessible_db_instances.py'}, {'root': 'AWS', 'subdir': 'aws_get_publicly_accessible_db_snapshots.py'}, {'root': 'AWS', 'subdir': 'aws_get_s3_bucket_list.py'}, {'root': 'AWS', 'subdir': 'aws_get_schedule_to_retire_instances.py'}, {'root': 'AWS', 'subdir': 'aws_get_secret_from_secretmanager.py'}, {'root': 'AWS', 'subdir': 'aws_get_security_group_details.py'}, {'root': 'AWS', 'subdir': 'aws_get_sts_caller_identity.py'}, {'root': 'AWS', 'subdir': 'aws_get_tags_of_resources.py'}, {'root': 'AWS', 'subdir': 'aws_get_unhealthy_instances.py'}, {'root': 'AWS', 'subdir': 'aws_launch_instance_from_ami.py'}, {'root': 'AWS', 'subdir': 'aws_list_access_keys.py'}, {'root': 'AWS', 'subdir': 'aws_list_application_loadbalancers.py'}, {'root': 'AWS', 'subdir': 'aws_list_attached_user_policies.py'}, {'root': 'AWS', 'subdir': 'aws_loadbalancer_list_instances.py'}, {'root': 'AWS', 'subdir': 'aws_make_bucket_public.py'}, {'root': 'AWS', 'subdir': 'aws_modify_listener_http_redirection.py'}, {'root': 'AWS', 'subdir': 'aws_modify_public_db_snapshots_to_private.py'}, {'root': 'AWS', 'subdir': 'aws_postgresql_get_configured_max_connections.py'}, {'root': 'AWS', 'subdir': 'aws_postgresql_plot_active_connections.py'}, {'root': 'AWS', 'subdir': 'aws_put_bucket_cors.py'}, {'root': 'AWS', 'subdir': 'aws_put_bucket_policy.py'}, {'root': 'AWS', 'subdir': 'aws_read_object.py'}, {'root': 'AWS', 'subdir': 'aws_register_instances.py'}, {'root': 'AWS', 'subdir': 'aws_restart_instances.py'}, {'root': 'AWS', 'subdir': 'aws_run_instances.py'}, {'root': 'AWS', 'subdir': 'aws_stop_instances.py'}, {'root': 'AWS', 'subdir': 'aws_target_group_list_instances.py'}, {'root': 'AWS', 'subdir': 'aws_target_group_list_unhealthy_instances.py'}, {'root': 'AWS', 'subdir': 'aws_target_group_register_unregister_instances.py'}, {'root': 'AWS', 'subdir': 'aws_terminate_ec2_instances.py'}, {'root': 'AWS', 'subdir': 'aws_update_access_keys.py'}, {'root': 'AWS', 'subdir': 'aws_upload_file_to_s3.py'}, {'root': 'Airflow', 'subdir': 'airflow_check_dag_status.py'}, {'root': 'Airflow', 'subdir': 'airflow_get_handle.py'}, {'root': 'Airflow', 'subdir': 'airflow_list_DAG_runs.py'}, {'root': 'Airflow', 'subdir': 'airflow_trigger_dag_run.py'}, {'root': 'Azure', 'subdir': 'azure_get_handle.py'}, {'root': 'Datadog', 'subdir': 'datadog_get_handle.py'}, {'root': 'Datadog', 'subdir': 'datadog_get_monitorid.py'}, {'root': 'Datadog', 'subdir': 'datadog_mute_or_unmute_alerts.py'}, {'root': 'Datadog', 'subdir': 'datadog_schedule_downtime.py'}, {'root': 'ElasticSearch', 'subdir': 'elasticsearch_check_health_status.py'}, {'root': 'ElasticSearch', 'subdir': 'elasticsearch_cluster_statistics.py'}, {'root': 'ElasticSearch', 'subdir': 'elasticsearch_cluster_statistics.py'}, {'root': 'ElasticSearch', 'subdir': 'elasticsearch_delete_unassigned_shards.py'}, {'root': 'ElasticSearch', 'subdir': 'elasticsearch_disable_shard_allocation.py'}, {'root': 'ElasticSearch', 'subdir': 'elasticsearch_enable_shard_allocation.py'}, {'root': 'ElasticSearch', 'subdir': 'elasticsearch_get_handle.py'}, {'root': 'ElasticSearch', 'subdir': 'elasticsearch_list_allocations.py'}, {'root': 'ElasticSearch', 'subdir': 'elasticsearch_list_nodes.py'}, {'root': 'ElasticSearch', 'subdir': 'elasticsearch_search_query.py'}, {'root': 'ElasticSearch', 'subdir': 'elasticsearch_search_query_new.py'}, {'root': 'GCP', 'subdir': 'gcp_create_bucket.py'}, {'root': 'GCP', 'subdir': 'gcp_create_gke_cluster.py'}, {'root': 'GCP', 'subdir': 'gcp_delete_bucket.py'}, {'root': 'GCP', 'subdir': 'gcp_delete_object_from_bucket.py'}, {'root': 'GCP', 'subdir': 'gcp_describe_gke_cluster.py'}, {'root': 'GCP', 'subdir': 'gcp_fetch_objects_from_bucket.py'}, {'root': 'GCP', 'subdir': 'gcp_get_handle.py'}, {'root': 'GCP', 'subdir': 'gcp_list_buckets.py'}, {'root': 'GCP', 'subdir': 'gcp_get_compute_instances_without_label.py'}, {'root': 'GCP', 'subdir': 'gcp_list_compute_instances.py'}, {'root': 'GCP', 'subdir': 'gcp_get_compute_instances_by_label.py'}, {'root': 'GCP', 'subdir': 'gcp_list_gke_cluster.py'}, {'root': 'GCP', 'subdir': 'gcp_list_nodes_in_gke_cluster.py'}, {'root': 'GCP', 'subdir': 'gcp_list_public_buckets.py'}, {'root': 'GCP', 'subdir': 'gcp_resize_gke_cluster.py'}, {'root': 'GCP', 'subdir': 'gcp_restart_compute_instances.py'}, {'root': 'GCP', 'subdir': 'gcp_stop_compute_instances.py'}, {'root': 'GCP', 'subdir': 'gcp_upload_file_to_bucket.py'}, {'root': 'Grafana', 'subdir': 'grafana_get_handle.py'}, {'root': 'Grafana', 'subdir': 'grafana_list_alerts.py'}, {'root': 'Hadoop', 'subdir': 'hadoop_get_cluster_apps.py'}, {'root': 'Hadoop', 'subdir': 'hadoop_get_cluster_appstatistics.py'}, {'root': 'Hadoop', 'subdir': 'hadoop_get_cluster_metrics.py'}, {'root': 'Hadoop', 'subdir': 'hadoop_get_cluster_nodes.py'}, {'root': 'Hadoop', 'subdir': 'hadoop_get_handle.py'}, {'root': 'Jenkins', 'subdir': 'jenkins_get_handle.py'}, {'root': 'Jenkins', 'subdir': 'jenkins_get_logs.py'}, {'root': 'Jenkins', 'subdir': 'jenkins_get_plugins.py'}, {'root': 'Jira', 'subdir': 'jira_assign_issue.py'}, {'root': 'Jira', 'subdir': 'jira_create_issue.py'}, {'root': 'Jira', 'subdir': 'jira_get_handle.py'}, {'root': 'Jira', 'subdir': 'jira_get_issue.py'}, {'root': 'Jira', 'subdir': 'jira_get_issue_status.py'}, {'root': 'Jira', 'subdir': 'jira_issue_change_status.py'}, {'root': 'Jira', 'subdir': 'jira_search_issue.py'}, {'root': 'Kafka', 'subdir': 'kafka_get_handle.py'}, {'root': 'Kafka', 'subdir': 'kafka_publish_message.py'}, {'root': 'Kafka', 'subdir': 'kafka_run_command.py'}, {'root': 'Kubernetes', 'subdir': 'k8s_add_node_to_cluster.py'}, {'root': 'Kubernetes', 'subdir': 'k8s_change_pvc_size.py'}, {'root': 'Kubernetes', 'subdir': 'k8s_delete_pod.py'}, {'root': 'Kubernetes', 'subdir': 'k8s_describe_node.py'}, {'root': 'Kubernetes', 'subdir': 'k8s_describe_pod.py'}, {'root': 'Kubernetes', 'subdir': 'k8s_exec_command_on_pod.py'}, {'root': 'Kubernetes', 'subdir': 'k8s_exec_command_on_pods_and_filter.py'}, {'root': 'Kubernetes', 'subdir': 'k8s_get_all_pods.py'}, {'root': 'Kubernetes', 'subdir': 'k8s_get_candidate_nodes_for_pods.py'}, {'root': 'Kubernetes', 'subdir': 'k8s_get_config_map_kube_system.py'}, {'root': 'Kubernetes', 'subdir': 'k8s_get_deployment.py'}, {'root': 'Kubernetes', 'subdir': 'k8s_get_handle.py'}, {'root': 'Kubernetes', 'subdir': 'k8s_get_healthy_pods.py'}, {'root': 'Kubernetes', 'subdir': 'k8s_get_nodes.py'}, {'root': 'Kubernetes', 'subdir': 'k8s_get_pod_config.py'}, {'root': 'Kubernetes', 'subdir': 'k8s_get_pod_logs.py'}, {'root': 'Kubernetes', 'subdir': 'k8s_get_pod_logs_and_filter.py'}, {'root': 'Kubernetes', 'subdir': 'k8s_get_pod_status.py'}, {'root': 'Kubernetes', 'subdir': 'k8s_get_pods_attached_to_pvc.py'}, {'root': 'Kubernetes', 'subdir': 'k8s_get_services.py'}, {'root': 'Kubernetes', 'subdir': 'k8s_kubectl_command.py'}, {'root': 'Kubernetes', 'subdir': 'k8s_kubectl_config_set_context.py'}, {'root': 'Kubernetes', 'subdir': 'k8s_kubectl_config_view.py'}, {'root': 'Kubernetes', 'subdir': 'k8s_kubectl_delete_pod.py'}, {'root': 'Kubernetes', 'subdir': 'k8s_kubectl_describe_node.py'}, {'root': 'Kubernetes', 'subdir': 'k8s_kubectl_describe_pod.py'}, {'root': 'Kubernetes', 'subdir': 'k8s_kubectl_drain_node.py'}, {'root': 'Kubernetes', 'subdir': 'k8s_kubectl_exec_command.py'}, {'root': 'Kubernetes', 'subdir': 'k8s_kubectl_get_api_resources.py'}, {'root': 'Kubernetes', 'subdir': 'k8s_kubectl_get_logs.py'}, {'root': 'Kubernetes', 'subdir': 'k8s_kubectl_get_service_namespace.py'}, {'root': 'Kubernetes', 'subdir': 'k8s_kubectl_list_pods.py'}, {'root': 'Kubernetes', 'subdir': 'k8s_kubectl_patch_pod.py'}, {'root': 'Kubernetes', 'subdir': 'k8s_kubectl_rollout_deployment.py'}, {'root': 'Kubernetes', 'subdir': 'k8s_kubectl_scale_deployment.py'}, {'root': 'Kubernetes', 'subdir': 'k8s_kubectl_show_metrics_node.py'}, {'root': 'Kubernetes', 'subdir': 'k8s_kubectl_show_metrics_pod.py'}, {'root': 'Kubernetes', 'subdir': 'k8s_list_all_matching_pods.py'}, {'root': 'Kubernetes', 'subdir': 'k8s_list_pvcs.py'}, {'root': 'Kubernetes', 'subdir': 'k8s_update_command_in_pod_spec.py'}, {'root': 'Mantishub', 'subdir': 'mantishub_get_handle.py'}, {'root': 'Mongo', 'subdir': 'mongodb_add_new_field_in_collections.py'}, {'root': 'Mongo', 'subdir': 'mongodb_aggregate_command.py'}, {'root': 'Mongo', 'subdir': 'mongodb_atlas_cluster_backup.py'}, {'root': 'Mongo', 'subdir': 'mongodb_count_documents.py'}, {'root': 'Mongo', 'subdir': 'mongodb_create_collection.py'}, {'root': 'Mongo', 'subdir': 'mongodb_create_database.py'}, {'root': 'Mongo', 'subdir': 'mongodb_delete_collection.py'}, {'root': 'Mongo', 'subdir': 'mongodb_delete_database.py'}, {'root': 'Mongo', 'subdir': 'mongodb_delete_document.py'}, {'root': 'Mongo', 'subdir': 'mongodb_distinct_command.py'}, {'root': 'Mongo', 'subdir': 'mongodb_find_document.py'}, {'root': 'Mongo', 'subdir': 'mongodb_find_one.py'}, {'root': 'Mongo', 'subdir': 'mongodb_get_handle.py'}, {'root': 'Mongo', 'subdir': 'mongodb_get_server_status.py'}, {'root': 'Mongo', 'subdir': 'mongodb_insert_document.py'}, {'root': 'Mongo', 'subdir': 'mongodb_kill_queries.py'}, {'root': 'Mongo', 'subdir': 'mongodb_list_collections.py'}, {'root': 'Mongo', 'subdir': 'mongodb_list_databases.py'}, {'root': 'Mongo', 'subdir': 'mongodb_list_queries.py'}, {'root': 'Mongo', 'subdir': 'mongodb_read_query.py'}, {'root': 'Mongo', 'subdir': 'mongodb_remove_field_in_collections.py'}, {'root': 'Mongo', 'subdir': 'mongodb_rename_database.py'}, {'root': 'Mongo', 'subdir': 'mongodb_update_document.py'}, {'root': 'Mongo', 'subdir': 'mongodb_write_query.py'}, {'root': 'MsSQL', 'subdir': 'mssql_get_handle.py'}, {'root': 'MsSQL', 'subdir': 'mssql_read_query.py'}, {'root': 'MsSQL', 'subdir': 'mssql_write_query.py'}, {'root': 'MySQL', 'subdir': 'mysql_get_handle.py'}, {'root': 'MySQL', 'subdir': 'mysql_get_long_run_queries.py'}, {'root': 'MySQL', 'subdir': 'mysql_kill_queries.py'}, {'root': 'MySQL', 'subdir': 'mysql_read_query.py'}, {'root': 'MySQL', 'subdir': 'mysql_write_query.py'}, {'root': 'Pingdom', 'subdir': 'pingdom_create_new_maintenance_window.py'}, {'root': 'Pingdom', 'subdir': 'pingdom_do_single_check.py'}, {'root': 'Pingdom', 'subdir': 'pingdom_get_analysis.py'}, {'root': 'Pingdom', 'subdir': 'pingdom_get_checkids.py'}, {'root': 'Pingdom', 'subdir': 'pingdom_get_checkids_by_name.py'}, {'root': 'Pingdom', 'subdir': 'pingdom_get_handle.py'}, {'root': 'Pingdom', 'subdir': 'pingdom_get_maintenance.py'}, {'root': 'Pingdom', 'subdir': 'pingdom_get_results.py'}, {'root': 'Pingdom', 'subdir': 'pingdom_get_tmscheck.py'}, {'root': 'Pingdom', 'subdir': 'pingdom_pause_or_unpause_checkids.py'}, {'root': 'Pingdom', 'subdir': 'pingdom_traceroute.py'}, {'root': 'Postgresql', 'subdir': 'postgresql_call_function.py'}, {'root': 'Postgresql', 'subdir': 'postgresql_create_table.py'}, {'root': 'Postgresql', 'subdir': 'postgresql_delete_query.py'}, {'root': 'Postgresql', 'subdir': 'postgresql_get_handle.py'}, {'root': 'Postgresql', 'subdir': 'postgresql_handling_transaction.py'}, {'root': 'Postgresql', 'subdir': 'postgresql_long_running_queries.py'}, {'root': 'Postgresql', 'subdir': 'postgresql_read_query.py'}, {'root': 'Postgresql', 'subdir': 'postgresql_show_tables.py'}, {'root': 'Postgresql', 'subdir': 'postgresql_stored_procedures.py'}, {'root': 'Postgresql', 'subdir': 'postgresql_write_query.py'}, {'root': 'Prometheus', 'subdir': 'prometheus_alerts_list.py'}, {'root': 'Prometheus', 'subdir': 'prometheus_get_all_metrics.py'}, {'root': 'Prometheus', 'subdir': 'prometheus_get_handle.py'}, {'root': 'Prometheus', 'subdir': 'prometheus_get_metric_statistics.py'}, {'root': 'Redis', 'subdir': 'redis_get_handle.py'}, {'root': 'Redis', 'subdir': 'redis_get_keys_count.py'}, {'root': 'Rest', 'subdir': 'rest_get_handle.py'}, {'root': 'Rest', 'subdir': 'rest_methods.py'}, {'root': 'SSH', 'subdir': 'ssh_execute_remote_command.py'}, {'root': 'SSH', 'subdir': 'ssh_execute_remote_command.py'}, {'root': 'SSH', 'subdir': 'ssh_find_large_files.py'}, {'root': 'SSH', 'subdir': 'ssh_get_handle.py'}, {'root': 'SSH', 'subdir': 'ssh_restart_service_using_sysctl.py'}, {'root': 'SSH', 'subdir': 'ssh_scp.py'}, {'root': 'SalesForce', 'subdir': 'salesforce_assign_case.py'}, {'root': 'SalesForce', 'subdir': 'salesforce_case_change_status.py'}, {'root': 'SalesForce', 'subdir': 'salesforce_create_case.py'}, {'root': 'SalesForce', 'subdir': 'salesforce_delete_case.py'}, {'root': 'SalesForce', 'subdir': 'salesforce_get_case.py'}, {'root': 'SalesForce', 'subdir': 'salesforce_get_case_status.py'}, {'root': 'SalesForce', 'subdir': 'salesforce_get_handle.py'}, {'root': 'SalesForce', 'subdir': 'salesforce_search_case.py'}, {'root': 'SalesForce', 'subdir': 'salesforce_update_case.py'}, {'root': 'Slack', 'subdir': 'slack_get_handle.py'}, {'root': 'Slack', 'subdir': 'slack_post_messages.py'}, {'root': 'Snowflake', 'subdir': 'snowflake_read_query.py'}, {'root': 'Snowflake', 'subdir': 'snowflake_write_query.py'}, {'root': 'Splunk', 'subdir': 'splunk_get_handle.py'}, {'root': 'Stripe', 'subdir': 'stripe_capture_charge.py'}, {'root': 'Stripe', 'subdir': 'stripe_close_dispute.py'}, {'root': 'Stripe', 'subdir': 'stripe_create_charge.py'}, {'root': 'Stripe', 'subdir': 'stripe_create_customer.py'}, {'root': 'Stripe', 'subdir': 'stripe_create_refund.py'}, {'root': 'Stripe', 'subdir': 'stripe_delete_customer.py'}, {'root': 'Stripe', 'subdir': 'stripe_get_all_charges.py'}, {'root': 'Stripe', 'subdir': 'stripe_get_all_customers.py'}, {'root': 'Stripe', 'subdir': 'stripe_get_all_disputes.py'}, {'root': 'Stripe', 'subdir': 'stripe_get_all_refunds.py'}, {'root': 'Stripe', 'subdir': 'stripe_get_handle.py'}, {'root': 'Stripe', 'subdir': 'stripe_retrieve_customer.py'}, {'root': 'Stripe', 'subdir': 'stripe_retrieve_dispute.py'}, {'root': 'Stripe', 'subdir': 'stripe_retrieve_refund.py'}, {'root': 'Stripe', 'subdir': 'stripe_retrive_charge.py'}, {'root': 'Stripe', 'subdir': 'stripe_update_charge.py'}, {'root': 'Stripe', 'subdir': 'stripe_update_customer.py'}, {'root': 'Stripe', 'subdir': 'stripe_update_dispute.py'}, {'root': 'Stripe', 'subdir': 'stripe_update_refund.py'}, {'root': 'Terraform', 'subdir': 'terraform_exec_command.py'}, {'root': 'Terraform', 'subdir': 'terraform_get_handle.py'}, {'root': 'Zabbix', 'subdir': 'zabbix_get_handle.py'}, {'root': 'infra', 'subdir': 'workflow_done.py'}, {'root': 'infra', 'subdir': 'workflow_ss_append_keys.py'}, {'root': 'infra', 'subdir': 'workflow_ss_create_keys.py'}, {'root': 'infra', 'subdir': 'workflow_ss_delete_keys.py'}, {'root': 'infra', 'subdir': 'workflow_ss_get_keys.py'}, {'root': 'infra', 'subdir': 'workflow_ss_rename_keys.py'}, {'root': 'infra', 'subdir': 'workflow_ss_update_keys.py'}, {'root': 'opensearch', 'subdir': 'opensearch_get_handle.py'}, {'root': 'opensearch', 'subdir': 'opensearch_search.py'}]\n"
     ]
    }
   ],
   "source": [
    "repo = Repo('.')\n",
    "branch = repo.active_branch\n",
    "list_of_dir = f\"https://api.github.com/repos/unskript/Awesome-CloudOps-Automation/git/trees/{branch.name}?recursive=1\"\n",
    "r_gh = requests.get(list_of_dir).json().get(\"tree\")\n",
    "notebooks = []\n",
    "actions=[]\n",
    "for file in r_gh:\n",
    "    if \".github\" not in file.get(\"path\") and \".gitignore\" not in file.get(\"path\") and \"templates\" not in file.get(\"path\") and \"/\" in file.get(\"path\")and \"__init__\" not in file.get(\"path\"):\n",
    "        if file.get(\"path\").endswith(\".ipynb\") or file.get(\"path\").endswith(\".py\"):\n",
    "            temp = file.get(\"path\").split(\"/\")\n",
    "            if temp == -1:\n",
    "                data = {\n",
    "                    \"root\": None,\n",
    "                    \"subdir\": file.get(\"path\")\n",
    "                }\n",
    "                notebooks.append(data)\n",
    "                \n",
    "            else:\n",
    "                last_folder = \"\"\n",
    "                file_name = temp[-1]\n",
    "                temp.pop()\n",
    "                for folder in temp:\n",
    "                    last_folder += \"/\" + folder\n",
    "                ##we now have a path.. but only really need the root folder\n",
    "                ## different ways to generate fior action vs runbook\n",
    "                slashcount  = last_folder.count(\"/\")\n",
    "                if slashcount == 1:\n",
    "                    ##root folder for notebooks\n",
    "                    root = last_folder[1:]\n",
    "                else:\n",
    "                    #this is an action folder\n",
    "                    #find frist slash\n",
    "                    firstslash = last_folder.find(\"/\",1)\n",
    "                    root = last_folder[1:firstslash]\n",
    "                \n",
    "                data = {\n",
    "                    \"root\": root,\n",
    "                    \"subdir\": file_name\n",
    "                }\n",
    "                if(file.get(\"path\").endswith(\".ipynb\")):\n",
    "                    notebooks.append(data)\n",
    "                else:\n",
    "                    actions.append(data)\n",
    "print(notebooks)\n",
    "print(actions)"
   ]
  },
  {
   "cell_type": "markdown",
   "id": "d76baf36-56c4-49f9-93e8-00889b174845",
   "metadata": {},
   "source": [
    "## Model"
   ]
  },
  {
   "cell_type": "markdown",
   "id": "dc0096b6-53ab-4738-b589-b4c7018b349b",
   "metadata": {},
   "source": [
    "### Reformat functions"
   ]
  },
  {
   "cell_type": "code",
   "execution_count": 61,
   "id": "abb4dd05-cc19-4b8a-b65d-b5a509425ed8",
   "metadata": {
    "execution": {
     "iopub.execute_input": "2022-11-07T19:49:09.714322Z",
     "iopub.status.busy": "2022-11-07T19:49:09.714094Z",
     "iopub.status.idle": "2022-11-07T19:49:09.719142Z",
     "shell.execute_reply": "2022-11-07T19:49:09.718601Z"
    },
    "tags": []
   },
   "outputs": [],
   "source": [
    "def reformat_file_name(file):\n",
    "    file_nice = file.replace('_', ' ')\n",
    "    file_nice = file_nice.replace('-', ' ')\n",
    "    file_nice = file_nice.replace(notebook_ext, '')\n",
    "    file_nice = file_nice.strip()\n",
    "    if (file_nice != \"\"):\n",
    "            file_nice = file_nice[0].capitalize() + file_nice[1:]\n",
    "    return file_nice"
   ]
  },
  {
   "cell_type": "markdown",
   "id": "78ec2d9e-9487-4f17-b6d0-d23f2e823701",
   "metadata": {},
   "source": [
    "### Get functions"
   ]
  },
  {
   "cell_type": "code",
   "execution_count": 74,
   "id": "60f09f7c-1930-4c6b-92d0-02676447e008",
   "metadata": {
    "execution": {
     "iopub.execute_input": "2022-11-07T19:49:09.721987Z",
     "iopub.status.busy": "2022-11-07T19:49:09.721788Z",
     "iopub.status.idle": "2022-11-07T19:49:09.726184Z",
     "shell.execute_reply": "2022-11-07T19:49:09.725609Z"
    },
    "tags": []
   },
   "outputs": [],
   "source": [
    "\n",
    "#title = get_title(folder_nice, file,file_nice, github_runbook_url, local_url)\n",
    "def get_title(folder_nice, file,file_nice, github_runbook_url, local_url):\n",
    "    return f'| {folder_nice} | [{file_nice}]({github_runbook_url}) | [Open in browser]({local_url})'\n",
    "\n",
    "def get_list_item(folder_nice, file,file_nice, github_runbook_url, local_url):\n",
    "    return f'* [{file_nice}]({github_runbook_url})'    \n",
    "\n",
    "def create_directory_readme(folder_nice, runbook_list):\n",
    "    # Open README template\n",
    "    #template = open(directory_readme_template).read()\n",
    "    \n",
    "    #directory readme name\n",
    "    directory_readme = f\"{folder_nice}/README.md\"\n",
    "    print(\"directory_readme\", directory_readme)\n",
    "    template_header = f\"<img align=\\\"center\\\" src=\\\"https://unskript.com/assets/favicon.png\\\" width=\\\"100\\\" height=\\\"100\\\" style=\\\"padding: 5px\\\">\"    \n",
    "    template = f\"{template_header}\\n\\n # {folder_nice} xRunBooks\\n\\n{runbook_list}\"\n",
    "    print(template)\n",
    "    \n",
    "    # Save README\n",
    "    f  = open(directory_readme, \"w+\")\n",
    "    f.write(template)\n",
    "    f.close()\n",
    "    \n",
    "def append_directory_readme(folder_nice, action_list):\n",
    "    # Open README (created with runbook list)\n",
    "    #directory readme name\n",
    "    directory_readme = f\"{folder_nice}/README.md\"\n",
    "    template = open(directory_readme).read()\n",
    "    print(\"directory_readme\", directory_readme)\n",
    "    \n",
    "    ##now let's append in the Action list\n",
    "    template = f\"\\n\\n # {folder_nice} Actions \\n\\n{action_list}\"\n",
    "    print(template)\n",
    "    \n",
    "    # Save README\n",
    "    f  = open(directory_readme, \"w+\")\n",
    "    f.write(template)\n",
    "    f.close()"
   ]
  },
  {
   "cell_type": "markdown",
   "id": "infrared-destiny",
   "metadata": {
    "execution": {
     "iopub.execute_input": "2021-01-26T16:25:51.412411Z",
     "iopub.status.busy": "2021-01-26T16:25:51.412178Z",
     "iopub.status.idle": "2021-01-26T16:25:51.414944Z",
     "shell.execute_reply": "2021-01-26T16:25:51.414298Z",
     "shell.execute_reply.started": "2021-01-26T16:25:51.412388Z"
    }
   },
   "source": [
    "### Convert filepath in Markdown text"
   ]
  },
  {
   "cell_type": "code",
   "execution_count": 75,
   "id": "devoted-syracuse",
   "metadata": {
    "execution": {
     "iopub.execute_input": "2022-11-07T19:49:09.729055Z",
     "iopub.status.busy": "2022-11-07T19:49:09.728843Z",
     "iopub.status.idle": "2022-11-07T19:49:09.733633Z",
     "shell.execute_reply": "2022-11-07T19:49:09.733045Z"
    },
    "tags": []
   },
   "outputs": [],
   "source": [
    "def get_file_md(folder_nice, folder_url, files):\n",
    "    good_format = 0\n",
    "    final_title = \"\"\n",
    "    md = \"\"\n",
    "    folder_name = \"\"\n",
    "    tool_name = \"\"\n",
    "    tool_title = \"\"\n",
    "\n",
    "    if (len(files) > 0):\n",
    "       # md += f\"\\n{title_sep} {folder_nice}\\n\"\n",
    "        for file in files:\n",
    "            if file.endswith(notebook_ext):\n",
    "                good_format = 0\n",
    "                file_url = urllib.parse.quote(file)\n",
    "                folder_name = folder_nice\n",
    "                temp = folder_name.split(\"_\")\n",
    "                tool_name = temp[0]\n",
    "                file_nice = reformat_file_name(file)\n",
    "                \n",
    "                #create the localhost url by combining the root with the file name\n",
    "                local_url= f\"{local_OSS_url}/{file_url}\"\n",
    "                github_runbook_url = f\"{github_url}/{folder_name}/{file_url}\"\n",
    "                \n",
    "                title = f\"{get_title(folder_nice, file, file_nice, github_runbook_url, local_url)}\\n\"\n",
    "                \n",
    "                md += title\n",
    "\n",
    "    #print(\"md\", md)\n",
    "    return md"
   ]
  },
  {
   "cell_type": "code",
   "execution_count": 76,
   "id": "e9b69feb",
   "metadata": {
    "execution": {
     "iopub.execute_input": "2022-11-07T19:49:09.736552Z",
     "iopub.status.busy": "2022-11-07T19:49:09.736340Z",
     "iopub.status.idle": "2022-11-07T19:49:09.740960Z",
     "shell.execute_reply": "2022-11-07T19:49:09.740367Z"
    }
   },
   "outputs": [],
   "source": [
    "def get_file_md_quote(folder_nice, folder_url, files):\n",
    "    good_format = 0\n",
    "    final_title = \"\"\n",
    "    md = \"\"\n",
    "    folder_name = \"\"\n",
    "    tool_name = \"\"\n",
    "    tool_title = \"\"\n",
    "\n",
    "    if (len(files) > 0):\n",
    "       # md += f\"\\n{title_sep} {folder_nice}\\n\"\n",
    "        for file in files:\n",
    "            if file.endswith(notebook_ext):\n",
    "                good_format = 0\n",
    "                file_url = urllib.parse.quote(file)\n",
    "                folder_name = folder_nice\n",
    "                temp = folder_name.split(\"_\")\n",
    "                tool_name = temp[0]\n",
    "                file_nice = reformat_file_name(file)\n",
    "                \n",
    "                #create the localhost url by combining the root with the file name\n",
    "                local_url= f\"{local_OSS_url}/{file_url}\"\n",
    "                github_runbook_url = f\"{github_url}/{folder_name}/{file_url}\"        \n",
    "                title = f'\"{get_title(folder_nice, file, file_nice, github_runbook_url, local_url)}\",\\n'      \n",
    "                md += title\n",
    "\n",
    "   # print(\"md\", md)\n",
    "    return md"
   ]
  },
  {
   "cell_type": "markdown",
   "id": "5bf838a5",
   "metadata": {},
   "source": [
    "## get list of xRunbooks for subfolder Readme"
   ]
  },
  {
   "cell_type": "code",
   "execution_count": 77,
   "id": "a19e46da",
   "metadata": {
    "execution": {
     "iopub.execute_input": "2022-11-07T19:49:09.743981Z",
     "iopub.status.busy": "2022-11-07T19:49:09.743764Z",
     "iopub.status.idle": "2022-11-07T19:49:09.748173Z",
     "shell.execute_reply": "2022-11-07T19:49:09.747587Z"
    }
   },
   "outputs": [],
   "source": [
    "def get_file_list(folder_nice, folder_url, files):\n",
    "    md = \"\"\n",
    "    folder_name = \"\"\n",
    "    tool_name = \"\"\n",
    "    tool_title = \"\"\n",
    "\n",
    "    if (len(files) > 0):\n",
    "        for file in files:\n",
    "            if file.endswith(notebook_ext):\n",
    "                good_format = 0\n",
    "                file_url = urllib.parse.quote(file)\n",
    "                folder_name = folder_nice\n",
    "                temp = folder_name.split(\"_\")\n",
    "                tool_name = temp[0]\n",
    "                file_nice = reformat_file_name(file)\n",
    "                \n",
    "                #create the localhost url by combining the root with the file name\n",
    "                local_url= f\"{local_OSS_url}/{file_url}\"\n",
    "                github_runbook_url = f\"{github_url}/{folder_name}/{file_url}\"\n",
    "                \n",
    "                list_item = f\"* [{file_nice}]({github_url})\\n\"\n",
    "                md += list_item\n",
    "\n",
    "   # print(\"md\", md)\n",
    "   # print(json_templates)\n",
    "    return md"
   ]
  },
  {
   "cell_type": "markdown",
   "id": "featured-anchor",
   "metadata": {},
   "source": [
    "### Generate markdown for each notebooks"
   ]
  },
  {
   "cell_type": "code",
   "execution_count": 78,
   "id": "viral-cause",
   "metadata": {
    "execution": {
     "iopub.execute_input": "2022-11-07T19:49:09.750996Z",
     "iopub.status.busy": "2022-11-07T19:49:09.750789Z",
     "iopub.status.idle": "2022-11-07T19:49:09.758261Z",
     "shell.execute_reply": "2022-11-07T19:49:09.757656Z"
    },
    "tags": []
   },
   "outputs": [
    {
     "name": "stdout",
     "output_type": "stream",
     "text": [
      "AWS\n",
      "AWS_Access_Key_Rotation.ipynb\n",
      "Add_new_IAM_user.ipynb\n",
      "Configure_url_endpoint_on_a_cloudwatch_alarm.ipynb\n",
      "Copy_ami_to_all_given_AWS_regions.ipynb\n",
      "Delete_Unattached_EBS_Volume.ipynb\n",
      "Detach_Instance_from_ASG_and_Load_Balancer.ipynb\n",
      "Detect_ECS_failed_deployment.ipynb\n",
      "EC2_Disk_Cleanup.ipynb\n",
      "Enforce_HTTP_Redirection_across_AWS_ALB.ipynb\n",
      "Enforce_Mandatory_Tags_Across_All_AWS_Resources.ipynb\n",
      "Find_EC2_Instances_Scheduled_to_retire.ipynb\n",
      "Get_Aws_Elb_Unhealthy_Instances.ipynb\n",
      "Lowering_AWS_CloudTrail_Costs_by_Removing_Redundant_Trails.ipynb\n",
      "Monitor_AWS_DynamoDB_provision_capacity.ipynb\n",
      "Notify_about_unused_keypairs.ipynb\n",
      "Publicly_Accessible_Amazon_RDS_Instances.ipynb\n",
      "Remediate_unencrypted_S3_buckets.ipynb\n",
      "Renew_SSL_Certificate.ipynb\n",
      "Resize_EBS_Volume.ipynb\n",
      "Resize_List_Of_Pvcs.ipynb\n",
      "Resize_PVC.ipynb\n",
      "Restart_AWS_EC2_Instances.ipynb\n",
      "Restart_Aws_Instance_given_Tag.ipynb\n",
      "Restart_Unhealthy_Services_Target_Group.ipynb\n",
      "Restrict_S3_Buckets_with_READ_WRITE_Permissions.ipynb\n",
      "Run_EC2_from_AMI.ipynb\n",
      "Secure_Publicly_accessible_Amazon_RDS_Snapshot.ipynb\n",
      "Stop_Untagged_EC2_Instances.ipynb\n",
      "Terminate_EC2_Instances_Without_Valid_Lifetime_Tag.ipynb\n",
      "Troubleshooting_Your_EC2_Configuration_in_Private_Subnet.ipynb\n",
      "Update_and_Manage_AWS_User_Permission.ipynb\n",
      "directory_readme AWS/README.md\n",
      "<img align=\"center\" src=\"https://unskript.com/assets/favicon.png\" width=\"100\" height=\"100\" style=\"padding: 5px\">\n",
      "\n",
      " # AWS xRunBooks\n",
      "\n",
      "* [AWS Access Key Rotation](https://github.com/unskript/Awesome-CloudOps-Automation/tree/master)\n",
      "* [Add new IAM user](https://github.com/unskript/Awesome-CloudOps-Automation/tree/master)\n",
      "* [Configure url endpoint on a cloudwatch alarm](https://github.com/unskript/Awesome-CloudOps-Automation/tree/master)\n",
      "* [Copy ami to all given AWS regions](https://github.com/unskript/Awesome-CloudOps-Automation/tree/master)\n",
      "* [Delete Unattached EBS Volume](https://github.com/unskript/Awesome-CloudOps-Automation/tree/master)\n",
      "* [Detach Instance from ASG and Load Balancer](https://github.com/unskript/Awesome-CloudOps-Automation/tree/master)\n",
      "* [Detect ECS failed deployment](https://github.com/unskript/Awesome-CloudOps-Automation/tree/master)\n",
      "* [EC2 Disk Cleanup](https://github.com/unskript/Awesome-CloudOps-Automation/tree/master)\n",
      "* [Enforce HTTP Redirection across AWS ALB](https://github.com/unskript/Awesome-CloudOps-Automation/tree/master)\n",
      "* [Enforce Mandatory Tags Across All AWS Resources](https://github.com/unskript/Awesome-CloudOps-Automation/tree/master)\n",
      "* [Find EC2 Instances Scheduled to retire](https://github.com/unskript/Awesome-CloudOps-Automation/tree/master)\n",
      "* [Get Aws Elb Unhealthy Instances](https://github.com/unskript/Awesome-CloudOps-Automation/tree/master)\n",
      "* [Lowering AWS CloudTrail Costs by Removing Redundant Trails](https://github.com/unskript/Awesome-CloudOps-Automation/tree/master)\n",
      "* [Monitor AWS DynamoDB provision capacity](https://github.com/unskript/Awesome-CloudOps-Automation/tree/master)\n",
      "* [Notify about unused keypairs](https://github.com/unskript/Awesome-CloudOps-Automation/tree/master)\n",
      "* [Publicly Accessible Amazon RDS Instances](https://github.com/unskript/Awesome-CloudOps-Automation/tree/master)\n",
      "* [Remediate unencrypted S3 buckets](https://github.com/unskript/Awesome-CloudOps-Automation/tree/master)\n",
      "* [Renew SSL Certificate](https://github.com/unskript/Awesome-CloudOps-Automation/tree/master)\n",
      "* [Resize EBS Volume](https://github.com/unskript/Awesome-CloudOps-Automation/tree/master)\n",
      "* [Resize List Of Pvcs](https://github.com/unskript/Awesome-CloudOps-Automation/tree/master)\n",
      "* [Resize PVC](https://github.com/unskript/Awesome-CloudOps-Automation/tree/master)\n",
      "* [Restart AWS EC2 Instances](https://github.com/unskript/Awesome-CloudOps-Automation/tree/master)\n",
      "* [Restart Aws Instance given Tag](https://github.com/unskript/Awesome-CloudOps-Automation/tree/master)\n",
      "* [Restart Unhealthy Services Target Group](https://github.com/unskript/Awesome-CloudOps-Automation/tree/master)\n",
      "* [Restrict S3 Buckets with READ WRITE Permissions](https://github.com/unskript/Awesome-CloudOps-Automation/tree/master)\n",
      "* [Run EC2 from AMI](https://github.com/unskript/Awesome-CloudOps-Automation/tree/master)\n",
      "* [Secure Publicly accessible Amazon RDS Snapshot](https://github.com/unskript/Awesome-CloudOps-Automation/tree/master)\n",
      "* [Stop Untagged EC2 Instances](https://github.com/unskript/Awesome-CloudOps-Automation/tree/master)\n",
      "* [Terminate EC2 Instances Without Valid Lifetime Tag](https://github.com/unskript/Awesome-CloudOps-Automation/tree/master)\n",
      "* [Troubleshooting Your EC2 Configuration in Private Subnet](https://github.com/unskript/Awesome-CloudOps-Automation/tree/master)\n",
      "* [Update and Manage AWS User Permission](https://github.com/unskript/Awesome-CloudOps-Automation/tree/master)\n",
      "\n",
      "ElasticSearch\n",
      "Elasticsearch_Rolling_Restart.ipynb\n",
      "directory_readme ElasticSearch/README.md\n",
      "<img align=\"center\" src=\"https://unskript.com/assets/favicon.png\" width=\"100\" height=\"100\" style=\"padding: 5px\">\n",
      "\n",
      " # ElasticSearch xRunBooks\n",
      "\n",
      "* [Elasticsearch Rolling Restart](https://github.com/unskript/Awesome-CloudOps-Automation/tree/master)\n",
      "\n",
      "Jenkins\n",
      "Fetch_Jenkins_Build_Logs.ipynb\n",
      "directory_readme Jenkins/README.md\n",
      "<img align=\"center\" src=\"https://unskript.com/assets/favicon.png\" width=\"100\" height=\"100\" style=\"padding: 5px\">\n",
      "\n",
      " # Jenkins xRunBooks\n",
      "\n",
      "* [Fetch Jenkins Build Logs](https://github.com/unskript/Awesome-CloudOps-Automation/tree/master)\n",
      "\n",
      "Kubernetes\n",
      "Get_Kube_System_Config_Map.ipynb\n",
      "K8S_Get_Candidate_Nodes_Given_Config.ipynb\n",
      "K8S_Pod_Stuck_In_CrashLoopBack_State.ipynb\n",
      "K8S_Pod_Stuck_In_ImagePullBackOff_State.ipynb\n",
      "K8S_Pod_Stuck_In_Terminating_State.ipynb\n",
      "Rollback_k8s_Deployment_and_Update_Jira.ipynb\n",
      "directory_readme Kubernetes/README.md\n",
      "<img align=\"center\" src=\"https://unskript.com/assets/favicon.png\" width=\"100\" height=\"100\" style=\"padding: 5px\">\n",
      "\n",
      " # Kubernetes xRunBooks\n",
      "\n",
      "* [Get Kube System Config Map](https://github.com/unskript/Awesome-CloudOps-Automation/tree/master)\n",
      "* [K8S Get Candidate Nodes Given Config](https://github.com/unskript/Awesome-CloudOps-Automation/tree/master)\n",
      "* [K8S Pod Stuck In CrashLoopBack State](https://github.com/unskript/Awesome-CloudOps-Automation/tree/master)\n",
      "* [K8S Pod Stuck In ImagePullBackOff State](https://github.com/unskript/Awesome-CloudOps-Automation/tree/master)\n",
      "* [K8S Pod Stuck In Terminating State](https://github.com/unskript/Awesome-CloudOps-Automation/tree/master)\n",
      "* [Rollback k8s Deployment and Update Jira](https://github.com/unskript/Awesome-CloudOps-Automation/tree/master)\n",
      "\n"
     ]
    }
   ],
   "source": [
    "generated_list = \"\"\n",
    "generated_list_quote = \"\"\n",
    "json_templates = []\n",
    "list_of_tools = []\n",
    "index_max = len(notebooks)\n",
    "index = 0\n",
    "\n",
    "while index <= (index_max) - 1:\n",
    "    folder_nice = notebooks[index].get(\"root\")\n",
    "    if folder_nice not in list_of_tools and folder_nice != \"\":\n",
    "        #md_round is creating the table for the home readme\n",
    "        md_round = \"\"\n",
    "        md_round_quote=\"\"\n",
    "        #md_folder_readme is creating the simpler table for the subdirectory readme\n",
    "        md_folder_readme = ''\n",
    "        files = []\n",
    "        list_of_tools.append(folder_nice)\n",
    "        folder_url = urllib.parse.quote(folder_nice)\n",
    "        print(folder_nice)\n",
    "        while True:\n",
    "            if notebooks[index].get(\"root\") != folder_nice:\n",
    "                break\n",
    "            print(notebooks[index].get(\"subdir\"))\n",
    "            files.append(notebooks[index].get(\"subdir\"))\n",
    "            index += 1\n",
    "            if index == index_max:\n",
    "                break\n",
    "            \n",
    "        #create the table for the home readme\n",
    "        md_round += get_file_md(folder_nice, folder_url, files )\n",
    "        md_round_quote += get_file_md_quote(folder_nice, folder_url, files)\n",
    "            \n",
    "        #create a simple list for the subdirectory readme\n",
    "        md_folder_readme += get_file_list(folder_nice, folder_url, files)\n",
    "        #with this list - create the readme for the directory\n",
    "        create_directory_readme(folder_nice, md_folder_readme)\n",
    "    generated_list += md_round\n",
    "  #  print(\"generated_list\",generated_list)\n",
    "    generated_list_quote += md_round_quote"
   ]
  },
  {
   "cell_type": "markdown",
   "id": "f2f78edc",
   "metadata": {},
   "source": [
    "### Generate markdown for each Action"
   ]
  },
  {
   "cell_type": "code",
   "execution_count": 82,
   "id": "9b585233",
   "metadata": {
    "execution": {
     "iopub.execute_input": "2022-11-07T19:49:09.750996Z",
     "iopub.status.busy": "2022-11-07T19:49:09.750789Z",
     "iopub.status.idle": "2022-11-07T19:49:09.758261Z",
     "shell.execute_reply": "2022-11-07T19:49:09.757656Z"
    },
    "tags": []
   },
   "outputs": [
    {
     "name": "stdout",
     "output_type": "stream",
     "text": [
      "AWS\n",
      "aws_apply_default_encryption_for_s3_bucket.py\n",
      "aws_attach_ebs_to_instances.py\n",
      "aws_attach_new_policy_to_user.py\n",
      "aws_attach_tags_to_resources.py\n",
      "aws_change_acl_permissions_of_bucket.py\n",
      "aws_check_ssl_certificate_expiry.py\n",
      "aws_cloudwatch_attach_webhook_notification_to_alarm.py\n",
      "aws_create_access_key.py\n",
      "aws_create_bucket.py\n",
      "aws_create_iam_user.py\n",
      "aws_create_login_profile.py\n",
      "aws_delete_access_key.py\n",
      "aws_delete_bucket.py\n",
      "aws_delete_s3_bucket_encryption.py\n",
      "aws_delete_volume_by_id.py\n",
      "aws_deregister_instances.py\n",
      "aws_detach_ebs_to_instances.py\n",
      "aws_detach_instances_from_autoscaling_group.py\n",
      "aws_ebs_modify_volume.py\n",
      "aws_ecs_describe_task_definition.py\n",
      "aws_ecs_detect_failed_deployment.py\n",
      "aws_ecs_service_restart.py\n",
      "aws_ecs_update_service.py\n",
      "aws_eks_copy_pod_logs_to_bucket.py\n",
      "aws_eks_delete_pod.py\n",
      "aws_eks_get_all_dead_pods.py\n",
      "aws_eks_get_all_namespaces.py\n",
      "aws_eks_get_all_pods.py\n",
      "aws_eks_get_deployments_name.py\n",
      "aws_eks_get_node_cpu_memory.py\n",
      "aws_eks_get_nodes.py\n",
      "aws_eks_get_not_running_pods.py\n",
      "aws_eks_get_pod_cpu_memory.py\n",
      "aws_eks_get_pod_status.py\n",
      "aws_eks_get_running_pods.py\n",
      "aws_eks_run_kubectl_cmd.py\n",
      "aws_emr_get_instances.py\n",
      "aws_execute_cli_command.py\n",
      "aws_execute_command_ssm.py\n",
      "aws_filter_all_ec2_instances.py\n",
      "aws_filter_ec2_by_tags.py\n",
      "aws_filter_ec2_by_vpc.py\n",
      "aws_filter_ec2_without_lifetime_tag.py\n",
      "aws_filter_all_manual_database_snapshots.py\n",
      "aws_filter_public_s3_buckets.py\n",
      "aws_filter_target_groups_by_tags.py\n",
      "aws_filter_unattached_ebs_volume.py\n",
      "aws_filter_unencrypted_s3_buckets.py\n",
      "aws_filter_untagged_ec2_instances.py\n",
      "aws_filter_unused_keypairs.py\n",
      "aws_get_alarms_list.py\n",
      "aws_get_alb_listeners_without_http_redirect.py\n",
      "aws_get_ec2_instances_all.py\n",
      "aws_get_untagged_resources.py\n",
      "aws_get_autoscaling_instances.py\n",
      "aws_get_bucket_size.py\n",
      "aws_get_cloudwatch_ebs.py\n",
      "aws_get_cloudwatch_ec2.py\n",
      "aws_get_cloudwatch_ec2_cpuutil.py\n",
      "aws_get_cloudwatch_metrics_applicationelb.py\n",
      "aws_get_cloudwatch_metrics_classic_elb.py\n",
      "aws_get_cloudwatch_metrics_dynamodb.py\n",
      "aws_get_cloudwatch_metrics_ec2autoscaling.py\n",
      "aws_get_cloudwatch_metrics_gatewayelb.py\n",
      "aws_get_cloudwatch_metrics_lambda.py\n",
      "aws_get_cloudwatch_metrics_network_elb.py\n",
      "aws_get_cloudwatch_metrics_rds.py\n",
      "aws_get_cloudwatch_metrics_redshift.py\n",
      "aws_get_cloudwatch_metrics_sqs.py\n",
      "aws_get_cloudwatch_statistics.py\n",
      "aws_get_ec2_instances_all.py\n",
      "aws_get_ecs_services_status.py\n",
      "aws_get_handle.py\n",
      "aws_get_instance_detail_with_private_dns_name.py\n",
      "aws_get_instance_details.py\n",
      "aws_get_instances.py\n",
      "aws_get_internet_gateway_by_vpc.py\n",
      "aws_get_publicly_accessible_db_instances.py\n",
      "aws_get_publicly_accessible_db_snapshots.py\n",
      "aws_get_s3_bucket_list.py\n",
      "aws_get_schedule_to_retire_instances.py\n",
      "aws_get_secret_from_secretmanager.py\n",
      "aws_get_security_group_details.py\n",
      "aws_get_sts_caller_identity.py\n",
      "aws_get_tags_of_resources.py\n",
      "aws_get_unhealthy_instances.py\n",
      "aws_launch_instance_from_ami.py\n",
      "aws_list_access_keys.py\n",
      "aws_list_application_loadbalancers.py\n",
      "aws_list_attached_user_policies.py\n",
      "aws_loadbalancer_list_instances.py\n",
      "aws_make_bucket_public.py\n",
      "aws_modify_listener_http_redirection.py\n",
      "aws_modify_public_db_snapshots_to_private.py\n",
      "aws_postgresql_get_configured_max_connections.py\n",
      "aws_postgresql_plot_active_connections.py\n",
      "aws_put_bucket_cors.py\n",
      "aws_put_bucket_policy.py\n",
      "aws_read_object.py\n",
      "aws_register_instances.py\n",
      "aws_restart_instances.py\n",
      "aws_run_instances.py\n",
      "aws_stop_instances.py\n",
      "aws_target_group_list_instances.py\n",
      "aws_target_group_list_unhealthy_instances.py\n",
      "aws_target_group_register_unregister_instances.py\n",
      "aws_terminate_ec2_instances.py\n",
      "aws_update_access_keys.py\n",
      "aws_upload_file_to_s3.py\n",
      "directory_readme AWS/README.md\n",
      "\n",
      "\n",
      " # AWS Actions \n",
      "\n",
      "\n",
      "Airflow\n",
      "airflow_check_dag_status.py\n",
      "airflow_get_handle.py\n",
      "airflow_list_DAG_runs.py\n",
      "airflow_trigger_dag_run.py\n"
     ]
    },
    {
     "ename": "FileNotFoundError",
     "evalue": "[Errno 2] No such file or directory: 'Airflow/README.md'",
     "output_type": "error",
     "traceback": [
      "\u001b[0;31m---------------------------------------------------------------------------\u001b[0m",
      "\u001b[0;31mFileNotFoundError\u001b[0m                         Traceback (most recent call last)",
      "Cell \u001b[0;32mIn [82], line 36\u001b[0m\n\u001b[1;32m     34\u001b[0m       md_folder_readme \u001b[38;5;241m+\u001b[39m\u001b[38;5;241m=\u001b[39m get_file_list(folder_nice, folder_url, files)\n\u001b[1;32m     35\u001b[0m       \u001b[38;5;66;03m#with this list - create the readme for the directory\u001b[39;00m\n\u001b[0;32m---> 36\u001b[0m       \u001b[43mappend_directory_readme\u001b[49m\u001b[43m(\u001b[49m\u001b[43mfolder_nice\u001b[49m\u001b[43m,\u001b[49m\u001b[43m \u001b[49m\u001b[43mmd_folder_readme\u001b[49m\u001b[43m)\u001b[49m\n\u001b[1;32m     37\u001b[0m   generated_list_actions \u001b[38;5;241m+\u001b[39m\u001b[38;5;241m=\u001b[39m md_round\n\u001b[1;32m     38\u001b[0m \u001b[38;5;66;03m#  print(\"generated_list\",generated_list)\u001b[39;00m\n",
      "Cell \u001b[0;32mIn [74], line 28\u001b[0m, in \u001b[0;36mappend_directory_readme\u001b[0;34m(folder_nice, action_list)\u001b[0m\n\u001b[1;32m     24\u001b[0m \u001b[38;5;28;01mdef\u001b[39;00m \u001b[38;5;21mappend_directory_readme\u001b[39m(folder_nice, action_list):\n\u001b[1;32m     25\u001b[0m     \u001b[38;5;66;03m# Open README (created with runbook list)\u001b[39;00m\n\u001b[1;32m     26\u001b[0m     \u001b[38;5;66;03m#directory readme name\u001b[39;00m\n\u001b[1;32m     27\u001b[0m     directory_readme \u001b[38;5;241m=\u001b[39m \u001b[38;5;124mf\u001b[39m\u001b[38;5;124m\"\u001b[39m\u001b[38;5;132;01m{\u001b[39;00mfolder_nice\u001b[38;5;132;01m}\u001b[39;00m\u001b[38;5;124m/README.md\u001b[39m\u001b[38;5;124m\"\u001b[39m\n\u001b[0;32m---> 28\u001b[0m     template \u001b[38;5;241m=\u001b[39m \u001b[38;5;28;43mopen\u001b[39;49m\u001b[43m(\u001b[49m\u001b[43mdirectory_readme\u001b[49m\u001b[43m)\u001b[49m\u001b[38;5;241m.\u001b[39mread()\n\u001b[1;32m     29\u001b[0m     \u001b[38;5;28mprint\u001b[39m(\u001b[38;5;124m\"\u001b[39m\u001b[38;5;124mdirectory_readme\u001b[39m\u001b[38;5;124m\"\u001b[39m, directory_readme)\n\u001b[1;32m     31\u001b[0m     \u001b[38;5;66;03m##now let's append in the Action list\u001b[39;00m\n",
      "\u001b[0;31mFileNotFoundError\u001b[0m: [Errno 2] No such file or directory: 'Airflow/README.md'"
     ]
    }
   ],
   "source": [
    "generated_list_actions = \"\"\n",
    "generated_list_quote_actions = \"\"\n",
    "json_templates = []\n",
    "list_of_tools = []\n",
    "index_max = len(actions)\n",
    "index = 0\n",
    "\n",
    "while index <= (index_max) - 1:\n",
    "    folder_nice = actions[index].get(\"root\")\n",
    "    if folder_nice not in list_of_tools and folder_nice != \"\":\n",
    "        #md_round is creating the table for the home readme\n",
    "        md_round = \"\"\n",
    "        md_round_quote=\"\"\n",
    "        #md_folder_readme is creating the simpler table for the subdirectory readme\n",
    "        md_folder_readme = ''\n",
    "        files = []\n",
    "        list_of_tools.append(folder_nice)\n",
    "        folder_url = urllib.parse.quote(folder_nice)\n",
    "        print(folder_nice)\n",
    "        while True:\n",
    "            if actions[index].get(\"root\") != folder_nice:\n",
    "                break\n",
    "            print(actions[index].get(\"subdir\"))\n",
    "            files.append(actions[index].get(\"subdir\"))\n",
    "            index += 1\n",
    "            if index == index_max:\n",
    "                break\n",
    "            \n",
    "        #create the table for the home readme\n",
    "        md_round += get_file_md(folder_nice, folder_url, files )\n",
    "        md_round_quote += get_file_md_quote(folder_nice, folder_url, files)\n",
    "            \n",
    "        #create a simple list for the subdirectory readme\n",
    "        md_folder_readme += get_file_list(folder_nice, folder_url, files)\n",
    "        #with this list - create the readme for the directory\n",
    "        append_directory_readme(folder_nice, md_folder_readme)\n",
    "    generated_list_actions += md_round\n",
    "  #  print(\"generated_list\",generated_list)\n",
    "    generated_list_quote_actions += md_round_quote"
   ]
  },
  {
   "cell_type": "markdown",
   "id": "f5d63b5f-5209-4f89-8d1c-d85fa8a2b73f",
   "metadata": {},
   "source": [
    "## Output"
   ]
  },
  {
   "cell_type": "markdown",
   "id": "aboriginal-responsibility",
   "metadata": {},
   "source": [
    "### Preview the generated list"
   ]
  },
  {
   "cell_type": "markdown",
   "id": "88e075a7-8341-45af-a250-c1594c004579",
   "metadata": {},
   "source": [
    "### Generate readme for github repository"
   ]
  },
  {
   "cell_type": "code",
   "execution_count": 80,
   "id": "younger-consensus",
   "metadata": {
    "execution": {
     "iopub.execute_input": "2022-11-07T19:49:09.761787Z",
     "iopub.status.busy": "2022-11-07T19:49:09.761575Z",
     "iopub.status.idle": "2022-11-07T19:49:09.765209Z",
     "shell.execute_reply": "2022-11-07T19:49:09.764663Z"
    },
    "tags": []
   },
   "outputs": [],
   "source": [
    "# Open README template\n",
    "template = open(readme_template).read()\n",
    "\n",
    "# Replace var to get list of templates in markdown format\n",
    "template = template.replace(replace_var, generated_list)\n",
    "\n",
    "# Save README\n",
    "f  = open(readme, \"w+\")\n",
    "f.write(template)\n",
    "f.close()"
   ]
  },
  {
   "cell_type": "raw",
   "id": "4c1ed44c",
   "metadata": {},
   "source": [
    "### Generate Readme for each directory in the Repo\n"
   ]
  },
  {
   "cell_type": "code",
   "execution_count": null,
   "id": "2a95cba3-027c-4a57-8bfa-2ee1e9053bb7",
   "metadata": {
    "execution": {
     "iopub.execute_input": "2022-10-23T17:02:24.352026Z",
     "iopub.status.busy": "2022-10-23T17:02:24.351376Z",
     "iopub.status.idle": "2022-10-23T17:02:24.361162Z",
     "shell.execute_reply": "2022-10-23T17:02:24.360470Z"
    },
    "tags": []
   },
   "outputs": [],
   "source": [
    "\n"
   ]
  },
  {
   "cell_type": "code",
   "execution_count": null,
   "id": "70db7c84-57ad-4a92-a60b-9f20b60b5329",
   "metadata": {},
   "outputs": [],
   "source": []
  },
  {
   "cell_type": "code",
   "execution_count": null,
   "id": "ee479c83",
   "metadata": {},
   "outputs": [],
   "source": []
  }
 ],
 "metadata": {
  "kernelspec": {
   "display_name": "Python 3 (ipykernel)",
   "language": "python",
   "name": "python3"
  },
  "language_info": {
   "codemirror_mode": {
    "name": "ipython",
    "version": 3
   },
   "file_extension": ".py",
   "mimetype": "text/x-python",
   "name": "python",
   "nbconvert_exporter": "python",
   "pygments_lexer": "ipython3",
   "version": "3.9.6"
  },
  "vscode": {
   "interpreter": {
    "hash": "31f2aee4e71d21fbe5cf8b01ff0e069b9275f58929596ceb00d14d90e3e16cd6"
   }
  },
  "widgets": {
   "application/vnd.jupyter.widget-state+json": {
    "state": {},
    "version_major": 2,
    "version_minor": 0
   }
  }
 },
 "nbformat": 4,
 "nbformat_minor": 5
}
