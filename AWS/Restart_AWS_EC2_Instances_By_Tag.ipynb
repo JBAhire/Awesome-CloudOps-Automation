{
    "cells": [
        {
            "cell_type": "markdown",
            "id": "5f773213-63a4-46c6-9336-b6e4edf494d5",
            "metadata": {
                "jupyter": {
                    "source_hidden": false
                },
                "name": "Runbook Overview",
                "orderProperties": [],
                "tags": [],
                "title": "Runbook Overview"
            },
            "source": [
                "<center><img src=\"https://unskript.com/assets/favicon.png\" alt=\"unSkript.com\" width=\"100\" height=\"100\">\n",
                "<h1 id=\"unSkript-Runbooks\">unSkript Runbooks</h1>\n",
                "<div class=\"alert alert-block alert-success\">\n",
                "<h3 id=\"Objective\"><strong>Objective</strong></h3>\n",
                "<strong>To Restart AWS EC2 Instance by given tag using unSkript actions.</strong></div>\n",
                "</center><center>\n",
                "<h2 id=\"Restart-EC2-Instance\">Restart EC2 Instance By Given Tag</h2>\n",
                "</center>\n",
                "<h1 id=\"Steps-Overview\">Steps Overview</h1>\n",
                "<ol>\n",
                "<li>Filter AWS EC2 Instances by tag</li>\n",
                "<li>Restart AWS EC2 Instance</li>\n",
                "<li>Get AWS Instance Details</li>\n",
                "</ol>"
            ]
        },
        {
            "attachments": {},
            "cell_type": "markdown",
            "id": "4d25f1c6-c93c-4c75-8046-f1eab26ab982",
            "metadata": {
                "jupyter": {
                    "source_hidden": false
                },
                "name": "Step-1",
                "orderProperties": [],
                "tags": [],
                "title": "Step-1"
            },
            "source": [
                "<h3 id=\"Filter-AWS-EC2-Instances-by-tag\">Filter AWS EC2 Instances by tag</h3>\n",
                "<p>In this action, we search for all the instances from AWS for a given tag and region and return a list of instances.</p>\n",
                "<blockquote>\n",
                "<p><strong>Input parameters:</strong> <code>tag_key,&nbsp;tag_value,&nbsp;region</code></p>\n",
                "</blockquote>\n",
                "<blockquote>\n",
                "<p><strong>Output variable:</strong> <code>instance_list</code></p>\n",
                "</blockquote>"
            ]
        },
        {
            "cell_type": "code",
            "execution_count": 3,
            "id": "b7197e5c-28af-4cde-97fd-ec84303e7e6b",
            "metadata": {
                "accessType": "ACCESS_TYPE_UNSPECIFIED",
                "actionBashCommand": false,
                "actionNeedsCredential": true,
                "actionRequiredLinesInCode": [],
                "actionSupportsIteration": true,
                "actionSupportsPoll": true,
                "action_uuid": "abe9fc82a53b80dc1dd4d5a89e31d22b0338e73e86d2ca859576f38cc6d19f48",
                "continueOnError": false,
                "createTime": "1970-01-01T00:00:00Z",
                "credentialsJson": {
                    "credential_id": "049e1bfd-59e4-44a4-9f3f-e96710a2387d",
                    "credential_name": "DevRole",
                    "credential_type": "CONNECTOR_TYPE_AWS"
                },
                "currentVersion": "0.1.0",
                "description": "Filter AWS EC2 Instance by Tag",
                "execution_data": {
                    "last_date_success_run_cell": "2023-02-13T14:03:27.042Z"
                },
                "id": 155,
                "index": 155,
                "inputData": [
                    {
                        "region": {
                            "constant": false,
                            "value": "region"
                        },
                        "tag_key": {
                            "constant": false,
                            "value": "tag_key"
                        },
                        "tag_value": {
                            "constant": false,
                            "value": "tag_value"
                        }
                    }
                ],
                "inputschema": [
                    {
                        "properties": {
                            "region": {
                                "description": "AWS Region.",
                                "title": "Region",
                                "type": "string"
                            },
                            "tag_key": {
                                "description": "The key of the tag.",
                                "title": "Tag Key",
                                "type": "string"
                            },
                            "tag_value": {
                                "description": "The value of the key.",
                                "title": "Tag Value",
                                "type": "string"
                            }
                        },
                        "required": [
                            "tag_key",
                            "tag_value",
                            "region"
                        ],
                        "title": "aws_filter_ec2_by_tags",
                        "type": "object"
                    }
                ],
                "jupyter": {
                    "source_hidden": true
                },
                "legotype": "LEGO_TYPE_AWS",
                "name": "Filter AWS EC2 Instances by tag",
                "nouns": [
                    "aws",
                    "ec2",
                    "instances",
                    "tag"
                ],
                "orderProperties": [
                    "tag_key",
                    "tag_value",
                    "region"
                ],
                "output": {
                    "type": ""
                },
                "outputParams": {
                    "output_name": "instance_list",
                    "output_name_enabled": true
                },
                "printOutput": true,
                "tags": [
                    "aws_filter_ec2_by_tags"
                ],
                "title": "Filter AWS EC2 Instances by tag",
                "trusted": true,
                "verbs": [
                    "filter"
                ]
            },
            "outputs": [],
            "source": [
                "##\n",
                "##  Copyright (c) 2021 unSkript, Inc\n",
                "##  All rights reserved.\n",
                "##\n",
                "from pydantic import BaseModel, Field\n",
                "from typing import List\n",
                "from unskript.connectors.aws import aws_get_paginator\n",
                "import pprint\n",
                "\n",
                "\n",
                "from beartype import beartype\n",
                "@beartype\n",
                "def aws_filter_ec2_by_tags_printer(output):\n",
                "    if output is None:\n",
                "        return\n",
                "    pprint.pprint({\"Instances\": output})\n",
                "\n",
                "\n",
                "@beartype\n",
                "def aws_filter_ec2_by_tags(handle, tag_key: str, tag_value: str, region: str) -> List:\n",
                "    \"\"\"aws_filter_ec2_by_tags Returns an array of instances matching tags.\n",
                "\n",
                "        :type nbParamsObj: object\n",
                "        :param nbParamsObj: Object containing global params for the notebook.\n",
                "\n",
                "        :type credentialsDict: dict\n",
                "        :param credentialsDict: Dictionary of credentials info.\n",
                "\n",
                "        :type inputParamsJson: string\n",
                "        :param inputParamsJson: Json string of the input params.\n",
                "\n",
                "        :rtype: Array of instances matching tags.\n",
                "    \"\"\"\n",
                "    # Input param validation.\n",
                "\n",
                "    ec2Client = handle.client('ec2', region_name=region)\n",
                "    res = aws_get_paginator(ec2Client, \"describe_instances\", \"Reservations\",\n",
                "                            Filters=[{'Name': 'tag:' + tag_key, 'Values': [tag_value]}])\n",
                "\n",
                "    result = []\n",
                "    for reservation in res:\n",
                "        for instance in reservation['Instances']:\n",
                "            result.append(instance['InstanceId'])\n",
                "    return result\n",
                "\n",
                "\n",
                "task = Task(Workflow())\n",
                "task.configure(printOutput=True)\n",
                "task.configure(inputParamsJson='''{\n",
                "    \"region\": \"region\",\n",
                "    \"tag_key\": \"tag_key\",\n",
                "    \"tag_value\": \"tag_value\"\n",
                "    }''')\n",
                "task.configure(outputName=\"instance_list\")\n",
                "(err, hdl, args) = task.validate(vars=vars())\n",
                "if err is None:\n",
                "    task.execute(aws_filter_ec2_by_tags, lego_printer=aws_filter_ec2_by_tags_printer, hdl=hdl, args=args)"
            ]
        },
        {
            "attachments": {},
            "cell_type": "markdown",
            "id": "7b35320c-c614-4d36-8fbb-cc102c02f72b",
            "metadata": {
                "jupyter": {
                    "source_hidden": false
                },
                "name": "Step-2",
                "orderProperties": [],
                "tags": [],
                "title": "Step-2"
            },
            "source": [
                "<h3 id=\"Restart-AWS-EC2-Instances\">Restart AWS EC2 Instances</h3>\n",
                "<p>Here we will use unSkript&nbsp;<strong>Restart AWS EC2 Instances </strong>action. This action is used to restart the instances which we get using the above step 1. We pass the instances IDs list to step 2.</p>\n",
                "<blockquote>\n",
                "<p><strong>Input parameters:</strong> <code>instance_ids, region</code></p>\n",
                "</blockquote>\n",
                "<blockquote>\n",
                "<p><strong>Output variable:</strong> <code>restart_instance</code></p>\n",
                "</blockquote>"
            ]
        },
        {
            "cell_type": "code",
            "execution_count": 4,
            "id": "c112f3f4-8a79-4e08-9c6a-cf404ee699aa",
            "metadata": {
                "accessType": "ACCESS_TYPE_UNSPECIFIED",
                "actionBashCommand": false,
                "actionNeedsCredential": true,
                "actionRequiredLinesInCode": [],
                "actionSupportsIteration": true,
                "actionSupportsPoll": true,
                "action_uuid": "bf071908d3762d6b342aa6e54019ea07119c9ff187ea74cd8865c7f543a89898",
                "continueOnError": false,
                "createTime": "1970-01-01T00:00:00Z",
                "credentialsJson": {
                    "credential_id": "049e1bfd-59e4-44a4-9f3f-e96710a2387d",
                    "credential_name": "DevRole",
                    "credential_type": "CONNECTOR_TYPE_AWS"
                },
                "currentVersion": "0.1.0",
                "description": " Restart AWS Instances",
                "execution_data": {
                    "last_date_success_run_cell": "2022-08-01T16:52:29.791Z"
                },
                "id": 154,
                "index": 154,
                "inputData": [
                    {
                        "instance_ids": {
                            "constant": false,
                            "value": "instance_list"
                        },
                        "region": {
                            "constant": false,
                            "value": "region"
                        }
                    }
                ],
                "inputschema": [
                    {
                        "properties": {
                            "instance_ids": {
                                "description": "List of instance IDs. For eg. [\"i-foo\", \"i-bar\"]",
                                "items": {
                                    "type": "string"
                                },
                                "title": "Instance IDs",
                                "type": "array"
                            },
                            "region": {
                                "description": "AWS Region of the instances.",
                                "title": "Region",
                                "type": "string"
                            }
                        },
                        "required": [
                            "instance_ids",
                            "region"
                        ],
                        "title": "aws_restart_ec2_instances",
                        "type": "object"
                    }
                ],
                "jupyter": {
                    "source_hidden": true
                },
                "legotype": "LEGO_TYPE_AWS",
                "name": "Restart AWS EC2 Instances",
                "nouns": [
                    "aws",
                    "instances"
                ],
                "orderProperties": [
                    "instance_ids",
                    "region"
                ],
                "output": {
                    "type": ""
                },
                "outputParams": {
                    "output_name": "restart_instance",
                    "output_name_enabled": true
                },
                "printOutput": true,
                "tags": [
                    "aws_restart_ec2_instances"
                ],
                "title": "Restart AWS EC2 Instances",
                "verbs": [
                    "restart"
                ]
            },
            "outputs": [],
            "source": [
                "##  Copyright (c) 2021 unSkript, Inc\n",
                "##  All rights reserved.\n",
                "##\n",
                "from typing import List, Dict\n",
                "from pydantic import BaseModel, Field\n",
                "import pprint\n",
                "\n",
                "\n",
                "from beartype import beartype\n",
                "@beartype\n",
                "def aws_restart_ec2_instances_printer(output):\n",
                "    if output is None:\n",
                "        return\n",
                "    pprint.pprint(output)\n",
                "\n",
                "\n",
                "@beartype\n",
                "def aws_restart_ec2_instances(handle, instance_ids: List, region: str) -> Dict:\n",
                "    \"\"\"aws_restart_instances Restarts instances.\n",
                "\n",
                "        :type nbParamsObj: object\n",
                "        :param nbParamsObj: Object containing global params for the notebook.\n",
                "\n",
                "        :type credentialsDict: dict\n",
                "        :param credentialsDict: Dictionary of credentials info.\n",
                "\n",
                "        :type inputParamsJson: string\n",
                "        :param inputParamsJson: Json string of the input params.\n",
                "\n",
                "        :rtype: Dict with the stopped instances state info.\n",
                "    \"\"\"\n",
                "\n",
                "    ec2Client = handle.client('ec2', region_name=region)\n",
                "    res = ec2Client.reboot_instances(InstanceIds=instance_ids)\n",
                "    return res\n",
                "\n",
                "\n",
                "task = Task(Workflow())\n",
                "task.configure(printOutput=True)\n",
                "task.configure(inputParamsJson='''{\n",
                "    \"instance_ids\": \"instance_list\",\n",
                "    \"region\": \"region\"\n",
                "    }''')\n",
                "task.configure(outputName=\"restart_instance\")\n",
                "\n",
                "(err, hdl, args) = task.validate(vars=vars())\n",
                "if err is None:\n",
                "    task.execute(aws_restart_ec2_instances, lego_printer=aws_restart_ec2_instances_printer, hdl=hdl, args=args)"
            ]
        },
        {
            "attachments": {},
            "cell_type": "markdown",
            "id": "5336e57c-1c40-4f67-938c-dceee50b42be",
            "metadata": {
                "jupyter": {
                    "source_hidden": false
                },
                "name": "Step-3",
                "orderProperties": [],
                "tags": [],
                "title": "Step-3"
            },
            "source": [
                "<h3 id=\"Get-AWS-Instance-Details\">Get AWS Instance Details</h3>\n",
                "<p>Here we will use unSkript <strong>Get AWS Instance Details</strong> action to get the details of the instances. This action is used to get details of instances that we received in step 1.</p>\n",
                "<blockquote>\n",
                "<p><strong>Input parameters:</strong> <code>instance_id, region</code></p>\n",
                "</blockquote>\n",
                "<blockquote>\n",
                "<p><strong>Output variable:</strong> <code>instance_details</code></p>\n",
                "</blockquote>"
            ]
        },
        {
            "cell_type": "code",
            "execution_count": 5,
            "id": "e3117ba3-82ac-45b3-9ce4-109d0aa54f61",
            "metadata": {
                "accessType": "ACCESS_TYPE_UNSPECIFIED",
                "actionBashCommand": false,
                "actionNeedsCredential": true,
                "actionRequiredLinesInCode": [],
                "actionSupportsIteration": true,
                "actionSupportsPoll": true,
                "action_uuid": "aa1e026ca8002b906315feba401e5c46889d459270adce3b65d480dc9530311f",
                "continueOnError": true,
                "createTime": "1970-01-01T00:00:00Z",
                "credentialsJson": {
                    "credential_id": "049e1bfd-59e4-44a4-9f3f-e96710a2387d",
                    "credential_name": "DevRole",
                    "credential_type": "CONNECTOR_TYPE_AWS"
                },
                "currentVersion": "0.1.0",
                "description": "Use This Action to Get Details about an AWS EC2 Instance",
                "execution_data": {
                    "last_date_success_run_cell": "2023-02-13T14:04:33.676Z"
                },
                "id": 122,
                "index": 122,
                "inputData": [
                    {
                        "instance_id": {
                            "constant": false,
                            "value": "iter_item"
                        },
                        "region": {
                            "constant": false,
                            "value": "region"
                        }
                    }
                ],
                "inputschema": [
                    {
                        "properties": {
                            "instance_id": {
                                "description": "ID of the instance.",
                                "title": "Instance Id",
                                "type": "string"
                            },
                            "region": {
                                "description": "AWS Region of the instance.",
                                "title": "Region",
                                "type": "string"
                            }
                        },
                        "required": [
                            "instance_id",
                            "region"
                        ],
                        "title": "aws_get_instance_details",
                        "type": "object"
                    }
                ],
                "iterData": [
                    {
                        "iter_enabled": true,
                        "iter_item": "instance_id",
                        "iter_list": {
                            "constant": false,
                            "objectItems": false,
                            "value": "instance_list"
                        }
                    }
                ],
                "jupyter": {
                    "source_hidden": true
                },
                "legotype": "LEGO_TYPE_AWS",
                "name": "Get AWS Instance Details",
                "nouns": [
                    "instance",
                    "details"
                ],
                "orderProperties": [
                    "instance_id",
                    "region"
                ],
                "output": {
                    "type": ""
                },
                "outputParams": {
                    "output_name": "instance_details",
                    "output_name_enabled": true
                },
                "printOutput": true,
                "tags": [
                    "aws_get_instance_details"
                ],
                "title": "Get AWS Instance Details",
                "trusted": true,
                "verbs": [
                    "get"
                ]
            },
            "outputs": [],
            "source": [
                "##\n",
                "# Copyright (c) 2021 unSkript, Inc\n",
                "# All rights reserved.\n",
                "##\n",
                "from pydantic import BaseModel, Field\n",
                "from typing import Dict\n",
                "import pprint\n",
                "from beartype import beartype\n",
                "\n",
                "def aws_get_instances_printer(output):\n",
                "    if output is None:\n",
                "        return\n",
                "    pprint.pprint(output)\n",
                "\n",
                "@beartype\n",
                "def aws_get_instance_details(\n",
                "    handle,\n",
                "    instance_id: str,\n",
                "    region: str,\n",
                ") -> Dict:\n",
                "\n",
                "    ec2client = handle.client('ec2', region_name=region)\n",
                "    instances = []\n",
                "    response = ec2client.describe_instances(\n",
                "        Filters=[{\"Name\": \"instance-id\", \"Values\": [instance_id]}])\n",
                "    for reservation in response[\"Reservations\"]:\n",
                "        for instance in reservation[\"Instances\"]:\n",
                "            instances.append(instance)\n",
                "\n",
                "    return instances[0]\n",
                "\n",
                "\n",
                "\n",
                "task = Task(Workflow())\n",
                "task.configure(printOutput=True)\n",
                "task.configure(continueOnError=True)\n",
                "task.configure(inputParamsJson='''{\n",
                "    \"instance_id\": \"iter_item\",\n",
                "    \"region\": \"region\"\n",
                "    }''')\n",
                "task.configure(iterJson='''{\n",
                "    \"iter_enabled\": true,\n",
                "    \"iter_list_is_const\": false,\n",
                "    \"iter_list\": \"instance_list\",\n",
                "    \"iter_parameter\": \"instance_id\"\n",
                "    }''')\n",
                "task.configure(outputName=\"instance_details\")\n",
                "\n",
                "(err, hdl, args) = task.validate(vars=vars())\n",
                "if err is None:\n",
                "    task.execute(aws_get_instance_details, lego_printer=aws_get_instances_printer, hdl=hdl, args=args)"
            ]
        },
        {
            "attachments": {},
            "cell_type": "markdown",
            "id": "e9badeef-943d-4a01-9642-e55f4bf80824",
            "metadata": {
                "jupyter": {
                    "source_hidden": false
                },
                "name": "Step-3 Extension",
                "orderProperties": [],
                "tags": [],
                "title": "Step-3 Extension"
            },
            "source": [
                "<h3>Modify Step-3</h3>\n",
                "<p>In this action, we sort the output from step-3 and present the details of the instance in the good table.</p>"
            ]
        },
        {
            "cell_type": "code",
            "execution_count": 7,
            "id": "a773f2a8-24b3-4dd6-a3c9-6266c9bafa05",
            "metadata": {
                "continueOnError": false,
                "credentialsJson": {},
                "execution_data": {
                    "last_date_success_run_cell": "2023-02-13T14:05:52.662Z"
                },
                "inputData": [
                    {}
                ],
                "inputschema": [
                    {
                        "properties": {},
                        "required": [],
                        "title": "Instance Details"
                    }
                ],
                "jupyter": {
                    "source_hidden": true
                },
                "name": "Instance Details",
                "orderProperties": [],
                "printOutput": true,
                "tags": [],
                "title": "Instance Details",
                "trusted": true
            },
            "outputs": [],
            "source": [
                "import pprint\n",
                "from pydantic import BaseModel, Field\n",
                "from typing import Dict\n",
                "from tabulate import tabulate\n",
                "task.configure(printOutput=True)\n",
                "\n",
                "output = instance_details\n",
                "instance_list = instance_list\n",
                "def Instance_Details(output,instance_list: list):\n",
                "    data1 = []\n",
                "    Header = \"\"\n",
                "    for instance_id in instance_list:\n",
                "        if instance_id in output.keys():\n",
                "            output1 = output[instance_id]\n",
                "            if isinstance(output1, (list, tuple)):\n",
                "                for item in output1:\n",
                "                    print(f'item: {item}')\n",
                "            elif isinstance(output1, dict):\n",
                "                for key,value in output1.items():\n",
                "                    if isinstance(value, (list)):\n",
                "                        pass\n",
                "                    else:\n",
                "                        if key == \"InstanceId\":\n",
                "                            Header = value\n",
                "                        data1.append([key,value])\n",
                "                print(f'\\n\\033[1m Table for Instance ID : {Header} \\033[0;0m')\n",
                "                print(tabulate(data1))\n",
                "            else:\n",
                "                print(f'Output for {task.name}')\n",
                "                print(output1)\n",
                "Instance_Details(output,instance_list)"
            ]
        },
        {
            "attachments": {},
            "cell_type": "markdown",
            "id": "b3f10b1c-f542-48da-9b6e-1123873385a8",
            "metadata": {
                "jupyter": {
                    "source_hidden": false
                },
                "name": "Conclusion",
                "orderProperties": [],
                "tags": [],
                "title": "Conclusion"
            },
            "source": [
                "### Conclusion\n",
                "<p>In this Runbook, we demonstrated the use of unSkript's AWS legos to restart the AWS EC2 instances and get the details. To view the full platform capabilities of unSkript please visit <a href=\"https://us.app.unskript.io\" target=\"_blank\" rel=\"noopener\">https://us.app.unskript.io</a></p>"
            ]
        }
    ],
    "metadata": {
        "execution_data": {
            "environment_name": "SingleAMIInstance",
            "environment_type": "ENVIRONMENT_TYPE_AWS_EC2",
            "execution_id": "",
            "inputs_for_searched_lego": "",
            "notebook_id": "5dd36b00-eccb-42d4-83e7-bfa3b3d0f6df.ipynb",
            "parameters": [
                "region",
                "tag_key",
                "tag_value"
            ],
            "proxy_id": "1b032d60-0671-498f-a117-6c2f355648fe",
            "runbook_name": "Restart AWS EC2 Instances",
            "search_string": "",
            "show_tool_tip": false,
            "tenant_id": "117718cf-b601-4a00-9164-3e4311468e45",
            "tenant_url": "https://tenant-jayasimha.dev.unskript.io",
            "user_email_id": "jayasimha@unskript.com",
            "workflow_id": "523031b5-ce8c-40f0-bc84-f22634ba15f3"
        },
        "kernelspec": {
            "display_name": "Python 3",
            "language": "python",
            "name": "python3"
        },
        "language_info": {
            "file_extension": ".py",
            "mimetype": "text/x-python",
            "name": "python",
            "pygments_lexer": "ipython3",
            "version": "3.10.6"
        },
        "parameterSchema": {
            "properties": {
                "region": {
                    "default": "us-west-2",
                    "description": "AWS Region",
                    "title": "region",
                    "type": "string"
                },
                "tag_key": {
                    "default": "Service",
                    "description": "Tag Key",
                    "title": "tag_key",
                    "type": "string"
                },
                "tag_value": {
                    "default": "devmongodb",
                    "description": "Tag Value",
                    "title": "tag_value",
                    "type": "string"
                }
            },
            "required": [
                "region",
                "tag_key",
                "tag_value"
            ],
            "title": "Schema",
            "type": "object"
        },
        "parameterValues": {
            "region": "us-west-2",
            "tag_key": "Service",
            "tag_value": "devmongodb"
        },
        "vscode": {
            "interpreter": {
                "hash": "e8899eb02dfbc033aab5733bdae1bd213fa031d40331094008e8673d99ebab63"
            }
        }
    },
    "nbformat": 4,
    "nbformat_minor": 5
}
