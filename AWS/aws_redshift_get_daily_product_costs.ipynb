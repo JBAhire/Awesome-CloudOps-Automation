{
 "cells": [
  {
   "cell_type": "code",
   "execution_count": 2,
   "id": "726d2e05-9a80-4158-95b6-227e81417c9f",
   "metadata": {
    "deletable": false,
    "editable": false,
    "execution_data": {
     "last_date_success_run_cell": "2023-01-09T21:04:44.789Z"
    },
    "jupyter": {
     "source_hidden": true
    },
    "orderProperties": [],
    "tags": [
     "unSkript:nbParam"
    ],
    "title": "unSkript Internal"
   },
   "outputs": [],
   "source": [
    "import json\n",
    "from unskript import nbparams\n",
    "from unskript.fwk.workflow import Task, Workflow\n",
    "from unskript.secrets import ENV_MODE, ENV_MODE_LOCAL\n",
    "\n",
    "env = {\"ENV_MODE\": \"ENV_MODE_LOCAL\"}\n",
    "secret_store_cfg = {\"SECRET_STORE_TYPE\": \"SECRET_STORE_TYPE_LOCAL\"}\n",
    "\n",
    "paramDict = {\"inputRegion\": \"us-west-2\"}\n",
    "paramsJson = json.dumps(paramDict)\n",
    "nbParamsObj = nbparams.NBParams(paramsJson)\n",
    "inputRegion = nbParamsObj.get('inputRegion')\n",
    "w = Workflow(env, secret_store_cfg, None, global_vars=globals())"
   ]
  },
  {
   "cell_type": "code",
   "execution_count": 11,
   "id": "3f711126-0eae-403b-95d3-9d025263e23f",
   "metadata": {
    "accessType": "ACCESS_TYPE_UNSPECIFIED",
    "actionBashCommand": false,
    "actionNeedsCredential": true,
    "actionOutputType": null,
    "actionRequiredLinesInCode": [],
    "actionSupportsIteration": false,
    "actionSupportsPoll": false,
    "action_modified": false,
    "action_uuid": "9528c044-95a5-4c6b-b5c9-360630af9277",
    "collapsed": true,
    "continueOnError": false,
    "credentialsJson": {
     "credential_id": "7aea1127-d810-4d26-bc00-0002dcd23927",
     "credential_name": "aws",
     "credential_type": "CONNECTOR_TYPE_AWS"
    },
    "custom_cell": true,
    "description": "Given a Secret Name - this Action returns the Secret ARN",
    "execution_data": {
     "last_date_success_run_cell": "2023-03-10T01:06:19.118Z"
    },
    "id": 4,
    "index": 4,
    "inputData": [
     {
      "region": {
       "constant": false,
       "value": "inputRegion"
      },
      "secret_name": {
       "constant": false,
       "value": "\"awsuser-doug-redshift\""
      }
     }
    ],
    "inputschema": [
     {
      "properties": {
       "region": {
        "default": "",
        "description": "AWS Region.",
        "title": "Region",
        "type": "string"
       },
       "secret_name": {
        "default": "",
        "description": "AWS Secret Name",
        "title": "secret_name",
        "type": "string"
       }
      },
      "required": [
    	"secret_name",
       "region"
      ],
      "title": "aws_get_secrets_manager_secretARN",
      "type": "object"
     }
    ],
    "jupyter": {
     "outputs_hidden": true,
     "source_hidden": true
    },
    "language": "python",
    "legotype": "LEGO_TYPE_AWS",
    "metadata": {
     "action_bash_command": "false",
     "action_description": "Given a Secret Name - this Action returns the Secret ARN",
     "action_entry_function": "aws_get_secrets_manager_secretARN",
     "action_needs_credential": "true",
     "action_output_type": "ACTION_OUTPUT_TYPE_STR",
     "action_supports_iteration": "false",
     "action_supports_poll": "false",
     "action_title": "AWS Get Secrets Manager SecretARN",
     "action_type": "LEGO_TYPE_AWS",
     "action_version": "1.0.0"
    },
    "name": "AWS Get Secrets Manager SecretARN",
    "orderProperties": [
     "region",
     "secret_name"
    ],
    "outputParams": {
     "output_name": "secretArn",
     "output_name_enabled": true
    },
    "printOutput": true,
    "tags": [],
    "uuid": "9528c044-95a5-4c6b-b5c9-360630af9277",
    "version": "1.0.0"
   },
   "outputs": [
    {
     "name": "stdout",
     "output_type": "stream",
     "text": [

     ]
    }
   ],
   "source": [
    "##\n",
    "##  Copyright (c) 2021 unSkript, Inc\n",
    "##  All rights reserved.\n",
    "##\n",
    "from pydantic import BaseModel, Field\n",
    "from typing import List\n",
    "from unskript.connectors.aws import aws_get_paginator\n",
    "import pprint\n",
    "from beartype import beartype\n",
    "\n",
    "from beartype import beartype\n",
    "@beartype\n",
    "def aws_get_secrets_manager_secretARN_printer(output):\n",
    "    if output is None:\n",
    "        return\n",
    "    pprint.pprint({\"secret\": output})\n",
    "\n",
    "\n",
    "@beartype\n",
    "@beartype\n",
    "def aws_get_secrets_manager_secretARN(handle, region: str, secret_name:str) -> str:\n",
    "\n",
    "\n",
    "    # Create a Secrets Manager client\n",
    "\n",
    "    client = handle.client(\n",
    "        service_name='secretsmanager',\n",
    "        region_name=region\n",
    "    )\n",
    "\n",
    "    try:\n",
    "        get_secret_value_response = client.get_secret_value(\n",
    "            SecretId=secret_name\n",
    "        )\n",
    "    except ClientError as e:\n",
    "        # For a list of exceptions thrown, see\n",
    "        # https://docs.aws.amazon.com/secretsmanager/latest/apireference/API_GetSecretValue.html\n",
    "        raise e\n",
    "    #print(get_secret_value_response)\n",
    "    # Decrypts secret using the associated KMS key.\n",
    "    secretArn = get_secret_value_response['ARN']\n",
    "    return secretArn\n",
    "\n",
    "\n",
    "task = Task(Workflow())\n",
    "task.configure(credentialsJson='''{}''')\n",
    "task.configure(inputParamsJson='''{\n",
    "    \"region\": \"inputRegion\",\n",
    "    \"secret_name\": \"\",\n",
    "    }''')\n",
    "task.configure(outputName=\"secretArn\")\n",
    "\n",
    "task.configure(printOutput=True)\n",
    "(err, hdl, args) = task.validate(vars=vars())\n",
    "if err is None:\n",
    "    task.execute(aws_get_secrets_manager_secretARN, lego_printer=aws_get_secrets_manager_secretARN_printer, hdl=hdl, args=args)"
   ]
  },
  {
   "cell_type": "code",
   "execution_count": 20,
   "id": "f4c3e852-62cb-47dd-bd53-2b0ce7caa044",
   "metadata": {
    "customAction": true,
    "execution_data": {
     "last_date_success_run_cell": "2023-03-10T01:11:58.532Z"
    },
    "name": "create product SQL Query",
    "orderProperties": [],
    "tags": [],
    "title": "create product SQL Query"
   },
   "outputs": [
    {
     "name": "stdout",
     "output_type": "stream",
     "text": [
   
     ]
    }
   ],
   "source": [
    "import datetime\n",
    "\n",
    "today = datetime.datetime.now()\n",
    "\n",
    "yearmonth = today.strftime('%Y%m')\n",
    "tableName = 'awsbilling'+ yearmonth\n",
    "todayDay = int(today.strftime('%d'))\n",
    "yesterDay = 0\n",
    "if todayDay >1:\n",
    "    yesterDay = todayDay - 1\n",
    "\n",
    "sqlQuery = f\"select lineitem_productcode, date_part(day, cast(lineitem_usagestartdate as date)) as day, SUM((lineitem_unblendedcost)::numeric(37,4)) as cost from {tableName} group by lineitem_productcode, day order by cost desc;\"\n",
    "\n",
    "print(sqlQuery)\n",
    "\n",
    "#\"select lineitem_productcode, \n",
    "#date_part(day, cast(lineitem_usagestartdate as date)) as day, \n",
    "#SUM((lineitem_unblendedcost)::numeric(37,4)) as cost from \n",
    "#awsbilling202302 group by lineitem_productcode, \n",
    "#day order by cost desc;\"\n",
    "\n",
    "\n"
   ]
  },
  {
   "cell_type": "code",
   "execution_count": 50,
   "id": "1f6feb66-2046-468a-b4a3-8e4b878e76ef",
   "metadata": {
    "accessType": "ACCESS_TYPE_UNSPECIFIED",
    "actionBashCommand": false,
    "actionNeedsCredential": true,
    "actionOutputType": null,
    "actionRequiredLinesInCode": [],
    "actionSupportsIteration": false,
    "actionSupportsPoll": false,
    "action_modified": false,
    "action_uuid": "3cd38943-9542-4ff7-a062-c0a0dcae032b",
    "continueOnError": false,
    "credentialsJson": {
     "credential_id": "7aea1127-d810-4d26-bc00-0002dcd23927",
     "credential_name": "aws",
     "credential_type": "CONNECTOR_TYPE_AWS"
    },
    "custom_cell": true,
    "description": "Make a SQL Query to the given AWS Redshift database",
    "execution_data": {
     "last_date_success_run_cell": "2023-03-10T01:44:34.978Z"
    },
    "id": 5,
    "index": 5,
    "inputData": [
     {
      "cluster": {
       "constant": false

      },
      "database": {
       "constant": false

      },
      "query": {
       "constant": false

      },
      "region": {
       "constant": false

      },
      "secretArn": {
       "constant": false

      }
     }
    ],
    "inputschema": [
     {
      "properties": {
       "cluster": {
        "default": "",
        "description": "Name of Redshift Cluster",
        "title": "cluster",
        "type": "string"
       },
       "database": {
        "default": "",
        "description": "Name of your Redshift database",
        "title": "database",
        "type": "string"
       },
       "query": {
        "default": "\"SELECT * FROM awsbilling202302 limit 2;\"",
        "description": "sql query to run",
        "title": "query",
        "type": "string"
       },
       "region": {
        "default": "",
        "description": "AWS Region.",
        "title": "Region",
        "type": "string"
       },
       "secretArn": {
        "default": "",
        "description": "Value of your Secrets Manager ARN",
        "title": "secretArn",
        "type": "string"
       }
      },
      "required": [
       "region", "secretArn","query","database","cluster"
      ],
      "title": "aws_create_redshift_query",
      "type": "object"
     }
    ],
    "jupyter": {
     "source_hidden": true
    },
    "language": "python",
    "legotype": "LEGO_TYPE_AWS",
    "metadata": {
     "action_bash_command": "false",
     "action_description": "Make a SQL Query to the given AWS Redshift database",
     "action_entry_function": "aws_create_redshift_query",
     "action_needs_credential": "true",
     "action_output_type": "ACTION_OUTPUT_TYPE_STR",
     "action_supports_iteration": "false",
     "action_supports_poll": "false",
     "action_title": "AWS Redshift Query",
     "action_type": "LEGO_TYPE_AWS",
     "action_version": "1.0.0"
    },
    "name": "AWS Redshift Query",
    "orderProperties": [
     "region",
     "query",
     "cluster",
     "database",
     "secretArn"
    ],
    "outputParams": {
     "output_name": "resultId",
     "output_name_enabled": true
    },
    "printOutput": true,
    "tags": [],
    "uuid": "3cd38943-9542-4ff7-a062-c0a0dcae032b",
    "version": "1.0.0"
   },
   "outputs": [
    {
     "name": "stdout",
     "output_type": "stream",
     "text": [

     ]
    }
   ],
   "source": [
    "##\n",
    "##  Copyright (c) 2021 unSkript, Inc\n",
    "##  All rights reserved.\n",
    "##\n",
    "from pydantic import BaseModel, Field\n",
    "from typing import List, Dict\n",
    "from unskript.connectors.aws import aws_get_paginator\n",
    "import pprint\n",
    "\n",
    "\n",
    "from beartype import beartype\n",
    "\n",
    "from beartype import beartype\n",
    "\n",
    "@beartype\n",
    "def aws_create_redshift_query(handle, region: str,cluster:str, database:str, secretArn: str, query:str) -> str:\n",
    "\n",
    "    # Input param validation.\n",
    "    #major change\n",
    "    client = handle.client('redshift-data', region_name=region)\n",
    "    # define your query\n",
    "    query = query\n",
    "    #query = \"SELECT * FROM PG_TABLE_DEF;\"\n",
    "    # execute the query\n",
    "    response = client.execute_statement(\n",
    "        ClusterIdentifier=cluster,\n",
    "        Database=database,\n",
    "        SecretArn=secretArn,\n",
    "        Sql=query\n",
    "    )\n",
    "    resultId = response['Id']\n",
    "    #print(response)\n",
    "    print(\"resultId\",resultId)\n",
    "\n",
    "\n",
    "    return resultId\n",
    "\n",
    "#make a change\n",
    "task = Task(Workflow())\n",
    "task.configure(credentialsJson='''{}''')\n",
    "task.configure(inputParamsJson='''{\n",
    "    \"cluster\" : \"\",\n",
    "    \"database\": \"\",\n",
    "    \"query\": \"\",\n",
    "    \"region\": \"\",\n",
    "    \"secretArn\": \"\"\n",
    "    }''')\n",
    "task.configure(outputName=\"resultId\")\n",
    "\n",
    "task.configure(printOutput=True)\n",
    "(err, hdl, args) = task.validate(vars=vars())\n",
    "if err is None:\n",
    "    task.execute(aws_create_redshift_query,  hdl=hdl, args=args)"
   ]
  },
  {
   "cell_type": "code",
   "execution_count": 51,
   "id": "2df1990c-69e1-4f5a-bcfb-13d424fd4465",
   "metadata": {
    "accessType": "ACCESS_TYPE_UNSPECIFIED",
    "actionBashCommand": false,
    "actionNeedsCredential": true,
    "actionOutputType": null,
    "actionRequiredLinesInCode": [],
    "actionSupportsIteration": false,
    "actionSupportsPoll": true,
    "action_modified": false,
    "action_uuid": "9fe30a58-a5f0-468a-849b-c660b6ed1995",
    "condition_enabled": false,
    "continueOnError": false,
    "credentialsJson": {
     "credential_id": "7aea1127-d810-4d26-bc00-0002dcd23927",
     "credential_name": "aws",
     "credential_type": "CONNECTOR_TYPE_AWS"
    },
    "custom_cell": true,
    "description": "Given an QueryId, this Action will give you the status of the Query, along with other data like  the number of lines/",
    "execution_data": {
     "last_date_success_run_cell": "2023-03-10T01:44:57.857Z"
    },
    "id": 3,
    "index": 3,
    "inputData": [
     {
      "queryId": {
       "constant": false,
       "value": "resultId"
      },
      "region": {
       "constant": false,
       "value": "inputRegion"
      }
     }
    ],
    "inputschema": [
     {
      "properties": {
       "queryId": {
        "default": "",
        "description": "Id of Redshift Query",
        "title": "queryId",
        "type": "string"
       },
       "region": {
        "default": "",
        "description": "AWS Region.",
        "title": "Region",
        "type": "string"
       }
      },
      "required": [
       "queryId",
       "region"
      ],
      "title": "aws_get_redshift_query_results",
      "type": "object"
     }
    ],
    "jupyter": {
     "source_hidden": true
    },
    "language": "python",
    "legotype": "LEGO_TYPE_AWS",
    "metadata": {
     "action_bash_command": "false",
     "action_description": "Given an QueryId, this Action will give you the status of the Query, along with other data like  the number of lines/",
     "action_entry_function": "aws_get_redshift_query_results",
     "action_needs_credential": "true",
     "action_output_type": "ACTION_OUTPUT_TYPE_DICT",
     "action_supports_iteration": "false",
     "action_supports_poll": "false",
     "action_title": "AWS Get Redshift Query Details",
     "action_type": "LEGO_TYPE_AWS",
     "action_version": "1.0.0"
    },
    "name": "AWS Get Redshift Query Details",
    "orderProperties": [
     "region",
     "queryId"
    ],
    "pollData": {
     "poll_check_output_type": "VALUE_TYPE_BOOL",
     "poll_check_output_value": false,
     "poll_enabled": true,
     "poll_step_interval": 2,
     "poll_timeout": 10
    },
    "printOutput": true,
    "startcondition": "false",
    "tags": [],
    "uuid": "9fe30a58-a5f0-468a-849b-c660b6ed1995",
    "version": "1.0.0"
   },
   "outputs": [
    {
     "name": "stdout",
     "output_type": "stream",
     "text": [
  
     ]
    }
   ],
   "source": [
    "##\n",
    "##  Copyright (c) 2021 unSkript, Inc\n",
    "##  All rights reserved.\n",
    "##\n",
    "from pydantic import BaseModel, Field\n",
    "from typing import List, Dict\n",
    "from unskript.connectors.aws import aws_get_paginator\n",
    "import pprint\n",
    "from beartype import beartype\n",
    "\n",
    "from beartype import beartype\n",
    "@beartype\n",
    "def aws_get_redshift_query_results_printer(output):\n",
    "    if output is None:\n",
    "        return\n",
    "    pprint.pprint({\"QueryDetails\": output})\n",
    "\n",
    "\n",
    "@beartype\n",
    "@beartype\n",
    "def aws_get_redshift_query_results(handle, region: str, queryId:str) -> Dict:\n",
    "\n",
    "    client = handle.client('redshift-data', region_name=region)\n",
    "    print(queryId)\n",
    "    response = client.describe_statement(\n",
    "    Id=queryId\n",
    "    )\n",
    "    resultReady = response['HasResultSet']\n",
    "    queryTimeNs = response['Duration']\n",
    "    ResultRows = response['ResultRows']\n",
    "    details = {\"resultReady\": resultReady, \n",
    "               \"queryTimeNs\":queryTimeNs,\n",
    "               \"ResultRows\":ResultRows\n",
    "              }\n",
    "\n",
    "    #return resultReady\n",
    "    return details\n",
    "\n",
    "\n",
    "task = Task(Workflow())\n",
    "task.configure(credentialsJson='''{}''')\n",
    "task.configure(inputParamsJson='''{\n",
    "    \"region\": \"inputRegion\",\n",
    "    \"queryId\": \"resultId\"\n",
    "    }''')\n",
    "task.configure(pollJson='''{\n",
    "    \"poll_check_output_type\": \"VALUE_TYPE_BOOL\",\n",
    "    \"poll_enabled\": false,\n",
    "    \"poll_step_interval\": 2,\n",
    "    \"poll_timeout\": 10,\n",
    "    \"poll_check_output_value\": false\n",
    "    }''')\n",
    "task.configure(conditionsJson='''{\n",
    "    \"condition_enabled\": false,\n",
    "    \"condition_cfg\": \"false\",\n",
    "    \"condition_result\": true\n",
    "    }''')\n",
    "\n",
    "\n",
    "task.configure(printOutput=True)\n",
    "(err, hdl, args) = task.validate(vars=vars())\n",
    "if err is None:\n",
    "    task.execute(aws_get_redshift_query_results, lego_printer=aws_get_redshift_query_results_printer, hdl=hdl, args=args)"
   ]
  },
  {
   "cell_type": "code",
   "execution_count": 52,
   "id": "ae0391f5-e34e-465d-a722-a2a4845485df",
   "metadata": {
    "accessType": "ACCESS_TYPE_UNSPECIFIED",
    "actionBashCommand": false,
    "actionNeedsCredential": true,
    "actionOutputType": null,
    "actionRequiredLinesInCode": [],
    "actionSupportsIteration": false,
    "actionSupportsPoll": false,
    "action_modified": false,
    "action_uuid": "49d4f66e-596f-47c2-ba51-54a6cb62c40b",
    "continueOnError": false,
    "credentialsJson": {
     "credential_id": "7aea1127-d810-4d26-bc00-0002dcd23927",
     "credential_name": "aws",
     "credential_type": "CONNECTOR_TYPE_AWS"
    },
    "custom_cell": true,
    "description": "Given a QueryId, Get the Query Result, and format into a List",
    "execution_data": {
     "last_date_success_run_cell": "2023-03-10T01:45:25.621Z"
    },
    "id": 4,
    "index": 4,
    "inputData": [
     {
      "region": {
       "constant": false,
       "value": "inputRegion"
      },
      "resultId": {
       "constant": false,
       "value": "resultId"
      }
     }
    ],
    "inputschema": [
     {
      "properties": {
       "region": {
        "default": "",
        "description": "AWS Region",
        "title": "region",
        "type": "string"
       },
       "resultId": {
        "default": "",
        "description": "Redshift Query Result",
        "title": "resultId",
        "type": "string"
       }
      },
      "required": [
       "resultId",
       "region"
      ],
      "title": "aws_get_redshift_result",
      "type": "object"
     }
    ],
    "jupyter": {
     "source_hidden": true
    },
    "language": "python",
    "legotype": "LEGO_TYPE_AWS",
    "metadata": {
     "action_bash_command": "false",
     "action_description": "Given a QueryId, Get the Query Result, and format into a List",
     "action_entry_function": "aws_get_redshift_result",
     "action_needs_credential": "true",
     "action_output_type": "ACTION_OUTPUT_TYPE_LIST",
     "action_supports_iteration": "false",
     "action_supports_poll": "false",
     "action_title": "AWS Get Redshift Result",
     "action_type": "LEGO_TYPE_AWS",
     "action_version": "1.0.0"
    },
    "name": "AWS Get Redshift Result",
    "orderProperties": [
     "resultId",
     "region"
    ],
    "outputParams": {
     "output_name": "redshiftresult",
     "output_name_enabled": true
    },
    "printOutput": true,
    "tags": [],
    "uuid": "49d4f66e-596f-47c2-ba51-54a6cb62c40b",
    "version": "1.0.0"
   },
   "outputs": [],
   "source": [
    "##\n",
    "##  Copyright (c) 2023 unSkript, Inc\n",
    "##  All rights reserved.\n",
    "##\n",
    "from pydantic import BaseModel, Field\n",
    "from typing import List, Dict\n",
    "from unskript.connectors.aws import aws_get_paginator\n",
    "import pprint\n",
    "\n",
    "\n",
    "@beartype\n",
    "def aws_get_redshift_result(handle, region:str, resultId: str) -> List:\n",
    "\n",
    "\n",
    "    client = handle.client('redshift-data', region_name=region)\n",
    "    result = client.get_statement_result(\n",
    "        Id=resultId\n",
    "    )\n",
    "    #result has the Dictionary, but it is not easily queried\n",
    "    #get all the columns into an array\n",
    "    columnNames = []\n",
    "    for column in result['ColumnMetadata']:\n",
    "        columnNames.append(column['label'])\n",
    "    #print(columnNames)\n",
    "\n",
    "    #now let's make the output into a dict\n",
    "    listResult = []\n",
    "    for record in result['Records']:\n",
    "\n",
    "        for key, value in record[0].items():\n",
    "            rowId = value\n",
    "        entryCounter = 0\n",
    "        entryDict = {}\n",
    "        for entry in record:\n",
    "\n",
    "            for key, value in entry.items():\n",
    "                entryDict[columnNames[entryCounter]] = value\n",
    "            entryCounter +=1\n",
    "        #print(\"entryDict\",entryDict)\n",
    "        listResult.append(entryDict)\n",
    "    return listResult\n",
    "\n",
    "\n",
    "\n",
    "task = Task(Workflow())\n",
    "task.configure(credentialsJson='''{}''')\n",
    "task.configure(inputParamsJson='''{\n",
    "    \"resultId\": \"resultId\",\n",
    "    \"region\": \"inputRegion\"\n",
    "    }''')\n",
    "task.configure(outputName=\"redshiftresult\")\n",
    "\n",
    "task.configure(printOutput=True)\n",
    "(err, hdl, args) = task.validate(vars=vars())\n",
    "if err is None:\n",
    "    task.execute(aws_get_redshift_result,  hdl=hdl, args=args)"
   ]
  },
  {
   "cell_type": "code",
   "execution_count": 53,
   "id": "8f72f9ed-873a-42a5-898a-94319f4f3daa",
   "metadata": {
    "customAction": true,
    "execution_data": {
     "last_date_success_run_cell": "2023-03-10T01:45:42.682Z"
    },
    "name": "chart last month",
    "orderProperties": [],
    "tags": [],
    "title": "chart last month"
   },
   "outputs": [
    
   ],
   "source": [
    "import matplotlib as mpl\n",
    "mpl.use('agg')\n",
    "from matplotlib.figure import Figure\n",
    "import panel\n",
    "import matplotlib.pyplot as plt\n",
    "import pandas as pd\n",
    "import pprint\n",
    "\n",
    "\n",
    "df = pd.DataFrame.from_dict(redshiftresult)\n",
    "df['cost']=df['cost'].astype(float)\n",
    "df['day']=df['day'].astype(int)\n",
    "\n",
    "%matplotlib inline\n",
    "\n",
    "font = {'size' : 22}\n",
    "dfpivot = df.pivot(index='day', columns='lineitem_productcode', values='cost')\n",
    "dfpivot.plot(linewidth=5,ylabel=\"daily cost in $\", figsize=(16, 9) )\n",
    "\n",
    "plt.rc('font', **font)\n",
    "plt.legend(loc='center left', bbox_to_anchor=(1.0, 0.5))\n",
    "plt.xticks(fontsize=22)\n",
    "plt.yticks(fontsize=22)\n",
    "\n",
    "plt.show()\n",
    "\n",
    "dfpivot.plot(linewidth=5,ylabel=\"daily cost in $\", figsize=(16, 9) )\n",
    "plt.ylim((0,10))\n",
    "plt.rc('font', **font)\n",
    "plt.legend(loc='center left', bbox_to_anchor=(1.0, 0.5))\n",
    "plt.show()\n",
    "\n",
    "dfpivot.plot(linewidth=5,ylabel=\"daily cost in $\", figsize=(16, 9) )\n",
    "plt.xlim((todayDay-7,todayDay))\n",
    "plt.rc('font', **font)\n",
    "plt.legend(loc='center left', bbox_to_anchor=(1.0, 0.5))\n",
    "plt.show()\n",
    "\n"
   ]
  },
  {
   "cell_type": "code",
   "execution_count": 54,
   "id": "9a603056-68ab-461f-854e-2a52ec70be26",
   "metadata": {
    "execution_data": {
     "last_date_success_run_cell": "2023-03-10T01:48:12.756Z"
    },
    "jupyter": {
     "source_hidden": true
    },
    "name": "alert if over 5% change",
    "orderProperties": [],
    "tags": [],
    "title": "alert if over 5% change"
   },
   "outputs": [
    {
     "name": "stdout",
     "output_type": "stream",
     "text": [
      "9\n",
      "bigchange {}\n"
     ]
    }
   ],
   "source": [
    "today = todayDay -1\n",
    "yesterday =yesterDay -1\n",
    "\n",
    "print(today)\n",
    "bigchange = {}\n",
    "if yesterday >0:\n",
    "    for instance in dfpivot.columns:\n",
    "        todayCost = dfpivot.at[today, instance]\n",
    "        yesterdayCost = dfpivot.at[yesterday, instance]\n",
    "\n",
    "        delta =(todayCost-yesterdayCost)/yesterdayCost\n",
    "\n",
    "        if delta >.05:\n",
    "            #print( instance, delta,dfpivot.at[today, instance], dfpivot.at[yesterday, instance])\n",
    "            bigchange[instance] = {\"delta\":delta, \"todayCost\":todayCost,\"yesterdayCost\":yesterdayCost}\n",
    "        #elif delta <-.15:\n",
    "            #print(\"savings!\", instance, delta,dfpivot.at[today, instance], dfpivot.at[yesterday, instance])\n",
    "            #bigchange[instance] = {\"delta\":delta, \"todayCost\":todayCost,\"yesterdayCost\":yesterdayCost}\n",
    "\n",
    "\n",
    "    print(\"bigchange\", bigchange)"
   ]
  },
  {
   "cell_type": "code",
   "execution_count": null,
   "id": "08013d6c-e4ca-4288-a29d-ab87bbe11518",
   "metadata": {
    "orderProperties": []
   },
   "outputs": [],
   "source": []
  }
 ],
 "metadata": {
  "execution_data": {
   "environment_id": "1499f27c-6406-4fbd-bd1b-c6f92800018f",
   "environment_name": "Staging",
   "execution_id": "",
   "inputs_for_searched_lego": "",
   "notebook_id": "d4159cb3-6c83-4ba5-a2f7-d23c0777076b.ipynb",
   "parameters": null,
   "runbook_name": "Daily AWS Costs by Produc",
   "search_string": "",
   "show_tool_tip": false,
   "show_tool_tip_credentials_manager": true,
   "show_tool_tip_parameters_manager": true,
   "tenant_id": "982dba5f-d9df-48ae-a5bf-ec1fc94d4882",
   "tenant_url": "https://tenant-staging.alpha.unskript.io",
   "user_email_id": "support+staging@unskript.com",
   "workflow_id": "f8ead207-81c0-414a-a15b-76fcdefafe8d"
  },
  "kernelspec": {
   "display_name": "unSkript (Build: 904)",
   "language": "python",
   "name": "python3"
  },
  "language_info": {
   "codemirror_mode": {
    "name": "ipython",
    "version": 3
   },
   "file_extension": ".py",
   "mimetype": "text/x-python",
   "name": "python",
   "nbconvert_exporter": "python",
   "pygments_lexer": "ipython3",
   "version": "3.9.6"
  },
  "parameterSchema": {
   "properties": {
    "inputRegion": {
     "default": "us-west-2",
     "description": "input aws region",
     "title": "inputRegion",
     "type": "string"
    }
   },
   "required": [],
   "title": "Schema",
   "type": "object"
  }
 },
 "nbformat": 4,
 "nbformat_minor": 5
}
