{
    "cells": [
        {
            "cell_type": "markdown",
            "id": "36b7b98d-9958-4402-b97c-3bdd6ee8fbbb",
            "metadata": {
                "jupyter": {
                    "source_hidden": false
                },
                "name": "Steps Overview",
                "orderProperties": [],
                "tags": [],
                "title": "Steps Overview"
            },
            "source": [
                "<center><img src=\"https://unskript.com/assets/favicon.png\" alt=\"unSkript.com\" width=\"100\" height=\"100\"/> \n",
                "<h1> unSkript Runbooks </h1>\n",
                "<div class=\"alert alert-block alert-success\">\n",
                "     <h3> Objective</h3> <br>\n",
                "    <b style = \"color:#000000\"><i>Check and Rotate Expiring Access Keys for all IAM Users </i></b>\n",
                "</div>\n",
                "<br>\n",
                "</center>\n",
                "\n",
                "<center><h2><u>AWS Access Key Rotation</u></h2></center>\n",
                "\n",
                "# Steps Overview\n",
                "1)[ List All IAM Users](#1)<br>\n",
                "2)[ List all Expiring Access Key](#2)<br>\n",
                "3)[ Create AWS Access Key](#3)<br>\n",
                "4)[ Update AWS Access Key](#4)<br>\n",
                "5)[ Delete AWS Access Key](#5)<br>"
            ]
        },
        {
            "cell_type": "markdown",
            "id": "79644810-a7ce-4eaa-b03d-d24d891df906",
            "metadata": {
                "jupyter": {
                    "source_hidden": false
                },
                "name": "Step 1",
                "orderProperties": [],
                "tags": [],
                "title": "Step 1"
            },
            "source": [
                "<h3><a id='1'>List all IAM Users</a></h3>\n",
                "This action lists all IAM Users for an AWS account.\n",
                "\n",
                ">Action takes the following parameters: `None`<br>\n",
                ">Action gives the following output: `all_users`"
            ]
        },
        {
            "cell_type": "code",
            "execution_count": 10,
            "id": "2670843f-3c33-41f2-a6e3-2a480c4fc6c0",
            "metadata": {
                "accessType": "ACCESS_TYPE_UNSPECIFIED",
                "actionBashCommand": false,
                "actionNeedsCredential": true,
                "actionRequiredLinesInCode": [],
                "actionSupportsIteration": true,
                "actionSupportsPoll": true,
                "action_uuid": "8f56b9e753e57065e02e107dfd472df3e3b6e3440bd8156f37dc752a1f337909",
                "createTime": "1970-01-01T00:00:00Z",
                "currentVersion": "0.1.0",
                "description": "List all AWS IAM Users",
                "execution_data": {
                    "last_date_success_run_cell": "2022-12-21T13:51:24.989Z"
                },
                "id": 244,
                "index": 244,
                "inputschema": [
                    {
                        "properties": {},
                        "title": "aws_list_all_iam_users",
                        "type": "object"
                    }
                ],
                "jupyter": {
                    "source_hidden": true
                },
                "legotype": "LEGO_TYPE_AWS",
                "name": "AWS List All IAM Users",
                "nouns": [
                    "users",
                    "iam",
                    "aws"
                ],
                "orderProperties": [],
                "output": {
                    "type": ""
                },
                "outputParams": {
                    "output_name": "all_users",
                    "output_name_enabled": true
                },
                "tags": [
                    "aws_list_all_iam_users"
                ],
                "verbs": [
                    "list"
                ]
            },
            "outputs": [],
            "source": [
                "##\n",
                "# Copyright (c) 2021 unSkript, Inc\n",
                "# All rights reserved.\n",
                "##\n",
                "from pydantic import BaseModel, Field, SecretStr\n",
                "from typing import Dict, List\n",
                "import pprint\n",
                "\n",
                "from beartype import beartype\n",
                "@beartype\n",
                "def aws_list_all_iam_users_printer(output):\n",
                "    if output is None:\n",
                "        return\n",
                "    pprint.pprint(output)\n",
                "\n",
                "@beartype\n",
                "def aws_list_all_iam_users(handle) -> List:\n",
                "    \"\"\"aws_list_all_iam_users lists all the IAM users\n",
                "\n",
                "        :type handle: object\n",
                "        :param handle: Object returned from Task Validate\n",
                "\n",
                "        :rtype: Result List of all IAM users\n",
                "    \"\"\"\n",
                "    client = handle.client('iam')\n",
                "    users_list=[]\n",
                "    response = client.list_users()\n",
                "    try:\n",
                "        for x in response['Users']:\n",
                "            users_list.append(x['UserName'])\n",
                "    except Exception as e:\n",
                "        users_list.append(e)\n",
                "    return users_list\n",
                "\n",
                "\n",
                "task = Task(Workflow())\n",
                "task.configure(outputName=\"all_users\")\n",
                "(err, hdl, args) = task.validate(vars=vars())\n",
                "if err is None:\n",
                "    task.execute(aws_list_all_iam_users, lego_printer=aws_list_all_iam_users_printer, hdl=hdl, args=args)"
            ]
        },
        {
            "cell_type": "markdown",
            "id": "53356688-62e4-4121-9ad7-2c5506fc7f04",
            "metadata": {
                "jupyter": {
                    "source_hidden": false
                },
                "name": "Step 2",
                "orderProperties": [],
                "tags": [],
                "title": "Step 2"
            },
            "source": [
                "<h3><a id='2'>List all Expiring Access Keys</a></h3>\n",
                "Using unSkript's AWS List Expiring Access Keys action we will list those users whose Access Keys past the given threshold number of days i.e. expiring.\n",
                "\n",
                ">Action takes the following parameters: `threshold_days`\n",
                "\n",
                ">Action captures the following output: `all_expiring_users`"
            ]
        },
        {
            "cell_type": "code",
            "execution_count": 13,
            "id": "1539203b-892a-4628-9dc5-341772bedfcd",
            "metadata": {
                "accessType": "ACCESS_TYPE_UNSPECIFIED",
                "actionBashCommand": false,
                "actionNeedsCredential": true,
                "actionRequiredLinesInCode": [],
                "actionSupportsIteration": true,
                "actionSupportsPoll": true,
                "action_uuid": "c3a4e091801f8197429f073a0612e2cc373b6630ce4426d73617b8e101bc5d6a",
                "continueOnError": false,
                "createTime": "1970-01-01T00:00:00Z",
                "currentVersion": "0.1.0",
                "description": "List Expiring IAM User Access Keys",
                "execution_data": {
                    "last_date_success_run_cell": "2022-12-21T13:52:32.127Z"
                },
                "id": 203,
                "index": 203,
                "inputData": [
                    {
                        "aws_username": {
                            "constant": false,
                            "value": "iter_item"
                        },
                        "threshold_days": {
                            "constant": false,
                            "value": "threshold_days"
                        }
                    }
                ],
                "inputschema": [
                    {
                        "properties": {
                            "aws_username": {
                                "description": "Username of the IAM User",
                                "title": "Username",
                                "type": "string"
                            },
                            "threshold_days": {
                                "description": "Threshold number(in days) to check for expiry. Eg: 30",
                                "title": "Threshold Days",
                                "type": "integer"
                            }
                        },
                        "required": [
                            "aws_username",
                            "threshold_days"
                        ],
                        "title": "aws_list_expiring_access_keys",
                        "type": "object"
                    }
                ],
                "iterData": [
                    {
                        "iter_enabled": true,
                        "iter_item": "aws_username",
                        "iter_list": {
                            "constant": false,
                            "objectItems": false,
                            "value": "all_users"
                        }
                    }
                ],
                "legotype": "LEGO_TYPE_AWS",
                "name": "AWS List Expiring Access Keys",
                "nouns": [
                    "expiring",
                    "access",
                    "aws"
                ],
                "orderProperties": [
                    "aws_username",
                    "threshold_days"
                ],
                "output": {
                    "type": ""
                },
                "outputParams": {
                    "output_name": "all_expiring_users",
                    "output_name_enabled": true
                },
                "tags": [
                    "aws_list_expiring_access_keys"
                ],
                "verbs": [
                    "list"
                ]
            },
            "outputs": [],
            "source": [
                "# Copyright (c) 2021 unSkript, Inc\n",
                "# All rights reserved.\n",
                "##\n",
                "import dateutil\n",
                "from pydantic import BaseModel, Field\n",
                "from typing import Dict,List\n",
                "import pprint\n",
                "import datetime\n",
                "\n",
                "from beartype import beartype\n",
                "@beartype\n",
                "def aws_list_expiring_access_keys_printer(output):\n",
                "    if output is None:\n",
                "        return\n",
                "    pprint.pprint(output)\n",
                "\n",
                "@beartype\n",
                "def aws_list_expiring_access_keys(handle, threshold_days: int, aws_username: str='')-> Dict:\n",
                "    \"\"\"aws_list_expiring_access_keys returns all the ACM issued certificates which are about to expire given a threshold number of days\n",
                "\n",
                "        :type handle: object\n",
                "        :param handle: Object returned from Task Validate\n",
                "\n",
                "        :type threshold_days: int\n",
                "        :param threshold_days: Threshold number of days to check for expiry. Eg: 30 -lists all access Keys which are expiring within 30 days\n",
                "\n",
                "        :type aws_username: str\n",
                "        :param aws_username: Username of the IAM User\n",
                "\n",
                "        :rtype: Result Dictionary of result\n",
                "    \"\"\"\n",
                "    try:\n",
                "        iamClient = handle.client('iam')\n",
                "        response = iamClient.list_access_keys(UserName=aws_username)\n",
                "        result = {}\n",
                "        for x in response[\"AccessKeyMetadata\"]:\n",
                "            if len(response[\"AccessKeyMetadata\"])!= 0:\n",
                "                create_date = x[\"CreateDate\"]\n",
                "                right_now = datetime.datetime.now(dateutil.tz.tzlocal())\n",
                "                diff = right_now-create_date\n",
                "                days_remaining = diff.days\n",
                "                if days_remaining > threshold_days:\n",
                "                    result[\"username\"] = x[\"UserName\"]\n",
                "                    result[\"access_key_id\"] = x[\"AccessKeyId\"]\n",
                "    except Exception as e:\n",
                "        result[\"error\"] = e\n",
                "    return result\n",
                "\n",
                "\n",
                "task = Task(Workflow())\n",
                "task.configure(continueOnError=False)\n",
                "task.configure(inputParamsJson='''{\n",
                "    \"aws_username\": \"iter_item\",\n",
                "    \"threshold_days\": \"threshold_days\"\n",
                "    }''')\n",
                "task.configure(iterJson='''{\n",
                "    \"iter_enabled\": true,\n",
                "    \"iter_list_is_const\": false,\n",
                "    \"iter_list\": \"all_users\",\n",
                "    \"iter_parameter\": \"aws_username\"\n",
                "    }''')\n",
                "task.configure(outputName=\"all_expiring_users\")\n",
                "\n",
                "(err, hdl, args) = task.validate(vars=vars())\n",
                "if err is None:\n",
                "    task.execute(aws_list_expiring_access_keys, lego_printer=aws_list_expiring_access_keys_printer, hdl=hdl, args=args)"
            ]
        },
        {
            "cell_type": "markdown",
            "id": "9196c8a4-bfc4-4422-853b-2299f667adf1",
            "metadata": {
                "jupyter": {
                    "source_hidden": false
                },
                "name": "Step 2A",
                "orderProperties": [],
                "tags": [],
                "title": "Step 2A"
            },
            "source": [
                "<h3>List of Expiring Users</h3>\n",
                "This action lists the usernames of expiring Access Keys using the output from Step 2."
            ]
        },
        {
            "cell_type": "code",
            "execution_count": 14,
            "id": "4905906b-b162-403e-9848-ff520f2b8a58",
            "metadata": {
                "customAction": true,
                "execution_data": {
                    "last_date_success_run_cell": "2022-12-21T13:52:38.130Z"
                },
                "jupyter": {
                    "source_hidden": true
                },
                "name": "List Expiring Users",
                "orderProperties": [],
                "outputParams": {
                    "output_name": "expired_keys",
                    "output_name_enabled": true
                },
                "tags": [],
                "title": "List Expiring Users"
            },
            "outputs": [],
            "source": [
                "def expiring_users_list():\n",
                "    res=[]\n",
                "    for k,v in all_expiring_users.items():\n",
                "        if len(v)!=0:\n",
                "            res.append(k)\n",
                "    print(res)\n",
                "    return res\n",
                "expiring_users = expiring_users_list()\n",
                "\n",
                "task.configure(outputName=\"expiring_users\")"
            ]
        },
        {
            "cell_type": "markdown",
            "id": "ebc1dc33-68d8-411e-93fa-aeaa389a78a6",
            "metadata": {
                "jupyter": {
                    "source_hidden": false
                },
                "name": "Step 2B",
                "orderProperties": [],
                "tags": [],
                "title": "Step 2B"
            },
            "source": [
                "<h3><a id='3'>List of Expiring Users and Access Keys</a></h3>\n",
                "This action simply creates another list containing a dictionary of the user and their old access key. The output from this acion is required for Step 4 and Step 5."
            ]
        },
        {
            "cell_type": "code",
            "execution_count": 7,
            "id": "fe3f9d3f-aef0-4e9d-b25c-6f8cdc6a119a",
            "metadata": {
                "customAction": true,
                "execution_data": {
                    "last_date_success_run_cell": "2022-12-21T05:51:12.603Z"
                },
                "jupyter": {
                    "source_hidden": true
                },
                "name": "List Expiring Users and Keys (Object)",
                "orderProperties": [],
                "outputParams": {
                    "output_name": "expired_list",
                    "output_name_enabled": true
                },
                "tags": [],
                "title": "List Expiring Users and Keys (Object)"
            },
            "outputs": [],
            "source": [
                "def expired_access_keys_list():\n",
                "    res=[]\n",
                "    for k,v in all_expiring_users.items():\n",
                "        if len(v)!=0:\n",
                "            res.append(v)\n",
                "    print(res)\n",
                "    return res\n",
                "expiring_access_key_list = expired_access_keys_list()\n",
                "\n",
                "task.configure(outputName=\"expiring_access_key_list\")"
            ]
        },
        {
            "cell_type": "markdown",
            "id": "401e3338-5281-44c1-ad61-4ae407846328",
            "metadata": {
                "jupyter": {
                    "source_hidden": false
                },
                "name": "Step 3",
                "orderProperties": [],
                "tags": [],
                "title": "Step 3"
            },
            "source": [
                "<h3><a id='3'>Create AWS Access Keys</a></h3>\n",
                "Using unSkript's AWS Create Access Key action we will create a new Access Key for the users from Step 2. \n",
                "\n",
                ">Action takes the following parameters: `aws_username`\n"
            ]
        },
        {
            "cell_type": "code",
            "execution_count": 8,
            "id": "fe9f5379-fc45-4ebd-a9a8-6791b2537988",
            "metadata": {
                "accessType": "ACCESS_TYPE_UNSPECIFIED",
                "actionBashCommand": false,
                "actionNeedsCredential": true,
                "actionRequiredLinesInCode": [],
                "actionSupportsIteration": true,
                "actionSupportsPoll": true,
                "action_uuid": "492b9b6807e5254512715555e3ec52a97e006c04a28511710e5bc1b0c45ffdd7",
                "continueOnError": true,
                "createTime": "1970-01-01T00:00:00Z",
                "currentVersion": "0.1.0",
                "description": "Create a new Access Key for the User",
                "execution_data": {
                    "last_date_success_run_cell": "2022-12-21T05:51:30.969Z"
                },
                "id": 193,
                "index": 193,
                "inputData": [
                    {
                        "aws_username": {
                            "constant": false,
                            "value": "iter_item"
                        }
                    }
                ],
                "inputschema": [
                    {
                        "properties": {
                            "aws_username": {
                                "description": "Username of the IAM User",
                                "title": "Username",
                                "type": "string"
                            }
                        },
                        "required": [
                            "aws_username"
                        ],
                        "title": "aws_create_access_key",
                        "type": "object"
                    }
                ],
                "iterData": [
                    {
                        "iter_enabled": true,
                        "iter_item": "aws_username",
                        "iter_list": {
                            "constant": false,
                            "objectItems": false,
                            "value": "expiring_users"
                        }
                    }
                ],
                "jupyter": {
                    "source_hidden": true
                },
                "legotype": "LEGO_TYPE_AWS",
                "name": "AWS Create Access Key",
                "nouns": [],
                "orderProperties": [
                    "aws_username"
                ],
                "output": {
                    "type": ""
                },
                "outputParams": {
                    "output_name": "new_access_keys",
                    "output_name_enabled": true
                },
                "tags": [
                    "aws_create_access_key"
                ],
                "verbs": []
            },
            "outputs": [],
            "source": [
                "##\n",
                "# Copyright (c) 2021 unSkript, Inc\n",
                "# All rights reserved.\n",
                "##\n",
                "from pydantic import BaseModel, Field, SecretStr\n",
                "from typing import Dict, List\n",
                "import pprint\n",
                "\n",
                "\n",
                "from beartype import beartype\n",
                "@beartype\n",
                "def aws_create_access_key_printer(output):\n",
                "    if output is None:\n",
                "        return\n",
                "    pprint.pprint(output)\n",
                "\n",
                "\n",
                "@beartype\n",
                "def aws_create_access_key(\n",
                "    handle,\n",
                "    aws_username: str\n",
                ") -> Dict:\n",
                "    \"\"\"aws_create_access_key creates a new access key for the given user.\n",
                "        :type handle: object\n",
                "        :param handle: Object returned from Task Validate\n",
                "\n",
                "        :type aws_username: str\n",
                "        :param aws_username: Username of the IAM user to be looked up\n",
                "\n",
                "        :rtype: Result Dictionary of result\n",
                "    \"\"\"\n",
                "    iamClient = handle.client('iam')\n",
                "    result = iamClient.create_access_key(UserName=aws_username)\n",
                "    retVal = {}\n",
                "    temp_list = []\n",
                "    for key, value in result.items():\n",
                "        if key not in temp_list:\n",
                "            temp_list.append(key)\n",
                "            retVal[key] = value\n",
                "    return retVal\n",
                "\n",
                "\n",
                "task = Task(Workflow())\n",
                "task.configure(continueOnError=True)\n",
                "task.configure(inputParamsJson='''{\n",
                "    \"aws_username\": \"iter_item\"\n",
                "    }''')\n",
                "task.configure(iterJson='''{\n",
                "    \"iter_enabled\": true,\n",
                "    \"iter_list_is_const\": false,\n",
                "    \"iter_list\": \"expiring_users\",\n",
                "    \"iter_parameter\": \"aws_username\"\n",
                "    }''')\n",
                "task.configure(outputName=\"new_access_keys\")\n",
                "\n",
                "(err, hdl, args) = task.validate(vars=vars())\n",
                "if err is None:\n",
                "    task.execute(aws_create_access_key, lego_printer=aws_create_access_key_printer, hdl=hdl, args=args)"
            ]
        },
        {
            "cell_type": "markdown",
            "id": "c5d02a12-716d-4642-8d82-1f553a345f93",
            "metadata": {
                "jupyter": {
                    "source_hidden": false
                },
                "name": "Step 4",
                "orderProperties": [],
                "tags": [],
                "title": "Step 4"
            },
            "source": [
                "<h3><a id='4'>Update AWS Access Key</a></h3>\n",
                "Using the AWS Update Access Key action we will update the status of the old Access Key to <b>\"Inactive\"</b>. This step is required to delete the old access key as one user cannot have two Access Keys. \n",
                "\n",
                ">This action takes the following parameters: `aws_username`, `aws_access_key_id` and `status`"
            ]
        },
        {
            "cell_type": "code",
            "execution_count": 10,
            "id": "a24f9410-8b03-4f22-ac35-f8a99bc9e6cc",
            "metadata": {
                "accessType": "ACCESS_TYPE_UNSPECIFIED",
                "actionBashCommand": false,
                "actionNeedsCredential": true,
                "actionRequiredLinesInCode": [],
                "actionSupportsIteration": true,
                "actionSupportsPoll": true,
                "action_uuid": "0297f6c80f0416d10484fa2593510515eef2900add97924e3e73beaab5fea819",
                "continueOnError": false,
                "createTime": "1970-01-01T00:00:00Z",
                "currentVersion": "0.1.0",
                "description": "Update status of the Access Key",
                "execution_data": {
                    "last_date_success_run_cell": "2022-12-21T05:53:14.787Z"
                },
                "id": 207,
                "index": 207,
                "inputData": [
                    {
                        "aws_access_key_id": {
                            "constant": false,
                            "value": "\"iter.get(\\\\\"access_key_id\\\\\")\""
                        },
                        "aws_username": {
                            "constant": false,
                            "value": "\"iter.get(\\\\\"username\\\\\")\""
                        },
                        "status": {
                            "constant": true,
                            "value": "Inactive"
                        }
                    }
                ],
                "inputschema": [
                    {
                        "definitions": {
                            "AccessKeyStatus": {
                                "description": "An enumeration.",
                                "enum": [
                                    "Active",
                                    "Inactive"
                                ],
                                "title": "AccessKeyStatus",
                                "type": "string"
                            }
                        },
                        "properties": {
                            "aws_access_key_id": {
                                "description": "Old Access Key ID of the User",
                                "title": "Access Key ID",
                                "type": "string"
                            },
                            "aws_username": {
                                "description": "Username of the IAM User",
                                "title": "Username",
                                "type": "string"
                            },
                            "status": {
                                "allOf": [
                                    {
                                        "$ref": "#/definitions/AccessKeyStatus"
                                    }
                                ],
                                "description": "Status to set for the Access Key",
                                "title": "Status"
                            }
                        },
                        "required": [
                            "aws_username",
                            "aws_access_key_id",
                            "status"
                        ],
                        "title": "aws_update_access_key",
                        "type": "object"
                    }
                ],
                "iterData": [
                    {
                        "iter_enabled": true,
                        "iter_item": {
                            "aws_access_key_id": "access_key_id",
                            "aws_username": "username"
                        },
                        "iter_list": {
                            "constant": false,
                            "objectItems": true,
                            "value": "expiring_access_key_list"
                        }
                    }
                ],
                "jupyter": {
                    "source_hidden": true
                },
                "legotype": "LEGO_TYPE_AWS",
                "name": "AWS Update Access Key",
                "nouns": [],
                "orderProperties": [
                    "aws_username",
                    "aws_access_key_id",
                    "status"
                ],
                "output": {
                    "type": ""
                },
                "tags": [
                    "aws_update_access_key"
                ],
                "verbs": []
            },
            "outputs": [],
            "source": [
                "##\n",
                "# Copyright (c) 2021 unSkript, Inc\n",
                "# All rights reserved.\n",
                "##\n",
                "from pydantic import BaseModel, Field, SecretStr\n",
                "from typing import Dict,List\n",
                "from unskript.enums.aws_access_key_enums import AccessKeyStatus\n",
                "import pprint\n",
                "\n",
                "\n",
                "from beartype import beartype\n",
                "@beartype\n",
                "def aws_update_access_key_printer(output):\n",
                "    if output is None:\n",
                "        return\n",
                "    pprint.pprint(\"Access Key status successfully changed\")\n",
                "    pprint.pprint(output)\n",
                "\n",
                "\n",
                "@beartype\n",
                "def aws_update_access_key(\n",
                "    handle,\n",
                "    aws_username: str,\n",
                "    aws_access_key_id: str,\n",
                "    status: AccessKeyStatus\n",
                ") -> Dict:\n",
                "    \"\"\"aws_update_access_key updates the status of an access key to Inactive/Active\n",
                "        :type handle: object\n",
                "        :param handle: Object returned from Task Validate\n",
                "\n",
                "        :type aws_username: str\n",
                "        :param aws_username: Username of the IAM user to be looked up\n",
                "\n",
                "        :type aws_access_key_id: str\n",
                "        :param aws_access_key_id: Old Access Key ID of the user of which the status needs to be updated\n",
                "\n",
                "        :type status: AccessKeyStatus\n",
                "        :param status: Status to set for the Access Key\n",
                "\n",
                "        :rtype: Result Dictionary of result\n",
                "    \"\"\"\n",
                "    iamClient = handle.client('iam')\n",
                "    result = iamClient.update_access_key(UserName=aws_username, AccessKeyId=aws_access_key_id, Status=status)\n",
                "    retVal = {}\n",
                "    temp_list = []\n",
                "    for key, value in result.items():\n",
                "        if key not in temp_list:\n",
                "            temp_list.append(key)\n",
                "            retVal[key] = value\n",
                "    return retVal\n",
                "\n",
                "\n",
                "task = Task(Workflow())\n",
                "task.configure(continueOnError=False)\n",
                "task.configure(inputParamsJson='''{\n",
                "    \"aws_access_key_id\": \"iter.get(\\\\\"access_key_id\\\\\")\",\n",
                "    \"aws_username\": \"iter.get(\\\\\"username\\\\\")\",\n",
                "    \"status\": \"AccessKeyStatus.Inactive\"\n",
                "    }''')\n",
                "task.configure(iterJson='''{\n",
                "    \"iter_enabled\": true,\n",
                "    \"iter_list_is_const\": false,\n",
                "    \"iter_list\": \"expiring_access_key_list\",\n",
                "    \"iter_parameter\": [\"aws_username\",\"aws_access_key_id\"]\n",
                "    }''')\n",
                "(err, hdl, args) = task.validate(vars=vars())\n",
                "if err is None:\n",
                "    task.execute(aws_update_access_key, lego_printer=aws_update_access_key_printer, hdl=hdl, args=args)"
            ]
        },
        {
            "cell_type": "markdown",
            "id": "87444534-29b0-4192-8f5b-daa479606ea3",
            "metadata": {
                "jupyter": {
                    "source_hidden": false
                },
                "name": "Step 5",
                "orderProperties": [],
                "tags": [],
                "title": "Step 5"
            },
            "source": [
                "<h3><a id='5'>Delete AWS Access Key</a></h3>\n",
                "Finally, we will delete the the old (Inactive) Access Key for the IAM Users\n",
                "\n",
                ">This action takes the following parameters: `aws_username` and `aws_access_key_id`"
            ]
        },
        {
            "cell_type": "code",
            "execution_count": null,
            "id": "00d49520-6a98-41ed-88ed-b10dd3edd2d1",
            "metadata": {
                "accessType": "ACCESS_TYPE_UNSPECIFIED",
                "actionBashCommand": false,
                "actionNeedsCredential": true,
                "actionRequiredLinesInCode": [],
                "actionSupportsIteration": true,
                "actionSupportsPoll": true,
                "action_uuid": "4ce21d2ac0824cafdddbb4245ffcb1d4c34786ed68c075fb1041eb8c7e22f01d",
                "continueOnError": false,
                "createTime": "1970-01-01T00:00:00Z",
                "currentVersion": "0.1.0",
                "description": "Delete an Access Key for a User",
                "id": 190,
                "index": 190,
                "inputData": [
                    {
                        "aws_access_key_id": {
                            "constant": false,
                            "value": "\"iter.get(\\\\\"access_key_id\\\\\")\""
                        },
                        "aws_username": {
                            "constant": false,
                            "value": "\"iter.get(\\\\\"username\\\\\")\""
                        }
                    }
                ],
                "inputschema": [
                    {
                        "properties": {
                            "aws_access_key_id": {
                                "description": "Old Access Key ID of the User",
                                "title": "Access Key ID",
                                "type": "string"
                            },
                            "aws_username": {
                                "description": "Username of the IAM User",
                                "title": "Username",
                                "type": "string"
                            }
                        },
                        "required": [
                            "aws_username",
                            "aws_access_key_id"
                        ],
                        "title": "aws_delete_access_key",
                        "type": "object"
                    }
                ],
                "iterData": [
                    {
                        "iter_enabled": true,
                        "iter_item": {
                            "aws_access_key_id": "access_key_id",
                            "aws_username": "username"
                        },
                        "iter_list": {
                            "constant": false,
                            "objectItems": true,
                            "value": "expiring_access_key_list"
                        }
                    }
                ],
                "jupyter": {
                    "source_hidden": true
                },
                "legotype": "LEGO_TYPE_AWS",
                "name": "AWS Delete Access Key",
                "nouns": [],
                "orderProperties": [
                    "aws_username",
                    "aws_access_key_id"
                ],
                "output": {
                    "type": ""
                },
                "tags": [
                    "aws_delete_access_key"
                ],
                "verbs": []
            },
            "outputs": [],
            "source": [
                "##\n",
                "# Copyright (c) 2021 unSkript, Inc\n",
                "# All rights reserved.\n",
                "##\n",
                "from pydantic import BaseModel, Field, SecretStr\n",
                "from typing import Dict,List\n",
                "import pprint\n",
                "\n",
                "\n",
                "from beartype import beartype\n",
                "@beartype\n",
                "def aws_delete_access_key_printer(output):\n",
                "    if output is None:\n",
                "        return\n",
                "    pprint.pprint(\"Access Key successfully deleted\")\n",
                "    pprint.pprint(output)\n",
                "\n",
                "\n",
                "@beartype\n",
                "def aws_delete_access_key(\n",
                "    handle,\n",
                "    aws_username: str,\n",
                "    aws_access_key_id: str,\n",
                ") -> Dict:\n",
                "    \"\"\"aws_delete_access_key deleted the given access key.\n",
                "        :type handle: object\n",
                "        :param handle: Object returned from Task Validate\n",
                "\n",
                "        :type aws_username: str\n",
                "        :param aws_username: Username of the IAM user to be looked up\n",
                "\n",
                "        :type aws_access_key_id: str\n",
                "        :param aws_access_key_id: Old Access Key ID of the user which needs to be deleted\n",
                "\n",
                "        :rtype: Result Status Dictionary of result\n",
                "    \"\"\"\n",
                "    iamClient = handle.client('iam')\n",
                "    result = iamClient.delete_access_key(UserName=aws_username, AccessKeyId=aws_access_key_id)\n",
                "    retVal = {}\n",
                "    temp_list = []\n",
                "    for key, value in result.items():\n",
                "        if key not in temp_list:\n",
                "            temp_list.append(key)\n",
                "            retVal[key] = value\n",
                "    return retVal\n",
                "\n",
                "\n",
                "task = Task(Workflow())\n",
                "task.configure(continueOnError=True)\n",
                "task.configure(inputParamsJson='''{\n",
                "    \"aws_access_key_id\": \"iter.get(\\\\\"access_key_id\\\\\")\",\n",
                "    \"aws_username\": \"iter.get(\\\\\"username\\\\\")\"\n",
                "    }''')\n",
                "task.configure(iterJson='''{\n",
                "    \"iter_enabled\": true,\n",
                "    \"iter_list_is_const\": false,\n",
                "    \"iter_list\": \"expiring_access_key_list\",\n",
                "    \"iter_parameter\": [\"aws_access_key_id\",\"aws_username\"]\n",
                "    }''')\n",
                "\n",
                "(err, hdl, args) = task.validate(vars=vars())\n",
                "if err is None:\n",
                "    task.execute(aws_delete_access_key, lego_printer=aws_delete_access_key_printer, hdl=hdl, args=args)"
            ]
        },
        {
            "cell_type": "markdown",
            "id": "519cb823-2b9b-4bbd-85c8-99355dd0b79e",
            "metadata": {
                "jupyter": {
                    "source_hidden": false
                },
                "name": "Conclusion",
                "orderProperties": [],
                "tags": [],
                "title": "Conclusion"
            },
            "source": [
                "<h3>Conclusion</h3>\n",
                "<p>In this Runbook, we were able to perform AWS Access Key rotation for IAM users whose Access Keys were expiring by using unSkript's AWS actions. To view the full platform capabilities of unSkript please visit <a href=\"https://us.app.unskript.io\">us.app.unskript.io</a></p>"
            ]
        }
    ],
    "metadata": {
        "execution_data": {
            "environment_name": "Staging",
            "environment_type": "ENVIRONMENT_TYPE_AWS_EC2",
            "execution_id": "",
            "inputs_for_searched_lego": "",
            "notebook_id": "97f109a8-3368-44b1-bbd9-bad07dafb287.ipynb",
            "parameters": [
                "threshold_days"
            ],
            "proxy_id": "1499f27c-6406-4fbd-bd1b-c6f92800018f",
            "runbook_name": "AWS Access Key Rotation",
            "search_string": "",
            "show_tool_tip": false,
            "tenant_id": "982dba5f-d9df-48ae-a5bf-ec1fc94d4882",
            "tenant_url": "https://tenant-staging.alpha.unskript.io",
            "user_email_id": "shloka@unskript.com",
            "workflow_id": "510508e3-d296-49c9-877c-b4de6c509450"
        },
        "kernelspec": {
            "display_name": "Python 3.10.6 64-bit",
            "language": "python",
            "name": "python3"
        },
        "language_info": {
            "file_extension": ".py",
            "mimetype": "text/x-python",
            "name": "python",
            "pygments_lexer": "ipython3",
            "version": "3.10.6"
        },
        "parameterSchema": {
            "properties": {
                "threshold_days": {
                    "description": "Threshold number of days to check if an access key has expired. Eg: 45",
                    "title": "threshold_days",
                    "type": "number"
                }
            },
            "required": [
                "threshold_days"
            ],
            "title": "Schema",
            "type": "object"
        },
        "parameterValues": null,
        "vscode": {
            "interpreter": {
                "hash": "b0fa6594d8f4cbf19f97940f81e996739fb7646882a419484c72d19e05852a7e"
            }
        }
    },
    "nbformat": 4,
    "nbformat_minor": 5
}
