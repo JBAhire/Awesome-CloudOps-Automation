{
    "cells": [
        {
            "cell_type": "markdown",
            "id": "36b7b98d-9958-4402-b97c-3bdd6ee8fbbb",
            "metadata": {
                "jupyter": {
                    "source_hidden": false
                },
                "name": "Steps Overview",
                "orderProperties": [],
                "tags": [],
                "title": "Steps Overview"
            },
            "source": [
                "<center><img src=\"https://unskript.com/assets/favicon.png\" alt=\"unSkript.com\" width=\"100\" height=\"100\"/> \n",
                "<h1> unSkript Runbooks </h1>\n",
                "<div class=\"alert alert-block alert-success\">\n",
                "     <h3> Objective</h3> <br>\n",
                "    <b style = \"color:#000000\"><i>Rotate Access Key for an IAM user using unSkript actions</i></b>\n",
                "</div>\n",
                "<br>\n",
                "</center>\n",
                "\n",
                "<center><h2><u>AWS Access Key Rotation</u></h2></center>\n",
                "\n",
                "# Steps Overview\n",
                "1)[ Create AWS Access Key](#1)<br>\n",
                "2)[ Update AWS Access Key](#2)<br>\n",
                "3)[ List AWS Access Keys](#3)<br>\n",
                "4)[ Delete AWS Access Key](#4)<br>"
            ]
        },
        {
            "cell_type": "markdown",
            "id": "401e3338-5281-44c1-ad61-4ae407846328",
            "metadata": {
                "jupyter": {
                    "source_hidden": false
                },
                "name": "Step-1",
                "orderProperties": [],
                "tags": [],
                "title": "Step-1"
            },
            "source": [
                "<h3><a id='1'>Create AWS Access Keys</a></h3>\n",
                "Using unSkript's AWS Create Access Key action we will create a new Access Key for the user. \n",
                "\n",
                ">Action takes the following parameters: `aws_username`\n"
            ]
        },
        {
            "cell_type": "code",
            "execution_count": 11,
            "id": "d40d0cd5-1409-4aa1-b43c-9ad65d5304ba",
            "metadata": {
                "accessType": "ACCESS_TYPE_UNSPECIFIED",
                "actionBashCommand": false,
                "actionNeedsCredential": true,
                "actionRequiredLinesInCode": [],
                "actionSupportsIteration": true,
                "actionSupportsPoll": true,
                "action_uuid": "492b9b6807e5254512715555e3ec52a97e006c04a28511710e5bc1b0c45ffdd7",
                "continueOnError": false,
                "createTime": "1970-01-01T00:00:00Z",
                "currentVersion": "0.1.0",
                "description": "Create a new Access Key for the User",
                "id": 186,
                "index": 186,
                "inputData": [
                    {
                        "aws_username": {
                            "constant": false,
                            "value": "aws_username"
                        }
                    }
                ],
                "inputschema": [
                    {
                        "properties": {
                            "aws_username": {
                                "description": "Username of the IAM User",
                                "title": "Username",
                                "type": "string"
                            }
                        },
                        "required": [
                            "aws_username"
                        ],
                        "title": "aws_create_access_key",
                        "type": "object"
                    }
                ],
                "jupyter": {
                    "source_hidden": true
                },
                "legotype": "LEGO_TYPE_AWS",
                "name": "AWS Create Access Key",
                "nouns": [
                    "access key",
                    "aws"
                ],
                "orderProperties": [
                    "aws_username"
                ],
                "output": {
                    "type": ""
                },
                "tags": [
                    "aws_create_access_key"
                ],
                "verbs": [
                    "create"
                ]
            },
            "outputs": [],
            "source": [
                "##\n",
                "# Copyright (c) 2021 unSkript, Inc\n",
                "# All rights reserved.\n",
                "##\n",
                "from pydantic import BaseModel, Field, SecretStr\n",
                "from typing import Dict, List\n",
                "import pprint\n",
                "\n",
                "\n",
                "from beartype import beartype\n",
                "@beartype\n",
                "def aws_create_access_key_printer(output):\n",
                "    if output is None:\n",
                "        return\n",
                "    pprint.pprint(output)\n",
                "\n",
                "\n",
                "@beartype\n",
                "def aws_create_access_key(\n",
                "    handle,\n",
                "    aws_username: str\n",
                ") -> Dict:\n",
                "    \"\"\"aws_create_access_key creates a new access key for the given user.\n",
                "            :type handle: object\n",
                "            :param handle: Object returned from Task Validate\n",
                "\n",
                "            :type aws_username: str\n",
                "            :param aws_username: Username of the IAM user to be looked up\n",
                "\n",
                "            :rtype: Result Dictionary of result\n",
                "    \"\"\"\n",
                "    iamClient = handle.client('iam')\n",
                "    result = iamClient.create_access_key(UserName=aws_username)\n",
                "    retVal = {}\n",
                "    temp_list = []\n",
                "    for key, value in result.items():\n",
                "        if key not in temp_list:\n",
                "            temp_list.append(key)\n",
                "            retVal[key] = value\n",
                "    return retVal\n",
                "\n",
                "\n",
                "task = Task(Workflow())\n",
                "task.configure(inputParamsJson='''{\n",
                "    \"aws_username\": \"aws_username\"\n",
                "    }''')\n",
                "(err, hdl, args) = task.validate(vars=vars())\n",
                "if err is None:\n",
                "    task.execute(aws_create_access_key, lego_printer=aws_create_access_key_printer, hdl=hdl, args=args)"
            ]
        },
        {
            "cell_type": "markdown",
            "id": "c5d02a12-716d-4642-8d82-1f553a345f93",
            "metadata": {
                "jupyter": {
                    "source_hidden": false
                },
                "name": "Step-2",
                "orderProperties": [],
                "tags": [],
                "title": "Step-2"
            },
            "source": [
                "<h3><a id='2'>Update AWS Access Key</a></h3>\n",
                "Using the AWS Update Access Key action we will update the status of the old Access Key to <b>\"Inactive\"</b>. This step is required to delete the old access key as one user cannot have 2 Access Keys. \n",
                "\n",
                ">This action takes the following parameters: `aws_username`, `aws_access_key_id` and `status`"
            ]
        },
        {
            "cell_type": "code",
            "execution_count": 12,
            "id": "8db1eb69-3634-41c5-9ab6-48da7f8acbca",
            "metadata": {
                "accessType": "ACCESS_TYPE_UNSPECIFIED",
                "actionBashCommand": false,
                "actionNeedsCredential": true,
                "actionRequiredLinesInCode": [],
                "actionSupportsIteration": true,
                "actionSupportsPoll": true,
                "action_uuid": "0297f6c80f0416d10484fa2593510515eef2900add97924e3e73beaab5fea819",
                "continueOnError": false,
                "createTime": "1970-01-01T00:00:00Z",
                "currentVersion": "0.1.0",
                "description": "Update status of the Access Key",
                "id": 231,
                "index": 231,
                "inputData": [
                    {
                        "aws_access_key_id": {
                            "constant": false,
                            "value": "aws_access_key_id"
                        },
                        "aws_username": {
                            "constant": false,
                            "value": "aws_username"
                        },
                        "status": {
                            "constant": false,
                            "value": "status"
                        }
                    }
                ],
                "inputschema": [
                    {
                        "properties": {
                            "aws_access_key_id": {
                                "description": "Old Access Key ID of the User",
                                "title": "Access Key ID",
                                "type": "string"
                            },
                            "aws_username": {
                                "description": "Username of the IAM User",
                                "title": "Username",
                                "type": "string"
                            },
                            "status": {
                                "description": "Status to set for the Access Key",
                                "title": "Status",
                                "type": "string"
                            }
                        },
                        "required": [
                            "aws_username",
                            "aws_access_key_id",
                            "status"
                        ],
                        "title": "aws_update_access_key",
                        "type": "object"
                    }
                ],
                "jupyter": {
                    "source_hidden": true
                },
                "legotype": "LEGO_TYPE_AWS",
                "name": "AWS Update Access Key",
                "nouns": [
                    "access key",
                    "aws"
                ],
                "orderProperties": [
                    "aws_username",
                    "aws_access_key_id",
                    "status"
                ],
                "output": {
                    "type": ""
                },
                "tags": [
                    "aws_update_access_key"
                ],
                "verbs": [
                    "update"
                ]
            },
            "outputs": [],
            "source": [
                "##\n",
                "# Copyright (c) 2021 unSkript, Inc\n",
                "# All rights reserved.\n",
                "##\n",
                "from pydantic import BaseModel, Field, SecretStr\n",
                "from typing import Dict,List\n",
                "import pprint\n",
                "\n",
                "\n",
                "from beartype import beartype\n",
                "@beartype\n",
                "def aws_update_access_key_printer(output):\n",
                "    if output is None:\n",
                "        return\n",
                "    pprint.pprint(\"Access Key status successfully changed\")\n",
                "    pprint.pprint(output)\n",
                "\n",
                "\n",
                "@beartype\n",
                "def aws_update_access_key(\n",
                "    handle,\n",
                "    aws_username: str,\n",
                "    aws_access_key_id: str,\n",
                "    status: str\n",
                ") -> Dict:\n",
                "    \"\"\"aws_update_access_key updates the status of an access key to Inactive/Active\n",
                "                    :type handle: object\n",
                "                    :param handle: Object returned from Task Validate\n",
                "\n",
                "                    :type aws_username: str\n",
                "                    :param aws_username: Username of the IAM user to be looked up\n",
                "\n",
                "                    :type aws_access_key_id: str\n",
                "                    :param aws_access_key_id: Old Access Key ID of the user of which the status needs to be updated\n",
                "\n",
                "                    :rtype: Result Dictionary of result\n",
                "    \"\"\"\n",
                "    iamClient = handle.client('iam')\n",
                "    result = iamClient.update_access_key(UserName=aws_username, AccessKeyId=aws_access_key_id, Status=status)\n",
                "    retVal = {}\n",
                "    temp_list = []\n",
                "    for key, value in result.items():\n",
                "        if key not in temp_list:\n",
                "            temp_list.append(key)\n",
                "            retVal[key] = value\n",
                "    return retVal\n",
                "\n",
                "\n",
                "task = Task(Workflow())\n",
                "task.configure(inputParamsJson='''{\n",
                "    \"aws_access_key_id\": \"aws_access_key_id\",\n",
                "    \"aws_username\": \"aws_username\",\n",
                "    \"status\": \"status\"\n",
                "    }''')\n",
                "\n",
                "(err, hdl, args) = task.validate(vars=vars())\n",
                "if err is None:\n",
                "    task.execute(aws_update_access_key, lego_printer=aws_update_access_key_printer, hdl=hdl, args=args)"
            ]
        },
        {
            "cell_type": "markdown",
            "id": "ebc1dc33-68d8-411e-93fa-aeaa389a78a6",
            "metadata": {
                "jupyter": {
                    "source_hidden": false
                },
                "name": "Step-3",
                "orderProperties": [],
                "tags": [],
                "title": "Step-3"
            },
            "source": [
                "<h3><a id='3'>List AWS Access Keys</a></h3>\n",
                "Here we will list all the Access Keys assigned to the given IAM user. The new Access Key should have the \"Active \"status and the old one should have should be \"Inactive\".\n",
                "\n",
                ">This action takes the following parameters: `aws_username`"
            ]
        },
        {
            "cell_type": "code",
            "execution_count": 3,
            "id": "b4f64faa-d64f-4638-b14a-452c3346d41b",
            "metadata": {
                "accessType": "ACCESS_TYPE_UNSPECIFIED",
                "actionBashCommand": false,
                "actionNeedsCredential": true,
                "actionRequiredLinesInCode": [],
                "actionSupportsIteration": true,
                "actionSupportsPoll": true,
                "action_uuid": "0a61839f2d3141d5e9d9fce3874e17b5925f6a4ab5c2a59fdb4c46018f8d2eb1",
                "continueOnError": false,
                "createTime": "1970-01-01T00:00:00Z",
                "currentVersion": "0.1.0",
                "description": "List all Access Keys for the User",
                "execution_data": {
                    "last_date_success_run_cell": "2022-11-29T11:31:29.557Z"
                },
                "id": 181,
                "index": 181,
                "inputData": [
                    {
                        "aws_username": {
                            "constant": false,
                            "value": "aws_username"
                        }
                    }
                ],
                "inputschema": [
                    {
                        "properties": {
                            "aws_username": {
                                "description": "Username of the IAM User",
                                "title": "Username",
                                "type": "string"
                            }
                        },
                        "required": [
                            "aws_username"
                        ],
                        "title": "aws_list_access_keys",
                        "type": "object"
                    }
                ],
                "jupyter": {
                    "source_hidden": true
                },
                "legotype": "LEGO_TYPE_AWS",
                "name": "AWS List Access Key",
                "nouns": [
                    "access key",
                    "aws"
                ],
                "orderProperties": [
                    "aws_username"
                ],
                "output": {
                    "type": ""
                },
                "tags": [
                    "aws_list_access_keys"
                ],
                "verbs": [
                    "list",
                    "get"
                ]
            },
            "outputs": [],
            "source": [
                "##\n",
                "# Copyright (c) 2021 unSkript, Inc\n",
                "# All rights reserved.\n",
                "##\n",
                "from pydantic import BaseModel, Field, SecretStr\n",
                "from typing import Dict, List\n",
                "import pprint\n",
                "\n",
                "\n",
                "from beartype import beartype\n",
                "@beartype\n",
                "def aws_list_access_keys_printer(output):\n",
                "    if output is None:\n",
                "        return\n",
                "    pprint.pprint(output)\n",
                "\n",
                "\n",
                "@beartype\n",
                "def aws_list_access_keys(\n",
                "        handle,\n",
                "        aws_username: str\n",
                ") -> Dict:\n",
                "    \"\"\"aws_list_access_keys lists all the access keys for a user\n",
                "\n",
                "                :type handle: object\n",
                "                :param handle: Object returned from Task Validate\n",
                "\n",
                "                :type aws_username: str\n",
                "                :param aws_username: Username of the IAM user to be looked up\n",
                "\n",
                "                :rtype: Result Dictionary of result\n",
                "    \"\"\"\n",
                "    iamClient = handle.client('iam')\n",
                "    result = iamClient.list_access_keys(UserName=aws_username)\n",
                "    retVal = {}\n",
                "    temp_list = []\n",
                "    for key, value in result.items():\n",
                "        if key not in temp_list:\n",
                "            temp_list.append(key)\n",
                "            retVal[key] = value\n",
                "    return retVal\n",
                "\n",
                "\n",
                "task = Task(Workflow())\n",
                "task.configure(inputParamsJson='''{\n",
                "    \"aws_username\": \"aws_username\"\n",
                "    }''')\n",
                "\n",
                "(err, hdl, args) = task.validate(vars=vars())\n",
                "if err is None:\n",
                "    task.execute(aws_list_access_keys, lego_printer=aws_list_access_keys_printer, hdl=hdl, args=args)"
            ]
        },
        {
            "cell_type": "markdown",
            "id": "87444534-29b0-4192-8f5b-daa479606ea3",
            "metadata": {
                "jupyter": {
                    "source_hidden": false
                },
                "name": "Step-4",
                "orderProperties": [],
                "tags": [],
                "title": "Step-4"
            },
            "source": [
                "<h3><a id='4'>Delete AWS Access Key</a></h3>\n",
                "Finally, we will delete the the old (Inactive) Access Key for the IAM User\n",
                "\n",
                ">This action takes the following parameters: `aws_username` and `aws_access_key_id`"
            ]
        },
        {
            "cell_type": "code",
            "execution_count": 14,
            "id": "a1d17fd9-02c0-4814-9278-d838c7a6406a",
            "metadata": {
                "accessType": "ACCESS_TYPE_UNSPECIFIED",
                "actionBashCommand": false,
                "actionNeedsCredential": true,
                "actionRequiredLinesInCode": [],
                "actionSupportsIteration": true,
                "actionSupportsPoll": true,
                "action_uuid": "4ce21d2ac0824cafdddbb4245ffcb1d4c34786ed68c075fb1041eb8c7e22f01d",
                "continueOnError": false,
                "createTime": "1970-01-01T00:00:00Z",
                "currentVersion": "0.1.0",
                "description": "Delete an Access Key for a User",
                "id": 190,
                "index": 190,
                "inputData": [
                    {
                        "aws_access_key_id": {
                            "constant": false,
                            "value": "aws_access_key_id"
                        },
                        "aws_username": {
                            "constant": false,
                            "value": "aws_username"
                        }
                    }
                ],
                "inputschema": [
                    {
                        "properties": {
                            "aws_access_key_id": {
                                "description": "Old Access Key ID of the User",
                                "title": "Access Key ID",
                                "type": "string"
                            },
                            "aws_username": {
                                "description": "Username of the IAM User",
                                "title": "Username",
                                "type": "string"
                            }
                        },
                        "required": [
                            "aws_username",
                            "aws_access_key_id"
                        ],
                        "title": "aws_delete_access_key",
                        "type": "object"
                    }
                ],
                "jupyter": {
                    "source_hidden": true
                },
                "legotype": "LEGO_TYPE_AWS",
                "name": "AWS Delete Access Key",
                "nouns": [
                    "access key",
                    "aws"
                ],
                "orderProperties": [
                    "aws_username",
                    "aws_access_key_id"
                ],
                "output": {
                    "type": ""
                },
                "tags": [
                    "aws_delete_access_key"
                ],
                "verbs": [
                    "delete"
                ]
            },
            "outputs": [],
            "source": [
                "##\n",
                "# Copyright (c) 2021 unSkript, Inc\n",
                "# All rights reserved.\n",
                "##\n",
                "from pydantic import BaseModel, Field, SecretStr\n",
                "from typing import Dict,List\n",
                "import pprint\n",
                "\n",
                "\n",
                "from beartype import beartype\n",
                "@beartype\n",
                "def aws_delete_access_key_printer(output):\n",
                "    if output is None:\n",
                "        return\n",
                "    pprint.pprint(\"Access Key successfully deleted\")\n",
                "    pprint.pprint(output)\n",
                "\n",
                "\n",
                "@beartype\n",
                "def aws_delete_access_key(\n",
                "    handle,\n",
                "    aws_username: str,\n",
                "    aws_access_key_id: str,\n",
                ") -> Dict:\n",
                "    \"\"\"aws_delete_access_key deleted the given access key.\n",
                "                    :type handle: object\n",
                "                    :param handle: Object returned from Task Validate\n",
                "\n",
                "                    :type aws_username: str\n",
                "                    :param aws_username: Username of the IAM user to be looked up\n",
                "\n",
                "                    :type aws_access_key_id: str\n",
                "                    :param aws_access_key_id: Old Access Key ID of the user which needs to be deleted\n",
                "\n",
                "                    :rtype: Result Status Dictionary of result\n",
                "    \"\"\"\n",
                "    iamClient = handle.client('iam')\n",
                "    result = iamClient.delete_access_key(UserName=aws_username, AccessKeyId=aws_access_key_id)\n",
                "    retVal = {}\n",
                "    temp_list = []\n",
                "    for key, value in result.items():\n",
                "        if key not in temp_list:\n",
                "            temp_list.append(key)\n",
                "            retVal[key] = value\n",
                "    return retVal\n",
                "\n",
                "\n",
                "task = Task(Workflow())\n",
                "task.configure(inputParamsJson='''{\n",
                "    \"aws_access_key_id\": \"aws_access_key_id\",\n",
                "    \"aws_username\": \"aws_username\"\n",
                "    }''')\n",
                "\n",
                "(err, hdl, args) = task.validate(vars=vars())\n",
                "if err is None:\n",
                "    task.execute(aws_delete_access_key, lego_printer=aws_delete_access_key_printer, hdl=hdl, args=args)"
            ]
        },
        {
            "cell_type": "markdown",
            "id": "519cb823-2b9b-4bbd-85c8-99355dd0b79e",
            "metadata": {
                "jupyter": {
                    "source_hidden": false
                },
                "name": "Conclusion",
                "orderProperties": [],
                "tags": [],
                "title": "Conclusion"
            },
            "source": [
                "<h3>Conclusion</h3>\n",
                "<p>In this Runbook, we were able to perform AWS Access Key rotation for a given IAM user by using unSkript's AWS actions. To view the full platform capabilities of unSkript please visit <a href=\"https://us.app.unskript.io\">us.app.unskript.io</a></p>"
            ]
        }
    ],
    "metadata": {
        "execution_data": {
            "environment_id": "1499f27c-6406-4fbd-bd1b-c6f92800018f",
            "environment_name": "Staging",
            "environment_type": "ENVIRONMENT_TYPE_AWS_EC2",
            "execution_id": "",
            "inputs_for_searched_lego": "",
            "notebook_id": "74a3be03-f6a7-477f-9748-904e2ba8d010.ipynb",
            "parameters": [
                "status",
                "aws_access_key_id",
                "aws_username"
            ],
            "runbook_name": "AWS Access Key Rotation",
            "search_string": "",
            "show_tool_tip": false,
            "tenant_id": "982dba5f-d9df-48ae-a5bf-ec1fc94d4882",
            "tenant_url": "https://tenant-staging.alpha.unskript.io",
            "user_email_id": "shloka@unskript.com",
            "workflow_id": "510508e3-d296-49c9-877c-b4de6c509450"
        },
        "kernelspec": {
            "display_name": "unSkript (Build: 713)",
            "name": "python_kubernetes"
        },
        "language_info": {
            "file_extension": ".py",
            "mimetype": "text/x-python",
            "name": "python",
            "pygments_lexer": "ipython3"
        },
        "parameterSchema": {
            "properties": {
                "aws_access_key_id": {
                    "description": "Old Access Key ID of the user which needs to be updated",
                    "title": "aws_access_key_id",
                    "type": "string"
                },
                "aws_username": {
                    "description": "AWS IAM Username of the user",
                    "title": "aws_username",
                    "type": "string"
                },
                "status": {
                    "description": "Status of Access Key to be changed to. Eg: Inactive",
                    "title": "status",
                    "type": "string"
                }
            },
            "required": [
                "aws_access_key_id",
                "aws_username",
                "status"
            ],
            "title": "Schema",
            "type": "object"
        },
        "parameterValues": {}
    },
    "nbformat": 4,
    "nbformat_minor": 5
}
