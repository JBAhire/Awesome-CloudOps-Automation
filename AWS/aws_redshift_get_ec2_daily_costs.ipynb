{
 "cells": [
  {
   "cell_type": "code",
   "execution_count": 27,
   "id": "726d2e05-9a80-4158-95b6-227e81417c9f",
   "metadata": {
    "deletable": false,
    "editable": false,
    "execution_data": {
     "last_date_success_run_cell": "2023-01-09T21:04:44.789Z"
    },
    "jupyter": {
     "source_hidden": true
    },
    "orderProperties": [],
    "tags": [
     "unSkript:nbParam"
    ],
    "title": "unSkript Internal"
   },
   "outputs": [],
   "source": [
    "import json\n",
    "from unskript import nbparams\n",
    "from unskript.fwk.workflow import Task, Workflow\n",
    "from unskript.secrets import ENV_MODE, ENV_MODE_LOCAL\n",
    "\n",
    "env = {\"ENV_MODE\": \"ENV_MODE_LOCAL\"}\n",
    "secret_store_cfg = {\"SECRET_STORE_TYPE\": \"SECRET_STORE_TYPE_LOCAL\"}\n",
    "\n",
    "paramDict = {\"inputRegion\": \"us-west-2\"}\n",
    "paramsJson = json.dumps(paramDict)\n",
    "nbParamsObj = nbparams.NBParams(paramsJson)\n",
    "inputRegion = nbParamsObj.get('inputRegion')\n",
    "w = Workflow(env, secret_store_cfg, None, global_vars=globals())"
   ]
  },
  {
   "cell_type": "code",
   "execution_count": 28,
   "id": "3f711126-0eae-403b-95d3-9d025263e23f",
   "metadata": {
    "accessType": "ACCESS_TYPE_UNSPECIFIED",
    "actionBashCommand": false,
    "actionNeedsCredential": true,
    "actionOutputType": null,
    "actionRequiredLinesInCode": [],
    "actionSupportsIteration": false,
    "actionSupportsPoll": false,
    "action_modified": false,
    "action_uuid": "9528c044-95a5-4c6b-b5c9-360630af9277",
    "collapsed": true,
    "continueOnError": false,
    "credentialsJson": {
     "credential_id": "7aea1127-d810-4d26-bc00-0002dcd23927",
     "credential_name": "aws",
     "credential_type": "CONNECTOR_TYPE_AWS"
    },
    "custom_cell": true,
    "description": "Given a Secret Name - this Action returns the Secret ARN",
    "execution_data": {
     "last_date_success_run_cell": "2023-03-10T01:50:17.499Z"
    },
    "id": 4,
    "index": 4,
    "inputData": [
     {
      "region": {
       "constant": false

      },
      "secret_name": {
       "constant": false

      }
     }
    ],
    "inputschema": [
     {
      "properties": {
       "region": {
        "default": "",
        "description": "AWS Region.",
        "title": "Region",
        "type": "string"
       },
       "secret_name": {
        "default": "",
        "description": "AWS Secret Name",
        "title": "secret_name",
        "type": "string"
       }
      },
      "required": [
       "secret_name",

       "region"
      ],
      "title": "aws_get_secrets_manager_secretARN",
      "type": "object"
     }
    ],
    "jupyter": {
     "outputs_hidden": true,
     "source_hidden": true
    },
    "language": "python",
    "legotype": "LEGO_TYPE_AWS",
    "metadata": {
     "action_bash_command": "false",
     "action_description": "Given a Secret Name - this Action returns the Secret ARN",
     "action_entry_function": "aws_get_secrets_manager_secretARN",
     "action_needs_credential": "true",
     "action_output_type": "ACTION_OUTPUT_TYPE_STR",
     "action_supports_iteration": "false",
     "action_supports_poll": true,
     "action_title": "AWS Get Secrets Manager SecretARN",
     "action_type": "LEGO_TYPE_AWS",
     "action_version": "1.0.0"
    },
    "name": "AWS Get Secrets Manager SecretARN",
    "orderProperties": [
     "region",
     "secret_name"
    ],
    "outputParams": {
     "output_name": "secretArn",
     "output_name_enabled": true
    },
    "printOutput": true,
    "tags": [],
    "uuid": "9528c044-95a5-4c6b-b5c9-360630af9277",
    "version": "1.0.0"
   },
   "outputs": [
    {
     "name": "stdout",
     "output_type": "stream",
     "text": [
      "{'secret': 'arn:aws:secretsmanager:us-west-2:100498623390:secret:awsuser-doug-redshift-KvL4U1'}\n"
     ]
    }
   ],
   "source": [
    "##\n",
    "##  Copyright (c) 2021 unSkript, Inc\n",
    "##  All rights reserved.\n",
    "##\n",
    "from pydantic import BaseModel, Field\n",
    "from typing import List\n",
    "from unskript.connectors.aws import aws_get_paginator\n",
    "import pprint\n",
    "from beartype import beartype\n",
    "\n",
    "from beartype import beartype\n",
    "@beartype\n",
    "def aws_get_secrets_manager_secretARN_printer(output):\n",
    "    if output is None:\n",
    "        return\n",
    "    pprint.pprint({\"secret\": output})\n",
    "\n",
    "\n",
    "@beartype\n",
    "@beartype\n",
    "def aws_get_secrets_manager_secretARN(handle, region: str, secret_name:str) -> str:\n",
    "\n",
    "\n",
    "    # Create a Secrets Manager client\n",
    "\n",
    "    client = handle.client(\n",
    "        service_name='secretsmanager',\n",
    "        region_name=region\n",
    "    )\n",
    "\n",
    "    try:\n",
    "        get_secret_value_response = client.get_secret_value(\n",
    "            SecretId=secret_name\n",
    "        )\n",
    "    except ClientError as e:\n",
    "        # For a list of exceptions thrown, see\n",
    "        # https://docs.aws.amazon.com/secretsmanager/latest/apireference/API_GetSecretValue.html\n",
    "        raise e\n",
    "    #print(get_secret_value_response)\n",
    "    # Decrypts secret using the associated KMS key.\n",
    "    secretArn = get_secret_value_response['ARN']\n",
    "    return secretArn\n",
    "\n",
    "\n",
    "task = Task(Workflow())\n",
    "task.configure(credentialsJson='''{\n",
    "    \"credential_name\": \"aws\",\n",
    "    \"credential_type\": \"CONNECTOR_TYPE_AWS\",\n",
    "    \"credential_id\": \"7aea1127-d810-4d26-bc00-0002dcd23927\"\n",
    "}''')\n",
    "task.configure(inputParamsJson='''{\n",
    "    \"region\": \"inputRegion\",\n",
    "    \"secret_name\": \"\\\\\"awsuser-doug-redshift\\\\\"\"\n",
    "    }''')\n",
    "task.configure(outputName=\"secretArn\")\n",
    "\n",
    "task.configure(printOutput=True)\n",
    "(err, hdl, args) = task.validate(vars=vars())\n",
    "if err is None:\n",
    "    task.execute(aws_get_secrets_manager_secretARN, lego_printer=aws_get_secrets_manager_secretARN_printer, hdl=hdl, args=args)"
   ]
  },
  {
   "cell_type": "code",
   "execution_count": 29,
   "id": "06064682-fe3c-460d-bb69-dda0b7807b69",
   "metadata": {
    "collapsed": true,
    "customAction": true,
    "execution_data": {
     "last_date_success_run_cell": "2023-03-10T01:52:28.941Z"
    },
    "jupyter": {
     "outputs_hidden": true,
     "source_hidden": true
    },
    "name": "create sql query",
    "orderProperties": [],
    "tags": [],
    "title": "create sql query"
   },
   "outputs": [
    {
     "name": "stdout",
     "output_type": "stream",
     "text": [
     ]
    },
    {
     "data": {
      "text/plain": [
       "'\\n\"SELECT date_part(day, cast(lineitem_usagestartdate as date)) as day, product_instancetype,SUM(lineitem_usageamount)::numeric(37, 4) AS usage_hours, SUM((lineitem_unblendedcost)::numeric(37,4)) AS usage_cost FROM awsbilling202302 WHERE length(lineitem_usagestartdate)>8 AND product_productfamily = \\'Compute Instance\\' AND pricing_unit IN (\\'Hours\\', \\'Hrs\\') GROUP BY  day, product_instancetype ORDER BY 1 DESC, 3 DESC, 2 \"\\n'"
      ]
     },
     "execution_count": 29,
     "metadata": {},
     "output_type": "execute_result"
    }
   ],
   "source": [
    "import datetime\n",
    "\n",
    "today = datetime.datetime.now()\n",
    "\n",
    "yearmonth = today.strftime('%Y%m')\n",
    "tableName = 'awsbilling'+ yearmonth\n",
    "todayDay = int(today.strftime('%d'))\n",
    "yesterDay = 0\n",
    "if todayDay >1:\n",
    "    yesterDay = todayDay - 1\n",
    "\n",
    "sqlQuery = f\"SELECT date_part(day, cast(lineitem_usagestartdate as date)) as day, product_instancetype,SUM(lineitem_usageamount)::numeric(37, 4) AS usage_hours, SUM((lineitem_unblendedcost)::numeric(37,4)) AS usage_cost FROM {tableName} WHERE length(lineitem_usagestartdate)>8 AND product_productfamily = 'Compute Instance' AND pricing_unit IN ('Hours', 'Hrs') GROUP BY  day, product_instancetype ORDER BY 1 DESC, 3 DESC, 2 \"\n",
    "\n",
    "print(sqlQuery)\n",
    "\n",
    "'''\n",
    "\"SELECT date_part(day, cast(lineitem_usagestartdate as date)) as day, product_instancetype,SUM(lineitem_usageamount)::numeric(37, 4) AS usage_hours, SUM((lineitem_unblendedcost)::numeric(37,4)) AS usage_cost FROM awsbilling202302 WHERE length(lineitem_usagestartdate)>8 AND product_productfamily = 'Compute Instance' AND pricing_unit IN ('Hours', 'Hrs') GROUP BY  day, product_instancetype ORDER BY 1 DESC, 3 DESC, 2 \"\n",
    "'''\n",
    "\n"
   ]
  },
  {
   "cell_type": "code",
   "execution_count": 36,
   "id": "1f6feb66-2046-468a-b4a3-8e4b878e76ef",
   "metadata": {
    "accessType": "ACCESS_TYPE_UNSPECIFIED",
    "actionBashCommand": false,
    "actionNeedsCredential": true,
    "actionOutputType": null,
    "actionRequiredLinesInCode": [],
    "actionSupportsIteration": false,
    "actionSupportsPoll": false,
    "action_modified": false,
    "action_uuid": "3cd38943-9542-4ff7-a062-c0a0dcae032b",
    "continueOnError": false,
    "credentialsJson": {
     "credential_id": "7aea1127-d810-4d26-bc00-0002dcd23927",
     "credential_name": "aws",
     "credential_type": "CONNECTOR_TYPE_AWS"
    },
    "custom_cell": true,
    "description": "Make a SQL Query to the given AWS Redshift database",
    "execution_data": {
     "last_date_success_run_cell": "2023-03-10T01:57:32.320Z"
    },
    "id": 5,
    "index": 5,
    "inputData": [
     {
      "cluster": {
       "constant": false

      },
      "database": {
       "constant": false

      },
      "query": {
       "constant": false

      },
      "region": {
       "constant": false

      },
      "secretArn": {
       "constant": false

      }
     }
    ],
    "inputschema": [
     {
      "properties": {
       "cluster": {
        "default": "",
        "description": "Name of Redshift Cluster",
        "title": "cluster",
        "type": "string"
       },
       "database": {
        "default": "",
        "description": "Name of your Redshift database",
        "title": "database",
        "type": "string"
       },
       "query": {
        "default": "\"SELECT * FROM awsbilling202302 limit 2;\"",
        "description": "sql query to run",
        "title": "query",
        "type": "string"
       },
       "region": {
        "default": "",
        "description": "AWS Region.",
        "title": "Region",
        "type": "string"
       },
       "secretArn": {
        "default": "",
        "description": "Value of your Secrets Manager ARN",
        "title": "secretArn",
        "type": "string"
       }
      },
      "required": [
       "region","secretArn","query","database","cluster"
      ],
      "title": "aws_create_redshift_query",
      "type": "object"
     }
    ],
    "jupyter": {
     "source_hidden": true
    },
    "language": "python",
    "legotype": "LEGO_TYPE_AWS",
    "metadata": {
     "action_bash_command": "false",
     "action_description": "Make a SQL Query to the given AWS Redshift database",
     "action_entry_function": "aws_create_redshift_query",
     "action_needs_credential": "true",
     "action_output_type": "ACTION_OUTPUT_TYPE_STR",
     "action_supports_iteration": "false",
     "action_supports_poll": "true",
     "action_title": "AWS Redshift Query",
     "action_type": "LEGO_TYPE_AWS",
     "action_version": "1.0.0"
    },
    "name": "AWS Redshift Query",
    "orderProperties": [
     "region",
     "query",
     "cluster",
     "database",
     "secretArn"
    ],
    "outputParams": {
     "output_name": "resultId",
     "output_name_enabled": true
    },
    "printOutput": true,
    "tags": [],
    "uuid": "3cd38943-9542-4ff7-a062-c0a0dcae032b",
    "version": "1.0.0"
   },
   "outputs": [
    {
     "name": "stdout",
     "output_type": "stream",
     "text": [
      "resultId 0bf33fee-8682-468d-af85-e7bca14ae03a\n"
     ]
    }
   ],
   "source": [
    "##\n",
    "##  Copyright (c) 2021 unSkript, Inc\n",
    "##  All rights reserved.\n",
    "##\n",
    "from pydantic import BaseModel, Field\n",
    "from typing import List, Dict\n",
    "from unskript.connectors.aws import aws_get_paginator\n",
    "import pprint\n",
    "\n",
    "\n",
    "from beartype import beartype\n",
    "\n",
    "from beartype import beartype\n",
    "\n",
    "@beartype\n",
    "def aws_create_redshift_query(handle, region: str,cluster:str, database:str, secretArn: str, query:str) -> str:\n",
    "\n",
    "    # Input param validation.\n",
    "    #major change\n",
    "    client = handle.client('redshift-data', region_name=region)\n",
    "    # define your query\n",
    "    query = query\n",
    "    #query = \"SELECT * FROM PG_TABLE_DEF;\"\n",
    "    # execute the query\n",
    "    response = client.execute_statement(\n",
    "        ClusterIdentifier=cluster,\n",
    "        Database=database,\n",
    "        SecretArn=secretArn,\n",
    "        Sql=query\n",
    "    )\n",
    "    resultId = response['Id']\n",
    "    #print(response)\n",
    "    print(\"resultId\",resultId)\n",
    "\n",
    "\n",
    "    return resultId\n",
    "\n",
    "#make a change\n",
    "task = Task(Workflow())\n",
    "task.configure(credentialsJson='''{}''')\n",
    "task.configure(inputParamsJson='''{\n",
    "    \"cluster\":,\n",
    "    \"database\": ,\n",
    "    \"query\": \"\",\n",
    "    \"region\": \"\",\n",
    "    \"secretArn\": \"\"\n",
    "    }''')\n",
    "task.configure(outputName=\"resultId\")\n",
    "\n",
    "task.configure(printOutput=True)\n",
    "(err, hdl, args) = task.validate(vars=vars())\n",
    "if err is None:\n",
    "    task.execute(aws_create_redshift_query,  hdl=hdl, args=args)"
   ]
  },
  {
   "cell_type": "code",
   "execution_count": 37,
   "id": "2df1990c-69e1-4f5a-bcfb-13d424fd4465",
   "metadata": {
    "accessType": "ACCESS_TYPE_UNSPECIFIED",
    "actionBashCommand": false,
    "actionNeedsCredential": true,
    "actionOutputType": null,
    "actionRequiredLinesInCode": [],
    "actionSupportsIteration": false,
    "actionSupportsPoll": false,
    "action_modified": false,
    "action_uuid": "9fe30a58-a5f0-468a-849b-c660b6ed1995",
    "continueOnError": false,
    "credentialsJson": {
     "credential_id": "7aea1127-d810-4d26-bc00-0002dcd23927",
     "credential_name": "aws",
     "credential_type": "CONNECTOR_TYPE_AWS"
    },
    "custom_cell": true,
    "description": "Given an QueryId, this Action will give you the status of the Query, along with other data like  the number of lines/",
    "execution_data": {
     "last_date_success_run_cell": "2023-03-10T01:57:37.388Z"
    },
    "id": 3,
    "index": 3,
    "inputData": [
     {
      "queryId": {
       "constant": false,
       "value": "resultId"
      },
      "region": {
       "constant": false,
       "value": "inputRegion"
      }
     }
    ],
    "inputschema": [
     {
      "properties": {
       "queryId": {
        "default": "",
        "description": "Id of Redshift Query",
        "title": "queryId",
        "type": "string"
       },
       "region": {
        "default": "",
        "description": "AWS Region.",
        "title": "Region",
        "type": "string"
       }
      },
      "required": [
      
       "queryId",
       "region"
      ],
      "title": "aws_get_redshift_query_results",
      "type": "object"
     }
    ],
    "jupyter": {
     "source_hidden": true
    },
    "language": "python",
    "legotype": "LEGO_TYPE_AWS",
    "metadata": {
     "action_bash_command": "false",
     "action_description": "Given an QueryId, this Action will give you the status of the Query, along with other data like  the number of lines/",
     "action_entry_function": "aws_get_redshift_query_results",
     "action_needs_credential": "true",
     "action_output_type": "ACTION_OUTPUT_TYPE_DICT",
     "action_supports_iteration": "false",
     "action_supports_poll": true,
     "action_title": "AWS Get Redshift Query Details",
     "action_type": "LEGO_TYPE_AWS",
     "action_version": "1.0.0"
    },
    "name": "AWS Get Redshift Query Details",
    "orderProperties": [
     "region",
     "queryId"
    ],
    "printOutput": true,
    "tags": [],
    "uuid": "9fe30a58-a5f0-468a-849b-c660b6ed1995",
    "version": "1.0.0"
   },
   "outputs": [
    {
     "name": "stdout",
     "output_type": "stream",
     "text": [
     
     ]
    }
   ],
   "source": [
    "##\n",
    "##  Copyright (c) 2021 unSkript, Inc\n",
    "##  All rights reserved.\n",
    "##\n",
    "from pydantic import BaseModel, Field\n",
    "from typing import List, Dict\n",
    "from unskript.connectors.aws import aws_get_paginator\n",
    "import pprint\n",
    "from beartype import beartype\n",
    "\n",
    "from beartype import beartype\n",
    "@beartype\n",
    "def aws_get_redshift_query_results_printer(output):\n",
    "    if output is None:\n",
    "        return\n",
    "    pprint.pprint({\"QueryDetails\": output})\n",
    "\n",
    "\n",
    "@beartype\n",
    "@beartype\n",
    "def aws_get_redshift_query_results(handle, region: str, queryId:str) -> Dict:\n",
    "\n",
    "    client = handle.client('redshift-data', region_name=region)\n",
    "    #result = aws_get_paginator(client, \n",
    "    #                           \"get_statement_result\", \n",
    "     #                           \"TotalNumRows\", \n",
    "     #                           Id='d7bda35c-7aa4-4414-9272-9e268320df40')\n",
    "    response = client.describe_statement(\n",
    "    Id=queryId\n",
    "    )\n",
    "    resultReady = response['HasResultSet']\n",
    "    queryTimeNs = response['Duration']\n",
    "    ResultRows = response['ResultRows']\n",
    "    details = {\"resultReady\": resultReady, \n",
    "               \"queryTimeNs\":queryTimeNs,\n",
    "               \"ResultRows\":ResultRows\n",
    "              }\n",
    "    \n",
    "    return details\n",
    "\n",
    "\n",
    "task = Task(Workflow())\n",
    "task.configure(credentialsJson='''{}''')\n",
    "task.configure(inputParamsJson='''{\n",
    "    \"region\": \"\",\n",
    "    \"queryId\": \"\"\n",
    "    }''')\n",
    "\n",
    "\n",
    "task.configure(printOutput=True)\n",
    "(err, hdl, args) = task.validate(vars=vars())\n",
    "if err is None:\n",
    "    task.execute(aws_get_redshift_query_results, lego_printer=aws_get_redshift_query_results_printer, hdl=hdl, args=args)"
   ]
  },
  {
   "cell_type": "code",
   "execution_count": 38,
   "id": "ae0391f5-e34e-465d-a722-a2a4845485df",
   "metadata": {
    "accessType": "ACCESS_TYPE_UNSPECIFIED",
    "actionBashCommand": false,
    "actionNeedsCredential": true,
    "actionOutputType": null,
    "actionRequiredLinesInCode": [],
    "actionSupportsIteration": false,
    "actionSupportsPoll": false,
    "action_modified": false,
    "action_uuid": "49d4f66e-596f-47c2-ba51-54a6cb62c40b",
    "continueOnError": false,
    "credentialsJson": {
     "credential_id": "7aea1127-d810-4d26-bc00-0002dcd23927",
     "credential_name": "aws",
     "credential_type": "CONNECTOR_TYPE_AWS"
    },
    "custom_cell": true,
    "description": "Given a QueryId, Get the Query Result, and format into a List",
    "execution_data": {
     "last_date_success_run_cell": "2023-03-10T01:58:06.515Z"
    },
    "id": 4,
    "index": 4,
    "inputData": [
     {
      "region": {
       "constant": false,
       "value": "inputRegion"
      },
      "resultId": {
       "constant": false,
       "value": "resultId"
      }
     }
    ],
    "inputschema": [
     {
      "properties": {
       "region": {
        "default": "",
        "description": "AWS Region",
        "title": "region",
        "type": "string"
       },
       "resultId": {
        "default": "",
        "description": "Redshift Query Result",
        "title": "resultId",
        "type": "string"
       }
      },
      "required": [
       "resultId",
       "region"
      ],
      "title": "aws_get_redshift_result",
      "type": "object"
     }
    ],
    "jupyter": {
     "source_hidden": true
    },
    "language": "python",
    "legotype": "LEGO_TYPE_AWS",
    "metadata": {
     "action_bash_command": "false",
     "action_description": "Given a QueryId, Get the Query Result, and format into a List",
     "action_entry_function": "aws_get_redshift_result",
     "action_needs_credential": "true",
     "action_output_type": "ACTION_OUTPUT_TYPE_LIST",
     "action_supports_iteration": "false",
     "action_supports_poll": true,
     "action_title": "AWS Get Redshift Result",
     "action_type": "LEGO_TYPE_AWS",
     "action_version": "1.0.0"
    },
    "name": "AWS Get Redshift Result",
    "orderProperties": [
     "resultId",
     "region"
    ],
    "outputParams": {
     "output_name": "redshiftresult",
     "output_name_enabled": true
    },
    "printOutput": true,
    "tags": [],
    "uuid": "49d4f66e-596f-47c2-ba51-54a6cb62c40b",
    "version": "1.0.0"
   },
   "outputs": [],
   "source": [
    "##\n",
    "##  Copyright (c) 2023 unSkript, Inc\n",
    "##  All rights reserved.\n",
    "##\n",
    "from pydantic import BaseModel, Field\n",
    "from typing import List, Dict\n",
    "from unskript.connectors.aws import aws_get_paginator\n",
    "import pprint\n",
    "\n",
    "\n",
    "@beartype\n",
    "def aws_get_redshift_result(handle, region:str, resultId: str) -> List:\n",
    "\n",
    "\n",
    "    client = handle.client('redshift-data', region_name=region)\n",
    "    result = client.get_statement_result(\n",
    "        Id=resultId\n",
    "    )\n",
    "    #result has the Dictionary, but it is not easily queried\n",
    "    #get all the columns into an array\n",
    "    columnNames = []\n",
    "    for column in result['ColumnMetadata']:\n",
    "        columnNames.append(column['label'])\n",
    "    #print(columnNames)\n",
    "\n",
    "    #now let's make the output into a dict\n",
    "    listResult = []\n",
    "    for record in result['Records']:\n",
    "\n",
    "        for key, value in record[0].items():\n",
    "            rowId = value\n",
    "        entryCounter = 0\n",
    "        entryDict = {}\n",
    "        for entry in record:\n",
    "\n",
    "            for key, value in entry.items():\n",
    "                entryDict[columnNames[entryCounter]] = value\n",
    "            entryCounter +=1\n",
    "        #print(\"entryDict\",entryDict)\n",
    "        listResult.append(entryDict)\n",
    "    return listResult\n",
    "\n",
    "\n",
    "\n",
    "task = Task(Workflow())\n",
    "task.configure(credentialsJson='''{}''')\n",
    "task.configure(inputParamsJson='''{\n",
    "    \"resultId\": \"\",\n",
    "    \"region\": \"\"\n",
    "    }''')\n",
    "task.configure(outputName=\"redshiftresult\")\n",
    "\n",
    "task.configure(printOutput=True)\n",
    "(err, hdl, args) = task.validate(vars=vars())\n",
    "if err is None:\n",
    "    task.execute(aws_get_redshift_result,  hdl=hdl, args=args)"
   ]
  },
  {
   "cell_type": "code",
   "execution_count": 39,
   "id": "a3fe46da-1b72-417d-b6b9-9827ffe98f7e",
   "metadata": {
    "customAction": true,
    "execution_data": {
     "last_date_success_run_cell": "2023-03-10T01:58:08.456Z"
    },
    "jupyter": {
     "source_hidden": true
    },
    "name": "result into dataframe",
    "orderProperties": [],
    "tags": [],
    "title": "result into dataframe"
   },
   "outputs": [],
   "source": [
    "import pandas as pd\n",
    "import pprint\n",
    "\n",
    "\n",
    "df = pd.DataFrame.from_dict(redshiftresult)\n",
    "df['day']=df['day'].astype(int)\n",
    "df['usage_hours']=df['usage_hours'].astype(float)\n",
    "df['usage_cost']=df['usage_cost'].astype(float)\n",
    "#print(df)"
   ]
  },
  {
   "cell_type": "code",
   "execution_count": 40,
   "id": "8f72f9ed-873a-42a5-898a-94319f4f3daa",
   "metadata": {
    "customAction": true,
    "execution_data": {
     "last_date_success_run_cell": "2023-03-10T01:58:10.648Z"
    },
    "jupyter": {
     "source_hidden": true
    },
    "name": "chart EC2 usage",
    "orderProperties": [],
    "tags": [],
    "title": "chart EC2 usage"
   },
   "outputs": [
      
   ],
   "source": [
    "import matplotlib as mpl\n",
    "mpl.use('agg')\n",
    "from matplotlib.figure import Figure\n",
    "import panel\n",
    "import matplotlib.pyplot as plt\n",
    "import matplotlib.pyplot as plt\n",
    "\n",
    "\n",
    "font = {'size'   : 16}\n",
    "plt.rc('font', **font)\n",
    "dfpivot = df.pivot(index='day', columns='product_instancetype', values='usage_cost')\n",
    "dfpivot.plot(linewidth=5, ylabel=\"daily cost in $\", figsize=(16, 9), )\n",
    "plt.legend(loc='center left', bbox_to_anchor=(1.0, 0.5))\n",
    "plt.show()\n",
    "\n",
    "dfpivot = df.pivot(index='day', columns='product_instancetype', values='usage_cost')\n",
    "dfpivot.plot(linewidth=5, ylabel=\"daily cost in $\", figsize=(16, 9), )\n",
    "plt.ylim((0,10))\n",
    "plt.legend(loc='center left', bbox_to_anchor=(1.0, 0.5))\n",
    "plt.show()\n"
   ]
  },
  {
   "cell_type": "code",
   "execution_count": 42,
   "id": "9a603056-68ab-461f-854e-2a52ec70be26",
   "metadata": {
    "execution_data": {
     "last_date_success_run_cell": "2023-03-10T02:00:09.977Z"
    },
    "jupyter": {
     "source_hidden": true
    },
    "name": "alert if over 15% change",
    "orderProperties": [],
    "tags": [],
    "title": "alert if over 15% change"
   },
   "outputs": [
    {
     "name": "stdout",
     "output_type": "stream",
     "text": [
      "bigchange {}\n"
     ]
    }
   ],
   "source": [
    "today =8\n",
    "yesterday = today-1\n",
    "bigchange = {}\n",
    "for instance in dfpivot.columns:\n",
    "    todayCost = dfpivot.at[today, instance]\n",
    "    yesterdayCost = dfpivot.at[yesterday, instance]\n",
    "    delta =(todayCost-yesterdayCost)/yesterdayCost\n",
    "    \n",
    "    if delta >.05:\n",
    "        #print( instance, delta,dfpivot.at[today, instance], dfpivot.at[yesterday, instance])\n",
    "        bigchange[instance] = {\"delta\":delta, \"todayCost\":todayCost,\"yesterdayCost\":yesterdayCost}\n",
    "    #elif delta <-.15:\n",
    "        #print(\"savings!\", instance, delta,dfpivot.at[today, instance], dfpivot.at[yesterday, instance])\n",
    "        #bigchange[instance] = {\"delta\":delta, \"todayCost\":todayCost,\"yesterdayCost\":yesterdayCost}\n",
    "\n",
    "    \n",
    "print(\"bigchange\", bigchange)"
   ]
  },
  {
   "cell_type": "code",
   "execution_count": null,
   "id": "fcfb079c-6297-4c98-8018-d811e770c6f8",
   "metadata": {
    "orderProperties": []
   },
   "outputs": [],
   "source": []
  }
 ],
 "metadata": {
  "execution_data": {
   "environment_id": "1499f27c-6406-4fbd-bd1b-c6f92800018f",
   "environment_name": "Staging",
   "execution_id": "",
   "inputs_for_searched_lego": "",
   "notebook_id": "d4159cb3-6c83-4ba5-a2f7-d23c0777076b.ipynb",
   "parameters": null,
   "runbook_name": "AWS Daily Product Costs",
   "search_string": "",
   "show_tool_tip": false,
   "show_tool_tip_credentials_manager": true,
   "show_tool_tip_parameters_manager": true,
   "tenant_id": "982dba5f-d9df-48ae-a5bf-ec1fc94d4882",
   "tenant_url": "https://tenant-staging.alpha.unskript.io",
   "user_email_id": "support+staging@unskript.com",
   "workflow_id": "f8ead207-81c0-414a-a15b-76fcdefafe8d"
  },
  "kernelspec": {
   "display_name": "unSkript (Build: 904)",
   "language": "python",
   "name": "python3"
  },
  "language_info": {
   "codemirror_mode": {
    "name": "ipython",
    "version": 3
   },
   "file_extension": ".py",
   "mimetype": "text/x-python",
   "name": "python",
   "nbconvert_exporter": "python",
   "pygments_lexer": "ipython3",
   "version": "3.9.6"
  },
  "parameterSchema": {
   "properties": {
    "inputRegion": {
     "default": "us-west-2",
     "description": "input aws region",
     "title": "inputRegion",
     "type": "string"
    }
   },
   "required": [],
   "title": "Schema",
   "type": "object"
  }
 },
 "nbformat": 4,
 "nbformat_minor": 5
}
