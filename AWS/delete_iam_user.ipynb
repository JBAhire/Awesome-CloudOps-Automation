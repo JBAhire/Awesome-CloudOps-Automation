{
    "nbformat": 4,
    "nbformat_minor": 5,
    "metadata": {
        "kernelspec": {
            "name": "python3",
            "display_name": "unSkript (Build: 713)"
        },
        "language_info": {
            "name": "python",
            "file_extension": ".py",
            "mimetype": "text/x-python",
            "pygments_lexer": "ipython3"
        },
        "execution_data": {
            "workflow_id": "4252287a-3ca0-4064-8f39-8f87c8a060fc",
            "execution_id": "",
            "notebook_id": "4a9e62f9-8466-4e14-8d05-74074aa53236.ipynb",
            "tenant_id": "3c475b94-d99e-477e-bceb-7edf74500898",
            "tenant_url": "https://us.app.unskript.io",
            "proxy_id": "af32736b-fc75-4bdc-8785-8183cdeba8e1",
            "parameters": [
                "tag_key"
            ],
            "runbook_name": "delete user",
            "environment_name": "Spotify_app",
            "show_tool_tip": false,
            "search_string": "",
            "inputs_for_searched_lego": "",
            "user_email_id": "doug.sillars@gmail.com",
            "environment_type": "ENVIRONMENT_TYPE_UNSKRIPT_HOSTED"
        },
        "parameterSchema": {
            "properties": {
                "user_name": {
                    "default": "FoobarAdmin",
                    "description": "UserName to be deleted",
                    "title": "user_name",
                    "type": "string"
                }
            },
            "required": [],
            "title": "Schema",
            "type": "object"
        },
        "parameterValues": {
            "user_name": "FoobarAdmin"
        }
    },
    "cells": [
        {
            "id": "3c35571b-9b95-4fa7-85ab-626fa913d77e",
            "cell_type": "code",
            "metadata": {
                "actionNeedsCredential": false,
                "actionSupportsIteration": false,
                "actionSupportsPoll": false,
                "deletable": false,
                "editable": false,
                "execution_data": {
                    "last_date_success_run_cell": "2022-11-29T19:33:18.861Z"
                },
                "jupyter": {
                    "source_hidden": true
                },
                "orderProperties": [],
                "tags": [
                    "unSkript:nbParam"
                ],
                "title": [
                    "unSkript Internal"
                ],
                "trusted": true
            },
            "source": [
                "import json\n",
                "import os\n",
                "from unskript import nbparams\n",
                "from unskript.secrets import ENV_MODE, ENV_MODE_AWS\n",
                "from unskript.fwk.workflow import Task, Workflow\n",
                "\n",
                "env = {\"ENV_MODE\":\"ENV_MODE_UNSKRIPT_HOSTED\",\"TENANT_ID\":\"3c475b94-d99e-477e-bceb-7edf74500898\",\"PROXY_ID\":\"af32736b-fc75-4bdc-8785-8183cdeba8e1\",\"TENANT_URL\":\"https://us.app.unskript.io\",\"AWS_REGION\":\"us-west-2\"}\n",
                "secret_store_cfg = {\"SECRET_STORE_TYPE\":\"SECRET_STORE_TYPE_AWS\",\"AWS_SECRET_PREFIX\":\"\",\"AWS_REGION\":\"us-west-2\"}\n",
                "os.environ[\"UNSKRIPT_REDIS_HOST\"] = \"redis-master.redis.svc.cluster.local\"\n",
                "os.environ[\"UNSKRIPT_TOKEN\"] = \"5c4a5754-0600-11ec-9a03-0242ac130003\"\n",
                "os.environ[\"TENANT_URL\"] = env[\"TENANT_URL\"]\n",
                "paramDict = {\"user_name\": \"FoobarAdmin\"}\n",
                "paramDict.update(env)\n",
                "paramDict.update(secret_store_cfg)\n",
                "paramsJson = json.dumps(paramDict)\n",
                "nbParamsObj = nbparams.NBParams(paramsJson)\n",
                "user_name = nbParamsObj.get('user_name')\n",
                "\n",
                "w = Workflow(env, secret_store_cfg, None, global_vars=globals())\n"
            ],
            "execution_count": 73,
            "outputs": []
        },
        {
            "id": "8a97b231-94d6-4e10-a24c-6eac9a4572e4",
            "cell_type": "markdown",
            "metadata": {
                "jupyter": {
                    "source_hidden": false
                },
                "name": "delete IAM User",
                "orderProperties": [],
                "tags": [],
                "title": "delete IAM User"
            },
            "source": "<img src=\"https://unskript.com/assets/favicon.png\" alt=\"unSkript.com\" width=\"100\" height=\"100\"/> \n<h1> unSkript Runbooks </h1>\n<div class=\"alert alert-block alert-success\">\n    <b> This runbook demonstrates How to delete IAM user using unSkript legos.</b>\n</div>\n\n<br>\n\n<center><h2>Delete IAM User</h2></center>\n\n# Steps Overview\n1) Delete login profile for given user.\n2) Get list of all Access policies for the user.\n3) Remove each policy found.\n4) .Delete IAM user by passing User name. \n5) Check the caller identity of the current user.\n6) Send success IAM user deletion message to the slack channel",
            "execution_count": null,
            "outputs": []
        },
        {
            "id": "c174d638-f107-450f-ab2d-d28cf097a722",
            "cell_type": "markdown",
            "metadata": {
                "jupyter": {
                    "source_hidden": false
                },
                "name": "Delete login profile for IAM User",
                "orderProperties": [],
                "tags": [],
                "title": "Delete login profile for IAM User"
            },
            "source": "Here we will Delete the ogin Profile for an IAM User. This lego takes UserName as input, and deletes the login profile for the user.",
            "execution_count": null,
            "outputs": []
        },
        {
            "id": "d5f3fcb4-a941-42b5-889a-7cfdbefae5ca",
            "cell_type": "code",
            "metadata": {
                "accessType": "ACCESS_TYPE_UNSPECIFIED",
                "actionBashCommand": false,
                "actionNeedsCredential": true,
                "actionRequiredLinesInCode": [],
                "actionSupportsIteration": true,
                "actionSupportsPoll": true,
                "action_uuid": "abe9fc82a53b80dc1dd4d5a89e31d22b0338e73e86d2ca859576f38cc6d19f48",
                "condition_enabled": true,
                "continueOnError": false,
                "createTime": "1970-01-01T00:00:00Z",
                "credentialsJson": {
                    "credential_id": "2abcb384-0732-4257-94bd-6f4d3374890e",
                    "credential_name": "doug aws",
                    "credential_type": "CONNECTOR_TYPE_AWS"
                },
                "currentVersion": "0.1.0",
                "description": "Filter AWS EC2 Instance by Tag",
                "execution_data": {
                    "last_date_success_run_cell": "2022-12-01T02:08:40.419Z"
                },
                "id": 155,
                "index": 155,
                "inputData": [
                    {
                        "UserName": {
                            "constant": false,
                            "value": "user_name"
                        }
                    }
                ],
                "inputschema": [
                    {
                        "properties": {
                            "UserName": {
                                "default": "",
                                "description": "IAM User Name",
                                "title": "UserName",
                                "type": "string"
                            }
                        },
                        "required": [
                            "tag_key",
                            "tag_value",
                            "region"
                        ],
                        "title": "aws_filter_ec2_by_tags",
                        "type": "object"
                    }
                ],
                "jupyter": {
                    "source_hidden": true
                },
                "legotype": "LEGO_TYPE_AWS",
                "name": "Delete Login Profile for IAM User",
                "nouns": [
                    "aws",
                    "ec2",
                    "instances",
                    "tag"
                ],
                "orderProperties": [
                    "UserName"
                ],
                "output": {
                    "type": ""
                },
                "startcondition": "'User' in UserInfo",
                "tags": [
                    "aws_filter_ec2_by_tags"
                ],
                "title": "Delete Login Profile for IAM User",
                "trusted": true,
                "verbs": [
                    "filter"
                ]
            },
            "source": "##\n##  Copyright (c) 2021 unSkript, Inc\n##  All rights reserved.\n##\nfrom pydantic import BaseModel, Field\nfrom typing import Dict\nfrom botocore.exceptions import ClientError\nimport pprint\n\nfrom beartype import beartype\n@beartype\ndef aws_delete_user_login_profile_printer(output):\n    if output is None:\n        return\n    pprint.pprint(output)\n\n\n@beartype\ndef aws_delete_user_login_profile(handle, UserName: str) -> Dict:\n    \"\"\"aws_create_user_login_profile Create login profile for IAM User.\n\n        :type UserName: string\n        :param UserName: Name of new IAM User.\n\n \n\n        :rtype: Dict with the Profile Creation status info.\n    \"\"\"\n\n    ec2Client = handle.client(\"iam\")\n    result = {}\n    try:\n        response = ec2Client.delete_login_profile(\n            UserName=UserName)\n\n        result = response\n    except ClientError as error:\n        if error.response['Error']['Code'] == 'EntityAlreadyDeleted':\n            result = error.response\n        else:\n            result = error.response\n\n    return result\n\n\ntask = Task(Workflow())\ntask.configure(credentialsJson='''{\n    \"credential_name\": \"doug aws\",\n    \"credential_type\": \"CONNECTOR_TYPE_AWS\",\n    \"credential_id\": \"2abcb384-0732-4257-94bd-6f4d3374890e\"\n}''')\n\ntask.configure(inputParamsJson='''{\n    \"UserName\": \"user_name\"\n    }''')\n\n\n\n(err, hdl, args) = task.validate(vars=vars())\nif err is None:\n    task.execute(aws_delete_user_login_profile, lego_printer=aws_delete_user_login_profile_printer, hdl=hdl, args=args)",
            "execution_count": 74,
            "outputs": []
        },
        {
            "id": "77ae7997-be76-48c7-afc5-eeae200e4eef",
            "cell_type": "markdown",
            "metadata": {
                "name": "get all policies for user",
                "orderProperties": [],
                "tags": [],
                "title": "get all policies for user"
            },
            "source": "This user may have multiple policies that we have to delete before we delete the user",
            "execution_count": null,
            "outputs": []
        },
        {
            "id": "a27344e5-b608-4fc5-8048-73a2af86f8e3",
            "cell_type": "code",
            "metadata": {
                "accessType": "ACCESS_TYPE_UNSPECIFIED",
                "actionBashCommand": false,
                "actionNeedsCredential": true,
                "actionRequiredLinesInCode": [],
                "actionSupportsIteration": true,
                "actionSupportsPoll": true,
                "action_uuid": "eb5306c9a3d782b9cdce8f2b3d9e57ca882dfce071f897f134b6f172b3e00bad",
                "continueOnError": false,
                "createTime": "1970-01-01T00:00:00Z",
                "credentialsJson": {
                    "credential_id": "2abcb384-0732-4257-94bd-6f4d3374890e",
                    "credential_name": "doug aws",
                    "credential_type": "CONNECTOR_TYPE_AWS"
                },
                "currentVersion": "0.1.0",
                "description": "AWS List Attached User Policies",
                "execution_data": {
                    "last_date_success_run_cell": "2022-12-01T02:12:16.467Z"
                },
                "id": 232,
                "index": 232,
                "inputData": [
                    {
                        "user_name": {
                            "constant": false,
                            "value": "user_name"
                        }
                    }
                ],
                "inputschema": [
                    {
                        "properties": {
                            "user_name": {
                                "description": "IAM user whose policies need to fetched.",
                                "title": "User Name",
                                "type": "string"
                            }
                        },
                        "required": [
                            "user_name"
                        ],
                        "title": "aws_list_attached_user_policies",
                        "type": "object"
                    }
                ],
                "jupyter": {
                    "source_hidden": true
                },
                "legotype": "LEGO_TYPE_AWS",
                "name": "AWS List Attached User Policies",
                "nouns": [
                    "aws",
                    "user",
                    "policy"
                ],
                "orderProperties": [
                    "user_name"
                ],
                "output": {
                    "type": ""
                },
                "outputParams": {
                    "output_name": "policies",
                    "output_name_enabled": true
                },
                "tags": [
                    "aws_list_attached_user_policies"
                ],
                "title": "AWS List Attached User Policies",
                "trusted": true,
                "verbs": [
                    "list"
                ]
            },
            "source": "##  Copyright (c) 2021 unSkript, Inc\n##  All rights reserved.\n##\nfrom typing import List, Dict\nfrom pydantic import BaseModel, Field\nfrom botocore.exceptions import ClientError\nimport pprint\n\n\nfrom beartype import beartype\n@beartype\ndef aws_list_attached_user_policies_printer(output):\n    if output is None:\n        return\n    pprint.pprint(output)\n\n\n@beartype\ndef aws_list_attached_user_policies(handle, user_name: str) -> List:\n    \"\"\"aws_list_attached_user_policies returns the list of policies attached to the user.\n\n        :type handle: object\n        :param handle: Object returned from task.validate(...).\n\n        :type user_name: string\n        :param user_name: IAM user whose policies need to fetched.\n\n        :rtype: List with with the attched policy names.\n    \"\"\"\n    result = []\n    ec2Client = handle.client('iam')\n    try:\n        response = ec2Client.list_attached_user_policies(UserName=user_name)\n        for i in response[\"AttachedPolicies\"]:\n            result.append(i['PolicyName'])\n\n    except ClientError as error:\n        result.append(error.response)\n\n    return result\n\n\ntask = Task(Workflow())\ntask.configure(credentialsJson='''{\n    \"credential_name\": \"doug aws\",\n    \"credential_type\": \"CONNECTOR_TYPE_AWS\",\n    \"credential_id\": \"2abcb384-0732-4257-94bd-6f4d3374890e\"\n}''')\ntask.configure(inputParamsJson='''{\n    \"user_name\": \"user_name\"\n    }''')\ntask.configure(outputName=\"policies\")\n(err, hdl, args) = task.validate(vars=vars())\nif err is None:\n    task.execute(aws_list_attached_user_policies, lego_printer=aws_list_attached_user_policies_printer, hdl=hdl, args=args)",
            "execution_count": 78,
            "outputs": []
        },
        {
            "id": "82585fa1-89b1-4ccb-9e5f-a116baf21928",
            "cell_type": "code",
            "metadata": {
                "accessType": "ACCESS_TYPE_UNSPECIFIED",
                "actionBashCommand": false,
                "actionNeedsCredential": true,
                "actionRequiredLinesInCode": [],
                "actionSupportsIteration": true,
                "actionSupportsPoll": true,
                "action_uuid": "dee9134df84f6c675edab485389572795169495347e40abbdf81f24ec807a85c",
                "continueOnError": false,
                "createTime": "1970-01-01T00:00:00Z",
                "credentialsJson": {
                    "credential_id": "2abcb384-0732-4257-94bd-6f4d3374890e",
                    "credential_name": "doug aws",
                    "credential_type": "CONNECTOR_TYPE_AWS"
                },
                "currentVersion": "0.1.0",
                "description": "AWS Attach New Policy to User",
                "execution_data": {
                    "last_date_success_run_cell": "2022-12-01T02:10:40.533Z"
                },
                "id": 196,
                "index": 196,
                "inputData": [
                    {
                        "policy_name": {
                            "constant": false,
                            "value": "policies"
                        },
                        "user_name": {
                            "constant": false,
                            "value": "user_name"
                        }
                    }
                ],
                "inputschema": [
                    {
                        "properties": {
                            "policy_name": {
                                "description": "Policy name to apply the permissions to the user.",
                                "title": "Policy Name",
                                "type": "string"
                            },
                            "user_name": {
                                "description": "IAM user whose policies need to fetched.",
                                "title": "User Name",
                                "type": "string"
                            }
                        },
                        "required": [
                            "user_name",
                            "policy_name"
                        ],
                        "title": "aws_attache_iam_policy",
                        "type": "object"
                    }
                ],
                "jupyter": {
                    "source_hidden": true
                },
                "legotype": "LEGO_TYPE_AWS",
                "name": "AWS remove Policies from User",
                "nouns": [
                    "aws",
                    "policy",
                    "IAM",
                    "user"
                ],
                "orderProperties": [
                    "user_name",
                    "policy_name"
                ],
                "output": {
                    "type": ""
                },
                "service_id_enabled": false,
                "tags": [
                    "aws_attache_iam_policy"
                ],
                "title": "AWS remove Policies from User",
                "trusted": true,
                "verbs": [
                    "attach"
                ]
            },
            "source": "##  Copyright (c) 2021 unSkript, Inc\n##  All rights reserved.\n##\nfrom typing import List, Dict\nfrom pydantic import BaseModel, Field\nfrom botocore.exceptions import ClientError\nimport pprint\n\n\nfrom beartype import beartype\n\ndef aws_detach_iam_policy(handle, user_name: str, policy_name) -> Dict:\n    \"\"\"aws_attache_iam_policy used to provide user permissions.\n        :type handle: object\n        :param handle: Object returned from task.validate(...).\n        :type user_name: string\n        :param user_name: Dictionary of credentials info.\n        :type policy_name: string\n        :param policy_name: Policy name to apply the permissions to the user.\n        :rtype: Dict with User policy information.\n    \"\"\"\n    for policy in policy_name:\n    \n        result = {}\n        iamResource = handle.resource('iam')\n        try:\n            user = iamResource.User(user_name)\n            response = user.detach_policy(\n                PolicyArn='arn:aws:iam::aws:policy/'+policy\n                )\n            result = response\n        except ClientError as error:\n            result = error.response\n\n    return result\n\n\ndef unskript_default_printer(output):\n    if isinstance(output, (list, tuple)):\n        for item in output:\n            print(f'item: {item}')\n    elif isinstance(output, dict):\n        for item in output.items():\n            print(f'item: {item}')\n    else:\n        print(f'Output for {task.name}')\n        print(output)\n\ntask = Task(Workflow())\ntask.configure(credentialsJson='''{\n    \"credential_name\": \"doug aws\",\n    \"credential_type\": \"CONNECTOR_TYPE_AWS\",\n    \"credential_id\": \"2abcb384-0732-4257-94bd-6f4d3374890e\"\n}''')\ntask.configure(inputParamsJson='''{\n    \"policy_name\": \"policies\",\n    \"user_name\": \"user_name\"\n    }''')\n\n(err, hdl, args) = task.validate(vars=vars())\nif err is None:\n    task.execute(aws_detach_iam_policy, lego_printer=unskript_default_printer, hdl=hdl, args=args)",
            "execution_count": 77,
            "outputs": []
        },
        {
            "id": "52a2105e-1ac2-4bae-95f1-c4b3675723d0",
            "cell_type": "markdown",
            "metadata": {
                "jupyter": {
                    "source_hidden": false
                },
                "name": "Delete IAM User",
                "orderProperties": [],
                "tags": [],
                "title": "Delete IAM User"
            },
            "source": "Here we will use unSkript Delete IAM User Lego. This lego takes user_name as input. This inputs is used to delete the IAM user from AWS.",
            "execution_count": null,
            "outputs": []
        },
        {
            "id": "b2abbbfe-05b6-473c-92b0-0de1bb9e43b6",
            "cell_type": "code",
            "metadata": {
                "accessType": "ACCESS_TYPE_UNSPECIFIED",
                "actionBashCommand": false,
                "actionNeedsCredential": true,
                "actionRequiredLinesInCode": [],
                "actionSupportsIteration": true,
                "actionSupportsPoll": true,
                "action_uuid": "afacde59-a401-4a8b-901d-46c4b3970b78",
                "collapsed": true,
                "continueOnError": false,
                "createTime": "2022-07-27T16:51:48Z",
                "credentialsJson": {
                    "credential_id": "2abcb384-0732-4257-94bd-6f4d3374890e",
                    "credential_name": "doug aws",
                    "credential_type": "CONNECTOR_TYPE_AWS"
                },
                "currentVersion": "v0.0.0",
                "description": "Test",
                "execution_data": {
                    "last_date_success_run_cell": "2022-12-01T02:12:21.558Z"
                },
                "id": 100001,
                "index": 100001,
                "inputData": [
                    {
                        "user_name": {
                            "constant": false,
                            "value": "user_name"
                        }
                    }
                ],
                "inputschema": [
                    {
                        "properties": {
                            "user_name": {
                                "default": "",
                                "description": "User Name",
                                "title": "user_name",
                                "type": "string"
                            }
                        },
                        "required": [
                            "instance_ids",
                            "region"
                        ],
                        "title": "aws_restart_ec2_instances_test",
                        "type": "object"
                    }
                ],
                "jupyter": {
                    "outputs_hidden": true,
                    "source_hidden": true
                },
                "legotype": "LEGO_TYPE_AWS",
                "name": "Delete IAM User",
                "nouns": [],
                "orderProperties": [
                    "user_name"
                ],
                "output": {
                    "type": ""
                },
                "outputParams": {
                    "output_name": "UserInfo",
                    "output_name_enabled": true
                },
                "tags": [],
                "title": "Delete IAM User",
                "trusted": true,
                "verbs": []
            },
            "source": "##  Copyright (c) 2021 unSkript, Inc\n##  All rights reserved.\n##\nfrom typing import List, Dict\nfrom pydantic import BaseModel, Field\nfrom botocore.exceptions import ClientError\nimport pprint\n\nfrom beartype import beartype\n@beartype\ndef aws_delete_iam_user_printer(output):\n    if output is None:\n        return\n    pprint.pprint(output)\n\n\n@beartype\ndef aws_delete_iam_user(handle, user_name: str) -> Dict:\n    \"\"\"aws_create_iam_user Creates new IAM User.\n\n        :type user_name: string\n        :param user_name: Name of new IAM User.\n\n\n        :rtype: Dict with the stopped instances state info.\n    \"\"\"\n\n    ec2Client = handle.client(\"iam\")\n    result = {}\n    try:\n        response = ec2Client.delete_user(\n            UserName=user_name)\n        result = response\n    except ClientError as error:\n        if error.response['Error']['Code'] == 'EntityAlreadyExists':\n            result = error.response\n        else:\n            result = error.response\n\n    return result\n\n\ntask = Task(Workflow())\ntask.configure(credentialsJson='''{\n    \"credential_name\": \"doug aws\",\n    \"credential_type\": \"CONNECTOR_TYPE_AWS\",\n    \"credential_id\": \"2abcb384-0732-4257-94bd-6f4d3374890e\"\n}''')\n\ntask.configure(inputParamsJson='''{\n    \"user_name\": \"user_name\"\n    }''')\ntask.configure(outputName=\"UserInfo\")\n(err, hdl, args) = task.validate(vars=vars())\nif err is None:\n    task.execute(aws_delete_iam_user, lego_printer=aws_delete_iam_user_printer, hdl=hdl, args=args)",
            "execution_count": 79,
            "outputs": []
        },
        {
            "id": "29511895-d1cc-4a01-9990-8928642b5006",
            "cell_type": "markdown",
            "metadata": {
                "jupyter": {
                    "source_hidden": false
                },
                "name": "STS Get Caller Identity",
                "orderProperties": [],
                "tags": [],
                "title": "STS Get Caller Identity"
            },
            "source": "Here we will use unSkript STS Get Caller Identity Lego. This lego did't take any inputs. Shows the the caller identity for the current user.",
            "execution_count": null,
            "outputs": []
        },
        {
            "id": "dd1e1542-ddd7-4b86-86a2-17e999458fbd",
            "cell_type": "code",
            "metadata": {
                "accessType": "ACCESS_TYPE_UNSPECIFIED",
                "actionBashCommand": false,
                "actionNeedsCredential": true,
                "actionRequiredLinesInCode": [],
                "actionSupportsIteration": true,
                "actionSupportsPoll": true,
                "action_uuid": "afacde59-a401-4a8b-901d-46c4b3970b78",
                "createTime": "2022-07-27T16:51:48Z",
                "credentialsJson": {
                    "credential_id": "2abcb384-0732-4257-94bd-6f4d3374890e",
                    "credential_name": "doug aws",
                    "credential_type": "CONNECTOR_TYPE_AWS"
                },
                "currentVersion": "v0.0.0",
                "description": "Test",
                "execution_data": {
                    "last_date_success_run_cell": "2022-12-01T02:12:26.299Z"
                },
                "id": 100001,
                "index": 100001,
                "inputschema": [
                    {
                        "properties": {},
                        "required": [
                            "instance_ids",
                            "region"
                        ],
                        "title": "aws_restart_ec2_instances_test",
                        "type": "object"
                    }
                ],
                "jupyter": {
                    "source_hidden": true
                },
                "legotype": "LEGO_TYPE_AWS",
                "name": "STS Get Caller Identity ",
                "nouns": [],
                "orderProperties": [],
                "output": {
                    "type": ""
                },
                "outputParams": {
                    "output_name": "caller",
                    "output_name_enabled": true
                },
                "tags": [],
                "title": "STS Get Caller Identity ",
                "trusted": true,
                "verbs": []
            },
            "source": "##  Copyright (c) 2021 unSkript, Inc\n##  All rights reserved.\n##\nfrom typing import List, Dict\nfrom pydantic import BaseModel, Field\nimport pprint\n\n\nfrom beartype import beartype\n@beartype\ndef aws_get_caller_identity_printer(output):\n    if output is None:\n        return\n    pprint.pprint(output)\n\n\n@beartype\ndef aws_get_caller_identity(handle) -> Dict:\n    ec2Client = handle.client('sts')\n    response = ec2Client.get_caller_identity()\n\n    return response\n\n\ntask = Task(Workflow())\ntask.configure(outputName=\"caller\")\n\ntask.configure(credentialsJson='''{\n    \"credential_name\": \"doug aws\",\n    \"credential_type\": \"CONNECTOR_TYPE_AWS\",\n    \"credential_id\": \"2abcb384-0732-4257-94bd-6f4d3374890e\"\n}''')\n\n(err, hdl, args) = task.validate(vars=vars())\nif err is None:\n    task.execute(aws_get_caller_identity, lego_printer=aws_get_caller_identity_printer, hdl=hdl, args=args)",
            "execution_count": 80,
            "outputs": []
        },
        {
            "id": "d1f05583-fa8c-4f8c-a357-3f6154df4620",
            "cell_type": "markdown",
            "metadata": {
                "jupyter": {
                    "source_hidden": false
                },
                "name": "Post Slack Message",
                "orderProperties": [],
                "tags": [],
                "title": "Post Slack Message"
            },
            "source": "Here we will use unSkript Post Slack Message Lego. This lego takes channel name and message as input. This inputs is used to to post the message when new IAM user created.",
            "execution_count": null,
            "outputs": []
        },
        {
            "id": "8cacd129-1fed-4c9e-9f2f-70da41c43c88",
            "cell_type": "code",
            "metadata": {
                "accessType": "ACCESS_TYPE_UNSPECIFIED",
                "actionBashCommand": false,
                "actionNeedsCredential": true,
                "actionRequiredLinesInCode": [],
                "actionSupportsIteration": true,
                "actionSupportsPoll": true,
                "action_uuid": "6a87f83ab0ecfeecb9c98d084e2b1066c26fa64be5b4928d5573a5d60299802d",
                "continueOnError": false,
                "createTime": "1970-01-01T00:00:00Z",
                "credentialsJson": {
                    "credential_id": "49e309a8-3ed5-49d6-b437-1bbd8b95a1a2",
                    "credential_name": "doug_slack",
                    "credential_type": "CONNECTOR_TYPE_SLACK"
                },
                "currentVersion": "0.1.0",
                "description": "Post Slack Message",
                "execution_data": {
                    "last_date_success_run_cell": "2022-12-01T02:12:28.404Z"
                },
                "id": 62,
                "index": 62,
                "inputData": [
                    {
                        "channel": {
                            "constant": false,
                            "value": "\"devrel_doug_test1\""
                        },
                        "message": {
                            "constant": false,
                            "value": "f'IAM user {user_name} deleted by {caller[\"Arn\"]}'"
                        }
                    }
                ],
                "inputschema": [
                    {
                        "properties": {
                            "channel": {
                                "description": "Name of the slack channel where the message to be posted",
                                "title": "Channel",
                                "type": "string"
                            },
                            "message": {
                                "description": "Message to be sent",
                                "title": "Message",
                                "type": "string"
                            }
                        },
                        "required": [
                            "channel",
                            "message"
                        ],
                        "title": "slack_post_message",
                        "type": "object"
                    }
                ],
                "jupyter": {
                    "source_hidden": true
                },
                "legotype": "LEGO_TYPE_SLACK",
                "name": "Post Slack Message",
                "nouns": [
                    "slack",
                    "message"
                ],
                "orderProperties": [
                    "channel",
                    "message"
                ],
                "output": {
                    "type": ""
                },
                "tags": [
                    "slack_post_message"
                ],
                "trusted": true,
                "verbs": [
                    "post"
                ]
            },
            "source": "##\n# Copyright (c) 2021 unSkript, Inc\n# All rights reserved.\n##\n\nimport pprint\n\nfrom pydantic import BaseModel, Field\nfrom slack_sdk import WebClient\nfrom slack_sdk.errors import SlackApiError\n\npp = pprint.PrettyPrinter(indent=2)\n\n\nfrom beartype import beartype\n@beartype\ndef slack_post_message_printer(output):\n    if output is not None:\n        pprint.pprint(output)\n    else:\n        return\n\n\n@beartype\ndef slack_post_message(\n        handle: WebClient,\n        channel: str,\n        message: str) -> str:\n\n    try:\n        response = handle.chat_postMessage(\n            channel=channel,\n            text=message)\n        return f\"Successfuly Sent Message on Channel: #{channel}\"\n    except SlackApiError as e:\n        pp.pprint(\n            f\"Failed sending message to slack channel {channel}, Error: {e.response['error']}\")\n        if e.response['error'] == 'channel_not_found':\n            raise Exception('Channel Not Found')\n        elif e.response['error'] == 'duplicate_channel_not_found':\n            raise Exception('Channel associated with the message_id not valid')\n        elif e.response['error'] == 'not_in_channel':\n            raise Exception('Cannot post message to channel user is not in')\n        elif e.response['error'] == 'is_archived':\n            raise Exception('Channel has been archived')\n        elif e.response['error'] == 'msg_too_long':\n            raise Exception('Message text is too long')\n        elif e.response['error'] == 'no_text':\n            raise Exception('Message text was not provided')\n        elif e.response['error'] == 'restricted_action':\n            raise Exception('Workspace preference prevents user from posting')\n        elif e.response['error'] == 'restricted_action_read_only_channel':\n            raise Exception('Cannot Post message, read-only channel')\n        elif e.response['error'] == 'team_access_not_granted':\n            raise Exception('The token used is not granted access to the workspace')\n        elif e.response['error'] == 'not_authed':\n            raise Exception('No Authtnecition token provided')\n        elif e.response['error'] == 'invalid_auth':\n            raise Exception('Some aspect of Authentication cannot be validated. Request denied')\n        elif e.response['error'] == 'access_denied':\n            raise Exception('Access to a resource specified in the request denied')\n        elif e.response['error'] == 'account_inactive':\n            raise Exception('Authentication token is for a deleted user')\n        elif e.response['error'] == 'token_revoked':\n            raise Exception('Authentication token for a deleted user has been revoked')\n        elif e.response['error'] == 'no_permission':\n            raise Exception('The workspace toekn used does not have necessary permission to send message')\n        elif e.response['error'] == 'ratelimited':\n            raise Exception('The request has been ratelimited. Retry sending message later')\n        elif e.response['error'] == 'service_unavailable':\n            raise Exception('The service is temporarily unavailable')\n        elif e.response['error'] == 'fatal_error':\n            raise Exception('The server encountered catostrophic error while sending message')\n        elif e.response['error'] == 'internal_error':\n            raise Exception('The server could not complete operation, likely due to transietn issue')\n        elif e.response['error'] == 'request_timeout':\n            raise Exception('Sending message error via POST: either message was missing or truncated')\n        else:\n            raise Exception(f'Failed Sending Message to slack channel {channel} Error: {e.response[\"error\"]}')\n\n    except Exception as e:\n        print(\"\\n\\n\")\n        pp.pprint(\n            f\"Failed sending message to slack channel {channel}, Error: {e.__str__()}\")\n        return f\"Unable to send message on {channel}\"\n\n\ntask = Task(Workflow())\ntask.configure(credentialsJson='''{\n    \"credential_name\": \"doug_slack\",\n    \"credential_type\": \"CONNECTOR_TYPE_SLACK\",\n    \"credential_id\": \"49e309a8-3ed5-49d6-b437-1bbd8b95a1a2\"\n}''')\n\ntask.configure(inputParamsJson='''{\n    \"channel\": \"\\\\\"devrel_doug_test1\\\\\"\",\n    \"message\": \"f'IAM user {user_name} deleted by {caller[\\\\\"Arn\\\\\"]}'\"\n    }''')\n\n\n(err, hdl, args) = task.validate(vars=vars())\nif err is None:\n    task.execute(slack_post_message, lego_printer=slack_post_message_printer, hdl=hdl, args=args)",
            "execution_count": 81,
            "outputs": []
        },
        {
            "id": "e9df5398-15b1-4279-92b8-d4c62372afed",
            "cell_type": "markdown",
            "metadata": {
                "jupyter": {
                    "source_hidden": false
                },
                "name": "Conclusion",
                "orderProperties": [],
                "tags": [],
                "title": "Conclusion"
            },
            "source": "In this Runbook, we demonstrated the use of unSkript's AWS and slack to perform AWS create new IAM user and login profile for the same user and also show the caller identity of the current user and post the message on the slack channel. To view the full platform capabilities of unSkript please visit https://unskript.com",
            "execution_count": null,
            "outputs": []
        }
    ]
}