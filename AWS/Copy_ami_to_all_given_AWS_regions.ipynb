{
    "cells": [
        {
            "cell_type": "markdown",
            "id": "07894245-58bd-475f-b722-8d7513fbe063",
            "metadata": {
                "jupyter": {
                    "source_hidden": false
                },
                "name": "Copy AMI to All Given AWS Regions",
                "orderProperties": [],
                "tags": [],
                "title": "Copy AMI to All Given AWS Regions"
            },
            "source": [
                "<center>\n",
                "<img src=\"https://unskript.com/assets/favicon.png\" alt=\"unSkript.com\" width=\"100\" height=\"100\"/> \n",
                "<h1> unSkript Runbooks </h1>\n",
                "<div class=\"alert alert-block alert-success\">\n",
                "    <b> This runbook demonstrates how to copy an AMI from one region to multiple AWS regions using unSkript actions.</b>\n",
                "</div>\n",
                "\n",
                "<br>\n",
                "</center>\n",
                "<center><h2>Copy AMI To All Given AWS Regions</h2></center>\n",
                "\n",
                "# Steps Overview\n",
                "   1)[Get All AWS Regions](#1)</br>\n",
                "    \n",
                "   2)[Copy AMI To Other AWS Regions](#2)"
            ]
        },
        {
            "cell_type": "markdown",
            "id": "5573f1a7-bf52-4f6c-a458-c7c84092f8b9",
            "metadata": {
                "jupyter": {
                    "source_hidden": false
                },
                "name": "Step-1",
                "orderProperties": [],
                "tags": [],
                "title": "Step-1"
            },
            "source": [
                "### <a id=\"1\"> Get All AWS Regions</a>\n",
                "Here in step-1 we will collect all the regions from the AWS by using a command `aws ec2 describe-regions --all-regions --query 'Regions[].{Name:RegionName}' --output text`. This action only executes when the user doesn't provide the destination regions.\n",
                "\n",
                ">Input parameters: `aws_command`\n",
                "\n",
                ">Ouput variable: `destination_regions`"
            ]
        },
        {
            "cell_type": "code",
            "execution_count": 12,
            "id": "7076ee03-6e21-46fd-bf8a-78a3df435bf1",
            "metadata": {
                "accessType": "ACCESS_TYPE_UNSPECIFIED",
                "actionBashCommand": false,
                "actionNeedsCredential": true,
                "actionRequiredLinesInCode": [],
                "actionSupportsIteration": true,
                "actionSupportsPoll": true,
                "action_uuid": "1db371aff42291641eb6ba83d7acc3fe28e2468d83be1552e8258dc878c0f70d",
                "collapsed": true,
                "condition_enabled": true,
                "continueOnError": false,
                "createTime": "1970-01-01T00:00:00Z",
                "credentialsJson": {
                },
                "currentVersion": "0.1.0",
                "description": " Execute command using AWS CLI",
                "execution_data": {
                    "last_date_success_run_cell": "2022-11-30T10:01:10.133Z"
                },
                "id": 173,
                "index": 173,
                "inputData": [
                    {
                        "aws_command": {
                            "constant": false,
                            "value": "\"aws ec2 describe-regions --all-regions --query 'Regions[].{Name:RegionName}' --output text\""
                        }
                    }
                ],
                "inputschema": [
                    {
                        "properties": {
                            "aws_command": {
                                "description": "AWS Command eg \"aws ec2 describe-instances\"",
                                "title": "AWS Command",
                                "type": "string"
                            }
                        },
                        "required": [
                            "aws_command"
                        ],
                        "title": "aws_execute_cli_command",
                        "type": "object"
                    }
                ],
                "jupyter": {
                    "outputs_hidden": true,
                    "source_hidden": true
                },
                "legotype": "LEGO_TYPE_AWS",
                "name": " Get All AWS Regions",
                "nouns": [
                    "command",
                    "aws"
                ],
                "orderProperties": [
                    "aws_command"
                ],
                "output": {
                    "type": ""
                },
                "outputParams": {
                    "output_name": "destination_regions",
                    "output_name_enabled": true
                },
                "startcondition": "not destination_regions",
                "tags": [
                    "aws_execute_cli_command"
                ],
                "title": " Get All AWS Regions",
                "verbs": [
                    "run"
                ]
            },
            "outputs": [],
            "source": [
                "#\n",
                "# Copyright (c) 2021 unSkript.com\n",
                "# All rights reserved.\n",
                "#\n",
                "\n",
                "from pydantic import BaseModel, Field\n",
                "import pprint\n",
                "from beartype import beartype\n",
                "\n",
                "\n",
                "@beartype\n",
                "def aws_execute_cli_command_printer(output):\n",
                "    if output is None:\n",
                "        return\n",
                "    print(output)\n",
                "\n",
                "\n",
                "@beartype\n",
                "def aws_execute_cli_command(handle, aws_command: str) -> list:\n",
                "    result = handle.aws_cli_command(aws_command)\n",
                "    if result is None or result.returncode != 0:\n",
                "        print(\n",
                "            f\"Error while executing command ({aws_command}): {result}\")\n",
                "        return str()\n",
                "    result_op = list(result.stdout.split(\"\\n\"))\n",
                "    list_region = [x for x in result_op if x != '']\n",
                "    return list_region\n",
                "\n",
                "\n",
                "task = Task(Workflow())\n",
                "task.configure(inputParamsJson='''{\n",
                "    \"aws_command\": \"\\\\\"aws ec2 describe-regions --all-regions --query 'Regions[].{Name:RegionName}' --output text\\\\\"\"\n",
                "    }''')\n",
                "task.configure(conditionsJson='''{\n",
                "    \"condition_enabled\": true,\n",
                "    \"condition_cfg\": \"not destination_regions\",\n",
                "    \"condition_result\": true\n",
                "    }''')\n",
                "task.configure(outputName=\"destination_regions\")\n",
                "(err, hdl, args) = task.validate(vars=vars())\n",
                "if err is None:\n",
                "    task.execute(aws_execute_cli_command, lego_printer=aws_execute_cli_command_printer, hdl=hdl, args=args)"
            ]
        },
        {
            "cell_type": "markdown",
            "id": "96407399-f877-484b-8fd3-96ed27eea1d4",
            "metadata": {
                "jupyter": {
                    "source_hidden": false
                },
                "name": "Step-2",
                "orderProperties": [],
                "tags": [],
                "title": "Step-2"
            },
            "source": [
                "### <a id=\"2\"> Copy AMI To Other AWS Regions</a>\n",
                "In this action, we will provide all the necessary inputs to copy the AMI from one region to another. If the user did not provide the destination region, we can collect all the AWS regions from step 1 and copy the AMI to all the regions; if the user provided the destination region, this action copies the AMI to only the given region by using a command `aws ec2 copy-image --source-image-id <ami-id> --source-region <source-region> --region <dest-region> --name <ami-name>`.\n",
                "\n",
                ">Input parameters: `aws_command`, `AMI_Id`, `SourceRegion`,`Name`, `DestinationRegion`\n",
                "\n",
                ">Ouput variable: `command_output`"
            ]
        },
        {
            "cell_type": "code",
            "execution_count": 82,
            "id": "37069e8c-c0a5-4948-9d50-3319bfddd508",
            "metadata": {
                "accessType": "ACCESS_TYPE_UNSPECIFIED",
                "actionBashCommand": false,
                "actionNeedsCredential": true,
                "actionRequiredLinesInCode": [],
                "actionSupportsIteration": true,
                "actionSupportsPoll": true,
                "action_uuid": "1db371aff42291641eb6ba83d7acc3fe28e2468d83be1552e8258dc878c0f70d",
                "continueOnError": true,
                "createTime": "1970-01-01T00:00:00Z",
                "credentialsJson": {
                },
                "currentVersion": "0.1.0",
                "description": " Execute command using AWS CLI",
                "execution_data": {
                    "last_date_success_run_cell": "2022-11-03T11:43:30.407Z"
                },
                "id": 173,
                "index": 173,
                "inputData": [
                    {
                        "AMI_Id": {
                            "constant": false,
                            "value": "ami_id"
                        },
                        "DestinationRegion": {
                            "constant": false,
                            "value": "iter_item"
                        },
                        "Name": {
                            "constant": false,
                            "value": "ami_name"
                        },
                        "SourceRegion": {
                            "constant": false,
                            "value": "source_region"
                        },
                        "aws_command": {
                            "constant": false,
                            "value": "\"aws ec2 copy-image --source-image-id {AMI_Id} --source-region {SourceRegion} --region {DestinationRegion} --name {Name}\""
                        }
                    }
                ],
                "inputschema": [
                    {
                        "properties": {
                            "AMI_Id": {
                                "default": "",
                                "description": "AMI ID",
                                "title": "AMI_Id",
                                "type": "string"
                            },
                            "DestinationRegion": {
                                "default": "",
                                "description": "Destination Regions",
                                "title": "DestinationRegion",
                                "type": "string"
                            },
                            "Name": {
                                "default": "",
                                "description": "AMI Name",
                                "title": "Name",
                                "type": "string"
                            },
                            "SourceRegion": {
                                "default": "\"us-west-2\"",
                                "description": "Source Region",
                                "title": "SourceRegion",
                                "type": "string"
                            },
                            "aws_command": {
                                "default": "",
                                "description": "AWS Command eg \"aws ec2 describe-instances\"",
                                "title": "AWS Command",
                                "type": "string"
                            }
                        },
                        "required": [
                            "aws_command"
                        ],
                        "title": "aws_execute_cli_command",
                        "type": "object"
                    }
                ],
                "iterData": [
                    {
                        "iter_enabled": true,
                        "iter_item": "DestinationRegion",
                        "iter_list": {
                            "constant": false,
                            "objectItems": false,
                            "value": "destination_regions"
                        }
                    }
                ],
                "jupyter": {
                    "source_hidden": true
                },
                "legotype": "LEGO_TYPE_AWS",
                "name": "Copy AMI To Other AWS Regions",
                "nouns": [
                    "command",
                    "aws"
                ],
                "orderProperties": [
                    "aws_command",
                    "AMI_Id",
                    "SourceRegion",
                    "DestinationRegion",
                    "Name"
                ],
                "output": {
                    "type": ""
                },
                "outputParams": {
                    "output_name": "command_output",
                    "output_name_enabled": true
                },
                "tags": [
                    "aws_execute_cli_command"
                ],
                "title": "Copy AMI To Other AWS Regions",
                "verbs": [
                    "run"
                ]
            },
            "outputs": [],
            "source": [
                "#\n",
                "# Copyright (c) 2021 unSkript.com\n",
                "# All rights reserved.\n",
                "#\n",
                "from pydantic import BaseModel, Field\n",
                "import pprint\n",
                "from beartype import beartype\n",
                "\n",
                "\n",
                "@beartype\n",
                "def aws_execute_cli_command_printer(output):\n",
                "    if output is None:\n",
                "        return\n",
                "    pprint.pprint(output)\n",
                "\n",
                "\n",
                "@beartype\n",
                "def aws_execute_cli_command(handle, aws_command: str, AMI_Id: str, SourceRegion: str,\n",
                "                            DestinationRegion: str, Name: str) -> str:\n",
                "    aws_command = aws_command.format(AMI_Id=AMI_Id, SourceRegion=SourceRegion,\n",
                "                                     DestinationRegion=DestinationRegion, Name=Name)\n",
                "    result = handle.aws_cli_command(aws_command)\n",
                "    if result is None or result.returncode != 0:\n",
                "        print(\n",
                "            f\"Error while executing command ({aws_command}): {result}\")\n",
                "        return str()\n",
                "\n",
                "    return result.stdout\n",
                "\n",
                "\n",
                "task = Task(Workflow())\n",
                "task.configure(continueOnError=True)\n",
                "task.configure(inputParamsJson='''{\n",
                "    \"AMI_Id\": \"ami_id\",\n",
                "    \"DestinationRegion\": \"iter_item\",\n",
                "    \"Name\": \"ami_name\",\n",
                "    \"SourceRegion\": \"source_region\",\n",
                "    \"aws_command\": \"\\\\\"aws ec2 copy-image --source-image-id {AMI_Id} --source-region {SourceRegion} --region {DestinationRegion} --name {Name}\\\\\"\"\n",
                "    }''')\n",
                "task.configure(iterJson='''{\n",
                "    \"iter_enabled\": true,\n",
                "    \"iter_list_is_const\": false,\n",
                "    \"iter_list\": \"destination_regions\",\n",
                "    \"iter_parameter\": \"DestinationRegion\"\n",
                "    }''')\n",
                "task.configure(outputName=\"command_output\")\n",
                "(err, hdl, args) = task.validate(vars=vars())\n",
                "if err is None:\n",
                "    task.execute(aws_execute_cli_command, lego_printer=aws_execute_cli_command_printer, hdl=hdl, args=args)"
            ]
        },
        {
            "cell_type": "markdown",
            "id": "c0303e5a-8cb0-4889-a8d0-4c743fef8e17",
            "metadata": {
                "jupyter": {
                    "source_hidden": false
                },
                "name": "Conclusion",
                "orderProperties": [],
                "tags": [],
                "title": "Conclusion"
            },
            "source": [
                "   ### Conclusion\n",
                "   In this Runbook, we demonstrated the use of unSkript's AWS actions to perform copy AMI from one region to multiple AWS regions.\n",
                "   To view the full platform capabilities of unSkript please visit https://us.app.unskript.io"
            ]
        }
    ],
    "metadata": {
        "execution_data": {
            "environment_id": "1499f27c-6406-4fbd-bd1b-c6f92800018f",
            "environment_name": "Staging",
            "environment_type": "ENVIRONMENT_TYPE_AWS_EC2",
            "execution_id": "",
            "inputs_for_searched_lego": "",
            "notebook_id": "a8cbfdf8-702b-4360-9281-1aaa7c77484b.ipynb",
            "parameters": [
                "ami_id",
                "ami_name",
                "destination_regions",
                "source_region"
            ],
            "runbook_name": "Copy ami to all AWS regions",
            "search_string": "",
            "show_tool_tip": false,
            "tenant_id": "982dba5f-d9df-48ae-a5bf-ec1fc94d4882",
            "tenant_url": "https://tenant-staging.alpha.unskript.io",
            "user_email_id": "harshal.bangre@unskript.com",
            "workflow_id": "ee628900-ea09-4603-9922-151fca6ee7ed"
        },
        "kernelspec": {
            "display_name": "Python 3.10.6 64-bit",
            "language": "python",
            "name": "python3"
        },
        "language_info": {
            "file_extension": ".py",
            "mimetype": "text/x-python",
            "name": "python",
            "pygments_lexer": "ipython3",
            "version": "3.10.6"
        },
        "parameterSchema": {
            "properties": {
                "ami_id": {
                    "description": "ID of Amazon Machine Image (AMI) is provides the information required to launch an instance.",
                    "title": "ami_id",
                    "type": "string"
                },
                "ami_name": {
                    "description": "Name of Amazon Machine Image (AMI) is provides the information required to launch an instance.",
                    "title": "ami_name",
                    "type": "string"
                },
                "destination_regions": {
                    "description": "Array of regions where AMI needs to copy",
                    "title": "destination_regions",
                    "type": "array"
                },
                "source_region": {
                    "description": "Name of the region from which AMI needs to copy",
                    "title": "source_region",
                    "type": "string"
                }
            },
            "required": [],
            "title": "Schema",
            "type": "object"
        },
        "parameterValues": null,
        "vscode": {
            "interpreter": {
                "hash": "e8899eb02dfbc033aab5733bdae1bd213fa031d40331094008e8673d99ebab63"
            }
        }
    },
    "nbformat": 4,
    "nbformat_minor": 5
}
