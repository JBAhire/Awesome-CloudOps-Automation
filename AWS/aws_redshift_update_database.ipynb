{
 "cells": [
  {
   "cell_type": "code",
   "execution_count": 2,
   "id": "726d2e05-9a80-4158-95b6-227e81417c9f",
   "metadata": {
    "deletable": false,
    "editable": false,
    "execution_data": {
     "last_date_success_run_cell": "2023-01-09T21:04:44.789Z"
    },
    "jupyter": {
     "source_hidden": true
    },
    "orderProperties": [],
    "tags": [
     "unSkript:nbParam"
    ],
    "title": "unSkript Internal"
   },
   "outputs": [],
   "source": [
    "import json\n",
    "from unskript import nbparams\n",
    "from unskript.fwk.workflow import Task, Workflow\n",
    "from unskript.secrets import ENV_MODE, ENV_MODE_LOCAL\n",
    "\n",
    "env = {\"ENV_MODE\": \"ENV_MODE_LOCAL\"}\n",
    "secret_store_cfg = {\"SECRET_STORE_TYPE\": \"SECRET_STORE_TYPE_LOCAL\"}\n",
    "\n",
    "paramDict = {\"inputRegion\": \"us-west-2\"}\n",
    "paramsJson = json.dumps(paramDict)\n",
    "nbParamsObj = nbparams.NBParams(paramsJson)\n",
    "inputRegion = nbParamsObj.get('inputRegion')\n",
    "w = Workflow(env, secret_store_cfg, None, global_vars=globals())"
   ]
  },
  {
   "cell_type": "code",
   "execution_count": 3,
   "id": "3f711126-0eae-403b-95d3-9d025263e23f",
   "metadata": {
    "accessType": "ACCESS_TYPE_UNSPECIFIED",
    "actionBashCommand": false,
    "actionNeedsCredential": true,
    "actionOutputType": null,
    "actionRequiredLinesInCode": [],
    "actionSupportsIteration": false,
    "actionSupportsPoll": false,
    "action_modified": false,
    "action_uuid": "9528c044-95a5-4c6b-b5c9-360630af9277",
    "collapsed": true,
    "continueOnError": false,
    "credentialsJson": {
     "credential_id": "7aea1127-d810-4d26-bc00-0002dcd23927",
     "credential_name": "aws",
     "credential_type": "CONNECTOR_TYPE_AWS"
    },
    "custom_cell": true,
    "description": "Given a Secret Name - this Action returns the Secret ARN",
    "execution_data": {
     "last_date_success_run_cell": "2023-03-10T00:41:42.655Z"
    },
    "id": 4,
    "index": 4,
    "inputData": [
     {
      "region": {
       "constant": false,
       "value": "inputRegion"
      },
      "secret_name": {
       "constant": false,
       "value": "\"awsuser-doug-redshift\""
      }
     }
    ],
    "inputschema": [
     {
      "properties": {
       "region": {
        "default": "",
        "description": "AWS Region.",
        "title": "Region",
        "type": "string"
       },
       "secret_name": {
        "default": "",
        "description": "AWS Secret Name",
        "title": "secret_name",
        "type": "string"
       }
      },
      "required": [
	  "secret_name",
       "region"
      ],
      "title": "aws_get_secrets_manager_secretARN",
      "type": "object"
     }
    ],
    "jupyter": {
     "outputs_hidden": true,
     "source_hidden": true
    },
    "language": "python",
    "legotype": "LEGO_TYPE_AWS",
    "metadata": {
     "action_bash_command": "false",
     "action_description": "Given a Secret Name - this Action returns the Secret ARN",
     "action_entry_function": "aws_get_secrets_manager_secretARN",
     "action_needs_credential": "true",
     "action_output_type": "ACTION_OUTPUT_TYPE_STR",
     "action_supports_iteration": "false",
     "action_supports_poll": "false",
     "action_title": "AWS Get Secrets Manager SecretARN",
     "action_type": "LEGO_TYPE_AWS",
     "action_version": "1.0.0"
    },
    "name": "AWS Get Secrets Manager SecretARN",
    "orderProperties": [
     "region",
     "secret_name"
    ],
    "outputParams": {
     "output_name": "secretArn",
     "output_name_enabled": true
    },
    "printOutput": true,
    "tags": [],
    "uuid": "9528c044-95a5-4c6b-b5c9-360630af9277",
    "version": "1.0.0"
   },
   "outputs": [
    {
     "name": "stdout",
     "output_type": "stream",
     "text": [
     
     ]
    }
   ],
   "source": [
    "##\n",
    "##  Copyright (c) 2021 unSkript, Inc\n",
    "##  All rights reserved.\n",
    "##\n",
    "from pydantic import BaseModel, Field\n",
    "from typing import List\n",
    "from unskript.connectors.aws import aws_get_paginator\n",
    "import pprint\n",
    "from beartype import beartype\n",
    "\n",
    "from beartype import beartype\n",
    "@beartype\n",
    "def aws_get_secrets_manager_secretARN_printer(output):\n",
    "    if output is None:\n",
    "        return\n",
    "    pprint.pprint({\"secret\": output})\n",
    "\n",
    "\n",
    "@beartype\n",
    "@beartype\n",
    "def aws_get_secrets_manager_secretARN(handle, region: str, secret_name:str) -> str:\n",
    "\n",
    "\n",
    "    # Create a Secrets Manager client\n",
    "\n",
    "    client = handle.client(\n",
    "        service_name='secretsmanager',\n",
    "        region_name=region\n",
    "    )\n",
    "\n",
    "    try:\n",
    "        get_secret_value_response = client.get_secret_value(\n",
    "            SecretId=secret_name\n",
    "        )\n",
    "    except ClientError as e:\n",
    "        # For a list of exceptions thrown, see\n",
    "        # https://docs.aws.amazon.com/secretsmanager/latest/apireference/API_GetSecretValue.html\n",
    "        raise e\n",
    "    #print(get_secret_value_response)\n",
    "    # Decrypts secret using the associated KMS key.\n",
    "    secretArn = get_secret_value_response['ARN']\n",
    "    return secretArn\n",
    "\n",
    "\n",
    "task = Task(Workflow())\n",
    "task.configure(credentialsJson='''{}''')\n",
    "task.configure(inputParamsJson='''{\n",
    "    \"region\": \"\",\n",
    "    \"secret_name\": ,\n",
    "    }''')\n",
    "task.configure(outputName=\"secretArn\")\n",
    "\n",
    "task.configure(printOutput=True)\n",
    "(err, hdl, args) = task.validate(vars=vars())\n",
    "if err is None:\n",
    "    task.execute(aws_get_secrets_manager_secretARN, lego_printer=aws_get_secrets_manager_secretARN_printer, hdl=hdl, args=args)"
   ]
  },
  {
   "cell_type": "code",
   "execution_count": 24,
   "id": "aab33c8f-fd42-4991-8da7-ab7ad96925ca",
   "metadata": {
    "customAction": true,
    "execution_data": {
     "last_date_success_run_cell": "2023-03-10T02:04:10.227Z"
    },
    "jupyter": {
     "source_hidden": true
    },
    "name": "create SQL query",
    "orderProperties": [],
    "tags": [],
    "title": "create SQL query"
   },
   "outputs": [
    {
     "name": "stdout",
     "output_type": "stream",
     "text": []
    }
   ],
   "source": [
    "import datetime\n",
    "\n",
    "today = datetime.datetime.now()\n",
    "\n",
    "yearmonth = today.strftime('%Y%m')\n",
    "month = today.strftime('%m')\n",
    "year =  today.strftime('%Y')\n",
    "yearmonthday = yearmonth +\"01\"\n",
    "#print(\"yearmonthday\",yearmonthday)\n",
    "if int(month) <12:\n",
    "    nextMonth = int(month)+1\n",
    "    if nextMonth < 10:\n",
    "        nextMonthStr = \"0\" + str(nextMonth)\n",
    "    else: \n",
    "        nextMonthStr = str(nextMonth)\n",
    "if int(month) == 12:\n",
    "    nextMonthStr = \"01\"\n",
    "    year = year +1   \n",
    "nextMonthYMD = year + nextMonthStr +\"01\"\n",
    "\n",
    "\n",
    "tableName = 'awsbilling'+ yearmonth\n",
    "dateRange = yearmonthday+'-'+nextMonthYMD\n",
    "#print(\"dateRange\", dateRange)\n",
    "\n",
    "TruncateSQL = f\"truncate table {tableName}\"\n",
    "print(\"TruncateSQL\", TruncateSQL)\n",
    "RebuildSql = f\"copy {tableName} from 's3://unskript-billing-doug/all/unskript-billing-doug/{dateRange}/unskript-billing-doug-RedshiftManifest.json' credentials     'aws_iam_role=arn:aws:iam::100498623390:role/service-role/AmazonRedshift-CommandsAccessRole-20230103T181457' region 'us-west-2'    GZIP CSV IGNOREHEADER 1 TIMEFORMAT 'auto' manifest;\"\n",
    "print(\"RebuildSql\", RebuildSql)\n",
    "\n"
   ]
  },
  {
   "cell_type": "code",
   "execution_count": 25,
   "id": "7597f9b2-46f4-48ef-bff2-f1fbb1924480",
   "metadata": {
    "accessType": "ACCESS_TYPE_UNSPECIFIED",
    "actionBashCommand": false,
    "actionNeedsCredential": true,
    "actionOutputType": null,
    "actionRequiredLinesInCode": [],
    "actionSupportsIteration": false,
    "actionSupportsPoll": false,
    "action_modified": false,
    "action_uuid": "3cd38943-9542-4ff7-a062-c0a0dcae032b",
    "continueOnError": false,
    "credentialsJson": {
     "credential_id": "7aea1127-d810-4d26-bc00-0002dcd23927",
     "credential_name": "aws",
     "credential_type": "CONNECTOR_TYPE_AWS"
    },
    "custom_cell": true,
    "description": "Make a SQL Query to the given AWS Redshift database",
    "execution_data": {
     "last_date_success_run_cell": "2023-03-10T02:04:34.353Z"
    },
    "id": 5,
    "index": 5,
    "inputData": [
     {
      "cluster": {
       "constant": false

      },
      "database": {
       "constant": false

      },
      "query": {
       "constant": false

      },
      "region": {
       "constant": false
 
      },
      "secretArn": {
       "constant": false

      }
     }
    ],
    "inputschema": [
     {
      "properties": {
       "cluster": {
        "default": "",
        "description": "Name of Redshift Cluster",
        "title": "cluster",
        "type": "string"
       },
       "database": {
        "default": "",
        "description": "Name of your Redshift database",
        "title": "database",
        "type": "string"
       },
       "query": {
        "default": "\"SELECT * FROM awsbilling202302 limit 2;\"",
        "description": "sql query to run",
        "title": "query",
        "type": "string"
       },
       "region": {
        "default": "",
        "description": "AWS Region.",
        "title": "Region",
        "type": "string"
       },
       "secretArn": {
        "default": "",
        "description": "Value of your Secrets Manager ARN",
        "title": "secretArn",
        "type": "string"
       }
      },
      "required": [
       "region","secretArn","query","database","cluster"
      ],
      "title": "aws_create_redshift_query",
      "type": "object"
     }
    ],
    "jupyter": {
     "source_hidden": true
    },
    "language": "python",
    "legotype": "LEGO_TYPE_AWS",
    "metadata": {
     "action_bash_command": "false",
     "action_description": "Make a SQL Query to the given AWS Redshift database",
     "action_entry_function": "aws_create_redshift_query",
     "action_needs_credential": "true",
     "action_output_type": "ACTION_OUTPUT_TYPE_STR",
     "action_supports_iteration": "false",
     "action_supports_poll": "false",
     "action_title": "AWS Redshift Query",
     "action_type": "LEGO_TYPE_AWS",
     "action_version": "1.0.0"
    },
    "name": "AWS Redshift Query - truncate\n",
    "orderProperties": [
     "region",
     "query",
     "cluster",
     "database",
     "secretArn"
    ],
    "outputParams": {
     "output_name": "truncateId",
     "output_name_enabled": true
    },
    "printOutput": true,
    "tags": [],
    "title": "AWS Redshift Query - truncate\n",
    "uuid": "3cd38943-9542-4ff7-a062-c0a0dcae032b",
    "version": "1.0.0"
   },
   "outputs": [


   ],
   "source": [
    "##\n",
    "##  Copyright (c) 2021 unSkript, Inc\n",
    "##  All rights reserved.\n",
    "##\n",
    "from pydantic import BaseModel, Field\n",
    "from typing import List, Dict\n",
    "from unskript.connectors.aws import aws_get_paginator\n",
    "import pprint\n",
    "\n",
    "\n",
    "from beartype import beartype\n",
    "\n",
    "from beartype import beartype\n",
    "\n",
    "@beartype\n",
    "def aws_create_redshift_query(handle, region: str,cluster:str, database:str, secretArn: str, query:str) -> str:\n",
    "\n",
    "    # Input param validation.\n",
    "    #major change\n",
    "    client = handle.client('redshift-data', region_name=region)\n",
    "    # define your query\n",
    "    query = query\n",
    "    #query = \"SELECT * FROM PG_TABLE_DEF;\"\n",
    "    # execute the query\n",
    "    response = client.execute_statement(\n",
    "        ClusterIdentifier=cluster,\n",
    "        Database=database,\n",
    "        SecretArn=secretArn,\n",
    "        Sql=query\n",
    "    )\n",
    "    resultId = response['Id']\n",
    "    print(response)\n",
    "    print(\"resultId\",resultId)\n",
    "\n",
    "\n",
    "    return resultId\n",
    "\n",
    "#make a change\n",
    "task = Task(Workflow())\n",
    "task.configure(credentialsJson='''{}''')\n",
    "task.configure(inputParamsJson='''{\n",
    "    \"region\": \"\",\n",
    "    \"query\": \"\",\n",
    "    \"cluster\": \"\"\",\n",
    "    \"database\": ,\n",
    "    \"secretArn\": \"\"\n",
    "    }''')\n",
    "task.configure(outputName=\"truncateId\")\n",
    "task.configure(printOutput=True)\n",
    "(err, hdl, args) = task.validate(vars=vars())\n",
    "if err is None:\n",
    "    task.execute(aws_create_redshift_query,  hdl=hdl, args=args)"
   ]
  },
  {
   "cell_type": "code",
   "execution_count": 26,
   "id": "a1103073-298d-437d-b203-1652839ccb0f",
   "metadata": {
    "accessType": "ACCESS_TYPE_UNSPECIFIED",
    "actionBashCommand": false,
    "actionNeedsCredential": true,
    "actionOutputType": null,
    "actionRequiredLinesInCode": [],
    "actionSupportsIteration": false,
    "actionSupportsPoll": false,
    "action_modified": false,
    "action_uuid": "9fe30a58-a5f0-468a-849b-c660b6ed1995",
    "continueOnError": false,
    "credentialsJson": {
     "credential_id": "7aea1127-d810-4d26-bc00-0002dcd23927",
     "credential_name": "aws",
     "credential_type": "CONNECTOR_TYPE_AWS"
    },
    "custom_cell": true,
    "description": "Given an QueryId, this Action will give you the status of the Query, along with other data like  the number of lines/",
    "execution_data": {
     "last_date_success_run_cell": "2023-03-10T02:04:37.094Z"
    },
    "id": 3,
    "index": 3,
    "inputData": [
     {
      "queryId": {
       "constant": false,
       "value": "truncateId"
      },
      "region": {
       "constant": false,
       "value": "inputRegion"
      }
     }
    ],
    "inputschema": [
     {
      "properties": {
       "queryId": {
        "default": "",
        "description": "Id of Redshift Query",
        "title": "queryId",
        "type": "string"
       },
       "region": {
        "default": "",
        "description": "AWS Region.",
        "title": "Region",
        "type": "string"
       }
      },
      "required": [
       "queryId",
       "region"
      ],
      "title": "aws_get_redshift_query_results",
      "type": "object"
     }
    ],
    "jupyter": {
     "source_hidden": true
    },
    "language": "python",
    "legotype": "LEGO_TYPE_AWS",
    "metadata": {
     "action_bash_command": "false",
     "action_description": "Given an QueryId, this Action will give you the status of the Query, along with other data like  the number of lines/",
     "action_entry_function": "aws_get_redshift_query_results",
     "action_needs_credential": "true",
     "action_output_type": "ACTION_OUTPUT_TYPE_DICT",
     "action_supports_iteration": "false",
     "action_supports_poll": "false",
     "action_title": "AWS Get Redshift Query Details",
     "action_type": "LEGO_TYPE_AWS",
     "action_version": "1.0.0"
    },
    "name": "AWS Get Redshift Query Details truncate",
    "orderProperties": [
     "region",
     "queryId"
    ],
    "printOutput": true,
    "tags": [],
    "title": "AWS Get Redshift Query Details truncate",
    "uuid": "9fe30a58-a5f0-468a-849b-c660b6ed1995",
    "version": "1.0.0"
   },
   "outputs": [
    {
     "name": "stdout",
     "output_type": "stream",
     "text": [
      "{'Instances': {'ClusterIdentifier': 'doug-billing-3',\n",
      "               'CreatedAt': datetime.datetime(2023, 3, 10, 2, 4, 34, 181000, tzinfo=tzlocal()),\n",
      "               'Duration': 47385559,\n",
      "               'HasResultSet': False,\n",
      "               'Id': 'eaf55bf3-f7bc-4106-b7bf-24c036de2c61',\n",
      "               'QueryString': 'truncate table awsbilling202303',\n",
      "               'RedshiftPid': 1073905767,\n",
      "               'RedshiftQueryId': -1,\n",
      "               'ResponseMetadata': {'HTTPHeaders': {'content-length': '421',\n",
      "                                                    'content-type': 'application/x-amz-json-1.1',\n",
      "                                                    'date': 'Fri, 10 Mar 2023 '\n",
      "                                                            '02:04:37 GMT',\n",
      "                                                    'x-amzn-requestid': '0700db68-0f75-41a3-8692-d1d91b907673'},\n",
      "                                    'HTTPStatusCode': 200,\n",
      "                                    'RequestId': '0700db68-0f75-41a3-8692-d1d91b907673',\n",
      "                                    'RetryAttempts': 0},\n",
      "               'ResultRows': 0,\n",
      "               'ResultSize': 0,\n",
      "               'SecretArn': 'arn:aws:secretsmanager:us-west-2:100498623390:secret:awsuser-doug-redshift-KvL4U1',\n",
      "               'Status': 'FINISHED',\n",
      "               'UpdatedAt': datetime.datetime(2023, 3, 10, 2, 4, 34, 695000, tzinfo=tzlocal())}}\n"
     ]
    }
   ],
   "source": [
    "##\n",
    "##  Copyright (c) 2021 unSkript, Inc\n",
    "##  All rights reserved.\n",
    "##\n",
    "from pydantic import BaseModel, Field\n",
    "from typing import List, Dict\n",
    "from unskript.connectors.aws import aws_get_paginator\n",
    "import pprint\n",
    "from beartype import beartype\n",
    "\n",
    "from beartype import beartype\n",
    "@beartype\n",
    "def aws_get_redshift_query_results_printer(output):\n",
    "    if output is None:\n",
    "        return\n",
    "    pprint.pprint({\"Instances\": output})\n",
    "\n",
    "\n",
    "@beartype\n",
    "@beartype\n",
    "def aws_get_redshift_query_results(handle, region: str, queryId:str) -> Dict:\n",
    "\n",
    "    client = handle.client('redshift-data', region_name=region)\n",
    "    #result = aws_get_paginator(client, \n",
    "    #                           \"get_statement_result\", \n",
    "     #                           \"TotalNumRows\", \n",
    "     #                           Id='d7bda35c-7aa4-4414-9272-9e268320df40')\n",
    "    response = client.describe_statement(\n",
    "    Id=queryId\n",
    "    )\n",
    "    return response\n",
    "\n",
    "\n",
    "task = Task(Workflow())\n",
    "task.configure(credentialsJson='''{}''')\n",
    "task.configure(inputParamsJson='''{\n",
    "    \"region\": \"\",\n",
    "    \"queryId\": \"\"\n",
    "    }''')\n",
    "\n",
    "task.configure(printOutput=True)\n",
    "(err, hdl, args) = task.validate(vars=vars())\n",
    "if err is None:\n",
    "    task.execute(aws_get_redshift_query_results, lego_printer=aws_get_redshift_query_results_printer, hdl=hdl, args=args)"
   ]
  },
  {
   "cell_type": "code",
   "execution_count": 27,
   "id": "99fbd339-b1f7-4dd1-af72-40288ad748ab",
   "metadata": {
    "accessType": "ACCESS_TYPE_UNSPECIFIED",
    "actionBashCommand": false,
    "actionNeedsCredential": true,
    "actionOutputType": null,
    "actionRequiredLinesInCode": [],
    "actionSupportsIteration": false,
    "actionSupportsPoll": false,
    "action_modified": false,
    "action_uuid": "3cd38943-9542-4ff7-a062-c0a0dcae032b",
    "continueOnError": false,
    "credentialsJson": {
     "credential_id": "7aea1127-d810-4d26-bc00-0002dcd23927",
     "credential_name": "aws",
     "credential_type": "CONNECTOR_TYPE_AWS"
    },
    "custom_cell": true,
    "description": "Make a SQL Query to the given AWS Redshift database",
    "execution_data": {
     "last_date_success_run_cell": "2023-03-10T02:04:54.613Z"
    },
    "id": 5,
    "index": 5,
    "inputData": [
     {
      "cluster": {
       "constant": false

      },
      "database": {
       "constant": false

      },
      "query": {
       "constant": false
  
      },
      "region": {
       "constant": false
     
      },
      "secretArn": {
       "constant": false
 
      }
     }
    ],
    "inputschema": [
     {
      "properties": {
       "cluster": {
        "default": "",
        "description": "Name of Redshift Cluster",
        "title": "cluster",
        "type": "string"
       },
       "database": {
        "default": "",
        "description": "Name of your Redshift database",
        "title": "database",
        "type": "string"
       },
       "query": {
        "default": "",
        "description": "sql query to run",
        "title": "query",
        "type": "string"
       },
       "region": {
        "default": "",
        "description": "AWS Region.",
        "title": "Region",
        "type": "string"
       },
       "secretArn": {
        "default": "",
        "description": "Value of your Secrets Manager ARN",
        "title": "secretArn",
        "type": "string"
       }
      },
      "required": [
       "region","secretArn","query","database","cluster"
      ],
      "title": "aws_create_redshift_query",
      "type": "object"
     }
    ],
    "jupyter": {
     "source_hidden": true
    },
    "language": "python",
    "legotype": "LEGO_TYPE_AWS",
    "metadata": {
     "action_bash_command": "false",
     "action_description": "Make a SQL Query to the given AWS Redshift database",
     "action_entry_function": "aws_create_redshift_query",
     "action_needs_credential": "true",
     "action_output_type": "ACTION_OUTPUT_TYPE_STR",
     "action_supports_iteration": "false",
     "action_supports_poll": "false",
     "action_title": "AWS Redshift Query",
     "action_type": "LEGO_TYPE_AWS",
     "action_version": "1.0.0"
    },
    "name": "AWS Redshift Query - update redshift from s3",
    "orderProperties": [
     "region",
     "query",
     "cluster",
     "database",
     "secretArn"
    ],
    "outputParams": {
     "output_name": "redshiftUpdateId",
     "output_name_enabled": true
    },
    "printOutput": true,
    "tags": [],
    "title": "AWS Redshift Query - update redshift from s3",
    "uuid": "3cd38943-9542-4ff7-a062-c0a0dcae032b",
    "version": "1.0.0"
   },
   "outputs": [
    {
     "name": "stdout",
     "output_type": "stream",
     "text": [
     ]
    }
   ],
   "source": [
    "##\n",
    "##  Copyright (c) 2021 unSkript, Inc\n",
    "##  All rights reserved.\n",
    "##\n",
    "from pydantic import BaseModel, Field\n",
    "from typing import List, Dict\n",
    "from unskript.connectors.aws import aws_get_paginator\n",
    "import pprint\n",
    "\n",
    "\n",
    "from beartype import beartype\n",
    "\n",
    "from beartype import beartype\n",
    "\n",
    "@beartype\n",
    "def aws_create_redshift_query(handle, region: str,cluster:str, database:str, secretArn: str, query:str) -> str:\n",
    "\n",
    "    # Input param validation.\n",
    "    #major change\n",
    "    client = handle.client('redshift-data', region_name=region)\n",
    "    # define your query\n",
    "    query = query\n",
    "    #query = \"SELECT * FROM PG_TABLE_DEF;\"\n",
    "    # execute the query\n",
    "    response = client.execute_statement(\n",
    "        ClusterIdentifier=cluster,\n",
    "        Database=database,\n",
    "        SecretArn=secretArn,\n",
    "        Sql=query\n",
    "    )\n",
    "    resultId = response['Id']\n",
    "    print(response)\n",
    "    print(\"resultId\",resultId)\n",
    "\n",
    "\n",
    "    return resultId\n",
    "\n",
    "#make a change\n",
    "task = Task(Workflow())\n",
    "task.configure(credentialsJson='''{}''')\n",
    "task.configure(inputParamsJson='''{\n",
    "    \"cluster\": ,\n",
    "    \"database\": ,\n",
    "    \"query\": \"\",\n",
    "    \"region\": \"\",\n",
    "    \"secretArn\": \"\"\n",
    "    }''')\n",
    "task.configure(outputName=\"redshiftUpdateId\")\n",
    "task.configure(printOutput=True)\n",
    "(err, hdl, args) = task.validate(vars=vars())\n",
    "if err is None:\n",
    "    task.execute(aws_create_redshift_query,  hdl=hdl, args=args)"
   ]
  },
  {
   "cell_type": "code",
   "execution_count": 29,
   "id": "0fe61c4e-ebcc-409d-a80b-1fda65811cc1",
   "metadata": {
    "accessType": "ACCESS_TYPE_UNSPECIFIED",
    "actionBashCommand": false,
    "actionNeedsCredential": true,
    "actionOutputType": null,
    "actionRequiredLinesInCode": [],
    "actionSupportsIteration": false,
    "actionSupportsPoll": false,
    "action_modified": false,
    "action_uuid": "9fe30a58-a5f0-468a-849b-c660b6ed1995",
    "continueOnError": false,
    "credentialsJson": {
     "credential_id": "7aea1127-d810-4d26-bc00-0002dcd23927",
     "credential_name": "aws",
     "credential_type": "CONNECTOR_TYPE_AWS"
    },
    "custom_cell": true,
    "description": "Given an QueryId, this Action will give you the status of the Query, along with other data like  the number of lines/",
    "execution_data": {
     "last_date_success_run_cell": "2023-03-10T02:05:02.835Z"
    },
    "id": 3,
    "index": 3,
    "inputData": [
     {
      "queryId": {
       "constant": false,
       "value": "redshiftUpdateId"
      },
      "region": {
       "constant": false,
       "value": "inputRegion"
      }
     }
    ],
    "inputschema": [
     {
      "properties": {
       "queryId": {
        "default": "",
        "description": "Id of Redshift Query",
        "title": "queryId",
        "type": "string"
       },
       "region": {
        "default": "",
        "description": "AWS Region.",
        "title": "Region",
        "type": "string"
       }
      },
      "required": [
       "queryId",
       "region"
      ],
      "title": "aws_get_redshift_query_results",
      "type": "object"
     }
    ],
    "jupyter": {
     "source_hidden": true
    },
    "language": "python",
    "legotype": "LEGO_TYPE_AWS",
    "metadata": {
     "action_bash_command": "false",
     "action_description": "Given an QueryId, this Action will give you the status of the Query, along with other data like  the number of lines/",
     "action_entry_function": "aws_get_redshift_query_results",
     "action_needs_credential": "true",
     "action_output_type": "ACTION_OUTPUT_TYPE_DICT",
     "action_supports_iteration": "false",
     "action_supports_poll": "false",
     "action_title": "AWS Get Redshift Query Details",
     "action_type": "LEGO_TYPE_AWS",
     "action_version": "1.0.0"
    },
    "name": "AWS Get Redshift Query Details - update table",
    "orderProperties": [
     "region",
     "queryId"
    ],
    "printOutput": true,
    "tags": [],
    "title": "AWS Get Redshift Query Details - update table",
    "uuid": "9fe30a58-a5f0-468a-849b-c660b6ed1995",
    "version": "1.0.0"
   },
   "outputs": [
    {
     "name": "stdout",
     "output_type": "stream",
     "text": [
     ]
    }
   ],
   "source": [
    "##\n",
    "##  Copyright (c) 2021 unSkript, Inc\n",
    "##  All rights reserved.\n",
    "##\n",
    "from pydantic import BaseModel, Field\n",
    "from typing import List, Dict\n",
    "from unskript.connectors.aws import aws_get_paginator\n",
    "import pprint\n",
    "from beartype import beartype\n",
    "\n",
    "from beartype import beartype\n",
    "@beartype\n",
    "def aws_get_redshift_query_results_printer(output):\n",
    "    if output is None:\n",
    "        return\n",
    "    pprint.pprint({\"Instances\": output})\n",
    "\n",
    "\n",
    "@beartype\n",
    "@beartype\n",
    "def aws_get_redshift_query_results(handle, region: str, queryId:str) -> Dict:\n",
    "\n",
    "    client = handle.client('redshift-data', region_name=region)\n",
    "    #result = aws_get_paginator(client, \n",
    "    #                           \"get_statement_result\", \n",
    "     #                           \"TotalNumRows\", \n",
    "     #                           Id='d7bda35c-7aa4-4414-9272-9e268320df40')\n",
    "    response = client.describe_statement(\n",
    "    Id=queryId\n",
    "    )\n",
    "    return response\n",
    "\n",
    "\n",
    "task = Task(Workflow())\n",
    "task.configure(credentialsJson='''{}''')\n",
    "task.configure(inputParamsJson='''{\n",
    "    \"region\": \"inputRegion\",\n",
    "    \"queryId\": \"redshiftUpdateId\"\n",
    "    }''')\n",
    "\n",
    "\n",
    "task.configure(printOutput=True)\n",
    "(err, hdl, args) = task.validate(vars=vars())\n",
    "if err is None:\n",
    "    task.execute(aws_get_redshift_query_results, lego_printer=aws_get_redshift_query_results_printer, hdl=hdl, args=args)"
   ]
  }
 ],
 "metadata": {
  "execution_data": {
   "environment_id": "1499f27c-6406-4fbd-bd1b-c6f92800018f",
   "environment_name": "Staging",
   "execution_id": "",
   "inputs_for_searched_lego": "",
   "notebook_id": "d4159cb3-6c83-4ba5-a2f7-d23c0777076b.ipynb",
   "parameters": null,
   "runbook_name": "AWS Populate Redshift Table from S3 File",
   "search_string": "",
   "show_tool_tip": false,
   "show_tool_tip_credentials_manager": true,
   "show_tool_tip_parameters_manager": true,
   "tenant_id": "982dba5f-d9df-48ae-a5bf-ec1fc94d4882",
   "tenant_url": "https://tenant-staging.alpha.unskript.io",
   "user_email_id": "support+staging@unskript.com",
   "workflow_id": "f8ead207-81c0-414a-a15b-76fcdefafe8d"
  },
  "kernelspec": {
   "display_name": "unSkript (Build: 904)",
   "language": "python",
   "name": "python3"
  },
  "language_info": {
   "codemirror_mode": {
    "name": "ipython",
    "version": 3
   },
   "file_extension": ".py",
   "mimetype": "text/x-python",
   "name": "python",
   "nbconvert_exporter": "python",
   "pygments_lexer": "ipython3",
   "version": "3.9.6"
  },
  "parameterSchema": {
   "properties": {
    "inputRegion": {
     "default": "us-west-2",
     "description": "input aws region",
     "title": "inputRegion",
     "type": "string"
    }
   },
   "required": [],
   "title": "Schema",
   "type": "object"
  }
 },
 "nbformat": 4,
 "nbformat_minor": 5
}
