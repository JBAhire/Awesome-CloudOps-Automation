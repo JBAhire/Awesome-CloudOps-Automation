{
    "cells": [
        {
            "cell_type": "markdown",
            "id": "f0865bbe-2a84-4654-9f9a-f794657031b8",
            "metadata": {
                "jupyter": {
                    "source_hidden": false
                },
                "name": "Steps Overview",
                "orderProperties": [],
                "tags": [],
                "title": "Steps Overview"
            },
            "source": [
                "<center><img src=\"https://unskript.com/assets/favicon.png\" alt=\"unSkript.com\" width=\"100\" height=\"100\"/> \n",
                "<h1> unSkript Runbooks </h1>\n",
                "<div class=\"alert alert-block alert-success\">\n",
                "     <h3> Objective</h3> <br>\n",
                "    <b style = \"color:#000000\"><i>Attach a new Policy to an IAM User</i></b>\n",
                "</div>\n",
                "<br>\n",
                "</center>\n",
                "\n",
                "<center><h2><u>Update and Manage AWS User Permissions</u></h2></center>\n",
                "\n",
                "# Steps Overview\n",
                "1)[ List all attached policies](#1)<br>\n",
                "2)[ Attach new policy](#2)<br>"
            ]
        },
        {
            "cell_type": "markdown",
            "id": "568e67dc-f423-4354-8223-6a4cf1fab87e",
            "metadata": {
                "jupyter": {
                    "source_hidden": false
                },
                "name": "Step 1-",
                "orderProperties": [],
                "tags": [],
                "title": "Step 1-"
            },
            "source": [
                "<h3><a id='1'>List all attached policies</a></h3>\n",
                "Using unSkript's AWS List Attached User Policies action we will list all policies for a given user.\n",
                "\n",
                ">Action takes the following parameters: `aws_username`"
            ]
        },
        {
            "cell_type": "code",
            "execution_count": 29,
            "id": "40d1b24b-a12e-498e-ac95-d37c51c98061",
            "metadata": {
                "accessType": "ACCESS_TYPE_UNSPECIFIED",
                "actionBashCommand": false,
                "actionNeedsCredential": true,
                "actionRequiredLinesInCode": [],
                "actionSupportsIteration": true,
                "actionSupportsPoll": true,
                "action_uuid": "eb5306c9a3d782b9cdce8f2b3d9e57ca882dfce071f897f134b6f172b3e00bad",
                "continueOnError": true,
                "createTime": "1970-01-01T00:00:00Z",
                "currentVersion": "0.1.0",
                "description": "AWS List Attached User Policies",
                "execution_data": {
                    "last_date_success_run_cell": "2022-12-07T07:29:25.388Z"
                },
                "id": 231,
                "index": 231,
                "inputData": [
                    {
                        "user_name": {
                            "constant": false,
                            "value": "iter_item"
                        }
                    }
                ],
                "inputschema": [
                    {
                        "properties": {
                            "user_name": {
                                "description": "IAM user whose policies need to fetched.",
                                "title": "User Name",
                                "type": "string"
                            }
                        },
                        "required": [
                            "user_name"
                        ],
                        "title": "aws_list_attached_user_policies",
                        "type": "object"
                    }
                ],
                "iterData": [
                    {
                        "iter_enabled": true,
                        "iter_item": "user_name",
                        "iter_list": {
                            "constant": false,
                            "objectItems": false,
                            "value": "aws_username"
                        }
                    }
                ],
                "jupyter": {
                    "source_hidden": true
                },
                "legotype": "LEGO_TYPE_AWS",
                "name": "AWS List Attached User Policies",
                "nouns": [],
                "orderProperties": [
                    "user_name"
                ],
                "output": {
                    "type": ""
                },
                "outputParams": {
                    "output_name": "all_policies",
                    "output_name_enabled": true
                },
                "tags": [
                    "aws_list_attached_user_policies"
                ],
                "trusted": true,
                "verbs": []
            },
            "outputs": [],
            "source": [
                "##  Copyright (c) 2021 unSkript, Inc\n",
                "##  All rights reserved.\n",
                "##\n",
                "from typing import List, Dict\n",
                "from pydantic import BaseModel, Field\n",
                "from botocore.exceptions import ClientError\n",
                "import pprint\n",
                "\n",
                "\n",
                "from beartype import beartype\n",
                "@beartype\n",
                "def aws_list_attached_user_policies_printer(output):\n",
                "    if output is None:\n",
                "        return\n",
                "    pprint.pprint(output)\n",
                "\n",
                "\n",
                "@beartype\n",
                "def aws_list_attached_user_policies(handle, user_name: str) -> List:\n",
                "    \"\"\"aws_list_attached_user_policies returns the list of policies attached to the user.\n",
                "\n",
                "        :type handle: object\n",
                "        :param handle: Object returned from task.validate(...).\n",
                "\n",
                "        :type user_name: string\n",
                "        :param user_name: IAM user whose policies need to fetched.\n",
                "\n",
                "        :rtype: List with with the attched policy names.\n",
                "    \"\"\"\n",
                "    result = []\n",
                "    ec2Client = handle.client('iam')\n",
                "    try:\n",
                "        response = ec2Client.list_attached_user_policies(UserName=user_name)\n",
                "        for i in response[\"AttachedPolicies\"]:\n",
                "            result.append(i['PolicyName'])\n",
                "\n",
                "    except ClientError as error:\n",
                "        result.append(error.response)\n",
                "\n",
                "    return result\n",
                "\n",
                "\n",
                "task = Task(Workflow())\n",
                "task.configure(continueOnError=True)\n",
                "task.configure(inputParamsJson='''{\n",
                "    \"user_name\": \"iter_item\"\n",
                "    }''')\n",
                "task.configure(iterJson='''{\n",
                "    \"iter_enabled\": true,\n",
                "    \"iter_list_is_const\": false,\n",
                "    \"iter_list\": \"aws_username\",\n",
                "    \"iter_parameter\": \"user_name\"\n",
                "    }''')\n",
                "task.configure(outputName=\"all_policies\")\n",
                "\n",
                "(err, hdl, args) = task.validate(vars=vars())\n",
                "if err is None:\n",
                "    task.execute(aws_list_attached_user_policies, lego_printer=aws_list_attached_user_policies_printer, hdl=hdl, args=args)"
            ]
        },
        {
            "cell_type": "markdown",
            "id": "269c5b94-f3b8-4f6a-af0a-625c3508eea6",
            "metadata": {
                "name": "Step 1A-",
                "orderProperties": [],
                "tags": [],
                "title": "Step 1A-"
            },
            "source": [
                "<h3>Check if policy already exists</h3>\n",
                "Using the ouput from Step 1,this action filters out users which already have the given policy added and returns users which don't."
            ]
        },
        {
            "cell_type": "code",
            "execution_count": 27,
            "id": "4ad423d8-91c6-4d7a-b69c-d90703b38102",
            "metadata": {
                "collapsed": true,
                "customAction": true,
                "execution_data": {
                    "last_date_success_run_cell": "2022-12-07T07:25:18.803Z"
                },
                "jupyter": {
                    "outputs_hidden": true,
                    "source_hidden": true
                },
                "name": "Check if policy already exists",
                "orderProperties": [],
                "outputParams": {
                    "output_name": "user_policy_list",
                    "output_name_enabled": true
                },
                "tags": [],
                "title": "Check if policy already exists",
                "trusted": true
            },
            "outputs": [],
            "source": [
                "def get_policies():\n",
                "    r_list=[]\n",
                "    for k,v in all_policies.items():\n",
                "        r = {}\n",
                "        if policy_name not in v:\n",
                "            r_list.append(k)\n",
                "    return r_list\n",
                "\n",
                "user_policy_list = get_policies()\n",
                "\n",
                "task.configure(outputName=\"user_policy_list\")"
            ]
        },
        {
            "cell_type": "markdown",
            "id": "3814f2a7-bd7f-4745-8321-a55be4cf0853",
            "metadata": {
                "jupyter": {
                    "source_hidden": false
                },
                "name": "Step 2-",
                "orderProperties": [],
                "tags": [],
                "title": "Step 2-"
            },
            "source": [
                "<h3><a id='2'>Attach New Policy </a></h3>\n",
                "Using unSkript's AWS Attach IAM Policy Lego action we will attach the given policiy to user.\n",
                "\n",
                ">Action takes the following parameters: `aws_username`, `policy_name`"
            ]
        },
        {
            "cell_type": "code",
            "execution_count": 28,
            "id": "959f25a2-5233-449d-85d8-e09d5a9f3e71",
            "metadata": {
                "accessType": "ACCESS_TYPE_UNSPECIFIED",
                "actionBashCommand": false,
                "actionNeedsCredential": true,
                "actionRequiredLinesInCode": [],
                "actionSupportsIteration": true,
                "actionSupportsPoll": true,
                "action_uuid": "dee9134df84f6c675edab485389572795169495347e40abbdf81f24ec807a85c",
                "continueOnError": true,
                "createTime": "1970-01-01T00:00:00Z",
                "currentVersion": "0.1.0",
                "description": "AWS Attach New Policy to User",
                "execution_data": {
                    "last_date_success_run_cell": "2022-12-07T07:26:56.187Z"
                },
                "id": 195,
                "index": 195,
                "inputData": [
                    {
                        "policy_name": {
                            "constant": false,
                            "value": "policy_name"
                        },
                        "user_name": {
                            "constant": false,
                            "value": "iter_item"
                        }
                    }
                ],
                "inputschema": [
                    {
                        "properties": {
                            "policy_name": {
                                "description": "Policy name to apply the permissions to the user.",
                                "title": "Policy Name",
                                "type": "string"
                            },
                            "user_name": {
                                "description": "IAM user whose policies need to fetched.",
                                "title": "User Name",
                                "type": "string"
                            }
                        },
                        "required": [
                            "user_name",
                            "policy_name"
                        ],
                        "title": "aws_attache_iam_policy",
                        "type": "object"
                    }
                ],
                "iterData": [
                    {
                        "iter_enabled": true,
                        "iter_item": "user_name",
                        "iter_list": {
                            "constant": false,
                            "objectItems": false,
                            "value": "user_policy_list"
                        }
                    }
                ],
                "jupyter": {
                    "source_hidden": true
                },
                "legotype": "LEGO_TYPE_AWS",
                "name": "AWS Attach New Policy to User",
                "nouns": [],
                "orderProperties": [
                    "user_name",
                    "policy_name"
                ],
                "output": {
                    "type": ""
                },
                "outputParams": {
                    "output_name": "final_result",
                    "output_name_enabled": true
                },
                "tags": [
                    "aws_attache_iam_policy"
                ],
                "trusted": true,
                "verbs": []
            },
            "outputs": [],
            "source": [
                "##  Copyright (c) 2021 unSkript, Inc\n",
                "##  All rights reserved.\n",
                "##\n",
                "from typing import List, Dict\n",
                "from pydantic import BaseModel, Field\n",
                "from botocore.exceptions import ClientError\n",
                "import pprint\n",
                "\n",
                "\n",
                "from beartype import beartype\n",
                "@beartype\n",
                "def aws_attach_iam_policy_printer(output):\n",
                "    if output is None:\n",
                "        return\n",
                "    pprint.pprint(output)\n",
                "\n",
                "\n",
                "@beartype\n",
                "def aws_attach_iam_policy(handle, user_name: str, policy_name: str) -> Dict:\n",
                "    \"\"\"aws_attache_iam_policy used to provide user permissions.\n",
                "\n",
                "        :type handle: object\n",
                "        :param handle: Object returned from task.validate(...).\n",
                "\n",
                "        :type user_name: string\n",
                "        :param user_name: Dictionary of credentials info.\n",
                "\n",
                "        :type policy_name: string\n",
                "        :param policy_name: Policy name to apply the permissions to the user.\n",
                "\n",
                "        :rtype: Dict with User policy information.\n",
                "    \"\"\"\n",
                "    result = {}\n",
                "    iamResource = handle.resource('iam')\n",
                "    try:\n",
                "        user = iamResource.User(user_name)\n",
                "        response = user.attach_policy(\n",
                "            PolicyArn='arn:aws:iam::aws:policy/'+policy_name\n",
                "            )\n",
                "        result = response\n",
                "    except ClientError as error:\n",
                "        result = error.response\n",
                "\n",
                "    return result\n",
                "\n",
                "\n",
                "def unskript_default_printer(output):\n",
                "    if isinstance(output, (list, tuple)):\n",
                "        for item in output:\n",
                "            print(f'item: {item}')\n",
                "    elif isinstance(output, dict):\n",
                "        for item in output.items():\n",
                "            print(f'item: {item}')\n",
                "    else:\n",
                "        print(f'Output for {task.name}')\n",
                "        print(output)\n",
                "\n",
                "task = Task(Workflow())\n",
                "task.configure(continueOnError=True)\n",
                "task.configure(inputParamsJson='''{\n",
                "    \"policy_name\": \"policy_name\",\n",
                "    \"user_name\": \"iter_item\"\n",
                "    }''')\n",
                "task.configure(iterJson='''{\n",
                "    \"iter_enabled\": true,\n",
                "    \"iter_list_is_const\": false,\n",
                "    \"iter_list\": \"user_policy_list\",\n",
                "    \"iter_parameter\": \"user_name\"\n",
                "    }''')\n",
                "task.configure(outputName=\"final_result\")\n",
                "\n",
                "(err, hdl, args) = task.validate(vars=vars())\n",
                "if err is None:\n",
                "    task.execute(aws_attach_iam_policy, lego_printer=unskript_default_printer, hdl=hdl, args=args)"
            ]
        },
        {
            "cell_type": "markdown",
            "id": "de59d49d-edb6-4849-addd-bf18fcf2683d",
            "metadata": {
                "jupyter": {
                    "source_hidden": false
                },
                "name": "Conclusion",
                "orderProperties": [],
                "tags": [],
                "title": "Conclusion"
            },
            "source": [
                "<p>In this Runbook, we were able to list all the attached policies to IAM user and and attach a new policy to the same user using unSkript's AWS actions. To view the full platform capabilities of unSkript please visit <a href=\"https://us.app.unskript.io\">us.app.unskript.io</a></p>"
            ]
        }
    ],
    "metadata": {
        "execution_data": {
            "environment_id": "1499f27c-6406-4fbd-bd1b-c6f92800018f",
            "environment_name": "Staging",
            "environment_type": "ENVIRONMENT_TYPE_AWS_EC2",
            "execution_id": "",
            "inputs_for_searched_lego": "",
            "notebook_id": "8c80376d-3aa8-4337-a032-35311a2a9d31.ipynb",
            "parameters": [
                "aws_username",
                "policy_name"
            ],
            "runbook_name": "Update and Manage AWS User Permission",
            "search_string": "",
            "show_tool_tip": false,
            "tenant_id": "982dba5f-d9df-48ae-a5bf-ec1fc94d4882",
            "tenant_url": "https://tenant-staging.alpha.unskript.io",
            "user_email_id": "shloka@unskript.com",
            "workflow_id": "d9c756eb-7305-42ba-8ef6-6c0d4623c74e"
        },
        "kernelspec": {
            "display_name": "unSkript (Build: 757)",
            "name": "python_kubernetes"
        },
        "language_info": {
            "file_extension": ".py",
            "mimetype": "text/x-python",
            "name": "python",
            "pygments_lexer": "ipython3"
        },
        "parameterSchema": {
            "properties": {
                "aws_username": {
                    "description": "AWS Username to whom the policy has to be attahced. Eg: ['test-user','user-2']",
                    "title": "aws_username",
                    "type": "array"
                },
                "policy_name": {
                    "description": "Name of the Policy to be attached to a given user. Eg: AmazonRDSFullAccess",
                    "title": "policy_name",
                    "type": "string"
                }
            },
            "required": [
                "aws_username",
                "policy_name"
            ],
            "title": "Schema",
            "type": "object"
        },
        "parameterValues": {}
    },
    "nbformat": 4,
    "nbformat_minor": 5
}
