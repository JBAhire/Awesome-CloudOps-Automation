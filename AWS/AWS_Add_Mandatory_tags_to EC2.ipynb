{
    "nbformat": 4,
    "nbformat_minor": 5,
    "metadata": {
        "kernelspec": {
            "name": "python_kubernetes",
            "display_name": "unSkript (Build: 762)"
        },
        "language_info": {
            "name": "python",
            "file_extension": ".py",
            "mimetype": "text/x-python",
            "pygments_lexer": "ipython3"
        },
        "execution_data": {
            "workflow_id": "27bd34a9-0d00-4e40-9d01-5aae4a8abd8c",
            "execution_id": "",
            "notebook_id": "dea427ec-d264-420e-8a87-85e72b0ec3ec.ipynb",
            "tenant_id": "982dba5f-d9df-48ae-a5bf-ec1fc94d4882",
            "tenant_url": "https://tenant-staging.alpha.unskript.io",
            "proxy_id": "1499f27c-6406-4fbd-bd1b-c6f92800018f",
            "parameters": [
                "Region",
                "Tag_Key",
                "Tag_Value"
            ],
            "runbook_name": "doug_manadtory_tags",
            "environment_name": "Staging",
            "show_tool_tip": false,
            "search_string": "",
            "inputs_for_searched_lego": "",
            "user_email_id": "doug@unskript.com",
            "environment_type": "ENVIRONMENT_TYPE_AWS_EC2"
        },
        "parameterSchema": {
            "properties": {
                "Region": {
                    "default": "us-west-2",
                    "description": "Resources Region",
                    "title": "Region",
                    "type": "string"
                },
                "Tag_Key": {
                    "default": "Description",
                    "description": "Mandatory Tag key for resources (only use when tag need to be attached to all the resources)",
                    "title": "Tag_Key",
                    "type": "string"
                },
                "Tag_Value": {
                    "default": "Unskript",
                    "description": "Mandatory Tag Value for resources (only use when tag need to be attached to all the resources)",
                    "title": "Tag_Value",
                    "type": "string"
                }
            },
            "required": [],
            "title": "Schema",
            "type": "object"
        },
        "parameterValues": null
    },
    "cells": [
        {
            "id": "fc7b82fa-ba17-4683-a082-c79c897538ad",
            "cell_type": "code",
            "metadata": {
                "actionNeedsCredential": false,
                "actionSupportsIteration": false,
                "actionSupportsPoll": false,
                "deletable": false,
                "editable": false,
                "execution_data": {
                    "last_date_success_run_cell": "2022-12-14T22:32:06.346Z"
                },
                "jupyter": {
                    "source_hidden": true
                },
                "orderProperties": [],
                "tags": [
                    "unSkript:nbParam"
                ],
                "title": [
                    "unSkript Internal"
                ],
                "trusted": true
            },
            "source": "import json\nimport os\nfrom unskript import nbparams\nfrom unskript.secrets import ENV_MODE, ENV_MODE_AWS\nfrom unskript.fwk.workflow import Task, Workflow\n\nenv = {\"ENV_MODE\":\"ENV_MODE_AWS\",\"TENANT_ID\":\"982dba5f-d9df-48ae-a5bf-ec1fc94d4882\",\"PROXY_ID\":\"1499f27c-6406-4fbd-bd1b-c6f92800018f\",\"TENANT_URL\":\"https://tenant-staging.alpha.unskript.io\",\"AWS_REGION\":\"us-west-2\"}\nsecret_store_cfg = {\"SECRET_STORE_TYPE\":\"SECRET_STORE_TYPE_AWS\",\"AWS_SECRET_PREFIX\":\"staging\",\"AWS_REGION\":\"us-west-2\"}\nos.environ[\"UNSKRIPT_REDIS_HOST\"] = \"redis-master.redis.svc.cluster.local\"\nos.environ[\"UNSKRIPT_TOKEN\"] = \"5c4a5754-0600-11ec-9a03-0242ac130003\"\nos.environ[\"TENANT_URL\"] = env[\"TENANT_URL\"]\nparamDict = {\"Region\": \"us-west-2\", \"Tag_Key\": \"Description\", \"Tag_Value\": \"Unskript\"}\nparamDict.update(env)\nparamDict.update(secret_store_cfg)\nparamsJson = json.dumps(paramDict)\nnbParamsObj = nbparams.NBParams(paramsJson)\nRegion = nbParamsObj.get('Region')\nTag_Key = nbParamsObj.get('Tag_Key')\nTag_Value = nbParamsObj.get('Tag_Value')\n\nw = Workflow(env, secret_store_cfg, None, global_vars=globals())",
            "execution_count": 64,
            "outputs": []
        },
        {
            "id": "79251bc7-c6cd-4344-a8d5-754bf62eb17e",
            "cell_type": "markdown",
            "metadata": {
                "jupyter": {
                    "source_hidden": false
                },
                "name": "Enforce Mandatory Tags Across All AWS Resources",
                "orderProperties": [],
                "tags": [],
                "title": "Enforce Mandatory Tags Across All AWS Resources"
            },
            "source": "<img src=\"https://unskript.com/wp-content/uploads/2022/10/unSkript-Logo.png\" alt=\"unSkript.com\" width=\"100\" height=\"100\"/> \n<h1> unSkript Runbooks </h1>\n<div class=\"alert alert-block alert-success\">\n    <b> This runbook demonstrates How to build a process around Mandatory Tags Across All AWS Resources using unSkript legos.</b>\n</div>\n\n<br>\n\n<center><h2>Enforce Mandatory Tags Across All AWS Resources</h2></center>\n\n# Steps Overview\n   1. **AWS Get Untagged Resources**: List all the Untagged Resources instanceIDs in the given region. This will also return data about the instances to help identify who the owners are.\n   2. **Get tag keys of all Resources** This is a similar list to #1, but includes all instances, and all of the tages for each instance.\n   3. AWS Attach Tags to Resources: This action takes in an instance ID and a tag key:value pair.  Run this action as many times as needed to fully tag your instances.\n   4. compare tag keys against required list: This final Action looks through all actions, and compares the Tag Keys with the required tag list.  If an instance is not in compliance, it is exported.\n   \n The eventual goal is that after all required instances are labelled in step 3, step 4 will have only instances that are no longer needed, and can be removed from AWS.",
            "execution_count": null,
            "outputs": []
        },
        {
            "id": "a49a1258-79d2-4846-8731-4ed74b36d6bc",
            "cell_type": "markdown",
            "metadata": {
                "jupyter": {
                    "source_hidden": false
                },
                "name": "AWS Get Untagged Resources",
                "orderProperties": [],
                "tags": [],
                "title": "AWS Get Untagged Resources"
            },
            "source": "Here we will use unSkript AWS Get Untagged Resources Lego. This lego take region: str as input. This inputs is used to find out all Untagged Resources.",
            "execution_count": null,
            "outputs": []
        },
        {
            "id": "0ec169e9-f3f2-400d-9b58-e4a598769e61",
            "cell_type": "code",
            "metadata": {
                "accessType": "ACCESS_TYPE_UNSPECIFIED",
                "actionBashCommand": false,
                "actionNeedsCredential": true,
                "actionRequiredLinesInCode": [],
                "actionSupportsIteration": true,
                "actionSupportsPoll": true,
                "action_uuid": "aee6cabb55096d5cf6098faa7e4a94135e8f5b0572b36d4b3252d7745fae595b",
                "continueOnError": false,
                "createTime": "1970-01-01T00:00:00Z",
                "credentialsJson": {
                    "credential_id": "32a18484-b86d-4f04-ac6b-9d1d45127d82",
                    "credential_name": "dougsaws",
                    "credential_type": "CONNECTOR_TYPE_AWS"
                },
                "currentVersion": "0.1.0",
                "description": "AWS Get Untagged Resources",
                "execution_data": {
                    "last_date_success_run_cell": "2022-12-14T23:05:39.107Z"
                },
                "id": 187,
                "index": 187,
                "inputData": [
                    {
                        "region": {
                            "constant": false,
                            "value": "Region"
                        }
                    }
                ],
                "inputschema": [
                    {
                        "properties": {
                            "region": {
                                "description": "AWS Region.",
                                "title": "Region",
                                "type": "string"
                            }
                        },
                        "required": [
                            "region"
                        ],
                        "title": "aws_get_untagged_resources",
                        "type": "object"
                    }
                ],
                "legotype": "LEGO_TYPE_AWS",
                "name": "AWS Get Untagged Resources",
                "nouns": [
                    "aws",
                    "resources"
                ],
                "orderProperties": [
                    "region"
                ],
                "output": {
                    "type": ""
                },
                "outputParams": {
                    "output_name": "UntaggedResources",
                    "output_name_enabled": true
                },
                "tags": [
                    "aws_get_untagged_resources"
                ],
                "title": "AWS Get Untagged Resources",
                "trusted": true,
                "verbs": [
                    "list"
                ]
            },
            "source": "##  Copyright (c) 2021 unSkript, Inc\n##  All rights reserved.\n##\nfrom typing import List, Dict\nfrom pydantic import BaseModel, Field\nfrom unskript.connectors.aws import aws_get_paginator\nimport pprint\n\nfrom beartype import beartype\n@beartype\ndef aws_get_untagged_resources_printer(output):\n    if output is None:\n        return\n    pprint.pprint(output)\n\n\n@beartype\ndef aws_get_untagged_resources(handle, region: str) -> List:\n \n    print(\"region\",region)\n    ec2Client = handle.client('ec2', region_name=region)\n    #res = aws_get_paginator(ec2Client, \"describe_instances\", \"Reservations\")\n    res = aws_get_paginator(ec2Client, \"describe_instances\", \"Reservations\")\n    result = []\n    for reservation in res:\n        for instance in reservation['Instances']:       \n            try:\n                #has tags\n                tagged_instance = instance['Tags']\n            except Exception as e:\n                #no tags\n                result.append({\"instance\":instance['InstanceId'],\"type\":instance['InstanceType'],\"imageId\":instance['ImageId'], \"launched\":instance['LaunchTime'] })\n    return result\n\n\ntask = Task(Workflow())\ntask.configure(credentialsJson='''{\n    \"credential_name\": \"dougsaws\",\n    \"credential_type\": \"CONNECTOR_TYPE_AWS\",\n    \"credential_id\": \"32a18484-b86d-4f04-ac6b-9d1d45127d82\"\n}''')\ntask.configure(inputParamsJson='''{\n    \"region\": \"Region\"\n    }''')\ntask.configure(outputName=\"UntaggedResources\")\n\n(err, hdl, args) = task.validate(vars=vars())\nif err is None:\n    task.execute(aws_get_untagged_resources, lego_printer=aws_get_untagged_resources_printer, hdl=hdl, args=args)",
            "execution_count": 24,
            "outputs": []
        },
        {
            "id": "be97efa2-dbb5-40b2-8d07-cc000278ba84",
            "cell_type": "markdown",
            "metadata": {
                "jupyter": {
                    "source_hidden": false
                },
                "name": "Get Tags Keys Of All Resources",
                "orderProperties": [],
                "tags": [],
                "title": "Get Tags Keys Of All Resources"
            },
            "source": "Here we will use unSkript Get Tag Keys Of All Resources Lego. This lego take region: str as input. This input is used to find out all Tag Keys of Resources.",
            "execution_count": null,
            "outputs": []
        },
        {
            "id": "363de8c8-6aa8-40f4-8856-a62a2f0a69f5",
            "cell_type": "code",
            "metadata": {
                "accessType": "ACCESS_TYPE_UNSPECIFIED",
                "actionBashCommand": false,
                "actionNeedsCredential": true,
                "actionRequiredLinesInCode": [],
                "actionSupportsIteration": true,
                "actionSupportsPoll": true,
                "action_uuid": "db00e432f32042fe9e14ba89a69a4fb86f88f8554c5d45af4cd287a6e5e01532",
                "continueOnError": false,
                "createTime": "1970-01-01T00:00:00Z",
                "credentialsJson": {
                    "credential_id": "32a18484-b86d-4f04-ac6b-9d1d45127d82",
                    "credential_name": "dougsaws",
                    "credential_type": "CONNECTOR_TYPE_AWS"
                },
                "currentVersion": "0.1.0",
                "description": "AWS Get Tags of All Resources",
                "execution_data": {
                    "last_date_success_run_cell": "2022-12-15T01:37:23.541Z"
                },
                "id": 132,
                "index": 132,
                "inputData": [
                    {
                        "region": {
                            "constant": false,
                            "value": "Region"
                        }
                    }
                ],
                "inputschema": [
                    {
                        "properties": {
                            "region": {
                                "description": "AWS Region.",
                                "title": "Region",
                                "type": "string"
                            }
                        },
                        "required": [
                            "region"
                        ],
                        "title": "aws_resources_tags",
                        "type": "object"
                    }
                ],
                "legotype": "LEGO_TYPE_AWS",
                "name": "AWS Get Tag Keys of All Resources",
                "nouns": [
                    "aws",
                    "resources"
                ],
                "orderProperties": [
                    "region"
                ],
                "output": {
                    "type": ""
                },
                "tags": [
                    "aws_resources_tags"
                ],
                "title": "AWS Get Tag Keys of All Resources",
                "trusted": true,
                "verbs": [
                    "list"
                ]
            },
            "source": "##  Copyright (c) 2021 unSkript, Inc\n##  All rights reserved.\n##\nfrom typing import List, Dict\nfrom pydantic import BaseModel, Field\nfrom unskript.connectors.aws import aws_get_paginator\nimport pprint\n\nfrom beartype import beartype\n@beartype\ndef aws_resources_tags_printer(output):\n    if output is None:\n        return\n    pprint.pprint(output)\n\n@beartype\ndef aws_resources_tags(handle, region: str) -> List:\n    \"\"\"aws_resources_tags Returns an List of all Resources Tags.\n\n        :type handle: object\n        :param handle: Object returned from task.validate(...).\n\n        :type region: str\n        :param region: Region to filter resources.\n\n        :rtype: List of all Resources Tags.\n    \"\"\"\n    ec2Client = handle.client('ec2', region_name=region)\n    #res = aws_get_paginator(ec2Client, \"describe_instances\", \"Reservations\")\n    res = aws_get_paginator(ec2Client, \"describe_instances\", \"Reservations\")\n    result = []\n    for reservation in res:\n        for instance in reservation['Instances']:       \n            try:\n                #has tags\n                tagged_instance = instance['Tags']\n                result.append({\"instance\":instance['InstanceId'],\"type\":instance['InstanceType'],\"imageId\":instance['ImageId'], \"launched\":instance['LaunchTime'], \"tags\": tagged_instance})\n            except Exception as e:\n                #no tags\n                result.append({\"instance\":instance['InstanceId'],\"type\":instance['InstanceType'],\"imageId\":instance['ImageId'], \"launched\":instance['LaunchTime'], \"tags\": []})\n    return result\n\n\ntask = Task(Workflow())\ntask.configure(credentialsJson='''{\n    \"credential_name\": \"dougsaws\",\n    \"credential_type\": \"CONNECTOR_TYPE_AWS\",\n    \"credential_id\": \"32a18484-b86d-4f04-ac6b-9d1d45127d82\"\n}''')\ntask.configure(inputParamsJson='''{\n    \"region\": \"Region\"\n    }''')\n\n(err, hdl, args) = task.validate(vars=vars())\nif err is None:\n    task.execute(aws_resources_tags, lego_printer=aws_resources_tags_printer, hdl=hdl, args=args)",
            "execution_count": 65,
            "outputs": []
        },
        {
            "id": "ce65fdd0-ee64-42d0-90a6-0fe1c0f54608",
            "cell_type": "markdown",
            "metadata": {
                "jupyter": {
                    "source_hidden": false
                },
                "name": "AWS Attach Tags to Resources",
                "orderProperties": [],
                "tags": [],
                "title": "AWS Attach Tags to Resources"
            },
            "source": "Here we will use unSkript AWS Attach Tags to Resources Lego. This lego take handle, resource_arn: list, tag_key: str, tag_value: str, region: str as input. This input is used to attach mandatory tags to all untagged Resources.",
            "execution_count": null,
            "outputs": []
        },
        {
            "id": "e7815002-3aaf-4b3b-a3fe-12d1c3b1edba",
            "cell_type": "code",
            "metadata": {
                "accessType": "ACCESS_TYPE_UNSPECIFIED",
                "actionBashCommand": false,
                "actionNeedsCredential": true,
                "actionRequiredLinesInCode": [],
                "actionSupportsIteration": true,
                "actionSupportsPoll": true,
                "action_uuid": "878cb7819ecb4687ecfa8c6143365d10fe6b127adeb4a27fd71d06a3a2243d22",
                "continueOnError": true,
                "createTime": "1970-01-01T00:00:00Z",
                "credentialsJson": {
                    "credential_id": "32a18484-b86d-4f04-ac6b-9d1d45127d82",
                    "credential_name": "dougsaws",
                    "credential_type": "CONNECTOR_TYPE_AWS"
                },
                "currentVersion": "0.1.0",
                "description": "AWS Attach Tags to Resources",
                "execution_data": {
                    "last_date_success_run_cell": "2022-12-15T00:11:14.333Z"
                },
                "id": 167,
                "index": 167,
                "inputData": [
                    {
                        "instanceId": {
                            "constant": false,
                            "value": "\"i-0ec9048cb5520b225\""
                        },
                        "region": {
                            "constant": false,
                            "value": "Region"
                        },
                        "tag_key": {
                            "constant": false,
                            "value": "\"Environment\""
                        },
                        "tag_value": {
                            "constant": false,
                            "value": "\"test\""
                        }
                    }
                ],
                "inputschema": [
                    {
                        "properties": {
                            "instanceId": {
                                "default": "\"i-0ec9048cb5520b225\"",
                                "description": "instance ID",
                                "title": "instanceId",
                                "type": "string"
                            },
                            "region": {
                                "default": "",
                                "description": "AWS Region.",
                                "title": "Region",
                                "type": "string"
                            },
                            "tag_key": {
                                "default": "",
                                "description": "Resource Tag Key.",
                                "title": "Tag Key",
                                "type": "string"
                            },
                            "tag_value": {
                                "default": "",
                                "description": "Resource Tag Value.",
                                "title": "Tag Value",
                                "type": "string"
                            }
                        },
                        "required": [
                            "resource_arn",
                            "tag_key",
                            "tag_value",
                            "region"
                        ],
                        "title": "aws_tag_resources",
                        "type": "object"
                    }
                ],
                "iterData": [
                    {
                        "iter_enabled": false,
                        "iter_item": "resource_arn",
                        "iter_list": {
                            "constant": false,
                            "objectItems": false,
                            "value": "UntaggedResources["
                        }
                    }
                ],
                "legotype": "LEGO_TYPE_AWS",
                "name": "AWS Attach Tags to Resources",
                "nouns": [
                    "aws",
                    "resources"
                ],
                "orderProperties": [
                    "tag_key",
                    "tag_value",
                    "region",
                    "instanceId"
                ],
                "output": {
                    "type": ""
                },
                "tags": [
                    "aws_tag_resources"
                ],
                "title": "AWS Attach Tags to Resources",
                "trusted": true,
                "verbs": [
                    "dict"
                ]
            },
            "source": "##  Copyright (c) 2021 unSkript, Inc\n##  All rights reserved.\n##\nfrom typing import List, Dict\nfrom pydantic import BaseModel, Field\nfrom unskript.connectors.aws import aws_get_paginator\nimport pprint\n\nfrom beartype import beartype\n@beartype\ndef aws_tag_resources_printer(output):\n    if output is None:\n        return\n    pprint.pprint(output)\n\n@beartype\ndef aws_tag_resources(handle, instanceId: str, tag_key: str, tag_value: str, region: str) -> Dict:\n\n    ec2Client = handle.client('ec2', region_name=region)\n    result = {}\n    try:\n        response = ec2Client.create_tags(\n            Resources=[\n                instanceId\n            ],\n            Tags=[\n                {\n                    'Key': tag_key,\n                    'Value': tag_value\n                },\n            ]\n        )\n        result = response\n\n    except Exception as error:\n        result[\"error\"] = error\n\n    return result\n\n\n\n\n\n\ntask = Task(Workflow())\ntask.configure(credentialsJson='''{\n    \"credential_name\": \"dougsaws\",\n    \"credential_type\": \"CONNECTOR_TYPE_AWS\",\n    \"credential_id\": \"32a18484-b86d-4f04-ac6b-9d1d45127d82\"\n}''')\ntask.configure(continueOnError=False)\ntask.configure(inputParamsJson='''{\n    \"region\": \"Region\",\n    \"tag_key\": \"\\\\\"Environment\\\\\"\",\n    \"tag_value\": \"\\\\\"test\\\\\"\",\n    \"instanceId\": \"\\\\\"i-0ec9048cb5520b225\\\\\"\"\n    }''')\ntask.configure(iterJson='''{\n    \"iter_enabled\": false,\n    \"iter_list_is_const\": false,\n    \"iter_list\": \"UntaggedResources[\",\n    \"iter_parameter\": \"resource_arn\"\n    }''')\n\n(err, hdl, args) = task.validate(vars=vars())\nif err is None:\n    task.execute(aws_tag_resources, lego_printer=aws_tag_resources_printer, hdl=hdl, args=args)",
            "execution_count": 52,
            "outputs": []
        },
        {
            "id": "5bc81313-934a-476b-88a4-2c2629c3f759",
            "cell_type": "code",
            "metadata": {
                "accessType": "ACCESS_TYPE_UNSPECIFIED",
                "actionBashCommand": false,
                "actionNeedsCredential": true,
                "actionRequiredLinesInCode": [],
                "actionSupportsIteration": true,
                "actionSupportsPoll": true,
                "action_uuid": "aee6cabb55096d5cf6098faa7e4a94135e8f5b0572b36d4b3252d7745fae595b",
                "continueOnError": false,
                "createTime": "1970-01-01T00:00:00Z",
                "credentialsJson": {
                    "credential_id": "32a18484-b86d-4f04-ac6b-9d1d45127d82",
                    "credential_name": "dougsaws",
                    "credential_type": "CONNECTOR_TYPE_AWS"
                },
                "currentVersion": "0.1.0",
                "description": "AWS Get Untagged Resources",
                "execution_data": {
                    "last_date_success_run_cell": "2022-12-15T00:44:19.650Z"
                },
                "id": 179,
                "index": 179,
                "inputData": [
                    {
                        "region": {
                            "constant": false,
                            "value": "\"us-west-2\""
                        },
                        "requiredTags": {
                            "constant": false,
                            "value": "[\"CostCenter\", \"Environment\"]"
                        }
                    }
                ],
                "inputschema": [
                    {
                        "properties": {
                            "region": {
                                "default": "",
                                "description": "AWS Region.",
                                "title": "Region",
                                "type": "string"
                            },
                            "requiredTags": {
                                "default": "[\"CostCenter\", \"Environment\"]",
                                "description": "a list of required tags for EC2 Instances",
                                "title": "requiredTags",
                                "type": "array"
                            }
                        },
                        "required": [
                            "region"
                        ],
                        "title": "aws_get_untagged_resources",
                        "type": "object"
                    }
                ],
                "legotype": "LEGO_TYPE_AWS",
                "name": "compare tag keys against required list",
                "nouns": [],
                "orderProperties": [
                    "region",
                    "requiredTags"
                ],
                "output": {
                    "type": ""
                },
                "tags": [
                    "aws_get_untagged_resources"
                ],
                "title": "compare tag keys against required list",
                "trusted": true,
                "verbs": []
            },
            "source": "##  Copyright (c) 2021 unSkript, Inc\n##  All rights reserved.\n##\nfrom typing import List, Dict\nfrom pydantic import BaseModel, Field\nfrom unskript.connectors.aws import aws_get_paginator\nimport pprint\n\nfrom beartype import beartype\n@beartype\ndef aws_get_resources_out_of_compliance_printer(output):\n    if output is None:\n        return\n    pprint.pprint(output)\n\n\n@beartype\ndef aws_get_resources_out_of_compliance(handle, region: str, requiredTags: list) -> List:\n\n    ec2Client = handle.client('ec2', region_name=region)\n    #res = aws_get_paginator(ec2Client, \"describe_instances\", \"Reservations\")\n    res = aws_get_paginator(ec2Client, \"describe_instances\", \"Reservations\")\n    result = []\n    for reservation in res:\n        for instance in reservation['Instances']:       \n            try:\n                #has tags\n                allTags = True\n                keyList = []\n                tagged_instance = instance['Tags']\n                #print(tagged_instance)\n                #get all the keys for the instance\n                for kv in tagged_instance:\n                    key = kv[\"Key\"]\n                    keyList.append(key)\n                #see if the required tags are represented in the keylist\n                #if they are not - the instance is not in compliance\n                for required in requiredTags:\n                        if required not in keyList:\n                            allTags = False\n                if not allTags:\n                    # instance is not in compliance\n                    result.append({\"instance\":instance['InstanceId'],\"type\":instance['InstanceType'],\"imageId\":instance['ImageId'], \"launched\":instance['LaunchTime'], \"tags\": tagged_instance})\n                \n            except Exception as e:\n                #no tags\n                result.append({\"instance\":instance['InstanceId'],\"type\":instance['InstanceType'],\"imageId\":instance['ImageId'], \"launched\":instance['LaunchTime'], \"tags\": []})\n    return result\n\n\n\ntask = Task(Workflow())\ntask.configure(credentialsJson='''{\n    \"credential_name\": \"dougsaws\",\n    \"credential_type\": \"CONNECTOR_TYPE_AWS\",\n    \"credential_id\": \"32a18484-b86d-4f04-ac6b-9d1d45127d82\"\n}''')\ntask.configure(inputParamsJson='''{\n    \"region\": \"\\\\\"us-west-2\\\\\"\",\n    \"requiredTags\": \"[\\\\\"CostCenter\\\\\", \\\\\"Environment\\\\\"]\"\n    }''')\n(err, hdl, args) = task.validate(vars=vars())\nif err is None:\n    task.execute(aws_get_resources_out_of_compliance, lego_printer=aws_get_resources_out_of_compliance_printer, hdl=hdl, args=args)",
            "execution_count": 63,
            "outputs": []
        },
        {
            "id": "a8280ac4-d504-44d2-b5ea-d97f7ca672c8",
            "cell_type": "markdown",
            "metadata": {
                "jupyter": {
                    "source_hidden": false
                },
                "name": "Conclusion",
                "orderProperties": [],
                "tags": [],
                "title": "Conclusion"
            },
            "source": "In this Runbook, we demonstrated the use of unSkript's AWS legos to attach tags. This Runbook gets the list of all untagged resources of a given region, discovers tag keys of the given region and attaches mandatory tags to all the untagged resource. To view the full platform capabilities of unSkript please visit https://unskript.com",
            "execution_count": null,
            "outputs": []
        }
    ]
}