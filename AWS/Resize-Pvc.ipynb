{
  "nbformat": 4,
  "nbformat_minor": 5,
  "metadata": {
    "kernelspec": {
      "name": "python_kubernetes",
      "display_name": "unSkript (Build: 415)"
    },
    "language_info": {
      "name": "python",
      "file_extension": ".py",
      "mimetype": "text/x-python",
      "pygments_lexer": "ipython3"
    },
    "execution_data": {
      "workflow_id": "ba093d5a-cba8-44da-8ce6-5f27bfe980ef",
      "execution_id": "430b42e9-740b-48e7-bd23-70a1fffd77a1",
      "notebook_id": "workflow.ipynb",
      "tenant_id": "8b3c7148-2d57-4b89-84d3-d59f6c792b0c",
      "tenant_url": "https://tenant-amit.dev.unskript.io",
      "environment_id": "dba3932f-3118-4ab0-b92c-70fa56402037",
      "parameters": [
        "Value",
        "Channel",
        "Namespace",
        "PVCName",
        "ResizeOption",
        "RestartPodsAfterResize"
      ],
      "runbook_name": "Resize PVC",
      "environment_name": "SingleAMI",
      "show_tool_tip": false,
      "search_string": "",
      "inputs_for_searched_lego": "",
      "user_email_id": "amit@unskript.com"
    },
    "parameterSchema": {
      "properties": {
        "Channel": {
          "description": "Slack channel",
          "title": "Channel",
          "type": "string"
        },
        "Namespace": {
          "description": "Namespace of the PVC",
          "title": "Namespace",
          "type": "string"
        },
        "PVCName": {
          "description": "Name of the PVC",
          "title": "PVCName",
          "type": "string"
        },
        "ResizeOption": {
          "default": "Add",
          "description": "Option to resize the volume. 2 options supported:             1. Add - Use this option to resize by an amount.             2. Multiple - Use this option if you want to resize by a multiple of the current volume size.",
          "title": "ResizeOption",
          "type": "string"
        },
        "RestartPodsAfterResize": {
          "default": false,
          "description": "Restart the pods after PVC resize",
          "title": "RestartPodsAfterResize",
          "type": "boolean"
        },
        "Value": {
          "description": "Based on the resize option chosen, specify the value (float). For eg, if you chose Add option, this             value will be a value in Gb (like 100.0). If you chose, this value will be a multiplying factor             to the current volume size. For eg, to double, specify value as 2.0",
          "title": "Value",
          "type": "number"
        }
      },
      "required": [],
      "title": "Schema",
      "type": "object"
    },
    "parameterValues": {
      "Channel": "demo",
      "Namespace": "mongo",
      "PVCName": "datadir-mongo-mongodb-1",
      "ResizeOption": "Add",
      "RestartPodsAfterResize": false,
      "Value": 1
    }
  },
  "cells": [
    {
      "id": "5e5f40a4-019d-4683-8c70-33828706350a",
      "cell_type": "markdown",
      "metadata": {
        "actionNeedsCredential": true,
        "actionSupportsIteration": true,
        "actionSupportsPoll": true,
        "action_needs_credential": true,
        "action_supports_iteration": true,
        "action_supports_poll": true,
        "jupyter": {
          "source_hidden": false
        },
        "orderProperties": [],
        "tags": [],
        "title": "Summary"
      },
      "source": "- [ ] Verify that allowVolumeExpansion is enabled for the storage class for the PVC. Assert if its not enabled.\n- [ ] Increase the PVC Volume by the provided Value depending upon ResizeOption chosen.\n- [ ] If RestartPodsAfterResize is enabled, it restarts the pods attached to the PVC. NOTE: This is not required if the kubernetes has ExpandInUsePersistentVolumes enabled.\n- [ ] Verify resize by running 'df-kh' on the pod attached to the PVC.\n- [ ] Send the notification on the provided slack channel.\n",
      "execution_count": null,
      "outputs": []
    },
    {
      "id": "5ef873e3-c4e7-4412-8991-8f0fcbc5b9f8",
      "cell_type": "code",
      "metadata": {
        "actionNeedsCredential": true,
        "actionSupportsIteration": true,
        "actionSupportsPoll": true,
        "action_needs_credential": true,
        "action_supports_iteration": true,
        "action_supports_poll": true,
        "continueOnError": false,
        "execution_data": {
          "last_date_success_run_cell": "2022-07-06T07:53:23.056Z"
        },
        "inputData": [
          {
            "kubectl_command": {
              "constant": false,
              "value": "f\"kubectl get pvc {PVCName} -n {Namespace} --output=jsonpath={{.spec.storageClassName}}\""
            }
          }
        ],
        "inputschema": [
          {
            "properties": {
              "kubectl_command": {
                "description": "kubectl command eg kubectl get pods --all-namespaces",
                "title": "Kubectl Command",
                "type": "string"
              }
            },
            "required": [
              "kubectl_command"
            ],
            "title": "k8s_kubectl_command",
            "type": "object"
          }
        ],
        "jupyter": {
          "source_hidden": true
        },
        "legotype": "LEGO_TYPE_K8S",
        "orderProperties": [
          "kubectl_command"
        ],
        "outputParams": {
          "output_name": "storageClass",
          "output_name_enabled": true
        },
        "tags": [],
        "title": "Get Storage Class for the PVC"
      },
      "source": "#\n# Copyright (c) 2021 unSkript.com\n# All rights reserved.\n#\n\nfrom pydantic import BaseModel, Field\n\n\nfrom beartype import beartype\n@beartype\ndef k8s_kubectl_command(handle, kubectl_command: str) :\n\n    assert(kubectl_command.startswith(\"kubectl\"))\n\n    result = handle.run_native_cmd(kubectl_command)\n    if result.stderr:\n        print(\n            f\"Error while executing command ({kubectl_command}): {result.stderr}\")\n        return None\n\n    return result.stdout\n\n\n\n\ntask = Task(Workflow())\ntask.configure(inputParamsJson='''{\n    \"kubectl_command\": \"f\\\\\"kubectl get pvc {PVCName} -n {Namespace} --output=jsonpath={{.spec.storageClassName}}\\\\\"\"\n    }''')\ntask.configure(outputName=\"storageClass\")\n\n(err, hdl, args) = task.validate(vars=vars())\nif err is None:\n    task.output = task.execute(k8s_kubectl_command, hdl, args)\nif hasattr(task, 'output'):\n    print(task.output)",
      "execution_count": 4,
      "outputs": []
    },
    {
      "id": "be487f19-10c4-4d37-916a-d9479a2a16b4",
      "cell_type": "code",
      "metadata": {
        "actionNeedsCredential": true,
        "actionSupportsIteration": true,
        "actionSupportsPoll": true,
        "action_needs_credential": true,
        "action_supports_iteration": true,
        "action_supports_poll": true,
        "continueOnError": false,
        "execution_data": {
          "last_date_success_run_cell": "2022-07-06T07:54:10.480Z"
        },
        "inputData": [
          {
            "kubectl_command": {
              "constant": false,
              "value": "f\"kubectl get sc {storageClass} --output=jsonpath={{.allowVolumeExpansion}}\""
            }
          }
        ],
        "inputschema": [
          {
            "properties": {
              "kubectl_command": {
                "description": "kubectl command eg kubectl get pods --all-namespaces",
                "title": "Kubectl Command",
                "type": "string"
              }
            },
            "required": [
              "kubectl_command"
            ],
            "title": "k8s_kubectl_command",
            "type": "object"
          }
        ],
        "jupyter": {
          "source_hidden": true
        },
        "legotype": "LEGO_TYPE_K8S",
        "orderProperties": [
          "kubectl_command"
        ],
        "outputParams": {
          "output_name": "allowVolumeExpansion",
          "output_name_enabled": true
        },
        "tags": [],
        "title": "Get Storage class details"
      },
      "source": "#\n# Copyright (c) 2021 unSkript.com\n# All rights reserved.\n#\n\nfrom pydantic import BaseModel, Field\n\n\nfrom beartype import beartype\n@beartype\ndef k8s_kubectl_command(handle, kubectl_command: str) :\n\n    assert(kubectl_command.startswith(\"kubectl\"))\n\n    result = handle.run_native_cmd(kubectl_command)\n    if result.stderr:\n        print(\n            f\"Error while executing command ({kubectl_command}): {result.stderr}\")\n        return None\n\n    return result.stdout\n\n\n\n\ntask = Task(Workflow())\ntask.configure(inputParamsJson='''{\n    \"kubectl_command\": \"f\\\\\"kubectl get sc {storageClass} --output=jsonpath={{.allowVolumeExpansion}}\\\\\"\"\n    }''')\ntask.configure(outputName=\"allowVolumeExpansion\")\n\n(err, hdl, args) = task.validate(vars=vars())\nif err is None:\n    task.output = task.execute(k8s_kubectl_command, hdl, args)\nif hasattr(task, 'output'):\n    print(task.output)",
      "execution_count": 5,
      "outputs": []
    },
    {
      "id": "17593357-01c4-4219-be83-06bafebbb0e6",
      "cell_type": "code",
      "metadata": {
        "actionNeedsCredential": true,
        "actionSupportsIteration": true,
        "actionSupportsPoll": true,
        "action_needs_credential": true,
        "action_supports_iteration": true,
        "action_supports_poll": true,
        "execution_data": {
          "last_date_success_run_cell": "2022-07-06T07:54:16.872Z"
        },
        "jupyter": {
          "source_hidden": true
        },
        "orderProperties": [],
        "tags": [],
        "title": "Check if storage class has allowVolumeExpansion enabled"
      },
      "source": "if allowVolumeExpansion == \"\" or allowVolumeExpansion is False:\n    print(f'allowVolumeExpansion disabled for storage class {storageClass}, exiting')\n    assert(f'allowVolumeExpansion disabled for storage class {storageClass}')\nelse:\n    print(f'allowVolumeExpansion enabled for storage class {storageClass}')",
      "execution_count": 6,
      "outputs": []
    },
    {
      "id": "da32a266-ad2f-49fd-bcc2-e34fe10395f4",
      "cell_type": "code",
      "metadata": {
        "accessType": "ACCESS_TYPE_UNSPECIFIED",
        "actionBashCommand": false,
        "actionNeedsCredential": true,
        "actionSupportsIteration": true,
        "actionSupportsPoll": true,
        "action_uuid": "c82954c96e797711613cd6b0ef8c6ab45a6af26f191115df128396bb056450d2",
        "collapsed": true,
        "continueOnError": false,
        "createTime": "1970-01-01T00:00:00Z",
        "currentVersion": "0.1.0",
        "description": "Change size of Kubernetes PVC",
        "execution_data": {
          "last_date_success_run_cell": "2022-07-26T00:07:47.913Z"
        },
        "id": 24,
        "index": 24,
        "inputData": [
          {
            "name": {
              "constant": false,
              "value": "PVCName"
            },
            "namespace": {
              "constant": false,
              "value": "Namespace"
            },
            "resize_option": {
              "constant": true,
              "value": "SizingOption.Add if ResizeOption == \"Add\" else SizingOption.Mutiple"
            },
            "resize_value": {
              "constant": false,
              "value": "Value"
            }
          }
        ],
        "inputschema": [
          {
            "definitions": {
              "SizingOption": {
                "description": "An enumeration.",
                "enum": [
                  "Add",
                  "Multiple"
                ],
                "title": "SizingOption"
              }
            },
            "properties": {
              "name": {
                "description": "Name of the PVC.",
                "title": "PVC Name",
                "type": "string"
              },
              "namespace": {
                "description": "Namespace of the PVC.",
                "title": "Namespace",
                "type": "string"
              },
              "resize_option": {
                "allOf": [
                  {
                    "$ref": "#/definitions/SizingOption"
                  }
                ],
                "default": "Add",
                "description": "\n            Option to resize the volume. 2 options supported:\n            1. Add - Use this option to resize by an amount.\n            2. Multiple - Use this option if you want to resize by a multiple of the current volume size.\n        ",
                "title": "Resize option"
              },
              "resize_value": {
                "description": "\n            Based on the resize option chosen, specify the value. For eg, if you chose Add option, this\n            value will be a value in Gi (like 100). If you chose Multiple option, this value will be a multiplying factor\n            to the current volume size. So, if you want to double, you specify 2 here.\n        ",
                "title": "Value",
                "type": "number"
              }
            },
            "required": [
              "namespace",
              "name",
              "resize_value"
            ],
            "title": "k8s_change_pvc_size",
            "type": "object"
          }
        ],
        "jupyter": {
          "outputs_hidden": true,
          "source_hidden": true
        },
        "legotype": "LEGO_TYPE_K8S",
        "name": "Change size of Kubernetes PVC",
        "nouns": [
          "pvc",
          "kubernetes",
          "volume"
        ],
        "orderProperties": [
          "namespace",
          "name",
          "resize_option",
          "resize_value"
        ],
        "output": {
          "type": ""
        },
        "tags": [
          "k8s_change_pvc_size"
        ],
        "trusted": true,
        "verbs": [
          "add",
          "modify",
          "resize"
        ]
      },
      "source": "#\n# Copyright (c) 2021 unSkript.com\n# All rights reserved.\n#\n\nfrom pydantic import BaseModel, Field\nfrom typing import Optional\nfrom unskript.enums.aws_k8s_enums import SizingOption\n\nfrom beartype import beartype\n@beartype\ndef k8s_change_pvc_size(handle, namespace: str, name: str, resize_option: SizingOption, resize_value: float) -\u003e str:\n    # Get the current size.\n    kubectl_command = f'kubectl get pvc {name} -n {namespace}  -o jsonpath={{.status.capacity.storage}}'\n    result = handle.run_native_cmd(kubectl_command)\n    if result.stderr:\n        print(\n            f\"Error while executing command ({kubectl_command}): {result.stderr}\")\n        return None\n\n    currentSize = result.stdout\n    currentSizeInt = int(currentSize.rstrip(\"Gi\"))\n    if resize_option == SizingOption.Add:\n        newSizeInt = currentSizeInt + resize_value\n    else:\n        newSizeInt = currentSizeInt * resize_value\n    newSize = str(newSizeInt) + \"Gi\"\n    print(f'Current size {currentSize}, new Size {newSize}')\n    kubectl_command = f'kubectl patch pvc {name} -n {namespace} -p \\'{{\"spec\":{{\"resources\":{{\"requests\": {{\"storage\": \"{newSize}\"}}}}}}}}\\''\n    result = handle.run_native_cmd(kubectl_command)\n    if result.stderr:\n        print(\n            f\"Error while executing command ({kubectl_command}): {result.stderr}\")\n        return None\n    print(f'PVC {name} size changed to {newSize} successfully')\n    return result.stdout\n\n\ndef unskript_default_printer(output):\n    if isinstance(output, (list, tuple)):\n        for item in output:\n            print(f'item: {item}')\n    elif isinstance(output, dict):\n        for item in output.items():\n            print(f'item: {item}')\n    else:\n        print(f'Output for {task.name}')\n        print(output)\n\ntask = Task(Workflow())\ntask.configure(inputParamsJson='''{\n    \"name\": \"PVCName\",\n    \"namespace\": \"Namespace\",\n    \"resize_option\": \"SizingOption.Add if ResizeOption == \\\\\"Add\\\\\" else SizingOption.Mutiple\",\n    \"resize_value\": \"float(Value)\"\n    }''')\n(err, hdl, args) = task.validate(vars=vars())\nif err is None:\n    task.execute(k8s_change_pvc_size, lego_printer=unskript_default_printer, hdl=hdl, args=args)",
      "execution_count": 2,
      "outputs": []
    },
    {
      "id": "0c681b88-cc58-441d-8e01-a8ce0ec44ef6",
      "cell_type": "code",
      "metadata": {
        "actionNeedsCredential": true,
        "actionSupportsIteration": true,
        "actionSupportsPoll": true,
        "continueOnError": false,
        "execution_data": {
          "last_date_success_run_cell": "2022-07-06T08:20:56.820Z"
        },
        "inputData": [
          {
            "namespace": {
              "constant": false,
              "value": "Namespace"
            },
            "pvc": {
              "constant": false,
              "value": "PVCName"
            }
          }
        ],
        "inputschema": [
          {
            "properties": {
              "namespace": {
                "default": "",
                "description": "Namespace of the PVC.",
                "title": "Namespace",
                "type": "string"
              },
              "pvc": {
                "default": "",
                "description": "Name of the PVC.",
                "title": "PVC Name",
                "type": "string"
              }
            },
            "required": [
              "namespace",
              "pvc"
            ],
            "title": "k8s_get_pods_attached_to_pvc",
            "type": "object"
          }
        ],
        "jupyter": {
          "source_hidden": true
        },
        "legotype": "LEGO_TYPE_K8S",
        "orderProperties": [
          "namespace",
          "pvc"
        ],
        "outputParams": {
          "output_name": "podName",
          "output_name_enabled": true
        },
        "tags": [],
        "title": "Get pods attached to Kubernetes PVC"
      },
      "source": "#\n# Copyright (c) 2021 unSkript.com\n# All rights reserved.\n#\n\nfrom pydantic import BaseModel, Field\nfrom typing import Optional\nimport enum\n\nfrom beartype import beartype\n@beartype\ndef k8s_get_pods_attached_to_pvc(handle, namespace: str, pvc: str) :\n    kubectl_command = f\"kubectl describe pvc {pvc} -n {namespace} | awk \\'/Used By/ {{print $3}}\\'\"\n    result = handle.run_native_cmd(kubectl_command)\n    if result.stderr:\n        print(\n            f\"Error while executing command ({kubectl_command}): {result.stderr}\")\n        return None\n    return result.stdout\n\n\n\n\ntask = Task(Workflow())\ntask.configure(inputParamsJson='''{\n    \"namespace\": \"Namespace\",\n    \"pvc\": \"PVCName\"\n    }''')\ntask.configure(outputName=\"podName\")\n(err, hdl, args) = task.validate(vars=vars())\nif err is None:\n    task.output = task.execute(k8s_get_pods_attached_to_pvc, hdl, args)\nif hasattr(task, 'output'):\n    print(task.output)",
      "execution_count": null,
      "outputs": []
    },
    {
      "id": "e066a114-5445-45b0-a64d-e1c32c5bd37b",
      "cell_type": "code",
      "metadata": {
        "actionNeedsCredential": true,
        "actionSupportsIteration": true,
        "actionSupportsPoll": true,
        "execution_data": {
          "last_date_success_run_cell": "2022-07-06T08:20:59.242Z"
        },
        "jupyter": {
          "source_hidden": true
        },
        "orderProperties": [],
        "tags": [],
        "title": "Podname"
      },
      "source": "podName = podName.strip()\nprint(f'Pod {podName} attached to PVC {PVCName}')",
      "execution_count": null,
      "outputs": []
    },
    {
      "id": "a6ead3c5-b1e1-4973-b5df-bbf247b8bc4f",
      "cell_type": "code",
      "metadata": {
        "actionNeedsCredential": true,
        "actionSupportsIteration": true,
        "actionSupportsPoll": true,
        "condition_enabled": true,
        "continueOnError": false,
        "execution_data": {
          "last_date_success_run_cell": "2022-07-06T08:22:59.575Z"
        },
        "inputData": [
          {
            "kubectl_command": {
              "constant": false,
              "value": "f\"kubectl delete pod {podName} -n {Namespace}\""
            }
          }
        ],
        "inputschema": [
          {
            "properties": {
              "kubectl_command": {
                "description": "kubectl command eg kubectl get pods --all-namespaces",
                "title": "Kubectl Command",
                "type": "string"
              }
            },
            "required": [
              "kubectl_command"
            ],
            "title": "k8s_kubectl_command",
            "type": "object"
          }
        ],
        "jupyter": {
          "source_hidden": true
        },
        "legotype": "LEGO_TYPE_K8S",
        "orderProperties": [
          "kubectl_command"
        ],
        "startcondition": "RestartPodsAfterResize==True",
        "tags": [],
        "title": "Restart the pod"
      },
      "source": "#\n# Copyright (c) 2021 unSkript.com\n# All rights reserved.\n#\n\nfrom pydantic import BaseModel, Field\n\n\nfrom beartype import beartype\n@beartype\ndef k8s_kubectl_command(handle, kubectl_command: str) :\n\n    assert(kubectl_command.startswith(\"kubectl\"))\n\n    result = handle.run_native_cmd(kubectl_command)\n    if result.stderr:\n        print(\n            f\"Error while executing command ({kubectl_command}): {result.stderr}\")\n        return None\n\n    return result.stdout\n\n\n\n\ntask = Task(Workflow())\ntask.configure(inputParamsJson='''{\n    \"kubectl_command\": \"f\\\\\"kubectl delete pod {podName} -n {Namespace}\\\\\"\"\n    }''')\ntask.configure(conditionsJson='''{\n    \"condition_enabled\": true,\n    \"condition_cfg\": \"RestartPodsAfterResize==True\",\n    \"condition_result\": true\n    }''')\n\n(err, hdl, args) = task.validate(vars=vars())\nif err is None:\n    task.output = task.execute(k8s_kubectl_command, hdl, args)\nif hasattr(task, 'output'):\n    print(task.output)",
      "execution_count": null,
      "outputs": []
    },
    {
      "id": "7f8afd44-782b-46aa-9e5e-f4b4bec5113c",
      "cell_type": "code",
      "metadata": {
        "actionNeedsCredential": true,
        "actionSupportsIteration": true,
        "actionSupportsPoll": true,
        "continueOnError": false,
        "execution_data": {
          "last_date_success_run_cell": "2022-07-06T08:23:57.251Z"
        },
        "inputData": [
          {
            "command": {
              "constant": false,
              "value": "[\"df\", \"-kh\"]"
            },
            "namespace": {
              "constant": false,
              "value": "Namespace"
            },
            "podname": {
              "constant": false,
              "value": "podName"
            }
          }
        ],
        "inputschema": [
          {
            "properties": {
              "command": {
                "description": "List of Commands to Execute on the Pod, ex: [\"/bin/sh\",\"-c\",\"nslookup google.com\"]",
                "items": {},
                "title": "Command",
                "type": "array"
              },
              "namespace": {
                "description": "Kubernetes namespace.",
                "title": "Namespace",
                "type": "string"
              },
              "podname": {
                "description": "Kubernetes Pod Name",
                "title": "Pod",
                "type": "string"
              }
            },
            "required": [
              "namespace",
              "podname",
              "command"
            ],
            "title": "k8s_exec_command_on_pod",
            "type": "object"
          }
        ],
        "jupyter": {
          "source_hidden": true
        },
        "legotype": "LEGO_TYPE_K8S",
        "orderProperties": [
          "namespace",
          "podname",
          "command"
        ],
        "tags": [],
        "title": "Execute a command on a Kuberentes POD in a given Namespace"
      },
      "source": "#\n# Copyright (c) 2021 unSkript.com\n# All rights reserved.\n#\n\nfrom typing import List\n\nfrom kubernetes import client\nfrom kubernetes.stream import stream\nfrom pydantic import BaseModel, Field\n\n\nfrom beartype import beartype\n@beartype\ndef k8s_exec_command_on_pod(handle, namespace: str, podname: str, command: List) :\n    coreApiClient = client.CoreV1Api(api_client=handle)\n\n    try:\n        resp = stream(coreApiClient.connect_get_namespaced_pod_exec,\n                      podname,\n                      namespace,\n                      command=list(command),\n                      stderr=True,\n                      stdin=True,\n                      stdout=True,\n                      tty=False\n                      )\n    except:\n        resp = 'An Exception occured while executing the command'\n\n    return resp\n\n\n\n\ntask = Task(Workflow())\ntask.configure(inputParamsJson='''{\n    \"command\": \"[\\\\\"df\\\\\", \\\\\"-kh\\\\\"]\",\n    \"namespace\": \"Namespace\",\n    \"podname\": \"podName\"\n    }''')\n\n(err, hdl, args) = task.validate(vars=vars())\nprint(args)\nif err is None:\n    task.output = task.execute(k8s_exec_command_on_pod, hdl, args)\nif hasattr(task, 'output'):\n    print(task.output)",
      "execution_count": null,
      "outputs": []
    },
    {
      "id": "e16536af-a22f-4a84-9cdb-c85e54d78c44",
      "cell_type": "code",
      "metadata": {
        "actionNeedsCredential": true,
        "actionSupportsIteration": true,
        "actionSupportsPoll": true,
        "continueOnError": false,
        "execution_data": {
          "last_date_success_run_cell": "2022-07-07T04:04:41.797Z"
        },
        "inputData": [
          {
            "kubectl_command": {
              "constant": false,
              "value": "f\"kubectl get pvc {PVCName} -n {Namespace}  -o jsonpath={{.status.capacity.storage}}\""
            }
          }
        ],
        "inputschema": [
          {
            "properties": {
              "kubectl_command": {
                "description": "kubectl command eg kubectl get pods --all-namespaces",
                "title": "Kubectl Command",
                "type": "string"
              }
            },
            "required": [
              "kubectl_command"
            ],
            "title": "k8s_kubectl_command",
            "type": "object"
          }
        ],
        "jupyter": {
          "source_hidden": true
        },
        "legotype": "LEGO_TYPE_K8S",
        "orderProperties": [
          "kubectl_command"
        ],
        "outputParams": {
          "output_name": "newSize",
          "output_name_enabled": true
        },
        "tags": [],
        "title": "Run kubectl commands on local k8s cluster"
      },
      "source": "#\n# Copyright (c) 2021 unSkript.com\n# All rights reserved.\n#\n\nfrom pydantic import BaseModel, Field\n\n\nfrom beartype import beartype\n@beartype\ndef k8s_kubectl_command(handle, kubectl_command: str) :\n\n    result = handle.run_native_cmd(kubectl_command)\n    if result is None or hasattr(result, \"stderr\") is False or result.stderr is None:\n        print(\n            f\"Error while executing command ({kubectl_command}): {result.stderr}\")\n        return None\n\n    return result.stdout\n\n\ntask = Task(Workflow())\ntask.configure(inputParamsJson='''{\n    \"kubectl_command\": \"f\\\\\"kubectl get pvc {PVCName} -n {Namespace}  -o jsonpath={{.status.capacity.storage}}\\\\\"\"\n    }''')\ntask.configure(outputName=\"newSize\")\n\n(err, hdl, args) = task.validate(vars=vars())\nif err is None:\n    task.output = task.execute(k8s_kubectl_command, hdl, args)\nif hasattr(task, 'output'):\n    if isinstance(task.output, (list, tuple)):\n        for item in task.output:\n            print(f'item: {item}')\n    elif isinstance(task.output, dict):\n        for item in task.output.items():\n            print(f'item: {item}')\n    else:\n        print(task.output)",
      "execution_count": null,
      "outputs": []
    },
    {
      "id": "fee9946d-d975-42c7-8651-ff7b55250fb9",
      "cell_type": "code",
      "metadata": {
        "accessType": "ACCESS_TYPE_UNSPECIFIED",
        "actionBashCommand": false,
        "actionNeedsCredential": true,
        "actionSupportsIteration": true,
        "actionSupportsPoll": true,
        "action_uuid": "6a87f83ab0ecfeecb9c98d084e2b1066c26fa64be5b4928d5573a5d60299802d",
        "continueOnError": false,
        "createTime": "1970-01-01T00:00:00Z",
        "currentVersion": "0.1.0",
        "description": "Post Slack Message",
        "execution_data": {
          "last_date_success_run_cell": "2022-07-07T04:05:14.429Z"
        },
        "id": 46,
        "index": 46,
        "inputData": [
          {
            "channel": {
              "constant": false,
              "value": "Channel"
            },
            "message": {
              "constant": false,
              "value": "f\"PVC {PVCName} successfully resized to {newSize}\""
            }
          }
        ],
        "inputschema": [
          {
            "properties": {
              "channel": {
                "description": "Name of the slack channel where the message to be posted",
                "title": "Channel",
                "type": "string"
              },
              "message": {
                "description": "Message to be sent",
                "title": "Message",
                "type": "string"
              }
            },
            "required": [
              "channel",
              "message"
            ],
            "title": "slack_post_message",
            "type": "object"
          }
        ],
        "jupyter": {
          "source_hidden": true
        },
        "legotype": "LEGO_TYPE_SLACK",
        "name": "Post Slack Message",
        "nouns": [
          "slack",
          "message"
        ],
        "orderProperties": [
          "channel",
          "message"
        ],
        "output": {
          "type": ""
        },
        "tags": [
          "slack_post_message"
        ],
        "verbs": [
          "post"
        ]
      },
      "source": "##\n# Copyright (c) 2021 unSkript, Inc\n# All rights reserved.\n##\n\nimport pprint\n\nfrom pydantic import BaseModel, Field\nfrom slack_sdk import WebClient\nfrom slack_sdk.errors import SlackApiError\n\npp = pprint.PrettyPrinter(indent=2)\n\n\nfrom beartype import beartype\n@beartype\ndef slack_post_message_printer(data):\n    if data != None:\n        pprint.pprint(data)\n\n@beartype\ndef slack_post_message(\n        handle: WebClient,\n        channel: str,\n        message: str) -\u003e str:\n\n    try:\n        response = handle.chat_postMessage(\n            channel=channel,\n            text=message)\n        return f\"Successfuly Sent Message on Channel: #{channel}\"\n    except SlackApiError as e:\n        pp.pprint(\n            f\"Failed sending message to slack channel {channel}, Error: {e.response['error']}\")\n        if e.response['error'] == 'channel_not_found':\n            raise Exception('Channel Not Found')\n        elif e.response['error'] == 'duplicate_channel_not_found':\n            raise Exception('Channel associated with the message_id not valid')\n        elif e.response['error'] == 'not_in_channel':\n            raise Exception('Cannot post message to channel user is not in')\n        elif e.reponse['error'] == 'is_archived':\n            raise Exception('Channel has been archived')\n        elif e.response['error'] == 'msg_too_long':\n            raise Exception('Message text is too long')\n        elif e.response['error'] == 'no_text':\n            raise Exception('Message text was not provided')\n        elif e.response['error'] == 'restricted_action':\n            raise Exception('Workspace preference prevents user from posting')\n        elif e.response['error'] == 'restricted_action_read_only_channel':\n            raise Exception('Cannot Post message, read-only channel')\n        elif e.respones['error'] == 'team_access_not_granted':\n            raise Exception('The token used is not granted access to the workspace')\n        elif e.response['error'] == 'not_authed':\n            raise Exception('No Authtnecition token provided')\n        elif e.response['error'] == 'invalid_auth':\n            raise Exception('Some aspect of Authentication cannot be validated. Request denied')\n        elif e.response['error'] == 'access_denied':\n            raise Exception('Access to a resource specified in the request denied')\n        elif e.response['error'] == 'account_inactive':\n            raise Exception('Authentication token is for a deleted user')\n        elif e.response['error'] == 'token_revoked':\n            raise Exception('Authentication token for a deleted user has been revoked')\n        elif e.response['error'] == 'no_permission':\n            raise Exception('The workspace toekn used does not have necessary permission to send message')\n        elif e.response['error'] == 'ratelimited':\n            raise Exception('The request has been ratelimited. Retry sending message later')\n        elif e.response['error'] == 'service_unavailable':\n            raise Exception('The service is temporarily unavailable')\n        elif e.response['error'] == 'fatal_error':\n            raise Exception('The server encountered catostrophic error while sending message')\n        elif e.response['error'] == 'internal_error':\n            raise Exception('The server could not complete operation, likely due to transietn issue')\n        elif e.response['error'] == 'request_timeout':\n            raise Exception('Sending message error via POST: either message was missing or truncated')\n        else:\n            raise Exception(f'Failed Sending Message to slack channel {channel} Error: {e.response[\"error\"]}')\n\n        return f\"Unable to send message on {channel}\"\n    except Exception as e:\n        print(\"\\n\\n\")\n        pp.pprint(\n            f\"Failed sending message to slack channel {channel}, Error: {e.__str__()}\")\n        return f\"Unable to send message on {channel}\"\n\n\ntask = Task(Workflow())\ntask.configure(inputParamsJson='''{\n    \"channel\": \"Channel\",\n    \"message\": \"f\\\\\"PVC {PVCName} successfully resized to {newSize}\\\\\"\"\n    }''')\n\n(err, hdl, args) = task.validate(vars=vars())\nif err is None:\n    task.execute(slack_post_message, lego_printer=slack_post_message_printer, hdl=hdl, args=args)",
      "execution_count": null,
      "outputs": []
    }
  ]
}
